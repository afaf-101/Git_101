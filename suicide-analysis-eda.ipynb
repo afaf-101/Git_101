{
 "cells": [
  {
   "cell_type": "markdown",
   "id": "conservative-beijing",
   "metadata": {
    "papermill": {
     "duration": 0.04347,
     "end_time": "2021-06-26T19:54:24.962143",
     "exception": false,
     "start_time": "2021-06-26T19:54:24.918673",
     "status": "completed"
    },
    "tags": []
   },
   "source": [
    "# Analysis of Suicide between 1985 to 2016 (US) "
   ]
  },
  {
   "cell_type": "markdown",
   "id": "architectural-withdrawal",
   "metadata": {
    "papermill": {
     "duration": 0.042903,
     "end_time": "2021-06-26T19:54:25.049866",
     "exception": false,
     "start_time": "2021-06-26T19:54:25.006963",
     "status": "completed"
    },
    "tags": []
   },
   "source": [
    "Introduction-\n",
    "\n",
    "Facebook became public to users in 2006 and since then it has grown to 2.7 billion users. \n",
    "\n",
    "Our analysis will evaluate the effects of social media on mental health before and after the popularity of social media, Facebook in this case, among young women living in the United States. \n",
    "\n",
    "During our analysis, we will compare the suicide counts before Facebook's emergence and after for females between the ages of 15-24 years old in the United States. \n",
    "\n",
    "Hypothesis: we will see a rise in the average number of suicides among women 15-24 age bracket in the United States after the year 2006 due to the popularity of Facebook.\n",
    "\n",
    "Source Website: \n",
    "https://www.kaggle.com/russellyates88/suicide-rates-overview-1985-to-2016"
   ]
  },
  {
   "cell_type": "markdown",
   "id": "auburn-purchase",
   "metadata": {
    "papermill": {
     "duration": 0.042661,
     "end_time": "2021-06-26T19:54:25.136614",
     "exception": false,
     "start_time": "2021-06-26T19:54:25.093953",
     "status": "completed"
    },
    "tags": []
   },
   "source": [
    "### Load the dataset"
   ]
  },
  {
   "cell_type": "code",
   "execution_count": 1,
   "id": "unknown-sensitivity",
   "metadata": {
    "execution": {
     "iopub.execute_input": "2021-06-26T19:54:25.226686Z",
     "iopub.status.busy": "2021-06-26T19:54:25.225562Z",
     "iopub.status.idle": "2021-06-26T19:54:25.233899Z",
     "shell.execute_reply": "2021-06-26T19:54:25.234326Z",
     "shell.execute_reply.started": "2021-06-26T19:53:40.408375Z"
    },
    "papermill": {
     "duration": 0.055092,
     "end_time": "2021-06-26T19:54:25.234578",
     "exception": false,
     "start_time": "2021-06-26T19:54:25.179486",
     "status": "completed"
    },
    "tags": []
   },
   "outputs": [],
   "source": [
    "import os"
   ]
  },
  {
   "cell_type": "code",
   "execution_count": 2,
   "id": "exceptional-inspector",
   "metadata": {
    "execution": {
     "iopub.execute_input": "2021-06-26T19:54:25.323288Z",
     "iopub.status.busy": "2021-06-26T19:54:25.322672Z",
     "iopub.status.idle": "2021-06-26T19:54:25.453345Z",
     "shell.execute_reply": "2021-06-26T19:54:25.452798Z",
     "shell.execute_reply.started": "2021-06-26T19:53:40.417561Z"
    },
    "papermill": {
     "duration": 0.175677,
     "end_time": "2021-06-26T19:54:25.453511",
     "exception": false,
     "start_time": "2021-06-26T19:54:25.277834",
     "status": "completed"
    },
    "tags": []
   },
   "outputs": [],
   "source": [
    "import pandas as pd\n",
    "suicide = pd.read_csv('../input/suicide-rates-overview-1985-to-2016/master.csv') #loading dataset into dataframe called united_states"
   ]
  },
  {
   "cell_type": "code",
   "execution_count": 3,
   "id": "grateful-technical",
   "metadata": {
    "execution": {
     "iopub.execute_input": "2021-06-26T19:54:25.546358Z",
     "iopub.status.busy": "2021-06-26T19:54:25.545528Z",
     "iopub.status.idle": "2021-06-26T19:54:25.549096Z",
     "shell.execute_reply": "2021-06-26T19:54:25.549563Z",
     "shell.execute_reply.started": "2021-06-26T19:53:40.495419Z"
    },
    "papermill": {
     "duration": 0.053321,
     "end_time": "2021-06-26T19:54:25.549717",
     "exception": false,
     "start_time": "2021-06-26T19:54:25.496396",
     "status": "completed"
    },
    "tags": []
   },
   "outputs": [
    {
     "data": {
      "text/plain": [
       "27820"
      ]
     },
     "execution_count": 3,
     "metadata": {},
     "output_type": "execute_result"
    }
   ],
   "source": [
    "len(suicide) #this dataframe contains 27820 records"
   ]
  },
  {
   "cell_type": "markdown",
   "id": "arranged-stadium",
   "metadata": {
    "papermill": {
     "duration": 0.042548,
     "end_time": "2021-06-26T19:54:25.635363",
     "exception": false,
     "start_time": "2021-06-26T19:54:25.592815",
     "status": "completed"
    },
    "tags": []
   },
   "source": [
    "### Dataframe for United States"
   ]
  },
  {
   "cell_type": "code",
   "execution_count": 4,
   "id": "creative-provider",
   "metadata": {
    "execution": {
     "iopub.execute_input": "2021-06-26T19:54:25.730989Z",
     "iopub.status.busy": "2021-06-26T19:54:25.730288Z",
     "iopub.status.idle": "2021-06-26T19:54:25.740903Z",
     "shell.execute_reply": "2021-06-26T19:54:25.741387Z",
     "shell.execute_reply.started": "2021-06-26T19:53:40.505491Z"
    },
    "papermill": {
     "duration": 0.0626,
     "end_time": "2021-06-26T19:54:25.741552",
     "exception": false,
     "start_time": "2021-06-26T19:54:25.678952",
     "status": "completed"
    },
    "tags": []
   },
   "outputs": [],
   "source": [
    "united_states = suicide[suicide.country == 'United States'] #creating a view of the overall dataframe--\n",
    "# filtering the data to only contain records for United States "
   ]
  },
  {
   "cell_type": "code",
   "execution_count": 5,
   "id": "oriental-triple",
   "metadata": {
    "execution": {
     "iopub.execute_input": "2021-06-26T19:54:25.851911Z",
     "iopub.status.busy": "2021-06-26T19:54:25.850940Z",
     "iopub.status.idle": "2021-06-26T19:54:25.856117Z",
     "shell.execute_reply": "2021-06-26T19:54:25.856584Z",
     "shell.execute_reply.started": "2021-06-26T19:53:40.537558Z"
    },
    "papermill": {
     "duration": 0.068702,
     "end_time": "2021-06-26T19:54:25.856764",
     "exception": false,
     "start_time": "2021-06-26T19:54:25.788062",
     "status": "completed"
    },
    "tags": []
   },
   "outputs": [
    {
     "data": {
      "text/plain": [
       "372"
      ]
     },
     "execution_count": 5,
     "metadata": {},
     "output_type": "execute_result"
    }
   ],
   "source": [
    "len(united_states) #this dataframe contains 372 records"
   ]
  },
  {
   "cell_type": "code",
   "execution_count": 6,
   "id": "described-sunrise",
   "metadata": {
    "execution": {
     "iopub.execute_input": "2021-06-26T19:54:25.949065Z",
     "iopub.status.busy": "2021-06-26T19:54:25.948171Z",
     "iopub.status.idle": "2021-06-26T19:54:25.971409Z",
     "shell.execute_reply": "2021-06-26T19:54:25.970833Z",
     "shell.execute_reply.started": "2021-06-26T19:53:40.545883Z"
    },
    "papermill": {
     "duration": 0.070039,
     "end_time": "2021-06-26T19:54:25.971544",
     "exception": false,
     "start_time": "2021-06-26T19:54:25.901505",
     "status": "completed"
    },
    "tags": []
   },
   "outputs": [
    {
     "data": {
      "text/html": [
       "<div>\n",
       "<style scoped>\n",
       "    .dataframe tbody tr th:only-of-type {\n",
       "        vertical-align: middle;\n",
       "    }\n",
       "\n",
       "    .dataframe tbody tr th {\n",
       "        vertical-align: top;\n",
       "    }\n",
       "\n",
       "    .dataframe thead th {\n",
       "        text-align: right;\n",
       "    }\n",
       "</style>\n",
       "<table border=\"1\" class=\"dataframe\">\n",
       "  <thead>\n",
       "    <tr style=\"text-align: right;\">\n",
       "      <th></th>\n",
       "      <th>country</th>\n",
       "      <th>year</th>\n",
       "      <th>sex</th>\n",
       "      <th>age</th>\n",
       "      <th>suicides_no</th>\n",
       "      <th>population</th>\n",
       "      <th>suicides/100k pop</th>\n",
       "      <th>country-year</th>\n",
       "      <th>HDI for year</th>\n",
       "      <th>gdp_for_year ($)</th>\n",
       "      <th>gdp_per_capita ($)</th>\n",
       "      <th>generation</th>\n",
       "    </tr>\n",
       "  </thead>\n",
       "  <tbody>\n",
       "    <tr>\n",
       "      <th>26848</th>\n",
       "      <td>United States</td>\n",
       "      <td>1985</td>\n",
       "      <td>male</td>\n",
       "      <td>75+ years</td>\n",
       "      <td>2177</td>\n",
       "      <td>4064000</td>\n",
       "      <td>53.57</td>\n",
       "      <td>United States1985</td>\n",
       "      <td>0.841</td>\n",
       "      <td>4,346,734,000,000</td>\n",
       "      <td>19693</td>\n",
       "      <td>G.I. Generation</td>\n",
       "    </tr>\n",
       "    <tr>\n",
       "      <th>26849</th>\n",
       "      <td>United States</td>\n",
       "      <td>1985</td>\n",
       "      <td>male</td>\n",
       "      <td>55-74 years</td>\n",
       "      <td>5302</td>\n",
       "      <td>17971000</td>\n",
       "      <td>29.50</td>\n",
       "      <td>United States1985</td>\n",
       "      <td>0.841</td>\n",
       "      <td>4,346,734,000,000</td>\n",
       "      <td>19693</td>\n",
       "      <td>G.I. Generation</td>\n",
       "    </tr>\n",
       "    <tr>\n",
       "      <th>26850</th>\n",
       "      <td>United States</td>\n",
       "      <td>1985</td>\n",
       "      <td>male</td>\n",
       "      <td>25-34 years</td>\n",
       "      <td>5134</td>\n",
       "      <td>20986000</td>\n",
       "      <td>24.46</td>\n",
       "      <td>United States1985</td>\n",
       "      <td>0.841</td>\n",
       "      <td>4,346,734,000,000</td>\n",
       "      <td>19693</td>\n",
       "      <td>Boomers</td>\n",
       "    </tr>\n",
       "    <tr>\n",
       "      <th>26851</th>\n",
       "      <td>United States</td>\n",
       "      <td>1985</td>\n",
       "      <td>male</td>\n",
       "      <td>35-54 years</td>\n",
       "      <td>6053</td>\n",
       "      <td>26589000</td>\n",
       "      <td>22.77</td>\n",
       "      <td>United States1985</td>\n",
       "      <td>0.841</td>\n",
       "      <td>4,346,734,000,000</td>\n",
       "      <td>19693</td>\n",
       "      <td>Silent</td>\n",
       "    </tr>\n",
       "    <tr>\n",
       "      <th>26852</th>\n",
       "      <td>United States</td>\n",
       "      <td>1985</td>\n",
       "      <td>male</td>\n",
       "      <td>15-24 years</td>\n",
       "      <td>4267</td>\n",
       "      <td>19962000</td>\n",
       "      <td>21.38</td>\n",
       "      <td>United States1985</td>\n",
       "      <td>0.841</td>\n",
       "      <td>4,346,734,000,000</td>\n",
       "      <td>19693</td>\n",
       "      <td>Generation X</td>\n",
       "    </tr>\n",
       "  </tbody>\n",
       "</table>\n",
       "</div>"
      ],
      "text/plain": [
       "             country  year   sex          age  suicides_no  population  \\\n",
       "26848  United States  1985  male    75+ years         2177     4064000   \n",
       "26849  United States  1985  male  55-74 years         5302    17971000   \n",
       "26850  United States  1985  male  25-34 years         5134    20986000   \n",
       "26851  United States  1985  male  35-54 years         6053    26589000   \n",
       "26852  United States  1985  male  15-24 years         4267    19962000   \n",
       "\n",
       "       suicides/100k pop       country-year  HDI for year  gdp_for_year ($)   \\\n",
       "26848              53.57  United States1985         0.841  4,346,734,000,000   \n",
       "26849              29.50  United States1985         0.841  4,346,734,000,000   \n",
       "26850              24.46  United States1985         0.841  4,346,734,000,000   \n",
       "26851              22.77  United States1985         0.841  4,346,734,000,000   \n",
       "26852              21.38  United States1985         0.841  4,346,734,000,000   \n",
       "\n",
       "       gdp_per_capita ($)       generation  \n",
       "26848               19693  G.I. Generation  \n",
       "26849               19693  G.I. Generation  \n",
       "26850               19693          Boomers  \n",
       "26851               19693           Silent  \n",
       "26852               19693     Generation X  "
      ]
     },
     "execution_count": 6,
     "metadata": {},
     "output_type": "execute_result"
    }
   ],
   "source": [
    "united_states.head()"
   ]
  },
  {
   "cell_type": "markdown",
   "id": "gothic-feature",
   "metadata": {
    "papermill": {
     "duration": 0.044431,
     "end_time": "2021-06-26T19:54:26.061627",
     "exception": false,
     "start_time": "2021-06-26T19:54:26.017196",
     "status": "completed"
    },
    "tags": []
   },
   "source": [
    "### Dataframes for Before 2006 and After 2006 in US"
   ]
  },
  {
   "cell_type": "code",
   "execution_count": 7,
   "id": "auburn-reception",
   "metadata": {
    "execution": {
     "iopub.execute_input": "2021-06-26T19:54:26.167084Z",
     "iopub.status.busy": "2021-06-26T19:54:26.166162Z",
     "iopub.status.idle": "2021-06-26T19:54:26.189493Z",
     "shell.execute_reply": "2021-06-26T19:54:26.190085Z",
     "shell.execute_reply.started": "2021-06-26T19:53:40.588024Z"
    },
    "papermill": {
     "duration": 0.075976,
     "end_time": "2021-06-26T19:54:26.190254",
     "exception": false,
     "start_time": "2021-06-26T19:54:26.114278",
     "status": "completed"
    },
    "tags": []
   },
   "outputs": [],
   "source": [
    "# Further narrowing down our dataset #Splitting our data into two data frames: \n",
    "#suicide data before 2006 and after 2006 in the US\n",
    "\n",
    "#Dataframe for suicide counts before 2006 in the US\n",
    "data_of_suicides_before_2006 = united_states[united_states.year < 2006]\n",
    "\n",
    "#Dataframe for suicide counts including and after 2006 in the US\n",
    "data_of_suicides_after_2006 = united_states[united_states.year >= 2006]\n",
    "\n",
    "#Array that contains the suicide counts for before the year 2006 in US\n",
    "num_of_suicides_before_2006 = [s for s in data_of_suicides_before_2006.suicides_no]\n",
    "\n",
    "#Array that contains the suicide counts for after the year 2006 in US\n",
    "num_of_suicides_after_2006 = [s for s in data_of_suicides_after_2006.suicides_no]\n"
   ]
  },
  {
   "cell_type": "markdown",
   "id": "aggressive-webcam",
   "metadata": {
    "papermill": {
     "duration": 0.044378,
     "end_time": "2021-06-26T19:54:26.281318",
     "exception": false,
     "start_time": "2021-06-26T19:54:26.236940",
     "status": "completed"
    },
    "tags": []
   },
   "source": [
    "### DataFrames ONLY Females in the United States "
   ]
  },
  {
   "cell_type": "code",
   "execution_count": 8,
   "id": "selective-beijing",
   "metadata": {
    "execution": {
     "iopub.execute_input": "2021-06-26T19:54:26.372353Z",
     "iopub.status.busy": "2021-06-26T19:54:26.371760Z",
     "iopub.status.idle": "2021-06-26T19:54:26.378448Z",
     "shell.execute_reply": "2021-06-26T19:54:26.378936Z",
     "shell.execute_reply.started": "2021-06-26T19:53:40.619628Z"
    },
    "papermill": {
     "duration": 0.053832,
     "end_time": "2021-06-26T19:54:26.379105",
     "exception": false,
     "start_time": "2021-06-26T19:54:26.325273",
     "status": "completed"
    },
    "tags": []
   },
   "outputs": [],
   "source": [
    "# GENERAL SUICIDE TREND AMONG WOMEN IN US- BEFORE 2006 VS. AFTER 2006\n",
    "#Further narrowing down our dataset #Splitting our data into two data frames: \n",
    "#suicide data before 2006 for only females and after 2006 for only females in the US\n",
    "\n",
    "#Dataframe for only females in the United States before 2006\n",
    "data_of_suicides_before_2006_female_only = data_of_suicides_before_2006[data_of_suicides_before_2006.sex == 'female']\n",
    "\n",
    "#Dataframe for only females in the United States including and after 2006\n",
    "data_of_suicides_after_2006_female_only = data_of_suicides_after_2006[data_of_suicides_after_2006.sex == 'female']\n",
    "\n",
    "#Array that contains the only female suicide counts before the year 2006 in US\n",
    "num_of_suicides_before_2006_females = [s for s in data_of_suicides_before_2006_female_only.suicides_no]\n",
    "\n",
    "#Array that contains the only female suicide counts after the year 2006 in US\n",
    "num_of_suicides_after_2006_females = [s for s in data_of_suicides_after_2006_female_only.suicides_no]"
   ]
  },
  {
   "cell_type": "code",
   "execution_count": 9,
   "id": "treated-hanging",
   "metadata": {
    "execution": {
     "iopub.execute_input": "2021-06-26T19:54:26.485156Z",
     "iopub.status.busy": "2021-06-26T19:54:26.484189Z",
     "iopub.status.idle": "2021-06-26T19:54:26.487171Z",
     "shell.execute_reply": "2021-06-26T19:54:26.486647Z",
     "shell.execute_reply.started": "2021-06-26T19:53:40.631090Z"
    },
    "papermill": {
     "duration": 0.057273,
     "end_time": "2021-06-26T19:54:26.487307",
     "exception": false,
     "start_time": "2021-06-26T19:54:26.430034",
     "status": "completed"
    },
    "tags": []
   },
   "outputs": [],
   "source": [
    "# SUICIDE TREND AMONG WOMEN 15-24 YEARS OF AGE IN US- BEFORE 2006 VS. AFTER 2006\n",
    "#Further narrowing down our dataset #Splitting our data into two more data frames: \n",
    "#suicide data before 2006 for only females and after 2006 for only females in the US for age range 15-24 \n",
    "\n",
    "# DF for females 15-24 in US BEFORE 2006\n",
    "suicide_data_before_2006_F_15to24 = data_of_suicides_before_2006_female_only[data_of_suicides_before_2006_female_only.age == '15-24 years']\n",
    "\n",
    "# DF for females 15-24 in US AFTER 2006\n",
    "suicide_data_after_2006_F_15to24 = data_of_suicides_after_2006_female_only[data_of_suicides_after_2006_female_only.age == '15-24 years']\n",
    "\n",
    "#Array that contains the only female 15-24 years suicide counts before the year 2006 in US\n",
    "suicide_data_before_2006_F_15to24_only = [s for s in suicide_data_before_2006_F_15to24.suicides_no]\n",
    "\n",
    "#Array that contains the only female 15-24 years suicide counts after the year 2006 in US\n",
    "suicide_data_after_2006_F_15to24_only = [s for s in suicide_data_after_2006_F_15to24.suicides_no]"
   ]
  },
  {
   "cell_type": "markdown",
   "id": "indie-solomon",
   "metadata": {
    "papermill": {
     "duration": 0.043692,
     "end_time": "2021-06-26T19:54:26.575260",
     "exception": false,
     "start_time": "2021-06-26T19:54:26.531568",
     "status": "completed"
    },
    "tags": []
   },
   "source": [
    "### Descriptive Suicide Statistics"
   ]
  },
  {
   "cell_type": "code",
   "execution_count": 10,
   "id": "friendly-combat",
   "metadata": {
    "execution": {
     "iopub.execute_input": "2021-06-26T19:54:26.668990Z",
     "iopub.status.busy": "2021-06-26T19:54:26.668084Z",
     "iopub.status.idle": "2021-06-26T19:54:27.467717Z",
     "shell.execute_reply": "2021-06-26T19:54:27.467178Z",
     "shell.execute_reply.started": "2021-06-26T19:53:40.650653Z"
    },
    "papermill": {
     "duration": 0.848343,
     "end_time": "2021-06-26T19:54:27.467936",
     "exception": false,
     "start_time": "2021-06-26T19:54:26.619593",
     "status": "completed"
    },
    "tags": []
   },
   "outputs": [],
   "source": [
    "import seaborn as sns\n",
    "import matplotlib.pyplot as plt\n",
    "%matplotlib inline"
   ]
  },
  {
   "cell_type": "code",
   "execution_count": 11,
   "id": "annoying-hybrid",
   "metadata": {
    "execution": {
     "iopub.execute_input": "2021-06-26T19:54:27.563414Z",
     "iopub.status.busy": "2021-06-26T19:54:27.562415Z",
     "iopub.status.idle": "2021-06-26T19:54:27.570818Z",
     "shell.execute_reply": "2021-06-26T19:54:27.571253Z",
     "shell.execute_reply.started": "2021-06-26T19:53:41.621155Z"
    },
    "papermill": {
     "duration": 0.059224,
     "end_time": "2021-06-26T19:54:27.571431",
     "exception": false,
     "start_time": "2021-06-26T19:54:27.512207",
     "status": "completed"
    },
    "tags": []
   },
   "outputs": [
    {
     "data": {
      "text/plain": [
       "count      372.00\n",
       "mean      2779.60\n",
       "std       2752.72\n",
       "min         50.00\n",
       "25%        558.75\n",
       "50%       2193.00\n",
       "75%       4145.50\n",
       "max      11767.00\n",
       "Name: suicides_no, dtype: float64"
      ]
     },
     "execution_count": 11,
     "metadata": {},
     "output_type": "execute_result"
    }
   ],
   "source": [
    "round(united_states['suicides_no'].describe(),2)"
   ]
  },
  {
   "cell_type": "code",
   "execution_count": 12,
   "id": "administrative-eight",
   "metadata": {
    "execution": {
     "iopub.execute_input": "2021-06-26T19:54:27.667914Z",
     "iopub.status.busy": "2021-06-26T19:54:27.667026Z",
     "iopub.status.idle": "2021-06-26T19:54:27.670970Z",
     "shell.execute_reply": "2021-06-26T19:54:27.671405Z",
     "shell.execute_reply.started": "2021-06-26T19:53:41.636573Z"
    },
    "papermill": {
     "duration": 0.055588,
     "end_time": "2021-06-26T19:54:27.671569",
     "exception": false,
     "start_time": "2021-06-26T19:54:27.615981",
     "status": "completed"
    },
    "tags": []
   },
   "outputs": [
    {
     "data": {
      "text/plain": [
       "26848    False\n",
       "26849    False\n",
       "26850    False\n",
       "26851    False\n",
       "26852    False\n",
       "26853    False\n",
       "26854    False\n",
       "26855    False\n",
       "26856    False\n",
       "26857    False\n",
       "26858    False\n",
       "26859    False\n",
       "26860     True\n",
       "26861     True\n",
       "26862     True\n",
       "Name: HDI for year, dtype: bool"
      ]
     },
     "execution_count": 12,
     "metadata": {},
     "output_type": "execute_result"
    }
   ],
   "source": [
    "united_states['HDI for year'].isnull().head(15) # one column has null/missing values....we are not using this column in our analysis\n",
    "#the columns we're are looking at do not have missing values"
   ]
  },
  {
   "cell_type": "code",
   "execution_count": 13,
   "id": "hollow-device",
   "metadata": {
    "execution": {
     "iopub.execute_input": "2021-06-26T19:54:27.768286Z",
     "iopub.status.busy": "2021-06-26T19:54:27.767538Z",
     "iopub.status.idle": "2021-06-26T19:54:28.040247Z",
     "shell.execute_reply": "2021-06-26T19:54:28.040733Z",
     "shell.execute_reply.started": "2021-06-26T19:53:41.650921Z"
    },
    "papermill": {
     "duration": 0.324284,
     "end_time": "2021-06-26T19:54:28.040934",
     "exception": false,
     "start_time": "2021-06-26T19:54:27.716650",
     "status": "completed"
    },
    "tags": []
   },
   "outputs": [
    {
     "data": {
      "text/plain": [
       "Text(0.5, 1.0, 'Suicide Counts in the United States')"
      ]
     },
     "execution_count": 13,
     "metadata": {},
     "output_type": "execute_result"
    },
    {
     "data": {
      "image/png": "[encoded data removed]",
      "text/plain": [
       "<Figure size 432x288 with 1 Axes>"
      ]
     },
     "metadata": {
      "needs_background": "light"
     },
     "output_type": "display_data"
    }
   ],
   "source": [
    "# # Bar Plot for the sucicide counts in the United States between the year 1985 and 2006.\n",
    "united_states['suicides_no'].hist(edgecolor ='black')\n",
    "plt.xlabel(\"Suicide Counts\", fontsize=10)\n",
    "plt.ylabel(\"Frequency\",fontsize=10)\n",
    "plt.title(\"Suicide Counts in the United States\")"
   ]
  },
  {
   "cell_type": "code",
   "execution_count": 14,
   "id": "caroline-concern",
   "metadata": {
    "execution": {
     "iopub.execute_input": "2021-06-26T19:54:28.141163Z",
     "iopub.status.busy": "2021-06-26T19:54:28.140483Z",
     "iopub.status.idle": "2021-06-26T19:54:28.143283Z",
     "shell.execute_reply": "2021-06-26T19:54:28.143718Z",
     "shell.execute_reply.started": "2021-06-26T19:53:41.911049Z"
    },
    "papermill": {
     "duration": 0.055571,
     "end_time": "2021-06-26T19:54:28.143928",
     "exception": false,
     "start_time": "2021-06-26T19:54:28.088357",
     "status": "completed"
    },
    "tags": []
   },
   "outputs": [],
   "source": [
    "# create a only US female DF for all years to calc min and max suicide counts below\n",
    "united_states_female = united_states[united_states.sex == 'female']"
   ]
  },
  {
   "cell_type": "code",
   "execution_count": 15,
   "id": "corresponding-undergraduate",
   "metadata": {
    "execution": {
     "iopub.execute_input": "2021-06-26T19:54:28.242807Z",
     "iopub.status.busy": "2021-06-26T19:54:28.242142Z",
     "iopub.status.idle": "2021-06-26T19:54:28.246610Z",
     "shell.execute_reply": "2021-06-26T19:54:28.246093Z",
     "shell.execute_reply.started": "2021-06-26T19:53:41.919329Z"
    },
    "papermill": {
     "duration": 0.05581,
     "end_time": "2021-06-26T19:54:28.246786",
     "exception": false,
     "start_time": "2021-06-26T19:54:28.190976",
     "status": "completed"
    },
    "tags": []
   },
   "outputs": [],
   "source": [
    "# create a only US female 15-24 DF for before 2006--for below chart\n",
    "united_states_female_15to24_before2006 = data_of_suicides_before_2006_female_only[data_of_suicides_before_2006_female_only.age == '15-24 years']"
   ]
  },
  {
   "cell_type": "code",
   "execution_count": 16,
   "id": "boring-pixel",
   "metadata": {
    "execution": {
     "iopub.execute_input": "2021-06-26T19:54:28.345529Z",
     "iopub.status.busy": "2021-06-26T19:54:28.344848Z",
     "iopub.status.idle": "2021-06-26T19:54:28.346633Z",
     "shell.execute_reply": "2021-06-26T19:54:28.347156Z",
     "shell.execute_reply.started": "2021-06-26T19:53:41.937022Z"
    },
    "papermill": {
     "duration": 0.053933,
     "end_time": "2021-06-26T19:54:28.347320",
     "exception": false,
     "start_time": "2021-06-26T19:54:28.293387",
     "status": "completed"
    },
    "tags": []
   },
   "outputs": [],
   "source": [
    "# create a only US female 15-24 DF for after 2006-- for below chart\n",
    "\n",
    "united_states_female_15to24_after2006 = data_of_suicides_after_2006_female_only[data_of_suicides_after_2006_female_only.age == '15-24 years']"
   ]
  },
  {
   "cell_type": "markdown",
   "id": "through-summary",
   "metadata": {
    "papermill": {
     "duration": 0.046646,
     "end_time": "2021-06-26T19:54:28.441112",
     "exception": false,
     "start_time": "2021-06-26T19:54:28.394466",
     "status": "completed"
    },
    "tags": []
   },
   "source": [
    "### Determining minimum and maximum number of suicides in the United States"
   ]
  },
  {
   "cell_type": "code",
   "execution_count": 17,
   "id": "threaded-impossible",
   "metadata": {
    "execution": {
     "iopub.execute_input": "2021-06-26T19:54:28.537247Z",
     "iopub.status.busy": "2021-06-26T19:54:28.536559Z",
     "iopub.status.idle": "2021-06-26T19:54:28.548823Z",
     "shell.execute_reply": "2021-06-26T19:54:28.549352Z",
     "shell.execute_reply.started": "2021-06-26T19:53:41.952739Z"
    },
    "papermill": {
     "duration": 0.061562,
     "end_time": "2021-06-26T19:54:28.549521",
     "exception": false,
     "start_time": "2021-06-26T19:54:28.487959",
     "status": "completed"
    },
    "tags": []
   },
   "outputs": [
    {
     "name": "stdout",
     "output_type": "stream",
     "text": [
      "The minimum of suicides was 50 in the year 1999 for age group 5-14 years\n",
      "The maximum of suicides was 4053 in the year 2015 for age group 35-54 years\n"
     ]
    }
   ],
   "source": [
    "#Find the min number of female suicides \n",
    "min_suicides = min(united_states_female.suicides_no)\n",
    "min_year = united_states_female[united_states_female.suicides_no == min_suicides].year\n",
    "min_age = united_states_female[united_states_female.suicides_no == min_suicides].age\n",
    "\n",
    "#Find the max number of female suicides b\n",
    "max_suicides = max(united_states_female.suicides_no)\n",
    "max_year = united_states_female[united_states_female.suicides_no == max_suicides].year\n",
    "max_age = united_states_female[united_states_female.suicides_no == max_suicides].age\n",
    "\n",
    "print(f'The minimum of suicides was {min_suicides} in the year {min_year.to_string(index=False)} for age group {min_age.to_string(index=False)}')\n",
    "\n",
    "print(f'The maximum of suicides was {max_suicides} in the year {max_year.to_string(index=False)} for age group {max_age.to_string(index=False)}')\n",
    "\n",
    "# As we can see the there the least number of suicides among women occurred back in 1999 before the rise of social medias,\n",
    "# such as facebook.\n",
    "\n",
    "# At the same time we can see that the number of suicides among women occured in 2015, well after facebook's popularity\n",
    "# and the emergence of new social media such as instagram and snapchat."
   ]
  },
  {
   "cell_type": "markdown",
   "id": "weird-coaching",
   "metadata": {
    "papermill": {
     "duration": 0.046516,
     "end_time": "2021-06-26T19:54:28.643227",
     "exception": false,
     "start_time": "2021-06-26T19:54:28.596711",
     "status": "completed"
    },
    "tags": []
   },
   "source": [
    "### Suicides mean, median, variance, and standard deviation"
   ]
  },
  {
   "cell_type": "code",
   "execution_count": 18,
   "id": "gross-button",
   "metadata": {
    "execution": {
     "iopub.execute_input": "2021-06-26T19:54:28.742335Z",
     "iopub.status.busy": "2021-06-26T19:54:28.741710Z",
     "iopub.status.idle": "2021-06-26T19:54:28.755222Z",
     "shell.execute_reply": "2021-06-26T19:54:28.755905Z",
     "shell.execute_reply.started": "2021-06-26T19:53:41.982296Z"
    },
    "papermill": {
     "duration": 0.064166,
     "end_time": "2021-06-26T19:54:28.756095",
     "exception": false,
     "start_time": "2021-06-26T19:54:28.691929",
     "status": "completed"
    },
    "tags": []
   },
   "outputs": [
    {
     "name": "stdout",
     "output_type": "stream",
     "text": [
      "stat.mean before 2006  = 2565.98\n",
      "stat.median before 2006 = 1900.50\n",
      "stat.pvariance before 2006 = 5945498.89\n",
      "stat.pstdev before 2006 = 2438.34\n",
      "stat.mean after 2006 = 3228.21\n",
      "stat.median after 2006 = 2541.50\n",
      "stat.pvariance after 2006 = 10644318.68\n",
      "stat.pstdev after 2006 = 3262.56\n"
     ]
    }
   ],
   "source": [
    "import statistics as stat\n",
    "#from scipy import stats \n",
    "\n",
    "#SUICIDE STATS BEFORE 2006 VS. AFTER 2006 AMONG ALL IN US\n",
    "\n",
    "#SUCIDE BEFORE 2006 MEAN, MEDIAN, VARIANCE, AND STANDARD DEVIATION\n",
    "print(f'stat.mean before 2006  = {stat.mean(num_of_suicides_before_2006):.2f}')\n",
    "print(f'stat.median before 2006 = {stat.median(num_of_suicides_before_2006):.2f}')\n",
    "print(f'stat.pvariance before 2006 = {stat.pvariance(num_of_suicides_before_2006):.2f}')\n",
    "print(f'stat.pstdev before 2006 = {stat.pstdev(num_of_suicides_before_2006):.2f}')\n",
    "\n",
    "#SUICIDE AFTER 2006 MEAN, MEDIAN, VARIANCE, AND STANDARD DEVIATION\n",
    "print(f'stat.mean after 2006 = {stat.mean(num_of_suicides_after_2006):.2f}')\n",
    "print(f'stat.median after 2006 = {stat.median(num_of_suicides_after_2006):.2f}')\n",
    "print(f'stat.pvariance after 2006 = {stat.pvariance(num_of_suicides_after_2006):.2f}')\n",
    "print(f'stat.pstdev after 2006 = {stat.pstdev(num_of_suicides_after_2006):.2f}')\n",
    "\n"
   ]
  },
  {
   "cell_type": "code",
   "execution_count": 19,
   "id": "floral-citizenship",
   "metadata": {
    "execution": {
     "iopub.execute_input": "2021-06-26T19:54:28.854722Z",
     "iopub.status.busy": "2021-06-26T19:54:28.854110Z",
     "iopub.status.idle": "2021-06-26T19:54:28.864342Z",
     "shell.execute_reply": "2021-06-26T19:54:28.865403Z",
     "shell.execute_reply.started": "2021-06-26T19:53:42.005140Z"
    },
    "papermill": {
     "duration": 0.061377,
     "end_time": "2021-06-26T19:54:28.865772",
     "exception": false,
     "start_time": "2021-06-26T19:54:28.804395",
     "status": "completed"
    },
    "tags": []
   },
   "outputs": [
    {
     "name": "stdout",
     "output_type": "stream",
     "text": [
      "stat.mean before 2006 females  = 1029.38\n",
      "stat.median before 2006 females = 854.00\n",
      "stat.pvariance before 2006 females = 672503.97\n",
      "stat.pstdev before 2006 females = 820.06\n",
      "stat.mean after 2006 females = 1401.58\n",
      "stat.median after 2006 females = 993.50\n",
      "stat.pvariance after 2006 females = 1532022.51\n",
      "stat.pstdev after 2006 females = 1237.75\n"
     ]
    }
   ],
   "source": [
    "import statistics as stat\n",
    "#from scipy import stats \n",
    "\n",
    "#SUICIDE STATS BEFORE 2006 VS. AFTER 2006 AMONG ONLY FEMALES IN US\n",
    "\n",
    "#SUCIDE AMONG FEMALES ONLY BEFORE 2006 MEAN, MEDIAN, VARIANCE, AND STANDARD DEVIATION\n",
    "print(f'stat.mean before 2006 females  = {stat.mean(num_of_suicides_before_2006_females):.2f}')\n",
    "print(f'stat.median before 2006 females = {stat.median(num_of_suicides_before_2006_females):.2f}')\n",
    "print(f'stat.pvariance before 2006 females = {stat.pvariance(num_of_suicides_before_2006_females):.2f}')\n",
    "print(f'stat.pstdev before 2006 females = {stat.pstdev(num_of_suicides_before_2006_females):.2f}')\n",
    "\n",
    "#SUICIDE AMONG FEMALES ONLY AFTER 2006 MEAN, MEDIAN, VARIANCE, AND STANDARD DEVIATION\n",
    "print(f'stat.mean after 2006 females = {stat.mean(num_of_suicides_after_2006_females):.2f}')\n",
    "print(f'stat.median after 2006 females = {stat.median(num_of_suicides_after_2006_females):.2f}')\n",
    "print(f'stat.pvariance after 2006 females = {stat.pvariance(num_of_suicides_after_2006_females):.2f}')\n",
    "print(f'stat.pstdev after 2006 females = {stat.pstdev(num_of_suicides_after_2006_females):.2f}')\n"
   ]
  },
  {
   "cell_type": "markdown",
   "id": "capable-thermal",
   "metadata": {
    "papermill": {
     "duration": 0.046871,
     "end_time": "2021-06-26T19:54:28.962112",
     "exception": false,
     "start_time": "2021-06-26T19:54:28.915241",
     "status": "completed"
    },
    "tags": []
   },
   "source": [
    "### Histogram: Suicide Counts Before and After 2006 for Females in the US"
   ]
  },
  {
   "cell_type": "code",
   "execution_count": 20,
   "id": "liquid-chicago",
   "metadata": {
    "execution": {
     "iopub.execute_input": "2021-06-26T19:54:29.080218Z",
     "iopub.status.busy": "2021-06-26T19:54:29.079516Z",
     "iopub.status.idle": "2021-06-26T19:54:29.686714Z",
     "shell.execute_reply": "2021-06-26T19:54:29.686122Z",
     "shell.execute_reply.started": "2021-06-26T19:53:42.021631Z"
    },
    "papermill": {
     "duration": 0.677192,
     "end_time": "2021-06-26T19:54:29.686891",
     "exception": false,
     "start_time": "2021-06-26T19:54:29.009699",
     "status": "completed"
    },
    "tags": []
   },
   "outputs": [
    {
     "data": {
      "image/png": "[encoded data removed]",
      "text/plain": [
       "<Figure size 576x360 with 1 Axes>"
      ]
     },
     "metadata": {
      "needs_background": "light"
     },
     "output_type": "display_data"
    }
   ],
   "source": [
    "import pandas as pd\n",
    "import matplotlib.pyplot as plt\n",
    "\n",
    "num_before2006 = num_of_suicides_before_2006_females # height\n",
    "year_Before = data_of_suicides_before_2006_female_only.year # x\n",
    "\n",
    "num_after2006 = num_of_suicides_after_2006_females # height 2\n",
    "year_After = data_of_suicides_after_2006_female_only.year # x2\n",
    "\n",
    "plt.figure(figsize=(8,5)) #modify figure size so chart is displayed \n",
    "\n",
    "plt.bar(x=year_Before, height= num_before2006, label = 'Years Before 2006', color = 'r')\n",
    "plt.bar(x=year_After, height= num_after2006, label = 'Years After 2006', color= 'c')\n",
    "\n",
    "plt.xlabel('Year')\n",
    "plt.ylabel('Suicide Count')\n",
    "plt.title('Suicide Counts Before and After 2006 for Females in the US')\n",
    "plt.legend()\n",
    "plt.show()\n"
   ]
  },
  {
   "cell_type": "code",
   "execution_count": 21,
   "id": "innovative-jefferson",
   "metadata": {
    "execution": {
     "iopub.execute_input": "2021-06-26T19:54:29.811926Z",
     "iopub.status.busy": "2021-06-26T19:54:29.811193Z",
     "iopub.status.idle": "2021-06-26T19:54:30.043353Z",
     "shell.execute_reply": "2021-06-26T19:54:30.043836Z",
     "shell.execute_reply.started": "2021-06-26T19:53:42.700267Z"
    },
    "papermill": {
     "duration": 0.308768,
     "end_time": "2021-06-26T19:54:30.044010",
     "exception": false,
     "start_time": "2021-06-26T19:54:29.735242",
     "status": "completed"
    },
    "tags": []
   },
   "outputs": [
    {
     "data": {
      "image/png": "[encoded data removed]",
      "text/plain": [
       "<Figure size 576x360 with 1 Axes>"
      ]
     },
     "metadata": {
      "needs_background": "light"
     },
     "output_type": "display_data"
    }
   ],
   "source": [
    "import pandas as pd\n",
    "import matplotlib.pyplot as plt\n",
    "\n",
    "# Create for age group 15-24---before and after 2006--suicide counts\n",
    "\n",
    "num_before2006_15to24 = suicide_data_before_2006_F_15to24_only # height\n",
    "year_Before_15to24 = suicide_data_before_2006_F_15to24.year # x\n",
    "\n",
    "num_after2006_15to24 = suicide_data_after_2006_F_15to24_only # height 2\n",
    "year_After_15to24 = suicide_data_after_2006_F_15to24.year # x2\n",
    "\n",
    "plt.figure(figsize=(8,5)) #modify figure size so chart is displayed \n",
    "\n",
    "plt.bar(x=year_Before_15to24, height= num_before2006_15to24, label = 'Years Before 2006', color = 'r')\n",
    "plt.bar(x=year_After_15to24, height= num_after2006_15to24, label = 'Years After 2006', color= 'c')\n",
    "\n",
    "plt.xlabel('Year')\n",
    "plt.ylabel('Suicide Count')\n",
    "plt.title('Suicide Counts Before and After 2006 for Females Aged 15-24 in the US')\n",
    "plt.legend()\n",
    "plt.show()\n",
    "\n",
    "\n",
    "# As we can see, there has been an upward trend in suicides among females between the ages of 15 and 24\n",
    "#in the United States, further supporting our \n",
    "# hypothesis that social media, such as Facebook, may have played a big role in this."
   ]
  },
  {
   "cell_type": "markdown",
   "id": "twelve-november",
   "metadata": {
    "papermill": {
     "duration": 0.04998,
     "end_time": "2021-06-26T19:54:30.143856",
     "exception": false,
     "start_time": "2021-06-26T19:54:30.093876",
     "status": "completed"
    },
    "tags": []
   },
   "source": [
    "### Bar Charts: Sucide Counts for Females in US Based on Age Brackets"
   ]
  },
  {
   "cell_type": "code",
   "execution_count": 22,
   "id": "criminal-sister",
   "metadata": {
    "execution": {
     "iopub.execute_input": "2021-06-26T19:54:30.246474Z",
     "iopub.status.busy": "2021-06-26T19:54:30.245822Z",
     "iopub.status.idle": "2021-06-26T19:54:30.249085Z",
     "shell.execute_reply": "2021-06-26T19:54:30.248461Z",
     "shell.execute_reply.started": "2021-06-26T19:53:42.964315Z"
    },
    "papermill": {
     "duration": 0.0565,
     "end_time": "2021-06-26T19:54:30.249215",
     "exception": false,
     "start_time": "2021-06-26T19:54:30.192715",
     "status": "completed"
    },
    "tags": []
   },
   "outputs": [],
   "source": [
    "# By delving deeper into this issue, we found out that the highest suicide count was not among young women 15-24 yrs,\n",
    "# But among middle age women, 35-54 years-- based on the maximum number of suicides that we had calculated earlier and also \n",
    "# the below graphical interpretations.\n",
    "\n",
    "# From this new information, we can deduce that this would is likely to be a result of other life factors such as marraige\n",
    "#work, or stress factors other than, social media.\n"
   ]
  },
  {
   "cell_type": "code",
   "execution_count": 23,
   "id": "referenced-columbia",
   "metadata": {
    "execution": {
     "iopub.execute_input": "2021-06-26T19:54:30.354115Z",
     "iopub.status.busy": "2021-06-26T19:54:30.353236Z",
     "iopub.status.idle": "2021-06-26T19:54:30.356377Z",
     "shell.execute_reply": "2021-06-26T19:54:30.355880Z",
     "shell.execute_reply.started": "2021-06-26T19:53:42.972402Z"
    },
    "papermill": {
     "duration": 0.057682,
     "end_time": "2021-06-26T19:54:30.356503",
     "exception": false,
     "start_time": "2021-06-26T19:54:30.298821",
     "status": "completed"
    },
    "tags": []
   },
   "outputs": [],
   "source": [
    "df2 = united_states_female[['year','age','suicides_no']]"
   ]
  },
  {
   "cell_type": "code",
   "execution_count": 24,
   "id": "architectural-effectiveness",
   "metadata": {
    "execution": {
     "iopub.execute_input": "2021-06-26T19:54:30.464670Z",
     "iopub.status.busy": "2021-06-26T19:54:30.463900Z",
     "iopub.status.idle": "2021-06-26T19:54:30.466720Z",
     "shell.execute_reply": "2021-06-26T19:54:30.467217Z",
     "shell.execute_reply.started": "2021-06-26T19:53:42.992787Z"
    },
    "papermill": {
     "duration": 0.061778,
     "end_time": "2021-06-26T19:54:30.467373",
     "exception": false,
     "start_time": "2021-06-26T19:54:30.405595",
     "status": "completed"
    },
    "tags": []
   },
   "outputs": [],
   "source": [
    "df3 = df2.groupby('age', as_index=False).sum() #total number of suicides grouped by age range, made sure age is not an\n",
    "# index column"
   ]
  },
  {
   "cell_type": "code",
   "execution_count": 25,
   "id": "attached-batman",
   "metadata": {
    "execution": {
     "iopub.execute_input": "2021-06-26T19:54:30.570568Z",
     "iopub.status.busy": "2021-06-26T19:54:30.569681Z",
     "iopub.status.idle": "2021-06-26T19:54:30.573775Z",
     "shell.execute_reply": "2021-06-26T19:54:30.573209Z",
     "shell.execute_reply.started": "2021-06-26T19:53:43.012630Z"
    },
    "papermill": {
     "duration": 0.057579,
     "end_time": "2021-06-26T19:54:30.573901",
     "exception": false,
     "start_time": "2021-06-26T19:54:30.516322",
     "status": "completed"
    },
    "tags": []
   },
   "outputs": [
    {
     "data": {
      "text/plain": [
       "Index(['age', 'year', 'suicides_no'], dtype='object')"
      ]
     },
     "execution_count": 25,
     "metadata": {},
     "output_type": "execute_result"
    }
   ],
   "source": [
    "df3.columns"
   ]
  },
  {
   "cell_type": "code",
   "execution_count": 26,
   "id": "growing-greene",
   "metadata": {
    "execution": {
     "iopub.execute_input": "2021-06-26T19:54:30.677819Z",
     "iopub.status.busy": "2021-06-26T19:54:30.677191Z",
     "iopub.status.idle": "2021-06-26T19:54:30.680270Z",
     "shell.execute_reply": "2021-06-26T19:54:30.679677Z",
     "shell.execute_reply.started": "2021-06-26T19:53:43.021893Z"
    },
    "papermill": {
     "duration": 0.05762,
     "end_time": "2021-06-26T19:54:30.680410",
     "exception": false,
     "start_time": "2021-06-26T19:54:30.622790",
     "status": "completed"
    },
    "tags": []
   },
   "outputs": [],
   "source": [
    "df3.drop('year',axis=1,inplace = True) #drop the year column permanently from the df3"
   ]
  },
  {
   "cell_type": "code",
   "execution_count": 27,
   "id": "other-selection",
   "metadata": {
    "execution": {
     "iopub.execute_input": "2021-06-26T19:54:30.789083Z",
     "iopub.status.busy": "2021-06-26T19:54:30.788158Z",
     "iopub.status.idle": "2021-06-26T19:54:30.792471Z",
     "shell.execute_reply": "2021-06-26T19:54:30.791973Z",
     "shell.execute_reply.started": "2021-06-26T19:53:43.037501Z"
    },
    "papermill": {
     "duration": 0.062665,
     "end_time": "2021-06-26T19:54:30.792614",
     "exception": false,
     "start_time": "2021-06-26T19:54:30.729949",
     "status": "completed"
    },
    "tags": []
   },
   "outputs": [
    {
     "data": {
      "text/html": [
       "<div>\n",
       "<style scoped>\n",
       "    .dataframe tbody tr th:only-of-type {\n",
       "        vertical-align: middle;\n",
       "    }\n",
       "\n",
       "    .dataframe tbody tr th {\n",
       "        vertical-align: top;\n",
       "    }\n",
       "\n",
       "    .dataframe thead th {\n",
       "        text-align: right;\n",
       "    }\n",
       "</style>\n",
       "<table border=\"1\" class=\"dataframe\">\n",
       "  <thead>\n",
       "    <tr style=\"text-align: right;\">\n",
       "      <th></th>\n",
       "      <th>age</th>\n",
       "      <th>suicides_no</th>\n",
       "    </tr>\n",
       "  </thead>\n",
       "  <tbody>\n",
       "    <tr>\n",
       "      <th>0</th>\n",
       "      <td>15-24 years</td>\n",
       "      <td>22903</td>\n",
       "    </tr>\n",
       "    <tr>\n",
       "      <th>1</th>\n",
       "      <td>25-34 years</td>\n",
       "      <td>33796</td>\n",
       "    </tr>\n",
       "    <tr>\n",
       "      <th>2</th>\n",
       "      <td>35-54 years</td>\n",
       "      <td>91572</td>\n",
       "    </tr>\n",
       "    <tr>\n",
       "      <th>3</th>\n",
       "      <td>5-14 years</td>\n",
       "      <td>2447</td>\n",
       "    </tr>\n",
       "    <tr>\n",
       "      <th>4</th>\n",
       "      <td>55-74 years</td>\n",
       "      <td>48591</td>\n",
       "    </tr>\n",
       "    <tr>\n",
       "      <th>5</th>\n",
       "      <td>75+ years</td>\n",
       "      <td>14488</td>\n",
       "    </tr>\n",
       "  </tbody>\n",
       "</table>\n",
       "</div>"
      ],
      "text/plain": [
       "           age  suicides_no\n",
       "0  15-24 years        22903\n",
       "1  25-34 years        33796\n",
       "2  35-54 years        91572\n",
       "3   5-14 years         2447\n",
       "4  55-74 years        48591\n",
       "5    75+ years        14488"
      ]
     },
     "execution_count": 27,
     "metadata": {},
     "output_type": "execute_result"
    }
   ],
   "source": [
    "df3"
   ]
  },
  {
   "cell_type": "code",
   "execution_count": 28,
   "id": "foster-insulation",
   "metadata": {
    "execution": {
     "iopub.execute_input": "2021-06-26T19:54:30.899476Z",
     "iopub.status.busy": "2021-06-26T19:54:30.898786Z",
     "iopub.status.idle": "2021-06-26T19:54:30.901635Z",
     "shell.execute_reply": "2021-06-26T19:54:30.901140Z",
     "shell.execute_reply.started": "2021-06-26T19:53:43.056695Z"
    },
    "papermill": {
     "duration": 0.058733,
     "end_time": "2021-06-26T19:54:30.901795",
     "exception": false,
     "start_time": "2021-06-26T19:54:30.843062",
     "status": "completed"
    },
    "tags": []
   },
   "outputs": [],
   "source": [
    "df3_list = [s for s in df3.suicides_no]"
   ]
  },
  {
   "cell_type": "code",
   "execution_count": 29,
   "id": "legitimate-brass",
   "metadata": {
    "execution": {
     "iopub.execute_input": "2021-06-26T19:54:31.008100Z",
     "iopub.status.busy": "2021-06-26T19:54:31.007427Z",
     "iopub.status.idle": "2021-06-26T19:54:31.010015Z",
     "shell.execute_reply": "2021-06-26T19:54:31.010579Z",
     "shell.execute_reply.started": "2021-06-26T19:53:43.065006Z"
    },
    "papermill": {
     "duration": 0.057353,
     "end_time": "2021-06-26T19:54:31.010768",
     "exception": false,
     "start_time": "2021-06-26T19:54:30.953415",
     "status": "completed"
    },
    "tags": []
   },
   "outputs": [
    {
     "data": {
      "text/plain": [
       "[22903, 33796, 91572, 2447, 48591, 14488]"
      ]
     },
     "execution_count": 29,
     "metadata": {},
     "output_type": "execute_result"
    }
   ],
   "source": [
    "df3_list # list of the total counts of suicides for age ranges"
   ]
  },
  {
   "cell_type": "code",
   "execution_count": 30,
   "id": "attended-precipitation",
   "metadata": {
    "execution": {
     "iopub.execute_input": "2021-06-26T19:54:31.115213Z",
     "iopub.status.busy": "2021-06-26T19:54:31.114546Z",
     "iopub.status.idle": "2021-06-26T19:54:31.119336Z",
     "shell.execute_reply": "2021-06-26T19:54:31.118829Z",
     "shell.execute_reply.started": "2021-06-26T19:53:43.081658Z"
    },
    "papermill": {
     "duration": 0.058887,
     "end_time": "2021-06-26T19:54:31.119462",
     "exception": false,
     "start_time": "2021-06-26T19:54:31.060575",
     "status": "completed"
    },
    "tags": []
   },
   "outputs": [],
   "source": [
    "df3_list2 = [s for s in df3.age]"
   ]
  },
  {
   "cell_type": "code",
   "execution_count": 31,
   "id": "announced-potential",
   "metadata": {
    "execution": {
     "iopub.execute_input": "2021-06-26T19:54:31.225174Z",
     "iopub.status.busy": "2021-06-26T19:54:31.224521Z",
     "iopub.status.idle": "2021-06-26T19:54:31.227838Z",
     "shell.execute_reply": "2021-06-26T19:54:31.227353Z",
     "shell.execute_reply.started": "2021-06-26T19:53:43.094328Z"
    },
    "papermill": {
     "duration": 0.057901,
     "end_time": "2021-06-26T19:54:31.227968",
     "exception": false,
     "start_time": "2021-06-26T19:54:31.170067",
     "status": "completed"
    },
    "tags": []
   },
   "outputs": [
    {
     "data": {
      "text/plain": [
       "['15-24 years',\n",
       " '25-34 years',\n",
       " '35-54 years',\n",
       " '5-14 years',\n",
       " '55-74 years',\n",
       " '75+ years']"
      ]
     },
     "execution_count": 31,
     "metadata": {},
     "output_type": "execute_result"
    }
   ],
   "source": [
    "df3_list2 # list of age ranges"
   ]
  },
  {
   "cell_type": "code",
   "execution_count": 32,
   "id": "frank-preliminary",
   "metadata": {
    "execution": {
     "iopub.execute_input": "2021-06-26T19:54:31.445813Z",
     "iopub.status.busy": "2021-06-26T19:54:31.440387Z",
     "iopub.status.idle": "2021-06-26T19:54:31.642317Z",
     "shell.execute_reply": "2021-06-26T19:54:31.642835Z",
     "shell.execute_reply.started": "2021-06-26T19:53:43.110225Z"
    },
    "papermill": {
     "duration": 0.364979,
     "end_time": "2021-06-26T19:54:31.642999",
     "exception": false,
     "start_time": "2021-06-26T19:54:31.278020",
     "status": "completed"
    },
    "tags": []
   },
   "outputs": [
    {
     "name": "stderr",
     "output_type": "stream",
     "text": [
      "/opt/conda/lib/python3.7/site-packages/seaborn/_decorators.py:43: FutureWarning: Pass the following variables as keyword args: x, y. From version 0.12, the only valid positional argument will be `data`, and passing other arguments without an explicit keyword will result in an error or misinterpretation.\n",
      "  FutureWarning\n"
     ]
    },
    {
     "data": {
      "image/png": "[encoded data removed]",
      "text/plain": [
       "<Figure size 576x360 with 1 Axes>"
      ]
     },
     "metadata": {
      "needs_background": "light"
     },
     "output_type": "display_data"
    }
   ],
   "source": [
    "# Graph is of the total number (sum) of suicides for each age group\n",
    "\n",
    "import seaborn as sns\n",
    "\n",
    "age_ranges = df3_list2\n",
    "counts = df3_list \n",
    "\n",
    "plt.figure(figsize=(8,5)) #modify figure size so chart is displayed \n",
    "\n",
    "sns.set_style('darkgrid')  # white backround with gray grid lines\n",
    "axes = sns.barplot(age_ranges,counts, palette='bright', ci=None)# remove error bars\n",
    "axes.set_title('Total Suicide Count for Females in the US Based on Age Brackets')\n",
    "axes.set(xlabel='Age Brackets', ylabel='Suicide Count')\n",
    "\n",
    "# Scale the y-axis \n",
    "axes.set_ylim(top=1.10*max(counts))\n",
    "\n",
    "# Display the count above each bar\n",
    "for bar, count in zip(axes.patches, counts):\n",
    "    text_x = bar.get_x() + bar.get_width()/2 # ensure suicide counts are displayed on center of bar\n",
    "    text_y = bar.get_height() \n",
    "    text = f'{count}' # stores values of the suicide counts\n",
    "    axes.text(text_x, text_y, text, \n",
    "              fontsize=12, ha='center', va='bottom')\n",
    "\n",
    "plt.show()  # display the chart "
   ]
  },
  {
   "cell_type": "code",
   "execution_count": 33,
   "id": "oriental-barcelona",
   "metadata": {
    "execution": {
     "iopub.execute_input": "2021-06-26T19:54:31.752567Z",
     "iopub.status.busy": "2021-06-26T19:54:31.751964Z",
     "iopub.status.idle": "2021-06-26T19:54:31.755156Z",
     "shell.execute_reply": "2021-06-26T19:54:31.754590Z",
     "shell.execute_reply.started": "2021-06-26T19:53:43.445774Z"
    },
    "papermill": {
     "duration": 0.06032,
     "end_time": "2021-06-26T19:54:31.755281",
     "exception": false,
     "start_time": "2021-06-26T19:54:31.694961",
     "status": "completed"
    },
    "tags": []
   },
   "outputs": [],
   "source": [
    "df_bef = data_of_suicides_before_2006_female_only[['year','age','suicides_no']]"
   ]
  },
  {
   "cell_type": "code",
   "execution_count": 34,
   "id": "physical-prefix",
   "metadata": {
    "execution": {
     "iopub.execute_input": "2021-06-26T19:54:31.870678Z",
     "iopub.status.busy": "2021-06-26T19:54:31.870049Z",
     "iopub.status.idle": "2021-06-26T19:54:31.872701Z",
     "shell.execute_reply": "2021-06-26T19:54:31.872195Z",
     "shell.execute_reply.started": "2021-06-26T19:53:43.453752Z"
    },
    "papermill": {
     "duration": 0.06533,
     "end_time": "2021-06-26T19:54:31.872861",
     "exception": false,
     "start_time": "2021-06-26T19:54:31.807531",
     "status": "completed"
    },
    "tags": []
   },
   "outputs": [],
   "source": [
    "df_bef2 = round(df_bef.groupby('age', as_index=False).mean(),2) #find the avg number of suicides for females in US\n",
    "# group by age range --years before 2006"
   ]
  },
  {
   "cell_type": "code",
   "execution_count": 35,
   "id": "obvious-reader",
   "metadata": {
    "execution": {
     "iopub.execute_input": "2021-06-26T19:54:31.979774Z",
     "iopub.status.busy": "2021-06-26T19:54:31.979144Z",
     "iopub.status.idle": "2021-06-26T19:54:31.983832Z",
     "shell.execute_reply": "2021-06-26T19:54:31.984333Z",
     "shell.execute_reply.started": "2021-06-26T19:53:43.477012Z"
    },
    "papermill": {
     "duration": 0.059688,
     "end_time": "2021-06-26T19:54:31.984488",
     "exception": false,
     "start_time": "2021-06-26T19:54:31.924800",
     "status": "completed"
    },
    "tags": []
   },
   "outputs": [],
   "source": [
    "df_bef2.drop('year',axis=1,inplace = True)"
   ]
  },
  {
   "cell_type": "code",
   "execution_count": 36,
   "id": "played-resource",
   "metadata": {
    "execution": {
     "iopub.execute_input": "2021-06-26T19:54:32.091388Z",
     "iopub.status.busy": "2021-06-26T19:54:32.090768Z",
     "iopub.status.idle": "2021-06-26T19:54:32.100005Z",
     "shell.execute_reply": "2021-06-26T19:54:32.100442Z",
     "shell.execute_reply.started": "2021-06-26T19:53:43.499132Z"
    },
    "papermill": {
     "duration": 0.063662,
     "end_time": "2021-06-26T19:54:32.100601",
     "exception": false,
     "start_time": "2021-06-26T19:54:32.036939",
     "status": "completed"
    },
    "tags": []
   },
   "outputs": [
    {
     "data": {
      "text/html": [
       "<div>\n",
       "<style scoped>\n",
       "    .dataframe tbody tr th:only-of-type {\n",
       "        vertical-align: middle;\n",
       "    }\n",
       "\n",
       "    .dataframe tbody tr th {\n",
       "        vertical-align: top;\n",
       "    }\n",
       "\n",
       "    .dataframe thead th {\n",
       "        text-align: right;\n",
       "    }\n",
       "</style>\n",
       "<table border=\"1\" class=\"dataframe\">\n",
       "  <thead>\n",
       "    <tr style=\"text-align: right;\">\n",
       "      <th></th>\n",
       "      <th>age</th>\n",
       "      <th>suicides_no</th>\n",
       "    </tr>\n",
       "  </thead>\n",
       "  <tbody>\n",
       "    <tr>\n",
       "      <th>0</th>\n",
       "      <td>15-24 years</td>\n",
       "      <td>682.14</td>\n",
       "    </tr>\n",
       "    <tr>\n",
       "      <th>1</th>\n",
       "      <td>25-34 years</td>\n",
       "      <td>1056.00</td>\n",
       "    </tr>\n",
       "    <tr>\n",
       "      <th>2</th>\n",
       "      <td>35-54 years</td>\n",
       "      <td>2585.90</td>\n",
       "    </tr>\n",
       "    <tr>\n",
       "      <th>3</th>\n",
       "      <td>5-14 years</td>\n",
       "      <td>69.52</td>\n",
       "    </tr>\n",
       "    <tr>\n",
       "      <th>4</th>\n",
       "      <td>55-74 years</td>\n",
       "      <td>1299.90</td>\n",
       "    </tr>\n",
       "    <tr>\n",
       "      <th>5</th>\n",
       "      <td>75+ years</td>\n",
       "      <td>482.81</td>\n",
       "    </tr>\n",
       "  </tbody>\n",
       "</table>\n",
       "</div>"
      ],
      "text/plain": [
       "           age  suicides_no\n",
       "0  15-24 years       682.14\n",
       "1  25-34 years      1056.00\n",
       "2  35-54 years      2585.90\n",
       "3   5-14 years        69.52\n",
       "4  55-74 years      1299.90\n",
       "5    75+ years       482.81"
      ]
     },
     "execution_count": 36,
     "metadata": {},
     "output_type": "execute_result"
    }
   ],
   "source": [
    "df_bef2 # DF after dropping the year column"
   ]
  },
  {
   "cell_type": "code",
   "execution_count": 37,
   "id": "complex-kingston",
   "metadata": {
    "execution": {
     "iopub.execute_input": "2021-06-26T19:54:32.207856Z",
     "iopub.status.busy": "2021-06-26T19:54:32.207255Z",
     "iopub.status.idle": "2021-06-26T19:54:32.210939Z",
     "shell.execute_reply": "2021-06-26T19:54:32.211474Z",
     "shell.execute_reply.started": "2021-06-26T19:53:43.520856Z"
    },
    "papermill": {
     "duration": 0.058687,
     "end_time": "2021-06-26T19:54:32.211617",
     "exception": false,
     "start_time": "2021-06-26T19:54:32.152930",
     "status": "completed"
    },
    "tags": []
   },
   "outputs": [],
   "source": [
    "df_bef2_list = [s for s in df_bef2.suicides_no] # list of the avg counts of suicides for age ranges from before 2006"
   ]
  },
  {
   "cell_type": "code",
   "execution_count": 38,
   "id": "lightweight-beaver",
   "metadata": {
    "execution": {
     "iopub.execute_input": "2021-06-26T19:54:32.317988Z",
     "iopub.status.busy": "2021-06-26T19:54:32.317383Z",
     "iopub.status.idle": "2021-06-26T19:54:32.321157Z",
     "shell.execute_reply": "2021-06-26T19:54:32.321711Z",
     "shell.execute_reply.started": "2021-06-26T19:53:43.534078Z"
    },
    "papermill": {
     "duration": 0.058464,
     "end_time": "2021-06-26T19:54:32.321883",
     "exception": false,
     "start_time": "2021-06-26T19:54:32.263419",
     "status": "completed"
    },
    "tags": []
   },
   "outputs": [],
   "source": [
    "df_bef2_list2 = [s for s in df_bef2.age] # list of age ranges"
   ]
  },
  {
   "cell_type": "code",
   "execution_count": 39,
   "id": "athletic-masters",
   "metadata": {
    "execution": {
     "iopub.execute_input": "2021-06-26T19:54:32.429321Z",
     "iopub.status.busy": "2021-06-26T19:54:32.428713Z",
     "iopub.status.idle": "2021-06-26T19:54:32.624024Z",
     "shell.execute_reply": "2021-06-26T19:54:32.624475Z",
     "shell.execute_reply.started": "2021-06-26T19:53:43.548419Z"
    },
    "papermill": {
     "duration": 0.250265,
     "end_time": "2021-06-26T19:54:32.624640",
     "exception": false,
     "start_time": "2021-06-26T19:54:32.374375",
     "status": "completed"
    },
    "tags": []
   },
   "outputs": [
    {
     "name": "stderr",
     "output_type": "stream",
     "text": [
      "/opt/conda/lib/python3.7/site-packages/seaborn/_decorators.py:43: FutureWarning: Pass the following variables as keyword args: x, y. From version 0.12, the only valid positional argument will be `data`, and passing other arguments without an explicit keyword will result in an error or misinterpretation.\n",
      "  FutureWarning\n"
     ]
    },
    {
     "data": {
      "image/png": "[encoded data removed]",
      "text/plain": [
       "<Figure size 576x360 with 1 Axes>"
      ]
     },
     "metadata": {},
     "output_type": "display_data"
    }
   ],
   "source": [
    "# Graph is of the avg number of suicides for each age group BEFORE Facebook came out to public\n",
    "\n",
    "import seaborn as sns\n",
    "\n",
    "age_ranges = df_bef2_list2\n",
    "counts = df_bef2_list \n",
    "\n",
    "plt.figure(figsize=(8,5)) #modify figure size so chart is displayed \n",
    "\n",
    "sns.set_style('darkgrid')  # white backround with gray grid lines\n",
    "axes = sns.barplot(age_ranges,counts, palette='bright', ci=None)# remove error bars\n",
    "axes.set_title('Average Suicide Count for Females in the US Based on Age Brackets- Before 2006')\n",
    "axes.set(xlabel='Age Brackets', ylabel='Suicide Count')\n",
    "\n",
    "# Scale the y-axis \n",
    "axes.set_ylim(top=1.10*max(counts))\n",
    "\n",
    "# Display the count above each bar\n",
    "for bar, count in zip(axes.patches, counts):\n",
    "    text_x = bar.get_x() + bar.get_width()/2 # ensure suicide counts are displayed on center of bar\n",
    "    text_y = bar.get_height() \n",
    "    text = f'{count}' # stores values of the suicide counts\n",
    "    axes.text(text_x, text_y, text, \n",
    "              fontsize=12, ha='center', va='bottom')\n",
    "\n",
    "plt.show()  # display the chart "
   ]
  },
  {
   "cell_type": "code",
   "execution_count": 40,
   "id": "special-essence",
   "metadata": {
    "execution": {
     "iopub.execute_input": "2021-06-26T19:54:32.735910Z",
     "iopub.status.busy": "2021-06-26T19:54:32.735240Z",
     "iopub.status.idle": "2021-06-26T19:54:32.737119Z",
     "shell.execute_reply": "2021-06-26T19:54:32.737582Z",
     "shell.execute_reply.started": "2021-06-26T19:53:43.765768Z"
    },
    "papermill": {
     "duration": 0.060139,
     "end_time": "2021-06-26T19:54:32.737731",
     "exception": false,
     "start_time": "2021-06-26T19:54:32.677592",
     "status": "completed"
    },
    "tags": []
   },
   "outputs": [],
   "source": [
    "df_aft = data_of_suicides_after_2006_female_only[['year','age','suicides_no']]"
   ]
  },
  {
   "cell_type": "code",
   "execution_count": 41,
   "id": "neutral-infrared",
   "metadata": {
    "execution": {
     "iopub.execute_input": "2021-06-26T19:54:32.847633Z",
     "iopub.status.busy": "2021-06-26T19:54:32.846976Z",
     "iopub.status.idle": "2021-06-26T19:54:32.855100Z",
     "shell.execute_reply": "2021-06-26T19:54:32.855532Z",
     "shell.execute_reply.started": "2021-06-26T19:53:43.775318Z"
    },
    "papermill": {
     "duration": 0.064509,
     "end_time": "2021-06-26T19:54:32.855693",
     "exception": false,
     "start_time": "2021-06-26T19:54:32.791184",
     "status": "completed"
    },
    "tags": []
   },
   "outputs": [],
   "source": [
    "df_aft2 = round(df_aft.groupby('age', as_index=False).mean(),2)#find the avg number of suicides for females in US\n",
    "# group by age range --years after 2006"
   ]
  },
  {
   "cell_type": "code",
   "execution_count": 42,
   "id": "divided-roller",
   "metadata": {
    "execution": {
     "iopub.execute_input": "2021-06-26T19:54:32.965848Z",
     "iopub.status.busy": "2021-06-26T19:54:32.965257Z",
     "iopub.status.idle": "2021-06-26T19:54:32.969383Z",
     "shell.execute_reply": "2021-06-26T19:54:32.969849Z",
     "shell.execute_reply.started": "2021-06-26T19:53:43.798513Z"
    },
    "papermill": {
     "duration": 0.06043,
     "end_time": "2021-06-26T19:54:32.969994",
     "exception": false,
     "start_time": "2021-06-26T19:54:32.909564",
     "status": "completed"
    },
    "tags": []
   },
   "outputs": [],
   "source": [
    "df_aft2.drop('year',axis=1,inplace = True) # We can see an increase in the average number of suicides among almost all age groups after 2006 compared to before 2006...\n",
    "# Interestingly, the only age group, 75+ year age group, seem to show the opposite trend; there seems to be a decrease in \n",
    "# number of suicides among that age group. "
   ]
  },
  {
   "cell_type": "code",
   "execution_count": 43,
   "id": "further-pricing",
   "metadata": {
    "execution": {
     "iopub.execute_input": "2021-06-26T19:54:33.081457Z",
     "iopub.status.busy": "2021-06-26T19:54:33.080780Z",
     "iopub.status.idle": "2021-06-26T19:54:33.090495Z",
     "shell.execute_reply": "2021-06-26T19:54:33.089973Z",
     "shell.execute_reply.started": "2021-06-26T19:53:43.812090Z"
    },
    "papermill": {
     "duration": 0.066701,
     "end_time": "2021-06-26T19:54:33.090625",
     "exception": false,
     "start_time": "2021-06-26T19:54:33.023924",
     "status": "completed"
    },
    "tags": []
   },
   "outputs": [
    {
     "data": {
      "text/html": [
       "<div>\n",
       "<style scoped>\n",
       "    .dataframe tbody tr th:only-of-type {\n",
       "        vertical-align: middle;\n",
       "    }\n",
       "\n",
       "    .dataframe tbody tr th {\n",
       "        vertical-align: top;\n",
       "    }\n",
       "\n",
       "    .dataframe thead th {\n",
       "        text-align: right;\n",
       "    }\n",
       "</style>\n",
       "<table border=\"1\" class=\"dataframe\">\n",
       "  <thead>\n",
       "    <tr style=\"text-align: right;\">\n",
       "      <th></th>\n",
       "      <th>age</th>\n",
       "      <th>suicides_no</th>\n",
       "    </tr>\n",
       "  </thead>\n",
       "  <tbody>\n",
       "    <tr>\n",
       "      <th>0</th>\n",
       "      <td>15-24 years</td>\n",
       "      <td>857.8</td>\n",
       "    </tr>\n",
       "    <tr>\n",
       "      <th>1</th>\n",
       "      <td>25-34 years</td>\n",
       "      <td>1162.0</td>\n",
       "    </tr>\n",
       "    <tr>\n",
       "      <th>2</th>\n",
       "      <td>35-54 years</td>\n",
       "      <td>3726.8</td>\n",
       "    </tr>\n",
       "    <tr>\n",
       "      <th>3</th>\n",
       "      <td>5-14 years</td>\n",
       "      <td>98.7</td>\n",
       "    </tr>\n",
       "    <tr>\n",
       "      <th>4</th>\n",
       "      <td>55-74 years</td>\n",
       "      <td>2129.3</td>\n",
       "    </tr>\n",
       "    <tr>\n",
       "      <th>5</th>\n",
       "      <td>75+ years</td>\n",
       "      <td>434.9</td>\n",
       "    </tr>\n",
       "  </tbody>\n",
       "</table>\n",
       "</div>"
      ],
      "text/plain": [
       "           age  suicides_no\n",
       "0  15-24 years        857.8\n",
       "1  25-34 years       1162.0\n",
       "2  35-54 years       3726.8\n",
       "3   5-14 years         98.7\n",
       "4  55-74 years       2129.3\n",
       "5    75+ years        434.9"
      ]
     },
     "execution_count": 43,
     "metadata": {},
     "output_type": "execute_result"
    }
   ],
   "source": [
    "df_aft2 # DF after dropping the year column"
   ]
  },
  {
   "cell_type": "code",
   "execution_count": 44,
   "id": "material-youth",
   "metadata": {
    "execution": {
     "iopub.execute_input": "2021-06-26T19:54:33.204481Z",
     "iopub.status.busy": "2021-06-26T19:54:33.203643Z",
     "iopub.status.idle": "2021-06-26T19:54:33.206024Z",
     "shell.execute_reply": "2021-06-26T19:54:33.206514Z",
     "shell.execute_reply.started": "2021-06-26T19:53:43.832187Z"
    },
    "papermill": {
     "duration": 0.061356,
     "end_time": "2021-06-26T19:54:33.206669",
     "exception": false,
     "start_time": "2021-06-26T19:54:33.145313",
     "status": "completed"
    },
    "tags": []
   },
   "outputs": [],
   "source": [
    "df_aft2_list = [s for s in df_aft2.suicides_no]  # list of the avg counts of suicides for age ranges from after 2006"
   ]
  },
  {
   "cell_type": "code",
   "execution_count": 45,
   "id": "associate-practitioner",
   "metadata": {
    "execution": {
     "iopub.execute_input": "2021-06-26T19:54:33.317540Z",
     "iopub.status.busy": "2021-06-26T19:54:33.316929Z",
     "iopub.status.idle": "2021-06-26T19:54:33.320905Z",
     "shell.execute_reply": "2021-06-26T19:54:33.321363Z",
     "shell.execute_reply.started": "2021-06-26T19:53:43.847028Z"
    },
    "papermill": {
     "duration": 0.060742,
     "end_time": "2021-06-26T19:54:33.321530",
     "exception": false,
     "start_time": "2021-06-26T19:54:33.260788",
     "status": "completed"
    },
    "tags": []
   },
   "outputs": [],
   "source": [
    "df_aft2_list2 = [s for s in df_aft2.age] # list of age ranges"
   ]
  },
  {
   "cell_type": "code",
   "execution_count": 46,
   "id": "wireless-conclusion",
   "metadata": {
    "execution": {
     "iopub.execute_input": "2021-06-26T19:54:33.440791Z",
     "iopub.status.busy": "2021-06-26T19:54:33.438503Z",
     "iopub.status.idle": "2021-06-26T19:54:33.643717Z",
     "shell.execute_reply": "2021-06-26T19:54:33.644366Z",
     "shell.execute_reply.started": "2021-06-26T19:53:43.858934Z"
    },
    "papermill": {
     "duration": 0.268892,
     "end_time": "2021-06-26T19:54:33.644550",
     "exception": false,
     "start_time": "2021-06-26T19:54:33.375658",
     "status": "completed"
    },
    "tags": []
   },
   "outputs": [
    {
     "name": "stderr",
     "output_type": "stream",
     "text": [
      "/opt/conda/lib/python3.7/site-packages/seaborn/_decorators.py:43: FutureWarning: Pass the following variables as keyword args: x, y. From version 0.12, the only valid positional argument will be `data`, and passing other arguments without an explicit keyword will result in an error or misinterpretation.\n",
      "  FutureWarning\n"
     ]
    },
    {
     "data": {
      "image/png": "[encoded data removed]",
      "text/plain": [
       "<Figure size 576x360 with 1 Axes>"
      ]
     },
     "metadata": {},
     "output_type": "display_data"
    }
   ],
   "source": [
    "# Graph is of the avg number of suicides for each age group AFTER Facebook came out to public\n",
    "import seaborn as sns\n",
    "\n",
    "age_ranges = df_aft2_list2\n",
    "counts = df_aft2_list \n",
    "\n",
    "plt.figure(figsize=(8,5)) #modify figure size so chart is displayed \n",
    "\n",
    "sns.set_style('darkgrid')  # white backround with gray grid lines\n",
    "axes = sns.barplot(age_ranges,counts, palette='bright', ci=None)# remove error bars\n",
    "axes.set_title('Average Suicide Count for Females in the US Based on Age Brackets- After2006')\n",
    "axes.set(xlabel='Age Brackets', ylabel='Suicide Count')\n",
    "\n",
    "# Scale the y-axis \n",
    "axes.set_ylim(top=1.10*max(counts))\n",
    "\n",
    "# Display the count above each bar\n",
    "for bar, count in zip(axes.patches, counts):\n",
    "    text_x = bar.get_x() + bar.get_width()/2 # ensure suicide counts are displayed on center of bar\n",
    "    text_y = bar.get_height() \n",
    "    text = f'{count}' # stores values of the suicide counts\n",
    "    axes.text(text_x, text_y, text, \n",
    "              fontsize=12, ha='center', va='bottom')\n",
    "\n",
    "plt.show()  # display the chart "
   ]
  },
  {
   "cell_type": "markdown",
   "id": "chief-environment",
   "metadata": {
    "papermill": {
     "duration": 0.054872,
     "end_time": "2021-06-26T19:54:33.755045",
     "exception": false,
     "start_time": "2021-06-26T19:54:33.700173",
     "status": "completed"
    },
    "tags": []
   },
   "source": [
    "Results:\n",
    "\n",
    "Based on our minimum and maximum calculations, the least number of suicides among women occurred back in 1999, before the rise of social media, such as Facebook. At the same time, we can see that the greatest number of suicides among women occurred in 2015, well after Facebook's rise in popularity. The emergence of new social media platforms such as Instagram and snapchat may have also played a role in this spike of suicides after 2006.\n",
    "\n",
    "The minimum of suicides was 50 in the year 1999 for age group 5-14 years\n",
    "The maximum of suicides was 4053 in the year 2015 for age group 35-54 years\n",
    "\n",
    "We can also see that there has been an upward trend in suicides among females, specifically between the ages of 15 and 24, living in the United States, supporting our hypothesis that social media, in this case Facebook, has played a big role in the rise in suicides among young women. Surprisingly, based on our analysis, we also determined that the highest suicide count was not among young women 15-24 yrs., but middle age women, 35-54 years. Based on this information, we can deduce that this may likely be a result of other contributing factors in life such as marriage, work, or financial stress, that can occur during one's lifetime, usually during middle to late adulthood.\n",
    "\n",
    "We also calculated the average number of suicides for each age group before and after Facebook came out to the public. There seems to be an increase in the average number of suicides among almost all age groups after 2006 compared to before 2006, including the 15-24 years age bracket, further supporting our hypothesis. Interestingly enough, the only age bracket, 75+ year age group, depicts the reverse trend; there seems to be a decrease in the number of suicides among that particular age group. Elderly individuals who are more socially connected are likely to have better mental health. Since Facebook is a convenient way to connect with others without leaving the house, it is possible that elderly individuals are feeling less lonely than they used to, less depressed and thus, less prone to commit suicide compared to other groups."
   ]
  },
  {
   "cell_type": "markdown",
   "id": "demographic-corporation",
   "metadata": {
    "execution": {
     "iopub.execute_input": "2021-06-26T19:53:44.084698Z",
     "iopub.status.busy": "2021-06-26T19:53:44.084366Z",
     "iopub.status.idle": "2021-06-26T19:53:44.095790Z",
     "shell.execute_reply": "2021-06-26T19:53:44.094475Z",
     "shell.execute_reply.started": "2021-06-26T19:53:44.084665Z"
    },
    "papermill": {
     "duration": 0.055685,
     "end_time": "2021-06-26T19:54:33.866601",
     "exception": false,
     "start_time": "2021-06-26T19:54:33.810916",
     "status": "completed"
    },
    "tags": []
   },
   "source": [
    "Conclusion:\n",
    "\n",
    "Based on our analysis, we confirm that our hypothesis was correct; we did see an average rise in suicides among females between the ages of 15-24. However, the highest spike in suicides among females was in the 35-54 years age bracket. Lastly, we saw a decrease in the number of suicides among females in the 75+ age range. A myriad of contributing factors may have influenced the trends in suicides among females in the United States during our exploratory analysis. We expect the increase in suicide counts among females aged 15-24 to be a result of using Facebook and other new social media sites as young people use it more often and are impacted more heavily than other age groups. However, when it came to females aged 35-54 years, it is expected that other factors may have contributed to the high number of suicides, social media only playing a small role. As for females aged 75+, we see a reverse trend in suicide counts compared to all the other age groups. Essentially, it is difficult to compare suicides rates across various age groups as every phase of life is different. There could be one, or many factors, that lead someone to commit suicide. It all depends on which direction one is willing to take with their analysis. We believe a more accurate conclusion can be drawn by taking this analytical approach to the next level, which is by comparing females of similar age groups across various countries and see if this rise in suicides is seen only among young women in the United States or elsewhere too."
   ]
  },
  {
   "cell_type": "code",
   "execution_count": null,
   "id": "instructional-pennsylvania",
   "metadata": {
    "papermill": {
     "duration": 0.056184,
     "end_time": "2021-06-26T19:54:33.978671",
     "exception": false,
     "start_time": "2021-06-26T19:54:33.922487",
     "status": "completed"
    },
    "tags": []
   },
   "outputs": [],
   "source": []
  }
 ],
 "metadata": {
  "kernelspec": {
   "display_name": "Python 3",
   "language": "python",
   "name": "python3"
  },
  "language_info": {
   "codemirror_mode": {
    "name": "ipython",
    "version": 3
   },
   "file_extension": ".py",
   "mimetype": "text/x-python",
   "name": "python",
   "nbconvert_exporter": "python",
   "pygments_lexer": "ipython3",
   "version": "3.7.10"
  },
  "papermill": {
   "default_parameters": {},
   "duration": 17.570058,
   "end_time": "2021-06-26T19:54:34.745809",
   "environment_variables": {},
   "exception": null,
   "input_path": "__notebook__.ipynb",
   "output_path": "__notebook__.ipynb",
   "parameters": {},
   "start_time": "2021-06-26T19:54:17.175751",
   "version": "2.3.3"
  }
 },
 "nbformat": 4,
 "nbformat_minor": 5
}
