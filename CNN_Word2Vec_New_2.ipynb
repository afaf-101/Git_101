{
 "cells": [
  {
   "cell_type": "markdown",
   "metadata": {
    "id": "oPkQbzIU1Bk6"
   },
   "source": [
    "### Using Train and Test Set 3\n",
    "#### Pre-Processing of Amazon text is already completed (check other notebook)\n",
    "#### Converted from multi-class to binary output\n",
    "#### Removed duplicate reivews\n",
    "#### Eliminated stop words\n",
    "#### Lower case all words\n",
    "#### Nulls removed\n",
    "#### Lemmetization done"
   ]
  },
  {
   "cell_type": "code",
   "execution_count": 31,
   "metadata": {
    "id": "Ie3UfOJ13Qas"
   },
   "outputs": [],
   "source": [
    "import pandas as pd\n",
    "import numpy as np"
   ]
  },
  {
   "cell_type": "code",
   "execution_count": 32,
   "metadata": {
    "colab": {
     "base_uri": "https://localhost:8080/"
    },
    "id": "ovQ3ugyf5Ott",
    "outputId": "bc628b9b-cc11-434d-9d38-070b0c530555"
   },
   "outputs": [
    {
     "name": "stdout",
     "output_type": "stream",
     "text": [
      "Mounted at /content/drive\n"
     ]
    }
   ],
   "source": [
    "from google.colab import drive\n",
    "drive.mount('/content/drive')"
   ]
  },
  {
   "cell_type": "code",
   "execution_count": 33,
   "metadata": {
    "colab": {
     "base_uri": "https://localhost:8080/"
    },
    "id": "zISwTdxh5Ptz",
    "outputId": "9c4ee87d-eda2-4332-c182-1d9669b6c6ea"
   },
   "outputs": [
    {
     "name": "stdout",
     "output_type": "stream",
     "text": [
      "Mounted at /home/gdrive\n"
     ]
    }
   ],
   "source": [
    "from google.colab import drive # mount drive \n",
    "drive.mount('/home/gdrive')"
   ]
  },
  {
   "cell_type": "markdown",
   "metadata": {
    "id": "biWvkNl8q68J"
   },
   "source": [
    "### Training Data"
   ]
  },
  {
   "cell_type": "code",
   "execution_count": 34,
   "metadata": {
    "id": "oNq6KZR03Qc6"
   },
   "outputs": [],
   "source": [
    "reviews_train = pd.read_csv('/home/gdrive/My Drive/train_set3.csv')"
   ]
  },
  {
   "cell_type": "code",
   "execution_count": 35,
   "metadata": {
    "colab": {
     "base_uri": "https://localhost:8080/"
    },
    "id": "fQlVpOgEazi4",
    "outputId": "e10c93bf-6128-4adc-9aba-3c00cf234aba"
   },
   "outputs": [
    {
     "data": {
      "text/plain": [
       "review    0\n",
       "label     0\n",
       "dtype: int64"
      ]
     },
     "execution_count": 35,
     "metadata": {
      "tags": []
     },
     "output_type": "execute_result"
    }
   ],
   "source": [
    "reviews_train.isna().sum()"
   ]
  },
  {
   "cell_type": "code",
   "execution_count": 36,
   "metadata": {
    "id": "3bJl-jddvZ-z"
   },
   "outputs": [],
   "source": [
    "#reviews_train.dropna(inplace = True)"
   ]
  },
  {
   "cell_type": "code",
   "execution_count": 37,
   "metadata": {
    "id": "jtu0MeUWvoTH"
   },
   "outputs": [],
   "source": [
    "#reviews_train.isna().sum()"
   ]
  },
  {
   "cell_type": "code",
   "execution_count": 38,
   "metadata": {
    "colab": {
     "base_uri": "https://localhost:8080/"
    },
    "id": "55g10mS9v17A",
    "outputId": "66353cdf-c4df-4ba7-a38b-78212c0bb0f7"
   },
   "outputs": [
    {
     "name": "stdout",
     "output_type": "stream",
     "text": [
      "<class 'pandas.core.frame.DataFrame'>\n",
      "RangeIndex: 91185 entries, 0 to 91184\n",
      "Data columns (total 2 columns):\n",
      " #   Column  Non-Null Count  Dtype \n",
      "---  ------  --------------  ----- \n",
      " 0   review  91185 non-null  object\n",
      " 1   label   91185 non-null  int64 \n",
      "dtypes: int64(1), object(1)\n",
      "memory usage: 1.4+ MB\n"
     ]
    }
   ],
   "source": [
    "reviews_train.info()"
   ]
  },
  {
   "cell_type": "code",
   "execution_count": 39,
   "metadata": {
    "colab": {
     "base_uri": "https://localhost:8080/",
     "height": 197
    },
    "id": "zg6jt7HAv2C0",
    "outputId": "1e462881-3a48-436f-f64f-40417f99cbcf"
   },
   "outputs": [
    {
     "data": {
      "text/html": [
       "<div>\n",
       "<style scoped>\n",
       "    .dataframe tbody tr th:only-of-type {\n",
       "        vertical-align: middle;\n",
       "    }\n",
       "\n",
       "    .dataframe tbody tr th {\n",
       "        vertical-align: top;\n",
       "    }\n",
       "\n",
       "    .dataframe thead th {\n",
       "        text-align: right;\n",
       "    }\n",
       "</style>\n",
       "<table border=\"1\" class=\"dataframe\">\n",
       "  <thead>\n",
       "    <tr style=\"text-align: right;\">\n",
       "      <th></th>\n",
       "      <th>review</th>\n",
       "      <th>label</th>\n",
       "    </tr>\n",
       "  </thead>\n",
       "  <tbody>\n",
       "    <tr>\n",
       "      <th>0</th>\n",
       "      <td>great product kid love good cooking buy store ...</td>\n",
       "      <td>1</td>\n",
       "    </tr>\n",
       "    <tr>\n",
       "      <th>1</th>\n",
       "      <td>wonderful texture great taste thank mr wei hel...</td>\n",
       "      <td>1</td>\n",
       "    </tr>\n",
       "    <tr>\n",
       "      <th>2</th>\n",
       "      <td>really work mask pill seen dog yet like either...</td>\n",
       "      <td>1</td>\n",
       "    </tr>\n",
       "    <tr>\n",
       "      <th>3</th>\n",
       "      <td>think thin changed packaging big deal unfortun...</td>\n",
       "      <td>0</td>\n",
       "    </tr>\n",
       "    <tr>\n",
       "      <th>4</th>\n",
       "      <td>worst coffee beverage ever grove square also c...</td>\n",
       "      <td>0</td>\n",
       "    </tr>\n",
       "  </tbody>\n",
       "</table>\n",
       "</div>"
      ],
      "text/plain": [
       "                                              review  label\n",
       "0  great product kid love good cooking buy store ...      1\n",
       "1  wonderful texture great taste thank mr wei hel...      1\n",
       "2  really work mask pill seen dog yet like either...      1\n",
       "3  think thin changed packaging big deal unfortun...      0\n",
       "4  worst coffee beverage ever grove square also c...      0"
      ]
     },
     "execution_count": 39,
     "metadata": {
      "tags": []
     },
     "output_type": "execute_result"
    }
   ],
   "source": [
    "reviews_train.head()  # total test records = 91185"
   ]
  },
  {
   "cell_type": "markdown",
   "metadata": {
    "id": "OMQuVd1yq9EG"
   },
   "source": [
    "### Test Data"
   ]
  },
  {
   "cell_type": "code",
   "execution_count": 40,
   "metadata": {
    "id": "SVia8I6P6QJt"
   },
   "outputs": [],
   "source": [
    "reviews_test = pd.read_csv('/home/gdrive/My Drive/test_set3.csv')"
   ]
  },
  {
   "cell_type": "code",
   "execution_count": 41,
   "metadata": {
    "colab": {
     "base_uri": "https://localhost:8080/"
    },
    "id": "ReFaJUBYbDES",
    "outputId": "47abd90c-440f-4bb5-f640-25e7224b1f7f"
   },
   "outputs": [
    {
     "data": {
      "text/plain": [
       "review    0\n",
       "label     0\n",
       "dtype: int64"
      ]
     },
     "execution_count": 41,
     "metadata": {
      "tags": []
     },
     "output_type": "execute_result"
    }
   ],
   "source": [
    "reviews_test.isna().sum()"
   ]
  },
  {
   "cell_type": "code",
   "execution_count": 42,
   "metadata": {
    "id": "4IrBgx_Xvazn"
   },
   "outputs": [],
   "source": [
    "#reviews_test.dropna(inplace = True)"
   ]
  },
  {
   "cell_type": "code",
   "execution_count": 43,
   "metadata": {
    "id": "tMGnXLlVvukd"
   },
   "outputs": [],
   "source": [
    "#reviews_test.isna().sum()"
   ]
  },
  {
   "cell_type": "code",
   "execution_count": 44,
   "metadata": {
    "colab": {
     "base_uri": "https://localhost:8080/"
    },
    "id": "MPEONDMU6QMz",
    "outputId": "91be1817-6fb9-4b61-b4d2-1e5d4411092c"
   },
   "outputs": [
    {
     "name": "stdout",
     "output_type": "stream",
     "text": [
      "<class 'pandas.core.frame.DataFrame'>\n",
      "RangeIndex: 22797 entries, 0 to 22796\n",
      "Data columns (total 2 columns):\n",
      " #   Column  Non-Null Count  Dtype \n",
      "---  ------  --------------  ----- \n",
      " 0   review  22797 non-null  object\n",
      " 1   label   22797 non-null  int64 \n",
      "dtypes: int64(1), object(1)\n",
      "memory usage: 356.3+ KB\n"
     ]
    }
   ],
   "source": [
    "reviews_test.info()"
   ]
  },
  {
   "cell_type": "code",
   "execution_count": 45,
   "metadata": {
    "colab": {
     "base_uri": "https://localhost:8080/",
     "height": 197
    },
    "id": "f4oc_uOO6QTI",
    "outputId": "96ea34c0-cc04-4018-af7d-a804e1eb4aba"
   },
   "outputs": [
    {
     "data": {
      "text/html": [
       "<div>\n",
       "<style scoped>\n",
       "    .dataframe tbody tr th:only-of-type {\n",
       "        vertical-align: middle;\n",
       "    }\n",
       "\n",
       "    .dataframe tbody tr th {\n",
       "        vertical-align: top;\n",
       "    }\n",
       "\n",
       "    .dataframe thead th {\n",
       "        text-align: right;\n",
       "    }\n",
       "</style>\n",
       "<table border=\"1\" class=\"dataframe\">\n",
       "  <thead>\n",
       "    <tr style=\"text-align: right;\">\n",
       "      <th></th>\n",
       "      <th>review</th>\n",
       "      <th>label</th>\n",
       "    </tr>\n",
       "  </thead>\n",
       "  <tbody>\n",
       "    <tr>\n",
       "      <th>0</th>\n",
       "      <td>received month ice cream club gift disappointe...</td>\n",
       "      <td>0</td>\n",
       "    </tr>\n",
       "    <tr>\n",
       "      <th>1</th>\n",
       "      <td>best year whether need also make good christma...</td>\n",
       "      <td>1</td>\n",
       "    </tr>\n",
       "    <tr>\n",
       "      <th>2</th>\n",
       "      <td>description give specification item would grea...</td>\n",
       "      <td>0</td>\n",
       "    </tr>\n",
       "    <tr>\n",
       "      <th>3</th>\n",
       "      <td>excellent flavor great choice looking taste ov...</td>\n",
       "      <td>1</td>\n",
       "    </tr>\n",
       "    <tr>\n",
       "      <th>4</th>\n",
       "      <td>read review purchased looking forward lasting ...</td>\n",
       "      <td>0</td>\n",
       "    </tr>\n",
       "  </tbody>\n",
       "</table>\n",
       "</div>"
      ],
      "text/plain": [
       "                                              review  label\n",
       "0  received month ice cream club gift disappointe...      0\n",
       "1  best year whether need also make good christma...      1\n",
       "2  description give specification item would grea...      0\n",
       "3  excellent flavor great choice looking taste ov...      1\n",
       "4  read review purchased looking forward lasting ...      0"
      ]
     },
     "execution_count": 45,
     "metadata": {
      "tags": []
     },
     "output_type": "execute_result"
    }
   ],
   "source": [
    "reviews_test.head() # total test records = 22797"
   ]
  },
  {
   "cell_type": "markdown",
   "metadata": {
    "id": "vdSA4ljdebML"
   },
   "source": [
    "### Combine Both Training and Testing Datasets into one Corpus of text data and then converting the text into vector"
   ]
  },
  {
   "cell_type": "code",
   "execution_count": 46,
   "metadata": {
    "colab": {
     "base_uri": "https://localhost:8080/"
    },
    "id": "MJ8VSl1Keiuo",
    "outputId": "3f37d07e-2dd9-4407-fe38-1e5f4f7f9c8e"
   },
   "outputs": [
    {
     "name": "stdout",
     "output_type": "stream",
     "text": [
      "Number of reviews in trained dataset 91185\n",
      "Number of reviews in training dataset 113982\n",
      "113982\n"
     ]
    }
   ],
   "source": [
    "corpus = []\n",
    "\n",
    "for i in range(len(reviews_train['review'])):\n",
    "  review = reviews_train['review'][i]\n",
    "  corpus.append(review)\n",
    "print(\"Number of reviews in trained dataset\", len(corpus)) # only training data first added to corpus\n",
    "num_train = len(corpus) # length of training data\n",
    "\n",
    "\n",
    "for i in range(len(reviews_test['review'])):\n",
    "  review = reviews_test['review'][i]\n",
    "  corpus.append(review)\n",
    "\n",
    "print(\"Number of reviews in training dataset\", len(corpus)) # combines training + test data (total data) to corpus\n",
    "num_test = len(corpus) - num_train # length of test data\n",
    "\n",
    "print(len(corpus))\n",
    "\n",
    "# Therefore: index 0-91185 (training data) & index 91186-113982 (test data)"
   ]
  },
  {
   "cell_type": "markdown",
   "metadata": {
    "id": "iOiRn96SjLR1"
   },
   "source": [
    "### Create Word2Vec Matrix"
   ]
  },
  {
   "cell_type": "code",
   "execution_count": 47,
   "metadata": {
    "id": "mp54JGXnjEQh"
   },
   "outputs": [],
   "source": [
    "from gensim.models import Word2Vec"
   ]
  },
  {
   "cell_type": "code",
   "execution_count": 48,
   "metadata": {
    "id": "SH9jAOPhje8B"
   },
   "outputs": [],
   "source": [
    "# Set values for various parameters\n",
    "num_features = 300    # Word vector dimensionality                      \n",
    "min_word_count = 4    # Minimum word count                        \n",
    "num_workers = 4       # Number of threads to run in parallel\n",
    "context = 10          # Context window size                                                                                    \n",
    "downsampling = 1e-3   # Downsample setting for frequent words\n",
    "\n",
    "#size = 300\n",
    "# Initialize and train the model only using training data (final_string)\n",
    "\n",
    "w2v_model = Word2Vec(sentences = corpus,size= 300)"
   ]
  },
  {
   "cell_type": "code",
   "execution_count": 49,
   "metadata": {
    "colab": {
     "base_uri": "https://localhost:8080/"
    },
    "id": "RZ_Pmq48lAlm",
    "outputId": "aa2f3942-babd-423b-f242-fb572f533377"
   },
   "outputs": [
    {
     "name": "stderr",
     "output_type": "stream",
     "text": [
      "/usr/local/lib/python3.6/dist-packages/ipykernel_launcher.py:2: DeprecationWarning: Call to deprecated `syn1neg` (Attribute will be removed in 4.0.0, use self.trainables.syn1neg instead).\n",
      "  \n"
     ]
    },
    {
     "data": {
      "text/plain": [
       "(27, 300)"
      ]
     },
     "execution_count": 49,
     "metadata": {
      "tags": []
     },
     "output_type": "execute_result"
    }
   ],
   "source": [
    "# get the shape of the word2vec embedding matrix\n",
    "w2v_model.syn1neg.shape"
   ]
  },
  {
   "cell_type": "markdown",
   "metadata": {
    "id": "KvAeXJmCgd3u"
   },
   "source": [
    "### Tokenize the whole corpus data"
   ]
  },
  {
   "cell_type": "code",
   "execution_count": 50,
   "metadata": {
    "id": "O0Rx0M5Qf_fJ"
   },
   "outputs": [],
   "source": [
    "# USING KERAS TOOLS FOR CONVERTING TEXTS TO FORMATS: RUN a Tokenizer using the top 12000 words as features, POST-PREPROCESSING OF TEXT\n",
    "from keras.preprocessing.text import Tokenizer\n",
    "from keras.preprocessing.sequence import pad_sequences\n",
    "from keras.utils import to_categorical\n",
    "\n",
    "MAX_FEATURES = 12000\n",
    "tokenizer = Tokenizer(num_words=MAX_FEATURES)\n",
    "tokenizer.fit_on_texts(corpus)\n",
    "\n",
    "vocab_size = len(tokenizer.word_index) + 1\n",
    "\n",
    "tokened_corpus = tokenizer.texts_to_sequences(corpus)"
   ]
  },
  {
   "cell_type": "code",
   "execution_count": 51,
   "metadata": {
    "colab": {
     "base_uri": "https://localhost:8080/"
    },
    "id": "ZnGC81kug9Wu",
    "outputId": "2da37a9c-b6d3-48fd-d8bb-051277bd60c1"
   },
   "outputs": [
    {
     "name": "stdout",
     "output_type": "stream",
     "text": [
      "[10, 3, 221, 12, 6, 428, 20, 37, 219, 188, 461, 103, 103, 6, 289]\n",
      "15\n",
      "60324\n"
     ]
    }
   ],
   "source": [
    "print(tokened_corpus[0]) \n",
    "print(len(tokened_corpus[0]))\n",
    "\n",
    "print(vocab_size)"
   ]
  },
  {
   "cell_type": "markdown",
   "metadata": {
    "id": "Bh20Qz_HkiLF"
   },
   "source": [
    "### Create Embedding Matrix for Corpus Using Word2Vec\n",
    "\n",
    "https://www.programcreek.com/python/?CodeExample=get%20embedding%20matrix\n",
    "\n",
    "https://jjallaire.github.io/deep-learning-with-r-notebooks/notebooks/6.1-using-word-embeddings.nb.html\n",
    "\n",
    "https://gdcoder.com/what-is-an-embedding-layer/\n",
    "\n",
    "https://blog.keras.io/using-pre-trained-word-embeddings-in-a-keras-model.html"
   ]
  },
  {
   "cell_type": "code",
   "execution_count": 60,
   "metadata": {
    "id": "bR5_wA-HkcBp"
   },
   "outputs": [],
   "source": [
    "# create a embedding matrix for words that are in our combined train and test data\n",
    "from numpy import zeros\n",
    "from gensim.models import KeyedVectors\n",
    "\n",
    "embedding_matrix = zeros((vocab_size, 300)) # embed_size = 300 too small so use 1500 instead?\n",
    "\n",
    "for word, i in tokenizer.word_index.items():\n",
    "  if word in w2v_model.wv:\n",
    "    embedding_vector = w2v_model.wv[word] \n",
    "  #if word in w2v_model.wv:      # check if the word is in the word2vec vocab\n",
    "    #embedding_vector = w2v_model.wv[word].get(word)# if yes, then add to embedding vector\n",
    "  if embedding_vector is not None: # word is in vocav learned by word2vec model\n",
    "    embedding_matrix[i] = embedding_vector #if word is not found then embedding vector corresponding to that vector will stay zero"
   ]
  },
  {
   "cell_type": "code",
   "execution_count": 61,
   "metadata": {
    "colab": {
     "base_uri": "https://localhost:8080/"
    },
    "id": "2r-8WRDAk62X",
    "outputId": "ca7a8890-df25-41aa-c404-f245b62dbdef"
   },
   "outputs": [
    {
     "data": {
      "text/plain": [
       "(60324, 300)"
      ]
     },
     "execution_count": 61,
     "metadata": {
      "tags": []
     },
     "output_type": "execute_result"
    }
   ],
   "source": [
    "# check the shape of the new embedding matrix\n",
    "embedding_matrix.shape"
   ]
  },
  {
   "cell_type": "code",
   "execution_count": 62,
   "metadata": {
    "colab": {
     "base_uri": "https://localhost:8080/"
    },
    "id": "mfNUyx8QpucO",
    "outputId": "43e3210b-e895-4558-8d94-fbff5c90861b"
   },
   "outputs": [
    {
     "name": "stdout",
     "output_type": "stream",
     "text": [
      "[-5.46189137e-02 -4.68912162e-02  5.57293929e-02 -3.13567549e-01\n",
      " -1.95936203e-01  1.81713864e-01 -2.09030151e-01 -4.34218235e-02\n",
      "  2.92321920e-01  1.69093497e-02 -1.44047499e-01  2.22198237e-02\n",
      " -1.62296612e-02  3.50672364e-01 -5.10755219e-02 -1.66118070e-01\n",
      " -1.46687701e-01  3.50952474e-03  5.36353253e-02  2.71287956e-03\n",
      " -3.12871158e-01 -2.10546359e-01  4.19280641e-02 -1.58995565e-03\n",
      " -3.28889340e-01 -2.21481606e-01 -6.34755641e-02  1.79600284e-01\n",
      " -1.87404618e-01  5.35867959e-02 -5.29254824e-02 -4.00898941e-02\n",
      " -1.97423846e-01  3.08969736e-01  1.63269907e-01 -1.60739690e-01\n",
      " -4.66797203e-01  3.12889159e-01 -1.26704156e-01  2.41227210e-01\n",
      " -1.16399415e-01  2.71447569e-01 -8.69302899e-02  5.58016263e-02\n",
      "  3.16206515e-02  8.14128146e-02 -7.03214407e-02  1.98231384e-01\n",
      "  1.42275468e-01  4.31462526e-02 -1.04637578e-01 -3.02011762e-02\n",
      " -7.63651058e-02  7.11790845e-02  1.47278577e-01 -1.70239527e-02\n",
      "  2.72472262e-01  2.27570295e-01  3.31337541e-01 -1.64590999e-01\n",
      " -7.22527504e-02 -2.01405331e-01 -1.81251556e-01  2.22679958e-01\n",
      " -8.09053332e-02  1.07221834e-01  4.30895612e-02  1.07113391e-01\n",
      "  2.32867867e-01  7.89792165e-02  2.36024037e-02 -3.98786515e-02\n",
      " -2.93256324e-02 -3.64349829e-03  3.70404348e-02  1.85262233e-01\n",
      "  1.07431158e-01  1.71855822e-01  2.03229383e-01  2.69934628e-03\n",
      " -3.78094986e-02 -1.59339875e-01  6.26034737e-02 -1.28338588e-02\n",
      "  3.36950645e-02 -8.00147559e-03 -7.31037790e-03  5.36044389e-02\n",
      " -2.71738291e-01 -1.20979920e-01 -4.98123169e-02 -1.37045473e-01\n",
      " -8.13352168e-02  1.20587111e-01 -1.51685536e-01 -4.66947854e-02\n",
      " -2.09332705e-01 -1.19474813e-01 -5.30266240e-02 -1.36033401e-01\n",
      "  9.92552638e-02  1.28628299e-01 -5.69179617e-02  4.38376129e-01\n",
      "  2.01074660e-01  8.32174197e-02  2.74089780e-02 -6.98509812e-02\n",
      "  2.92889446e-01  8.40782002e-02  4.39808369e-02  8.39415565e-02\n",
      "  1.10818975e-01 -1.29690826e-01  7.65167922e-02 -1.11698993e-01\n",
      "  7.13774050e-03  2.66626552e-02 -2.63131976e-01  7.49576464e-02\n",
      "  1.18929975e-01  1.80999693e-02  2.93736041e-01 -1.01479776e-01\n",
      " -1.59313500e-01  1.82636857e-01  1.33546397e-01 -1.72872648e-01\n",
      "  1.15714036e-01 -1.72254983e-02 -4.24302816e-02 -7.02500995e-03\n",
      " -6.26886613e-04 -2.04993457e-01 -8.76334682e-02 -1.20156266e-01\n",
      " -1.77094489e-01  6.55205920e-02  1.90746803e-02  1.66123193e-02\n",
      "  9.40354243e-02 -6.39387369e-02 -2.33844489e-01  1.50426021e-02\n",
      "  1.43588573e-01 -3.05890530e-01  2.23396588e-02  1.94058582e-01\n",
      " -5.04821399e-03 -2.57916093e-01  9.21004340e-02  6.10955656e-02\n",
      "  3.58335339e-02  1.63258582e-01  7.35116377e-02  4.45521697e-02\n",
      "  2.68953383e-01  5.84586151e-02  1.39764175e-01 -1.49896413e-01\n",
      "  3.23796213e-01 -9.87655595e-02  1.01727219e-02  2.85423137e-02\n",
      " -4.64380533e-02 -1.37790665e-01 -9.18252468e-02  1.44581720e-01\n",
      " -1.01298233e-02  2.52776258e-02  3.65559161e-02  1.43848568e-01\n",
      "  6.00500181e-02  1.91313475e-01  6.00059703e-02 -4.57722917e-02\n",
      "  2.35272378e-01 -9.54203904e-02  1.15559928e-01 -8.19045976e-02\n",
      " -4.86531146e-02 -1.36629537e-01  1.88744918e-01 -1.47789657e-01\n",
      " -9.24499929e-02 -2.21032068e-01 -2.62670904e-01 -7.59570003e-02\n",
      " -2.28885040e-02 -9.56612676e-02 -1.34492695e-01 -3.14600587e-01\n",
      "  2.12051898e-01 -1.83912978e-01 -1.10552892e-01  1.84397057e-01\n",
      "  1.32339016e-01 -2.23522950e-02 -7.88783059e-02 -2.63001248e-02\n",
      " -1.02564571e-02 -2.01639323e-03  1.26273423e-01 -6.58024251e-02\n",
      " -1.70836169e-02 -1.56512603e-01 -3.46366204e-02 -4.98594716e-03\n",
      " -5.18314764e-02 -4.16871719e-02  9.57083330e-02  1.85006931e-01\n",
      "  1.53717801e-01  8.80427733e-02 -7.76750222e-02 -1.73935637e-01\n",
      " -9.28309634e-02 -3.07179075e-02 -1.58103406e-01  2.37215851e-02\n",
      " -2.20195204e-01 -2.92160688e-03 -9.30004492e-02 -2.41658352e-02\n",
      "  1.56273637e-02  5.49369007e-02 -9.71200317e-02  2.11184807e-02\n",
      " -3.23904455e-02 -5.12512662e-02 -3.04178417e-01  6.88190982e-02\n",
      "  1.35004863e-01  2.46248722e-01  1.43671080e-01  2.84849964e-02\n",
      " -1.15217075e-01 -2.92223990e-01 -1.75280981e-02 -1.95535675e-01\n",
      " -1.85500886e-02  3.65128815e-02  1.43466204e-01  2.08136030e-02\n",
      "  2.56218493e-01  4.90007326e-02 -1.19144104e-01 -1.90804973e-01\n",
      "  1.40573204e-01 -8.92690495e-02  6.14510961e-02 -2.89708432e-02\n",
      " -7.32702715e-03 -1.36719823e-01 -6.92963222e-05 -1.01130277e-01\n",
      "  6.54510781e-02 -1.26663059e-01  3.53462726e-01  2.55360659e-02\n",
      "  4.09278162e-02 -2.58341849e-01 -1.86127931e-01  3.35282236e-02\n",
      "  2.17921332e-01 -7.22432137e-02 -1.20636441e-01  2.60957599e-01\n",
      " -5.55134974e-02 -5.83897233e-01 -1.12990461e-01 -6.81635812e-02\n",
      "  2.83091336e-01  1.81700081e-01 -1.75188929e-01  2.95237638e-02\n",
      " -1.54074468e-02 -2.70247102e-01 -4.24115770e-02 -2.15576828e-01\n",
      " -4.51711379e-02 -1.89865842e-01  3.96363288e-01 -5.95584363e-02\n",
      " -6.27145618e-02  1.25300214e-01 -1.45057231e-01  2.87921071e-01\n",
      "  2.89511621e-01 -4.42097411e-02  2.48936385e-01  5.40763326e-02\n",
      " -2.69926846e-01 -3.63518596e-02 -6.00543879e-02  1.18105359e-01\n",
      " -3.09678555e-01  1.01066761e-01  5.16853780e-02  8.97732601e-02]\n",
      "300\n"
     ]
    }
   ],
   "source": [
    "print(embedding_vector)\n",
    "print(len(embedding_vector))"
   ]
  },
  {
   "cell_type": "code",
   "execution_count": 63,
   "metadata": {
    "colab": {
     "base_uri": "https://localhost:8080/"
    },
    "id": "CiwD6TxSnU0A",
    "outputId": "da1e34bc-8b6b-4aab-f22e-d9f8ad535ca2"
   },
   "outputs": [
    {
     "name": "stdout",
     "output_type": "stream",
     "text": [
      "[[ 0.          0.          0.         ...  0.          0.\n",
      "   0.        ]\n",
      " [-0.05461891 -0.04689122  0.05572939 ...  0.10106676  0.05168538\n",
      "   0.08977326]\n",
      " [-0.05461891 -0.04689122  0.05572939 ...  0.10106676  0.05168538\n",
      "   0.08977326]\n",
      " ...\n",
      " [-0.05461891 -0.04689122  0.05572939 ...  0.10106676  0.05168538\n",
      "   0.08977326]\n",
      " [-0.05461891 -0.04689122  0.05572939 ...  0.10106676  0.05168538\n",
      "   0.08977326]\n",
      " [-0.05461891 -0.04689122  0.05572939 ...  0.10106676  0.05168538\n",
      "   0.08977326]]\n",
      "60324\n"
     ]
    }
   ],
   "source": [
    "print(embedding_matrix)\n",
    "print(len(embedding_matrix))"
   ]
  },
  {
   "cell_type": "code",
   "execution_count": 56,
   "metadata": {
    "id": "w8xpwyjdnroG"
   },
   "outputs": [],
   "source": [
    "# Tell me what words are most similar to the word 'good'?\n",
    "#w2v_model.most_similar('good')"
   ]
  },
  {
   "cell_type": "code",
   "execution_count": 57,
   "metadata": {
    "id": "F0n3BATCnrtj"
   },
   "outputs": [],
   "source": [
    "#This is how to access the embedding vector for a given word\n",
    "\n",
    "#w2v_model.wv['awesome']"
   ]
  },
  {
   "cell_type": "markdown",
   "metadata": {
    "id": "oQHNBbTQhQLc"
   },
   "source": [
    "### Padding Sequences"
   ]
  },
  {
   "cell_type": "code",
   "execution_count": 64,
   "metadata": {
    "colab": {
     "base_uri": "https://localhost:8080/"
    },
    "id": "GX7RhNJihEw1",
    "outputId": "685bf122-7163-4390-e44d-75e80bddaae4"
   },
   "outputs": [
    {
     "name": "stdout",
     "output_type": "stream",
     "text": [
      "1442\n",
      "Number of reviews in train data after padding sequences:  91185\n",
      "Number of reviews in test data after padding sequences:  22797\n",
      "Number of labels in train data:  91185\n",
      "Number of labels in test data:  22797\n"
     ]
    }
   ],
   "source": [
    "# PADDING SEQUENCES\n",
    "#In order to use batches effectively, we need to take these sequences and turn them into sequences of the same length. \n",
    "# In this case we can make everything here the length of the longest sentence in the training set. \n",
    "\n",
    "# Padd whole corpus data\n",
    "MAX_LENGTH = max(len(train_ex) for train_ex in tokened_corpus)\n",
    "\n",
    "print(MAX_LENGTH) # max sequence length\n",
    "corpus_padded = pad_sequences(tokened_corpus, maxlen=MAX_LENGTH)\n",
    "\n",
    "\n",
    "# Split word embedded padded data into train and test\n",
    "X_train_padded = corpus_padded[:num_train] #index 0-91185 (training data)\n",
    "X_test_padded = corpus_padded[num_train:] #index 91186-113982 (test data)\n",
    "\n",
    "# Therefore: index 0-91185 (training data) & index 91186-113982 (test data)\n",
    "\n",
    "print(\"Number of reviews in train data after padding sequences: \",len(X_train_padded))\n",
    "print(\"Number of reviews in test data after padding sequences: \",len(X_test_padded))\n",
    "\n",
    "# Prepare labels for train and test also\n",
    "y_train = reviews_train['label']\n",
    "y_test = reviews_test['label']\n",
    "\n",
    "print(\"Number of labels in train data: \",len(y_train))\n",
    "print(\"Number of labels in test data: \",len(y_test))\n",
    "\n"
   ]
  },
  {
   "cell_type": "markdown",
   "metadata": {
    "id": "sFS210DdLiEP"
   },
   "source": [
    "### CNN Model Using W2V Word Embedding"
   ]
  },
  {
   "cell_type": "code",
   "execution_count": 91,
   "metadata": {
    "id": "OYWUDOOFrZJU"
   },
   "outputs": [],
   "source": [
    "from keras.models import Sequential\n",
    "from keras.layers import Dense\n",
    "from keras.layers import Flatten\n",
    "from keras.layers import Embedding\n",
    "from keras.optimizers import Adam\n",
    "from keras.layers import BatchNormalization, Flatten, Conv1D, MaxPooling1D, GlobalMaxPool1D, Activation\n",
    "from keras.layers import Dropout\n",
    "from keras.callbacks import EarlyStopping, ModelCheckpoint, ReduceLROnPlateau\n",
    "\n",
    "from tensorflow.python.keras import models, layers, optimizers\n",
    "import tensorflow\n",
    "\n",
    "from keras.models import Sequential\n",
    "from keras.layers import Dense, Dropout\n",
    "from keras.layers import Flatten\n",
    "from keras.layers.embeddings import Embedding\n",
    "\n",
    "# input_dim = vocab_size = 60324\n",
    "# input_length = MAX_LENGTH = 1442\n",
    "# MAX_FEATURES = 12000\n",
    "# output_dim = 300"
   ]
  },
  {
   "cell_type": "code",
   "execution_count": 92,
   "metadata": {
    "id": "XRwwi7Cuu5ud"
   },
   "outputs": [],
   "source": [
    "def build_model():\n",
    "    sequences = layers.Input(shape=(MAX_LENGTH,))\n",
    "    embedded = layers.Embedding(input_dim = vocab_size, output_dim = 300, weights=[embedding_matrix], input_length=MAX_LENGTH, trainable = True)(sequences)\n",
    "    x = layers.Conv1D(64, 3, activation='relu')(embedded)\n",
    "    x = layers.BatchNormalization()(x)\n",
    "    x = layers.MaxPool1D(3)(x)\n",
    "    x = layers.Conv1D(64, 5, activation='relu')(x)\n",
    "    x = layers.BatchNormalization()(x)\n",
    "    x = layers.MaxPool1D(5)(x)\n",
    "    x = layers.Conv1D(64, 5, activation='relu')(x)\n",
    "    x = layers.GlobalMaxPool1D()(x)\n",
    "    x = layers.Flatten()(x)\n",
    "    x = layers.Dense(100, activation='relu')(x)\n",
    "    predictions = layers.Dense(1, activation='sigmoid')(x)\n",
    "    model = models.Model(inputs=sequences, outputs=predictions)\n",
    "    model.compile(\n",
    "        optimizer='adam',\n",
    "        loss='binary_crossentropy',\n",
    "        metrics=['accuracy']\n",
    "    )\n",
    "    return model\n",
    "    \n",
    "model = build_model()"
   ]
  },
  {
   "cell_type": "code",
   "execution_count": 93,
   "metadata": {
    "colab": {
     "base_uri": "https://localhost:8080/"
    },
    "id": "hdWcvyMdLypu",
    "outputId": "e4b6f96c-321c-466a-c8d0-abbf103ee43e"
   },
   "outputs": [
    {
     "name": "stdout",
     "output_type": "stream",
     "text": [
      "Epoch 1/5\n",
      "570/570 [==============================] - 180s 316ms/step - loss: 0.5435 - accuracy: 0.7014 - val_loss: 0.4087 - val_accuracy: 0.8213\n",
      "Epoch 2/5\n",
      "570/570 [==============================] - 177s 310ms/step - loss: 0.3129 - accuracy: 0.8666 - val_loss: 0.3402 - val_accuracy: 0.8564\n",
      "Epoch 3/5\n",
      "570/570 [==============================] - 178s 312ms/step - loss: 0.2595 - accuracy: 0.8939 - val_loss: 0.3390 - val_accuracy: 0.8557\n",
      "Epoch 4/5\n",
      "570/570 [==============================] - 178s 312ms/step - loss: 0.2156 - accuracy: 0.9157 - val_loss: 0.3632 - val_accuracy: 0.8543\n",
      "Epoch 5/5\n",
      "570/570 [==============================] - 177s 310ms/step - loss: 0.1629 - accuracy: 0.9371 - val_loss: 0.4081 - val_accuracy: 0.8498\n"
     ]
    },
    {
     "data": {
      "text/plain": [
       "<tensorflow.python.keras.callbacks.History at 0x7f0fe016bd30>"
      ]
     },
     "execution_count": 93,
     "metadata": {
      "tags": []
     },
     "output_type": "execute_result"
    }
   ],
   "source": [
    "model.fit(X_train_padded, y_train, batch_size=128, epochs=5, validation_split = 0.2)"
   ]
  },
  {
   "cell_type": "code",
   "execution_count": 96,
   "metadata": {
    "colab": {
     "base_uri": "https://localhost:8080/"
    },
    "id": "WbJtSNcGL1Df",
    "outputId": "d46e654d-7bdb-49a7-9747-d75460803140"
   },
   "outputs": [
    {
     "name": "stdout",
     "output_type": "stream",
     "text": [
      "Accuracy score: 0.8485\n",
      "F1 score: 0.8432\n",
      "ROC AUC score: 0.923\n"
     ]
    }
   ],
   "source": [
    "from sklearn.metrics import f1_score, roc_auc_score, accuracy_score\n",
    "import re\n",
    "\n",
    "preds = model.predict(X_test_padded)\n",
    "print('Accuracy score: {:0.4}'.format(accuracy_score(y_test, 1 * (preds > 0.5))))\n",
    "print('F1 score: {:0.4}'.format(f1_score(y_test, 1 * (preds > 0.5))))\n",
    "print('ROC AUC score: {:0.4}'.format(roc_auc_score(y_test, preds)))"
   ]
  },
  {
   "cell_type": "code",
   "execution_count": 97,
   "metadata": {
    "colab": {
     "base_uri": "https://localhost:8080/"
    },
    "id": "OOy8PKlvbjYp",
    "outputId": "8248d50a-cb2a-41d6-952f-9fe086603c79"
   },
   "outputs": [
    {
     "name": "stdout",
     "output_type": "stream",
     "text": [
      "Test Accuracy: 84.848881\n"
     ]
    }
   ],
   "source": [
    "# evaluate\n",
    "loss, acc = model.evaluate(X_test_padded, y_test, verbose=0)\n",
    "print('Test Accuracy: %f' % (acc*100))"
   ]
  },
  {
   "cell_type": "code",
   "execution_count": null,
   "metadata": {
    "id": "XWQSaJhfzZG4"
   },
   "outputs": [],
   "source": []
  }
 ],
 "metadata": {
  "accelerator": "GPU",
  "colab": {
   "collapsed_sections": [],
   "name": "CNN_Word2Vec_New.ipynb",
   "provenance": []
  },
  "kernelspec": {
   "display_name": "Python 3",
   "language": "python",
   "name": "python3"
  },
  "language_info": {
   "codemirror_mode": {
    "name": "ipython",
    "version": 3
   },
   "file_extension": ".py",
   "mimetype": "text/x-python",
   "name": "python",
   "nbconvert_exporter": "python",
   "pygments_lexer": "ipython3",
   "version": "3.7.5"
  }
 },
 "nbformat": 4,
 "nbformat_minor": 1
}
