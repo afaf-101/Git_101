{
 "cells": [
  {
   "cell_type": "markdown",
   "id": "overhead-volunteer",
   "metadata": {
    "papermill": {
     "duration": 0.128845,
     "end_time": "2021-06-26T21:26:40.615437",
     "exception": false,
     "start_time": "2021-06-26T21:26:40.486592",
     "status": "completed"
    },
    "tags": []
   },
   "source": [
    "## Titanic Kaggle Competition - Individual Project"
   ]
  },
  {
   "cell_type": "markdown",
   "id": "prescription-duration",
   "metadata": {
    "papermill": {
     "duration": 0.116903,
     "end_time": "2021-06-26T21:26:40.859179",
     "exception": false,
     "start_time": "2021-06-26T21:26:40.742276",
     "status": "completed"
    },
    "tags": []
   },
   "source": [
    "# Part 1A: Exploratory Analysis of Titanic Dataset On Training Data"
   ]
  },
  {
   "cell_type": "code",
   "execution_count": 1,
   "id": "corporate-headline",
   "metadata": {
    "execution": {
     "iopub.execute_input": "2021-06-26T21:26:41.093194Z",
     "iopub.status.busy": "2021-06-26T21:26:41.092016Z",
     "iopub.status.idle": "2021-06-26T21:26:42.114460Z",
     "shell.execute_reply": "2021-06-26T21:26:42.113743Z",
     "shell.execute_reply.started": "2021-06-26T21:25:23.171622Z"
    },
    "papermill": {
     "duration": 1.135101,
     "end_time": "2021-06-26T21:26:42.114634",
     "exception": false,
     "start_time": "2021-06-26T21:26:40.979533",
     "status": "completed"
    },
    "tags": []
   },
   "outputs": [],
   "source": [
    "import numpy as np\n",
    "import pandas as pd \n",
    "import matplotlib.pyplot as plt\n",
    "import seaborn as sns"
   ]
  },
  {
   "cell_type": "code",
   "execution_count": 2,
   "id": "equal-breakdown",
   "metadata": {
    "execution": {
     "iopub.execute_input": "2021-06-26T21:26:42.335120Z",
     "iopub.status.busy": "2021-06-26T21:26:42.334332Z",
     "iopub.status.idle": "2021-06-26T21:26:42.362431Z",
     "shell.execute_reply": "2021-06-26T21:26:42.361703Z",
     "shell.execute_reply.started": "2021-06-26T21:25:23.182082Z"
    },
    "papermill": {
     "duration": 0.141005,
     "end_time": "2021-06-26T21:26:42.362586",
     "exception": false,
     "start_time": "2021-06-26T21:26:42.221581",
     "status": "completed"
    },
    "tags": []
   },
   "outputs": [],
   "source": [
    "train = pd.read_csv('../input/titanic/train.csv') # Train Data"
   ]
  },
  {
   "cell_type": "code",
   "execution_count": 3,
   "id": "authorized-carrier",
   "metadata": {
    "execution": {
     "iopub.execute_input": "2021-06-26T21:26:42.622135Z",
     "iopub.status.busy": "2021-06-26T21:26:42.621126Z",
     "iopub.status.idle": "2021-06-26T21:26:42.647908Z",
     "shell.execute_reply": "2021-06-26T21:26:42.647329Z",
     "shell.execute_reply.started": "2021-06-26T21:25:23.217713Z"
    },
    "papermill": {
     "duration": 0.1755,
     "end_time": "2021-06-26T21:26:42.648065",
     "exception": false,
     "start_time": "2021-06-26T21:26:42.472565",
     "status": "completed"
    },
    "tags": []
   },
   "outputs": [
    {
     "data": {
      "text/html": [
       "<div>\n",
       "<style scoped>\n",
       "    .dataframe tbody tr th:only-of-type {\n",
       "        vertical-align: middle;\n",
       "    }\n",
       "\n",
       "    .dataframe tbody tr th {\n",
       "        vertical-align: top;\n",
       "    }\n",
       "\n",
       "    .dataframe thead th {\n",
       "        text-align: right;\n",
       "    }\n",
       "</style>\n",
       "<table border=\"1\" class=\"dataframe\">\n",
       "  <thead>\n",
       "    <tr style=\"text-align: right;\">\n",
       "      <th></th>\n",
       "      <th>PassengerId</th>\n",
       "      <th>Survived</th>\n",
       "      <th>Pclass</th>\n",
       "      <th>Name</th>\n",
       "      <th>Sex</th>\n",
       "      <th>Age</th>\n",
       "      <th>SibSp</th>\n",
       "      <th>Parch</th>\n",
       "      <th>Ticket</th>\n",
       "      <th>Fare</th>\n",
       "      <th>Cabin</th>\n",
       "      <th>Embarked</th>\n",
       "    </tr>\n",
       "  </thead>\n",
       "  <tbody>\n",
       "    <tr>\n",
       "      <th>0</th>\n",
       "      <td>1</td>\n",
       "      <td>0</td>\n",
       "      <td>3</td>\n",
       "      <td>Braund, Mr. Owen Harris</td>\n",
       "      <td>male</td>\n",
       "      <td>22.0</td>\n",
       "      <td>1</td>\n",
       "      <td>0</td>\n",
       "      <td>A/5 21171</td>\n",
       "      <td>7.2500</td>\n",
       "      <td>NaN</td>\n",
       "      <td>S</td>\n",
       "    </tr>\n",
       "    <tr>\n",
       "      <th>1</th>\n",
       "      <td>2</td>\n",
       "      <td>1</td>\n",
       "      <td>1</td>\n",
       "      <td>Cumings, Mrs. John Bradley (Florence Briggs Th...</td>\n",
       "      <td>female</td>\n",
       "      <td>38.0</td>\n",
       "      <td>1</td>\n",
       "      <td>0</td>\n",
       "      <td>PC 17599</td>\n",
       "      <td>71.2833</td>\n",
       "      <td>C85</td>\n",
       "      <td>C</td>\n",
       "    </tr>\n",
       "    <tr>\n",
       "      <th>2</th>\n",
       "      <td>3</td>\n",
       "      <td>1</td>\n",
       "      <td>3</td>\n",
       "      <td>Heikkinen, Miss. Laina</td>\n",
       "      <td>female</td>\n",
       "      <td>26.0</td>\n",
       "      <td>0</td>\n",
       "      <td>0</td>\n",
       "      <td>STON/O2. 3101282</td>\n",
       "      <td>7.9250</td>\n",
       "      <td>NaN</td>\n",
       "      <td>S</td>\n",
       "    </tr>\n",
       "    <tr>\n",
       "      <th>3</th>\n",
       "      <td>4</td>\n",
       "      <td>1</td>\n",
       "      <td>1</td>\n",
       "      <td>Futrelle, Mrs. Jacques Heath (Lily May Peel)</td>\n",
       "      <td>female</td>\n",
       "      <td>35.0</td>\n",
       "      <td>1</td>\n",
       "      <td>0</td>\n",
       "      <td>113803</td>\n",
       "      <td>53.1000</td>\n",
       "      <td>C123</td>\n",
       "      <td>S</td>\n",
       "    </tr>\n",
       "    <tr>\n",
       "      <th>4</th>\n",
       "      <td>5</td>\n",
       "      <td>0</td>\n",
       "      <td>3</td>\n",
       "      <td>Allen, Mr. William Henry</td>\n",
       "      <td>male</td>\n",
       "      <td>35.0</td>\n",
       "      <td>0</td>\n",
       "      <td>0</td>\n",
       "      <td>373450</td>\n",
       "      <td>8.0500</td>\n",
       "      <td>NaN</td>\n",
       "      <td>S</td>\n",
       "    </tr>\n",
       "  </tbody>\n",
       "</table>\n",
       "</div>"
      ],
      "text/plain": [
       "   PassengerId  Survived  Pclass  \\\n",
       "0            1         0       3   \n",
       "1            2         1       1   \n",
       "2            3         1       3   \n",
       "3            4         1       1   \n",
       "4            5         0       3   \n",
       "\n",
       "                                                Name     Sex   Age  SibSp  \\\n",
       "0                            Braund, Mr. Owen Harris    male  22.0      1   \n",
       "1  Cumings, Mrs. John Bradley (Florence Briggs Th...  female  38.0      1   \n",
       "2                             Heikkinen, Miss. Laina  female  26.0      0   \n",
       "3       Futrelle, Mrs. Jacques Heath (Lily May Peel)  female  35.0      1   \n",
       "4                           Allen, Mr. William Henry    male  35.0      0   \n",
       "\n",
       "   Parch            Ticket     Fare Cabin Embarked  \n",
       "0      0         A/5 21171   7.2500   NaN        S  \n",
       "1      0          PC 17599  71.2833   C85        C  \n",
       "2      0  STON/O2. 3101282   7.9250   NaN        S  \n",
       "3      0            113803  53.1000  C123        S  \n",
       "4      0            373450   8.0500   NaN        S  "
      ]
     },
     "execution_count": 3,
     "metadata": {},
     "output_type": "execute_result"
    }
   ],
   "source": [
    "train.head()"
   ]
  },
  {
   "cell_type": "code",
   "execution_count": 4,
   "id": "constant-logan",
   "metadata": {
    "execution": {
     "iopub.execute_input": "2021-06-26T21:26:42.918654Z",
     "iopub.status.busy": "2021-06-26T21:26:42.917755Z",
     "iopub.status.idle": "2021-06-26T21:26:42.922366Z",
     "shell.execute_reply": "2021-06-26T21:26:42.921753Z",
     "shell.execute_reply.started": "2021-06-26T21:25:23.305494Z"
    },
    "papermill": {
     "duration": 0.144853,
     "end_time": "2021-06-26T21:26:42.922506",
     "exception": false,
     "start_time": "2021-06-26T21:26:42.777653",
     "status": "completed"
    },
    "tags": []
   },
   "outputs": [
    {
     "name": "stdout",
     "output_type": "stream",
     "text": [
      "<class 'pandas.core.frame.DataFrame'>\n",
      "RangeIndex: 891 entries, 0 to 890\n",
      "Data columns (total 12 columns):\n",
      " #   Column       Non-Null Count  Dtype  \n",
      "---  ------       --------------  -----  \n",
      " 0   PassengerId  891 non-null    int64  \n",
      " 1   Survived     891 non-null    int64  \n",
      " 2   Pclass       891 non-null    int64  \n",
      " 3   Name         891 non-null    object \n",
      " 4   Sex          891 non-null    object \n",
      " 5   Age          714 non-null    float64\n",
      " 6   SibSp        891 non-null    int64  \n",
      " 7   Parch        891 non-null    int64  \n",
      " 8   Ticket       891 non-null    object \n",
      " 9   Fare         891 non-null    float64\n",
      " 10  Cabin        204 non-null    object \n",
      " 11  Embarked     889 non-null    object \n",
      "dtypes: float64(2), int64(5), object(5)\n",
      "memory usage: 83.7+ KB\n"
     ]
    }
   ],
   "source": [
    "train.info()"
   ]
  },
  {
   "cell_type": "code",
   "execution_count": 5,
   "id": "cleared-popularity",
   "metadata": {
    "execution": {
     "iopub.execute_input": "2021-06-26T21:26:43.153195Z",
     "iopub.status.busy": "2021-06-26T21:26:43.152237Z",
     "iopub.status.idle": "2021-06-26T21:26:43.192071Z",
     "shell.execute_reply": "2021-06-26T21:26:43.191491Z",
     "shell.execute_reply.started": "2021-06-26T21:25:23.341448Z"
    },
    "papermill": {
     "duration": 0.15363,
     "end_time": "2021-06-26T21:26:43.192216",
     "exception": false,
     "start_time": "2021-06-26T21:26:43.038586",
     "status": "completed"
    },
    "tags": []
   },
   "outputs": [
    {
     "data": {
      "text/html": [
       "<div>\n",
       "<style scoped>\n",
       "    .dataframe tbody tr th:only-of-type {\n",
       "        vertical-align: middle;\n",
       "    }\n",
       "\n",
       "    .dataframe tbody tr th {\n",
       "        vertical-align: top;\n",
       "    }\n",
       "\n",
       "    .dataframe thead th {\n",
       "        text-align: right;\n",
       "    }\n",
       "</style>\n",
       "<table border=\"1\" class=\"dataframe\">\n",
       "  <thead>\n",
       "    <tr style=\"text-align: right;\">\n",
       "      <th></th>\n",
       "      <th>PassengerId</th>\n",
       "      <th>Survived</th>\n",
       "      <th>Pclass</th>\n",
       "      <th>Age</th>\n",
       "      <th>SibSp</th>\n",
       "      <th>Parch</th>\n",
       "      <th>Fare</th>\n",
       "    </tr>\n",
       "  </thead>\n",
       "  <tbody>\n",
       "    <tr>\n",
       "      <th>count</th>\n",
       "      <td>891.00</td>\n",
       "      <td>891.00</td>\n",
       "      <td>891.00</td>\n",
       "      <td>714.00</td>\n",
       "      <td>891.00</td>\n",
       "      <td>891.00</td>\n",
       "      <td>891.00</td>\n",
       "    </tr>\n",
       "    <tr>\n",
       "      <th>mean</th>\n",
       "      <td>446.00</td>\n",
       "      <td>0.38</td>\n",
       "      <td>2.31</td>\n",
       "      <td>29.70</td>\n",
       "      <td>0.52</td>\n",
       "      <td>0.38</td>\n",
       "      <td>32.20</td>\n",
       "    </tr>\n",
       "    <tr>\n",
       "      <th>std</th>\n",
       "      <td>257.35</td>\n",
       "      <td>0.49</td>\n",
       "      <td>0.84</td>\n",
       "      <td>14.53</td>\n",
       "      <td>1.10</td>\n",
       "      <td>0.81</td>\n",
       "      <td>49.69</td>\n",
       "    </tr>\n",
       "    <tr>\n",
       "      <th>min</th>\n",
       "      <td>1.00</td>\n",
       "      <td>0.00</td>\n",
       "      <td>1.00</td>\n",
       "      <td>0.42</td>\n",
       "      <td>0.00</td>\n",
       "      <td>0.00</td>\n",
       "      <td>0.00</td>\n",
       "    </tr>\n",
       "    <tr>\n",
       "      <th>25%</th>\n",
       "      <td>223.50</td>\n",
       "      <td>0.00</td>\n",
       "      <td>2.00</td>\n",
       "      <td>20.12</td>\n",
       "      <td>0.00</td>\n",
       "      <td>0.00</td>\n",
       "      <td>7.91</td>\n",
       "    </tr>\n",
       "    <tr>\n",
       "      <th>50%</th>\n",
       "      <td>446.00</td>\n",
       "      <td>0.00</td>\n",
       "      <td>3.00</td>\n",
       "      <td>28.00</td>\n",
       "      <td>0.00</td>\n",
       "      <td>0.00</td>\n",
       "      <td>14.45</td>\n",
       "    </tr>\n",
       "    <tr>\n",
       "      <th>75%</th>\n",
       "      <td>668.50</td>\n",
       "      <td>1.00</td>\n",
       "      <td>3.00</td>\n",
       "      <td>38.00</td>\n",
       "      <td>1.00</td>\n",
       "      <td>0.00</td>\n",
       "      <td>31.00</td>\n",
       "    </tr>\n",
       "    <tr>\n",
       "      <th>max</th>\n",
       "      <td>891.00</td>\n",
       "      <td>1.00</td>\n",
       "      <td>3.00</td>\n",
       "      <td>80.00</td>\n",
       "      <td>8.00</td>\n",
       "      <td>6.00</td>\n",
       "      <td>512.33</td>\n",
       "    </tr>\n",
       "  </tbody>\n",
       "</table>\n",
       "</div>"
      ],
      "text/plain": [
       "       PassengerId  Survived  Pclass     Age   SibSp   Parch    Fare\n",
       "count       891.00    891.00  891.00  714.00  891.00  891.00  891.00\n",
       "mean        446.00      0.38    2.31   29.70    0.52    0.38   32.20\n",
       "std         257.35      0.49    0.84   14.53    1.10    0.81   49.69\n",
       "min           1.00      0.00    1.00    0.42    0.00    0.00    0.00\n",
       "25%         223.50      0.00    2.00   20.12    0.00    0.00    7.91\n",
       "50%         446.00      0.00    3.00   28.00    0.00    0.00   14.45\n",
       "75%         668.50      1.00    3.00   38.00    1.00    0.00   31.00\n",
       "max         891.00      1.00    3.00   80.00    8.00    6.00  512.33"
      ]
     },
     "execution_count": 5,
     "metadata": {},
     "output_type": "execute_result"
    }
   ],
   "source": [
    "round(train.describe(),2)"
   ]
  },
  {
   "cell_type": "code",
   "execution_count": 6,
   "id": "cubic-slovak",
   "metadata": {
    "execution": {
     "iopub.execute_input": "2021-06-26T21:26:43.419703Z",
     "iopub.status.busy": "2021-06-26T21:26:43.419047Z",
     "iopub.status.idle": "2021-06-26T21:26:43.427786Z",
     "shell.execute_reply": "2021-06-26T21:26:43.426873Z",
     "shell.execute_reply.started": "2021-06-26T21:25:23.383218Z"
    },
    "papermill": {
     "duration": 0.12696,
     "end_time": "2021-06-26T21:26:43.427993",
     "exception": false,
     "start_time": "2021-06-26T21:26:43.301033",
     "status": "completed"
    },
    "tags": []
   },
   "outputs": [
    {
     "name": "stdout",
     "output_type": "stream",
     "text": [
      "There is 0 duplicated values in data frame\n"
     ]
    }
   ],
   "source": [
    "# Any duplicate data in the dataframe?\n",
    "print(\"There is {} duplicated values in data frame\".format(train.duplicated().sum())) # no duplicate values found"
   ]
  },
  {
   "cell_type": "markdown",
   "id": "cosmetic-chester",
   "metadata": {
    "papermill": {
     "duration": 0.109751,
     "end_time": "2021-06-26T21:26:43.647274",
     "exception": false,
     "start_time": "2021-06-26T21:26:43.537523",
     "status": "completed"
    },
    "tags": []
   },
   "source": [
    "## Compare Relationship Between Passenger Class and Fare and Survival"
   ]
  },
  {
   "cell_type": "code",
   "execution_count": 7,
   "id": "aging-genius",
   "metadata": {
    "execution": {
     "iopub.execute_input": "2021-06-26T21:26:43.877046Z",
     "iopub.status.busy": "2021-06-26T21:26:43.876376Z",
     "iopub.status.idle": "2021-06-26T21:26:43.880366Z",
     "shell.execute_reply": "2021-06-26T21:26:43.879751Z",
     "shell.execute_reply.started": "2021-06-26T21:25:23.397640Z"
    },
    "papermill": {
     "duration": 0.123249,
     "end_time": "2021-06-26T21:26:43.880512",
     "exception": false,
     "start_time": "2021-06-26T21:26:43.757263",
     "status": "completed"
    },
    "tags": []
   },
   "outputs": [
    {
     "data": {
      "text/plain": [
       "Pclass\n",
       "1    512.33\n",
       "2     73.50\n",
       "3     69.55\n",
       "Name: Fare, dtype: float64"
      ]
     },
     "execution_count": 7,
     "metadata": {},
     "output_type": "execute_result"
    }
   ],
   "source": [
    "train.groupby(['Pclass'])['Fare'].max().round(2)\n",
    "# Note: On average passengers paid a higher fare if you were on 1st class vs the other two classes\n",
    "# But we will use max values as our threshold to determine fare paid by each passenger based on class"
   ]
  },
  {
   "cell_type": "code",
   "execution_count": 8,
   "id": "experimental-romania",
   "metadata": {
    "execution": {
     "iopub.execute_input": "2021-06-26T21:26:44.107055Z",
     "iopub.status.busy": "2021-06-26T21:26:44.106402Z",
     "iopub.status.idle": "2021-06-26T21:26:44.110510Z",
     "shell.execute_reply": "2021-06-26T21:26:44.110012Z",
     "shell.execute_reply.started": "2021-06-26T21:25:23.411074Z"
    },
    "papermill": {
     "duration": 0.119987,
     "end_time": "2021-06-26T21:26:44.110646",
     "exception": false,
     "start_time": "2021-06-26T21:26:43.990659",
     "status": "completed"
    },
    "tags": []
   },
   "outputs": [
    {
     "data": {
      "text/plain": [
       "Pclass\n",
       "1    216\n",
       "2    184\n",
       "3    491\n",
       "Name: Survived, dtype: int64"
      ]
     },
     "execution_count": 8,
     "metadata": {},
     "output_type": "execute_result"
    }
   ],
   "source": [
    "train.groupby(['Pclass'])['Survived'].count()\n",
    "# Looks the people on board 2nd class less likely survived compared to 1st and 3rd class passengers"
   ]
  },
  {
   "cell_type": "code",
   "execution_count": 9,
   "id": "federal-identifier",
   "metadata": {
    "execution": {
     "iopub.execute_input": "2021-06-26T21:26:44.347662Z",
     "iopub.status.busy": "2021-06-26T21:26:44.347048Z",
     "iopub.status.idle": "2021-06-26T21:26:44.350851Z",
     "shell.execute_reply": "2021-06-26T21:26:44.350343Z",
     "shell.execute_reply.started": "2021-06-26T21:25:23.505399Z"
    },
    "papermill": {
     "duration": 0.13026,
     "end_time": "2021-06-26T21:26:44.350997",
     "exception": false,
     "start_time": "2021-06-26T21:26:44.220737",
     "status": "completed"
    },
    "tags": []
   },
   "outputs": [
    {
     "data": {
      "text/html": [
       "<div>\n",
       "<style scoped>\n",
       "    .dataframe tbody tr th:only-of-type {\n",
       "        vertical-align: middle;\n",
       "    }\n",
       "\n",
       "    .dataframe tbody tr th {\n",
       "        vertical-align: top;\n",
       "    }\n",
       "\n",
       "    .dataframe thead th {\n",
       "        text-align: right;\n",
       "    }\n",
       "</style>\n",
       "<table border=\"1\" class=\"dataframe\">\n",
       "  <thead>\n",
       "    <tr style=\"text-align: right;\">\n",
       "      <th></th>\n",
       "      <th>PassengerId</th>\n",
       "      <th>Survived</th>\n",
       "      <th>Pclass</th>\n",
       "      <th>Name</th>\n",
       "      <th>Sex</th>\n",
       "      <th>Age</th>\n",
       "      <th>SibSp</th>\n",
       "      <th>Parch</th>\n",
       "      <th>Ticket</th>\n",
       "      <th>Fare</th>\n",
       "      <th>Cabin</th>\n",
       "      <th>Embarked</th>\n",
       "    </tr>\n",
       "  </thead>\n",
       "  <tbody>\n",
       "    <tr>\n",
       "      <th>0</th>\n",
       "      <td>1</td>\n",
       "      <td>0</td>\n",
       "      <td>3</td>\n",
       "      <td>Braund, Mr. Owen Harris</td>\n",
       "      <td>male</td>\n",
       "      <td>22.0</td>\n",
       "      <td>1</td>\n",
       "      <td>0</td>\n",
       "      <td>A/5 21171</td>\n",
       "      <td>7.2500</td>\n",
       "      <td>NaN</td>\n",
       "      <td>S</td>\n",
       "    </tr>\n",
       "    <tr>\n",
       "      <th>1</th>\n",
       "      <td>2</td>\n",
       "      <td>1</td>\n",
       "      <td>1</td>\n",
       "      <td>Cumings, Mrs. John Bradley (Florence Briggs Th...</td>\n",
       "      <td>female</td>\n",
       "      <td>38.0</td>\n",
       "      <td>1</td>\n",
       "      <td>0</td>\n",
       "      <td>PC 17599</td>\n",
       "      <td>71.2833</td>\n",
       "      <td>C85</td>\n",
       "      <td>C</td>\n",
       "    </tr>\n",
       "    <tr>\n",
       "      <th>2</th>\n",
       "      <td>3</td>\n",
       "      <td>1</td>\n",
       "      <td>3</td>\n",
       "      <td>Heikkinen, Miss. Laina</td>\n",
       "      <td>female</td>\n",
       "      <td>26.0</td>\n",
       "      <td>0</td>\n",
       "      <td>0</td>\n",
       "      <td>STON/O2. 3101282</td>\n",
       "      <td>7.9250</td>\n",
       "      <td>NaN</td>\n",
       "      <td>S</td>\n",
       "    </tr>\n",
       "    <tr>\n",
       "      <th>3</th>\n",
       "      <td>4</td>\n",
       "      <td>1</td>\n",
       "      <td>1</td>\n",
       "      <td>Futrelle, Mrs. Jacques Heath (Lily May Peel)</td>\n",
       "      <td>female</td>\n",
       "      <td>35.0</td>\n",
       "      <td>1</td>\n",
       "      <td>0</td>\n",
       "      <td>113803</td>\n",
       "      <td>53.1000</td>\n",
       "      <td>C123</td>\n",
       "      <td>S</td>\n",
       "    </tr>\n",
       "    <tr>\n",
       "      <th>4</th>\n",
       "      <td>5</td>\n",
       "      <td>0</td>\n",
       "      <td>3</td>\n",
       "      <td>Allen, Mr. William Henry</td>\n",
       "      <td>male</td>\n",
       "      <td>35.0</td>\n",
       "      <td>0</td>\n",
       "      <td>0</td>\n",
       "      <td>373450</td>\n",
       "      <td>8.0500</td>\n",
       "      <td>NaN</td>\n",
       "      <td>S</td>\n",
       "    </tr>\n",
       "  </tbody>\n",
       "</table>\n",
       "</div>"
      ],
      "text/plain": [
       "   PassengerId  Survived  Pclass  \\\n",
       "0            1         0       3   \n",
       "1            2         1       1   \n",
       "2            3         1       3   \n",
       "3            4         1       1   \n",
       "4            5         0       3   \n",
       "\n",
       "                                                Name     Sex   Age  SibSp  \\\n",
       "0                            Braund, Mr. Owen Harris    male  22.0      1   \n",
       "1  Cumings, Mrs. John Bradley (Florence Briggs Th...  female  38.0      1   \n",
       "2                             Heikkinen, Miss. Laina  female  26.0      0   \n",
       "3       Futrelle, Mrs. Jacques Heath (Lily May Peel)  female  35.0      1   \n",
       "4                           Allen, Mr. William Henry    male  35.0      0   \n",
       "\n",
       "   Parch            Ticket     Fare Cabin Embarked  \n",
       "0      0         A/5 21171   7.2500   NaN        S  \n",
       "1      0          PC 17599  71.2833   C85        C  \n",
       "2      0  STON/O2. 3101282   7.9250   NaN        S  \n",
       "3      0            113803  53.1000  C123        S  \n",
       "4      0            373450   8.0500   NaN        S  "
      ]
     },
     "execution_count": 9,
     "metadata": {},
     "output_type": "execute_result"
    }
   ],
   "source": [
    "train.head()"
   ]
  },
  {
   "cell_type": "markdown",
   "id": "wanted-jefferson",
   "metadata": {
    "papermill": {
     "duration": 0.109286,
     "end_time": "2021-06-26T21:26:44.571511",
     "exception": false,
     "start_time": "2021-06-26T21:26:44.462225",
     "status": "completed"
    },
    "tags": []
   },
   "source": [
    "# Dropping Irrelavent Features and Eliminate Null Values"
   ]
  },
  {
   "cell_type": "markdown",
   "id": "undefined-fortune",
   "metadata": {
    "papermill": {
     "duration": 0.110525,
     "end_time": "2021-06-26T21:26:44.791172",
     "exception": false,
     "start_time": "2021-06-26T21:26:44.680647",
     "status": "completed"
    },
    "tags": []
   },
   "source": [
    "## Drop Irrelavent Features"
   ]
  },
  {
   "cell_type": "code",
   "execution_count": 10,
   "id": "banner-nancy",
   "metadata": {
    "execution": {
     "iopub.execute_input": "2021-06-26T21:26:45.021303Z",
     "iopub.status.busy": "2021-06-26T21:26:45.020477Z",
     "iopub.status.idle": "2021-06-26T21:26:45.023693Z",
     "shell.execute_reply": "2021-06-26T21:26:45.023156Z",
     "shell.execute_reply.started": "2021-06-26T21:25:23.525536Z"
    },
    "papermill": {
     "duration": 0.12309,
     "end_time": "2021-06-26T21:26:45.023839",
     "exception": false,
     "start_time": "2021-06-26T21:26:44.900749",
     "status": "completed"
    },
    "tags": []
   },
   "outputs": [],
   "source": [
    "# Drop columns that are not useful for prediction:\n",
    "# keep columns = ['Sex', 'Age','SibSp, Parch, Fare', 'Cabin','Pclass','Embarked','Survived']\n",
    "\n",
    "train.drop(['PassengerId','Name','Ticket','Cabin'], axis = 1, inplace = True)"
   ]
  },
  {
   "cell_type": "code",
   "execution_count": 11,
   "id": "adjusted-organizer",
   "metadata": {
    "execution": {
     "iopub.execute_input": "2021-06-26T21:26:45.258392Z",
     "iopub.status.busy": "2021-06-26T21:26:45.257466Z",
     "iopub.status.idle": "2021-06-26T21:26:45.261138Z",
     "shell.execute_reply": "2021-06-26T21:26:45.261612Z",
     "shell.execute_reply.started": "2021-06-26T21:25:23.532983Z"
    },
    "papermill": {
     "duration": 0.126612,
     "end_time": "2021-06-26T21:26:45.261799",
     "exception": false,
     "start_time": "2021-06-26T21:26:45.135187",
     "status": "completed"
    },
    "tags": []
   },
   "outputs": [
    {
     "data": {
      "text/html": [
       "<div>\n",
       "<style scoped>\n",
       "    .dataframe tbody tr th:only-of-type {\n",
       "        vertical-align: middle;\n",
       "    }\n",
       "\n",
       "    .dataframe tbody tr th {\n",
       "        vertical-align: top;\n",
       "    }\n",
       "\n",
       "    .dataframe thead th {\n",
       "        text-align: right;\n",
       "    }\n",
       "</style>\n",
       "<table border=\"1\" class=\"dataframe\">\n",
       "  <thead>\n",
       "    <tr style=\"text-align: right;\">\n",
       "      <th></th>\n",
       "      <th>Survived</th>\n",
       "      <th>Pclass</th>\n",
       "      <th>Sex</th>\n",
       "      <th>Age</th>\n",
       "      <th>SibSp</th>\n",
       "      <th>Parch</th>\n",
       "      <th>Fare</th>\n",
       "      <th>Embarked</th>\n",
       "    </tr>\n",
       "  </thead>\n",
       "  <tbody>\n",
       "    <tr>\n",
       "      <th>0</th>\n",
       "      <td>0</td>\n",
       "      <td>3</td>\n",
       "      <td>male</td>\n",
       "      <td>22.0</td>\n",
       "      <td>1</td>\n",
       "      <td>0</td>\n",
       "      <td>7.2500</td>\n",
       "      <td>S</td>\n",
       "    </tr>\n",
       "    <tr>\n",
       "      <th>1</th>\n",
       "      <td>1</td>\n",
       "      <td>1</td>\n",
       "      <td>female</td>\n",
       "      <td>38.0</td>\n",
       "      <td>1</td>\n",
       "      <td>0</td>\n",
       "      <td>71.2833</td>\n",
       "      <td>C</td>\n",
       "    </tr>\n",
       "    <tr>\n",
       "      <th>2</th>\n",
       "      <td>1</td>\n",
       "      <td>3</td>\n",
       "      <td>female</td>\n",
       "      <td>26.0</td>\n",
       "      <td>0</td>\n",
       "      <td>0</td>\n",
       "      <td>7.9250</td>\n",
       "      <td>S</td>\n",
       "    </tr>\n",
       "    <tr>\n",
       "      <th>3</th>\n",
       "      <td>1</td>\n",
       "      <td>1</td>\n",
       "      <td>female</td>\n",
       "      <td>35.0</td>\n",
       "      <td>1</td>\n",
       "      <td>0</td>\n",
       "      <td>53.1000</td>\n",
       "      <td>S</td>\n",
       "    </tr>\n",
       "    <tr>\n",
       "      <th>4</th>\n",
       "      <td>0</td>\n",
       "      <td>3</td>\n",
       "      <td>male</td>\n",
       "      <td>35.0</td>\n",
       "      <td>0</td>\n",
       "      <td>0</td>\n",
       "      <td>8.0500</td>\n",
       "      <td>S</td>\n",
       "    </tr>\n",
       "  </tbody>\n",
       "</table>\n",
       "</div>"
      ],
      "text/plain": [
       "   Survived  Pclass     Sex   Age  SibSp  Parch     Fare Embarked\n",
       "0         0       3    male  22.0      1      0   7.2500        S\n",
       "1         1       1  female  38.0      1      0  71.2833        C\n",
       "2         1       3  female  26.0      0      0   7.9250        S\n",
       "3         1       1  female  35.0      1      0  53.1000        S\n",
       "4         0       3    male  35.0      0      0   8.0500        S"
      ]
     },
     "execution_count": 11,
     "metadata": {},
     "output_type": "execute_result"
    }
   ],
   "source": [
    "train.head() #new dataframe"
   ]
  },
  {
   "cell_type": "code",
   "execution_count": 12,
   "id": "tropical-anthropology",
   "metadata": {
    "execution": {
     "iopub.execute_input": "2021-06-26T21:26:45.488437Z",
     "iopub.status.busy": "2021-06-26T21:26:45.487500Z",
     "iopub.status.idle": "2021-06-26T21:26:45.502331Z",
     "shell.execute_reply": "2021-06-26T21:26:45.502858Z",
     "shell.execute_reply.started": "2021-06-26T21:25:23.557771Z"
    },
    "papermill": {
     "duration": 0.131156,
     "end_time": "2021-06-26T21:26:45.503043",
     "exception": false,
     "start_time": "2021-06-26T21:26:45.371887",
     "status": "completed"
    },
    "tags": []
   },
   "outputs": [
    {
     "name": "stdout",
     "output_type": "stream",
     "text": [
      "<class 'pandas.core.frame.DataFrame'>\n",
      "RangeIndex: 891 entries, 0 to 890\n",
      "Data columns (total 8 columns):\n",
      " #   Column    Non-Null Count  Dtype  \n",
      "---  ------    --------------  -----  \n",
      " 0   Survived  891 non-null    int64  \n",
      " 1   Pclass    891 non-null    int64  \n",
      " 2   Sex       891 non-null    object \n",
      " 3   Age       714 non-null    float64\n",
      " 4   SibSp     891 non-null    int64  \n",
      " 5   Parch     891 non-null    int64  \n",
      " 6   Fare      891 non-null    float64\n",
      " 7   Embarked  889 non-null    object \n",
      "dtypes: float64(2), int64(4), object(2)\n",
      "memory usage: 55.8+ KB\n"
     ]
    }
   ],
   "source": [
    "train.info()"
   ]
  },
  {
   "cell_type": "code",
   "execution_count": 13,
   "id": "sexual-calculator",
   "metadata": {
    "execution": {
     "iopub.execute_input": "2021-06-26T21:26:45.727422Z",
     "iopub.status.busy": "2021-06-26T21:26:45.726493Z",
     "iopub.status.idle": "2021-06-26T21:26:45.757573Z",
     "shell.execute_reply": "2021-06-26T21:26:45.758036Z",
     "shell.execute_reply.started": "2021-06-26T21:25:23.602470Z"
    },
    "papermill": {
     "duration": 0.144617,
     "end_time": "2021-06-26T21:26:45.758214",
     "exception": false,
     "start_time": "2021-06-26T21:26:45.613597",
     "status": "completed"
    },
    "tags": []
   },
   "outputs": [
    {
     "data": {
      "text/html": [
       "<div>\n",
       "<style scoped>\n",
       "    .dataframe tbody tr th:only-of-type {\n",
       "        vertical-align: middle;\n",
       "    }\n",
       "\n",
       "    .dataframe tbody tr th {\n",
       "        vertical-align: top;\n",
       "    }\n",
       "\n",
       "    .dataframe thead th {\n",
       "        text-align: right;\n",
       "    }\n",
       "</style>\n",
       "<table border=\"1\" class=\"dataframe\">\n",
       "  <thead>\n",
       "    <tr style=\"text-align: right;\">\n",
       "      <th></th>\n",
       "      <th>Survived</th>\n",
       "      <th>Pclass</th>\n",
       "      <th>Age</th>\n",
       "      <th>SibSp</th>\n",
       "      <th>Parch</th>\n",
       "      <th>Fare</th>\n",
       "    </tr>\n",
       "  </thead>\n",
       "  <tbody>\n",
       "    <tr>\n",
       "      <th>count</th>\n",
       "      <td>891.00</td>\n",
       "      <td>891.00</td>\n",
       "      <td>714.00</td>\n",
       "      <td>891.00</td>\n",
       "      <td>891.00</td>\n",
       "      <td>891.00</td>\n",
       "    </tr>\n",
       "    <tr>\n",
       "      <th>mean</th>\n",
       "      <td>0.38</td>\n",
       "      <td>2.31</td>\n",
       "      <td>29.70</td>\n",
       "      <td>0.52</td>\n",
       "      <td>0.38</td>\n",
       "      <td>32.20</td>\n",
       "    </tr>\n",
       "    <tr>\n",
       "      <th>std</th>\n",
       "      <td>0.49</td>\n",
       "      <td>0.84</td>\n",
       "      <td>14.53</td>\n",
       "      <td>1.10</td>\n",
       "      <td>0.81</td>\n",
       "      <td>49.69</td>\n",
       "    </tr>\n",
       "    <tr>\n",
       "      <th>min</th>\n",
       "      <td>0.00</td>\n",
       "      <td>1.00</td>\n",
       "      <td>0.42</td>\n",
       "      <td>0.00</td>\n",
       "      <td>0.00</td>\n",
       "      <td>0.00</td>\n",
       "    </tr>\n",
       "    <tr>\n",
       "      <th>25%</th>\n",
       "      <td>0.00</td>\n",
       "      <td>2.00</td>\n",
       "      <td>20.12</td>\n",
       "      <td>0.00</td>\n",
       "      <td>0.00</td>\n",
       "      <td>7.91</td>\n",
       "    </tr>\n",
       "    <tr>\n",
       "      <th>50%</th>\n",
       "      <td>0.00</td>\n",
       "      <td>3.00</td>\n",
       "      <td>28.00</td>\n",
       "      <td>0.00</td>\n",
       "      <td>0.00</td>\n",
       "      <td>14.45</td>\n",
       "    </tr>\n",
       "    <tr>\n",
       "      <th>75%</th>\n",
       "      <td>1.00</td>\n",
       "      <td>3.00</td>\n",
       "      <td>38.00</td>\n",
       "      <td>1.00</td>\n",
       "      <td>0.00</td>\n",
       "      <td>31.00</td>\n",
       "    </tr>\n",
       "    <tr>\n",
       "      <th>max</th>\n",
       "      <td>1.00</td>\n",
       "      <td>3.00</td>\n",
       "      <td>80.00</td>\n",
       "      <td>8.00</td>\n",
       "      <td>6.00</td>\n",
       "      <td>512.33</td>\n",
       "    </tr>\n",
       "  </tbody>\n",
       "</table>\n",
       "</div>"
      ],
      "text/plain": [
       "       Survived  Pclass     Age   SibSp   Parch    Fare\n",
       "count    891.00  891.00  714.00  891.00  891.00  891.00\n",
       "mean       0.38    2.31   29.70    0.52    0.38   32.20\n",
       "std        0.49    0.84   14.53    1.10    0.81   49.69\n",
       "min        0.00    1.00    0.42    0.00    0.00    0.00\n",
       "25%        0.00    2.00   20.12    0.00    0.00    7.91\n",
       "50%        0.00    3.00   28.00    0.00    0.00   14.45\n",
       "75%        1.00    3.00   38.00    1.00    0.00   31.00\n",
       "max        1.00    3.00   80.00    8.00    6.00  512.33"
      ]
     },
     "execution_count": 13,
     "metadata": {},
     "output_type": "execute_result"
    }
   ],
   "source": [
    "round(train.describe(),2)"
   ]
  },
  {
   "cell_type": "markdown",
   "id": "ceramic-andorra",
   "metadata": {
    "papermill": {
     "duration": 0.112617,
     "end_time": "2021-06-26T21:26:45.984358",
     "exception": false,
     "start_time": "2021-06-26T21:26:45.871741",
     "status": "completed"
    },
    "tags": []
   },
   "source": [
    "## Eliminate Null Values"
   ]
  },
  {
   "cell_type": "code",
   "execution_count": 14,
   "id": "secure-scheme",
   "metadata": {
    "execution": {
     "iopub.execute_input": "2021-06-26T21:26:46.219106Z",
     "iopub.status.busy": "2021-06-26T21:26:46.218126Z",
     "iopub.status.idle": "2021-06-26T21:26:46.761598Z",
     "shell.execute_reply": "2021-06-26T21:26:46.760480Z",
     "shell.execute_reply.started": "2021-06-26T21:25:23.647193Z"
    },
    "papermill": {
     "duration": 0.661243,
     "end_time": "2021-06-26T21:26:46.761844",
     "exception": false,
     "start_time": "2021-06-26T21:26:46.100601",
     "status": "completed"
    },
    "tags": []
   },
   "outputs": [
    {
     "data": {
      "image/png": "[encoded data removed]",
      "text/plain": [
       "<Figure size 720x576 with 1 Axes>"
      ]
     },
     "metadata": {
      "needs_background": "light"
     },
     "output_type": "display_data"
    }
   ],
   "source": [
    "# Create a heatmap to visalize the missing values \n",
    "plt.subplots(figsize=(10,8))\n",
    "\n",
    "sns.heatmap(train.isnull(),cbar = False)\n",
    "\n",
    "plt.title('Heatmap of Missing Values')\n",
    "plt.xlabel('Attributes')\n",
    "plt.ylabel('Index')\n",
    "\n",
    "plt.show()"
   ]
  },
  {
   "cell_type": "code",
   "execution_count": 15,
   "id": "fundamental-crown",
   "metadata": {
    "execution": {
     "iopub.execute_input": "2021-06-26T21:26:46.998543Z",
     "iopub.status.busy": "2021-06-26T21:26:46.997717Z",
     "iopub.status.idle": "2021-06-26T21:26:47.002385Z",
     "shell.execute_reply": "2021-06-26T21:26:47.001645Z",
     "shell.execute_reply.started": "2021-06-26T21:25:24.243325Z"
    },
    "papermill": {
     "duration": 0.126962,
     "end_time": "2021-06-26T21:26:47.002543",
     "exception": false,
     "start_time": "2021-06-26T21:26:46.875581",
     "status": "completed"
    },
    "tags": []
   },
   "outputs": [
    {
     "data": {
      "text/plain": [
       "Survived      0\n",
       "Pclass        0\n",
       "Sex           0\n",
       "Age         177\n",
       "SibSp         0\n",
       "Parch         0\n",
       "Fare          0\n",
       "Embarked      2\n",
       "dtype: int64"
      ]
     },
     "execution_count": 15,
     "metadata": {},
     "output_type": "execute_result"
    }
   ],
   "source": [
    "# To view a missing values in a tabluar format and the percentage of nulls that make up the whole dataset:\n",
    "train.isnull().sum(axis = 0)\n",
    "# Looks like Age = 179 null values\n",
    "# Cabin = 689\n",
    "# and others have a few nulls"
   ]
  },
  {
   "cell_type": "code",
   "execution_count": 16,
   "id": "proved-success",
   "metadata": {
    "execution": {
     "iopub.execute_input": "2021-06-26T21:26:47.244354Z",
     "iopub.status.busy": "2021-06-26T21:26:47.243373Z",
     "iopub.status.idle": "2021-06-26T21:26:47.247731Z",
     "shell.execute_reply": "2021-06-26T21:26:47.247207Z",
     "shell.execute_reply.started": "2021-06-26T21:25:24.257106Z"
    },
    "papermill": {
     "duration": 0.130841,
     "end_time": "2021-06-26T21:26:47.247865",
     "exception": false,
     "start_time": "2021-06-26T21:26:47.117024",
     "status": "completed"
    },
    "tags": []
   },
   "outputs": [
    {
     "data": {
      "text/html": [
       "<div>\n",
       "<style scoped>\n",
       "    .dataframe tbody tr th:only-of-type {\n",
       "        vertical-align: middle;\n",
       "    }\n",
       "\n",
       "    .dataframe tbody tr th {\n",
       "        vertical-align: top;\n",
       "    }\n",
       "\n",
       "    .dataframe thead th {\n",
       "        text-align: right;\n",
       "    }\n",
       "</style>\n",
       "<table border=\"1\" class=\"dataframe\">\n",
       "  <thead>\n",
       "    <tr style=\"text-align: right;\">\n",
       "      <th></th>\n",
       "      <th>Survived</th>\n",
       "      <th>Pclass</th>\n",
       "      <th>Sex</th>\n",
       "      <th>Age</th>\n",
       "      <th>SibSp</th>\n",
       "      <th>Parch</th>\n",
       "      <th>Fare</th>\n",
       "      <th>Embarked</th>\n",
       "    </tr>\n",
       "  </thead>\n",
       "  <tbody>\n",
       "    <tr>\n",
       "      <th>0</th>\n",
       "      <td>0</td>\n",
       "      <td>3</td>\n",
       "      <td>male</td>\n",
       "      <td>22.0</td>\n",
       "      <td>1</td>\n",
       "      <td>0</td>\n",
       "      <td>7.2500</td>\n",
       "      <td>S</td>\n",
       "    </tr>\n",
       "    <tr>\n",
       "      <th>1</th>\n",
       "      <td>1</td>\n",
       "      <td>1</td>\n",
       "      <td>female</td>\n",
       "      <td>38.0</td>\n",
       "      <td>1</td>\n",
       "      <td>0</td>\n",
       "      <td>71.2833</td>\n",
       "      <td>C</td>\n",
       "    </tr>\n",
       "    <tr>\n",
       "      <th>2</th>\n",
       "      <td>1</td>\n",
       "      <td>3</td>\n",
       "      <td>female</td>\n",
       "      <td>26.0</td>\n",
       "      <td>0</td>\n",
       "      <td>0</td>\n",
       "      <td>7.9250</td>\n",
       "      <td>S</td>\n",
       "    </tr>\n",
       "    <tr>\n",
       "      <th>3</th>\n",
       "      <td>1</td>\n",
       "      <td>1</td>\n",
       "      <td>female</td>\n",
       "      <td>35.0</td>\n",
       "      <td>1</td>\n",
       "      <td>0</td>\n",
       "      <td>53.1000</td>\n",
       "      <td>S</td>\n",
       "    </tr>\n",
       "    <tr>\n",
       "      <th>4</th>\n",
       "      <td>0</td>\n",
       "      <td>3</td>\n",
       "      <td>male</td>\n",
       "      <td>35.0</td>\n",
       "      <td>0</td>\n",
       "      <td>0</td>\n",
       "      <td>8.0500</td>\n",
       "      <td>S</td>\n",
       "    </tr>\n",
       "  </tbody>\n",
       "</table>\n",
       "</div>"
      ],
      "text/plain": [
       "   Survived  Pclass     Sex   Age  SibSp  Parch     Fare Embarked\n",
       "0         0       3    male  22.0      1      0   7.2500        S\n",
       "1         1       1  female  38.0      1      0  71.2833        C\n",
       "2         1       3  female  26.0      0      0   7.9250        S\n",
       "3         1       1  female  35.0      1      0  53.1000        S\n",
       "4         0       3    male  35.0      0      0   8.0500        S"
      ]
     },
     "execution_count": 16,
     "metadata": {},
     "output_type": "execute_result"
    }
   ],
   "source": [
    "train.head()"
   ]
  },
  {
   "cell_type": "markdown",
   "id": "through-treasury",
   "metadata": {
    "papermill": {
     "duration": 0.113006,
     "end_time": "2021-06-26T21:26:47.474084",
     "exception": false,
     "start_time": "2021-06-26T21:26:47.361078",
     "status": "completed"
    },
    "tags": []
   },
   "source": [
    "## Impute Missing Values for Age Feature"
   ]
  },
  {
   "cell_type": "code",
   "execution_count": 17,
   "id": "smart-berlin",
   "metadata": {
    "execution": {
     "iopub.execute_input": "2021-06-26T21:26:47.703778Z",
     "iopub.status.busy": "2021-06-26T21:26:47.703152Z",
     "iopub.status.idle": "2021-06-26T21:26:47.710727Z",
     "shell.execute_reply": "2021-06-26T21:26:47.711327Z",
     "shell.execute_reply.started": "2021-06-26T21:25:24.284205Z"
    },
    "papermill": {
     "duration": 0.123888,
     "end_time": "2021-06-26T21:26:47.711497",
     "exception": false,
     "start_time": "2021-06-26T21:26:47.587609",
     "status": "completed"
    },
    "tags": []
   },
   "outputs": [
    {
     "data": {
      "text/plain": [
       "Survived      0\n",
       "Pclass        0\n",
       "Sex           0\n",
       "Age         177\n",
       "SibSp         0\n",
       "Parch         0\n",
       "Fare          0\n",
       "Embarked      2\n",
       "dtype: int64"
      ]
     },
     "execution_count": 17,
     "metadata": {},
     "output_type": "execute_result"
    }
   ],
   "source": [
    "# To view a missing values in a tabluar format and the percentage of nulls that make up the whole dataset:\n",
    "train.isnull().sum(axis = 0)\n",
    "# Looks like Age = 179 null values\n",
    "# Cabin = 689\n",
    "# and others have a few nulls"
   ]
  },
  {
   "cell_type": "code",
   "execution_count": 18,
   "id": "durable-geometry",
   "metadata": {
    "execution": {
     "iopub.execute_input": "2021-06-26T21:26:47.945173Z",
     "iopub.status.busy": "2021-06-26T21:26:47.944468Z",
     "iopub.status.idle": "2021-06-26T21:26:47.960148Z",
     "shell.execute_reply": "2021-06-26T21:26:47.960651Z",
     "shell.execute_reply.started": "2021-06-26T21:25:24.302512Z"
    },
    "papermill": {
     "duration": 0.135083,
     "end_time": "2021-06-26T21:26:47.960889",
     "exception": false,
     "start_time": "2021-06-26T21:26:47.825806",
     "status": "completed"
    },
    "tags": []
   },
   "outputs": [
    {
     "data": {
      "text/plain": [
       "Pclass  Sex   \n",
       "1       female    35.0\n",
       "        male      40.0\n",
       "2       female    28.0\n",
       "        male      30.0\n",
       "3       female    21.5\n",
       "        male      25.0\n",
       "Name: Age, dtype: float64"
      ]
     },
     "execution_count": 18,
     "metadata": {},
     "output_type": "execute_result"
    }
   ],
   "source": [
    "# Replace nulls with for age with median to fill missed data on 'Age'\n",
    "train.groupby(['Pclass', 'Sex'])['Age'].median()"
   ]
  },
  {
   "cell_type": "code",
   "execution_count": 19,
   "id": "precious-rabbit",
   "metadata": {
    "execution": {
     "iopub.execute_input": "2021-06-26T21:26:48.196114Z",
     "iopub.status.busy": "2021-06-26T21:26:48.195403Z",
     "iopub.status.idle": "2021-06-26T21:26:48.200992Z",
     "shell.execute_reply": "2021-06-26T21:26:48.201437Z",
     "shell.execute_reply.started": "2021-06-26T21:25:24.321077Z"
    },
    "papermill": {
     "duration": 0.124915,
     "end_time": "2021-06-26T21:26:48.201634",
     "exception": false,
     "start_time": "2021-06-26T21:26:48.076719",
     "status": "completed"
    },
    "tags": []
   },
   "outputs": [],
   "source": [
    "def set_null_age(cols):\n",
    "    Age,Pclass,Sex = cols\n",
    "    if pd.isnull(Age):\n",
    "        if Pclass == 1: \n",
    "            if Sex == 'female':\n",
    "                return 35\n",
    "            else:\n",
    "                return 40\n",
    "        elif Pclass == 2: \n",
    "            if Sex == 'female':\n",
    "                return 28\n",
    "            else:\n",
    "                return 30         \n",
    "        elif Pclass == 3: \n",
    "            if Sex == 'female':\n",
    "                return 22\n",
    "            else:\n",
    "                return 25  \n",
    "    else:\n",
    "        return Age"
   ]
  },
  {
   "cell_type": "code",
   "execution_count": 20,
   "id": "undefined-fisher",
   "metadata": {
    "execution": {
     "iopub.execute_input": "2021-06-26T21:26:48.443234Z",
     "iopub.status.busy": "2021-06-26T21:26:48.442539Z",
     "iopub.status.idle": "2021-06-26T21:26:48.464463Z",
     "shell.execute_reply": "2021-06-26T21:26:48.463808Z",
     "shell.execute_reply.started": "2021-06-26T21:25:24.330885Z"
    },
    "papermill": {
     "duration": 0.148642,
     "end_time": "2021-06-26T21:26:48.464629",
     "exception": false,
     "start_time": "2021-06-26T21:26:48.315987",
     "status": "completed"
    },
    "tags": []
   },
   "outputs": [],
   "source": [
    "train['Age']= train[['Age', 'Pclass', 'Sex']].apply(set_null_age, axis = 1)"
   ]
  },
  {
   "cell_type": "code",
   "execution_count": 21,
   "id": "unlikely-doctrine",
   "metadata": {
    "execution": {
     "iopub.execute_input": "2021-06-26T21:26:48.707149Z",
     "iopub.status.busy": "2021-06-26T21:26:48.706412Z",
     "iopub.status.idle": "2021-06-26T21:26:48.709209Z",
     "shell.execute_reply": "2021-06-26T21:26:48.709690Z",
     "shell.execute_reply.started": "2021-06-26T21:25:24.360729Z"
    },
    "papermill": {
     "duration": 0.127616,
     "end_time": "2021-06-26T21:26:48.709908",
     "exception": false,
     "start_time": "2021-06-26T21:26:48.582292",
     "status": "completed"
    },
    "tags": []
   },
   "outputs": [
    {
     "data": {
      "text/plain": [
       "Survived    0\n",
       "Pclass      0\n",
       "Sex         0\n",
       "Age         0\n",
       "SibSp       0\n",
       "Parch       0\n",
       "Fare        0\n",
       "Embarked    2\n",
       "dtype: int64"
      ]
     },
     "execution_count": 21,
     "metadata": {},
     "output_type": "execute_result"
    }
   ],
   "source": [
    "# To view a missing values in a tabluar format and the percentage of nulls that make up the whole dataset:\n",
    "train.isnull().sum(axis = 0)"
   ]
  },
  {
   "cell_type": "markdown",
   "id": "brazilian-communication",
   "metadata": {
    "papermill": {
     "duration": 0.117251,
     "end_time": "2021-06-26T21:26:48.943336",
     "exception": false,
     "start_time": "2021-06-26T21:26:48.826085",
     "status": "completed"
    },
    "tags": []
   },
   "source": [
    "## Impute Missing Values for Embarked Feature "
   ]
  },
  {
   "cell_type": "code",
   "execution_count": 22,
   "id": "thrown-intro",
   "metadata": {
    "execution": {
     "iopub.execute_input": "2021-06-26T21:26:49.191356Z",
     "iopub.status.busy": "2021-06-26T21:26:49.190638Z",
     "iopub.status.idle": "2021-06-26T21:26:49.193641Z",
     "shell.execute_reply": "2021-06-26T21:26:49.194131Z",
     "shell.execute_reply.started": "2021-06-26T21:25:24.373922Z"
    },
    "papermill": {
     "duration": 0.133368,
     "end_time": "2021-06-26T21:26:49.194311",
     "exception": false,
     "start_time": "2021-06-26T21:26:49.060943",
     "status": "completed"
    },
    "scrolled": true,
    "tags": []
   },
   "outputs": [
    {
     "data": {
      "text/html": [
       "<div>\n",
       "<style scoped>\n",
       "    .dataframe tbody tr th:only-of-type {\n",
       "        vertical-align: middle;\n",
       "    }\n",
       "\n",
       "    .dataframe tbody tr th {\n",
       "        vertical-align: top;\n",
       "    }\n",
       "\n",
       "    .dataframe thead th {\n",
       "        text-align: right;\n",
       "    }\n",
       "</style>\n",
       "<table border=\"1\" class=\"dataframe\">\n",
       "  <thead>\n",
       "    <tr style=\"text-align: right;\">\n",
       "      <th></th>\n",
       "      <th>Survived</th>\n",
       "      <th>Pclass</th>\n",
       "      <th>Sex</th>\n",
       "      <th>Age</th>\n",
       "      <th>SibSp</th>\n",
       "      <th>Parch</th>\n",
       "      <th>Fare</th>\n",
       "      <th>Embarked</th>\n",
       "    </tr>\n",
       "  </thead>\n",
       "  <tbody>\n",
       "    <tr>\n",
       "      <th>61</th>\n",
       "      <td>1</td>\n",
       "      <td>1</td>\n",
       "      <td>female</td>\n",
       "      <td>38.0</td>\n",
       "      <td>0</td>\n",
       "      <td>0</td>\n",
       "      <td>80.0</td>\n",
       "      <td>NaN</td>\n",
       "    </tr>\n",
       "    <tr>\n",
       "      <th>829</th>\n",
       "      <td>1</td>\n",
       "      <td>1</td>\n",
       "      <td>female</td>\n",
       "      <td>62.0</td>\n",
       "      <td>0</td>\n",
       "      <td>0</td>\n",
       "      <td>80.0</td>\n",
       "      <td>NaN</td>\n",
       "    </tr>\n",
       "  </tbody>\n",
       "</table>\n",
       "</div>"
      ],
      "text/plain": [
       "     Survived  Pclass     Sex   Age  SibSp  Parch  Fare Embarked\n",
       "61          1       1  female  38.0      0      0  80.0      NaN\n",
       "829         1       1  female  62.0      0      0  80.0      NaN"
      ]
     },
     "execution_count": 22,
     "metadata": {},
     "output_type": "execute_result"
    }
   ],
   "source": [
    "train[pd.isnull(train.Embarked)] # records where embarked is null"
   ]
  },
  {
   "cell_type": "code",
   "execution_count": 23,
   "id": "prescribed-fleet",
   "metadata": {
    "execution": {
     "iopub.execute_input": "2021-06-26T21:26:49.426698Z",
     "iopub.status.busy": "2021-06-26T21:26:49.426030Z",
     "iopub.status.idle": "2021-06-26T21:26:49.432807Z",
     "shell.execute_reply": "2021-06-26T21:26:49.433241Z",
     "shell.execute_reply.started": "2021-06-26T21:25:24.399847Z"
    },
    "papermill": {
     "duration": 0.124856,
     "end_time": "2021-06-26T21:26:49.433407",
     "exception": false,
     "start_time": "2021-06-26T21:26:49.308551",
     "status": "completed"
    },
    "tags": []
   },
   "outputs": [
    {
     "data": {
      "text/plain": [
       "Embarked\n",
       "C    168\n",
       "Q     77\n",
       "S    644\n",
       "Name: Survived, dtype: int64"
      ]
     },
     "execution_count": 23,
     "metadata": {},
     "output_type": "execute_result"
    }
   ],
   "source": [
    "train.groupby(['Embarked'])['Survived'].count()"
   ]
  },
  {
   "cell_type": "code",
   "execution_count": 24,
   "id": "streaming-senior",
   "metadata": {
    "execution": {
     "iopub.execute_input": "2021-06-26T21:26:49.666416Z",
     "iopub.status.busy": "2021-06-26T21:26:49.665734Z",
     "iopub.status.idle": "2021-06-26T21:26:49.670317Z",
     "shell.execute_reply": "2021-06-26T21:26:49.670783Z",
     "shell.execute_reply.started": "2021-06-26T21:25:24.418582Z"
    },
    "papermill": {
     "duration": 0.122845,
     "end_time": "2021-06-26T21:26:49.670990",
     "exception": false,
     "start_time": "2021-06-26T21:26:49.548145",
     "status": "completed"
    },
    "tags": []
   },
   "outputs": [],
   "source": [
    "train.loc[(61,829), 'Embarked'] = 'S' #replace with S, as it is most frequent value (mode)"
   ]
  },
  {
   "cell_type": "markdown",
   "id": "atlantic-washington",
   "metadata": {
    "papermill": {
     "duration": 0.115396,
     "end_time": "2021-06-26T21:26:49.903660",
     "exception": false,
     "start_time": "2021-06-26T21:26:49.788264",
     "status": "completed"
    },
    "tags": []
   },
   "source": [
    "## Eliminate Remaining Missing Values By Dropping "
   ]
  },
  {
   "cell_type": "code",
   "execution_count": 25,
   "id": "unnecessary-inspiration",
   "metadata": {
    "execution": {
     "iopub.execute_input": "2021-06-26T21:26:50.142635Z",
     "iopub.status.busy": "2021-06-26T21:26:50.141936Z",
     "iopub.status.idle": "2021-06-26T21:26:50.148768Z",
     "shell.execute_reply": "2021-06-26T21:26:50.149221Z",
     "shell.execute_reply.started": "2021-06-26T21:25:24.430213Z"
    },
    "papermill": {
     "duration": 0.127817,
     "end_time": "2021-06-26T21:26:50.149427",
     "exception": false,
     "start_time": "2021-06-26T21:26:50.021610",
     "status": "completed"
    },
    "tags": []
   },
   "outputs": [
    {
     "data": {
      "text/plain": [
       "Survived    0\n",
       "Pclass      0\n",
       "Sex         0\n",
       "Age         0\n",
       "SibSp       0\n",
       "Parch       0\n",
       "Fare        0\n",
       "Embarked    0\n",
       "dtype: int64"
      ]
     },
     "execution_count": 25,
     "metadata": {},
     "output_type": "execute_result"
    }
   ],
   "source": [
    "# To view a missing values in a tabluar format and the percentage of nulls that make up the whole dataset:\n",
    "train.isnull().sum()"
   ]
  },
  {
   "cell_type": "code",
   "execution_count": 26,
   "id": "religious-admission",
   "metadata": {
    "execution": {
     "iopub.execute_input": "2021-06-26T21:26:50.386276Z",
     "iopub.status.busy": "2021-06-26T21:26:50.385572Z",
     "iopub.status.idle": "2021-06-26T21:26:50.395980Z",
     "shell.execute_reply": "2021-06-26T21:26:50.395347Z",
     "shell.execute_reply.started": "2021-06-26T21:25:24.451062Z"
    },
    "papermill": {
     "duration": 0.129853,
     "end_time": "2021-06-26T21:26:50.396144",
     "exception": false,
     "start_time": "2021-06-26T21:26:50.266291",
     "status": "completed"
    },
    "tags": []
   },
   "outputs": [
    {
     "data": {
      "text/html": [
       "<div>\n",
       "<style scoped>\n",
       "    .dataframe tbody tr th:only-of-type {\n",
       "        vertical-align: middle;\n",
       "    }\n",
       "\n",
       "    .dataframe tbody tr th {\n",
       "        vertical-align: top;\n",
       "    }\n",
       "\n",
       "    .dataframe thead th {\n",
       "        text-align: right;\n",
       "    }\n",
       "</style>\n",
       "<table border=\"1\" class=\"dataframe\">\n",
       "  <thead>\n",
       "    <tr style=\"text-align: right;\">\n",
       "      <th></th>\n",
       "      <th>Survived</th>\n",
       "      <th>Pclass</th>\n",
       "      <th>Sex</th>\n",
       "      <th>Age</th>\n",
       "      <th>SibSp</th>\n",
       "      <th>Parch</th>\n",
       "      <th>Fare</th>\n",
       "      <th>Embarked</th>\n",
       "    </tr>\n",
       "  </thead>\n",
       "  <tbody>\n",
       "  </tbody>\n",
       "</table>\n",
       "</div>"
      ],
      "text/plain": [
       "Empty DataFrame\n",
       "Columns: [Survived, Pclass, Sex, Age, SibSp, Parch, Fare, Embarked]\n",
       "Index: []"
      ]
     },
     "execution_count": 26,
     "metadata": {},
     "output_type": "execute_result"
    }
   ],
   "source": [
    "train[pd.isnull(train.Survived)] # records where embarked is null"
   ]
  },
  {
   "cell_type": "code",
   "execution_count": 27,
   "id": "deadly-reviewer",
   "metadata": {
    "execution": {
     "iopub.execute_input": "2021-06-26T21:26:50.640432Z",
     "iopub.status.busy": "2021-06-26T21:26:50.639760Z",
     "iopub.status.idle": "2021-06-26T21:26:50.665647Z",
     "shell.execute_reply": "2021-06-26T21:26:50.666209Z",
     "shell.execute_reply.started": "2021-06-26T21:25:24.471925Z"
    },
    "papermill": {
     "duration": 0.148717,
     "end_time": "2021-06-26T21:26:50.666417",
     "exception": false,
     "start_time": "2021-06-26T21:26:50.517700",
     "status": "completed"
    },
    "tags": []
   },
   "outputs": [],
   "source": [
    "train.dropna(axis = 0,how = 'any', inplace = True) # drop all records where nan appears at least in one of the features"
   ]
  },
  {
   "cell_type": "code",
   "execution_count": 28,
   "id": "waiting-philip",
   "metadata": {
    "execution": {
     "iopub.execute_input": "2021-06-26T21:26:50.903529Z",
     "iopub.status.busy": "2021-06-26T21:26:50.902848Z",
     "iopub.status.idle": "2021-06-26T21:26:50.912430Z",
     "shell.execute_reply": "2021-06-26T21:26:50.911845Z",
     "shell.execute_reply.started": "2021-06-26T21:25:24.487973Z"
    },
    "papermill": {
     "duration": 0.129144,
     "end_time": "2021-06-26T21:26:50.912585",
     "exception": false,
     "start_time": "2021-06-26T21:26:50.783441",
     "status": "completed"
    },
    "tags": []
   },
   "outputs": [
    {
     "data": {
      "text/plain": [
       "Survived    0\n",
       "Pclass      0\n",
       "Sex         0\n",
       "Age         0\n",
       "SibSp       0\n",
       "Parch       0\n",
       "Fare        0\n",
       "Embarked    0\n",
       "dtype: int64"
      ]
     },
     "execution_count": 28,
     "metadata": {},
     "output_type": "execute_result"
    }
   ],
   "source": [
    "# To view a missing values in a tabluar format and the percentage of nulls that make up the whole dataset:\n",
    "train.isnull().sum()"
   ]
  },
  {
   "cell_type": "code",
   "execution_count": 29,
   "id": "common-jungle",
   "metadata": {
    "execution": {
     "iopub.execute_input": "2021-06-26T21:26:51.176022Z",
     "iopub.status.busy": "2021-06-26T21:26:51.175351Z",
     "iopub.status.idle": "2021-06-26T21:26:51.652168Z",
     "shell.execute_reply": "2021-06-26T21:26:51.652661Z",
     "shell.execute_reply.started": "2021-06-26T21:25:24.506007Z"
    },
    "papermill": {
     "duration": 0.621453,
     "end_time": "2021-06-26T21:26:51.652854",
     "exception": false,
     "start_time": "2021-06-26T21:26:51.031401",
     "status": "completed"
    },
    "tags": []
   },
   "outputs": [
    {
     "data": {
      "image/png": "[encoded data removed]",
      "text/plain": [
       "<Figure size 720x576 with 1 Axes>"
      ]
     },
     "metadata": {
      "needs_background": "light"
     },
     "output_type": "display_data"
    }
   ],
   "source": [
    "# Create a heatmap to visalize the missing values \n",
    "plt.subplots(figsize=(10,8))\n",
    "\n",
    "sns.heatmap(train.isnull(),cbar = False)\n",
    "\n",
    "plt.title('Heatmap of Missing Values')\n",
    "plt.xlabel('Attributes')\n",
    "plt.ylabel('Index')\n",
    "\n",
    "plt.show() # all null values eliminated "
   ]
  },
  {
   "cell_type": "code",
   "execution_count": 30,
   "id": "numerous-digest",
   "metadata": {
    "execution": {
     "iopub.execute_input": "2021-06-26T21:26:51.891229Z",
     "iopub.status.busy": "2021-06-26T21:26:51.890579Z",
     "iopub.status.idle": "2021-06-26T21:26:51.905868Z",
     "shell.execute_reply": "2021-06-26T21:26:51.905145Z",
     "shell.execute_reply.started": "2021-06-26T21:25:25.394257Z"
    },
    "papermill": {
     "duration": 0.135184,
     "end_time": "2021-06-26T21:26:51.906058",
     "exception": false,
     "start_time": "2021-06-26T21:26:51.770874",
     "status": "completed"
    },
    "tags": []
   },
   "outputs": [
    {
     "name": "stdout",
     "output_type": "stream",
     "text": [
      "<class 'pandas.core.frame.DataFrame'>\n",
      "Int64Index: 891 entries, 0 to 890\n",
      "Data columns (total 8 columns):\n",
      " #   Column    Non-Null Count  Dtype  \n",
      "---  ------    --------------  -----  \n",
      " 0   Survived  891 non-null    int64  \n",
      " 1   Pclass    891 non-null    int64  \n",
      " 2   Sex       891 non-null    object \n",
      " 3   Age       891 non-null    float64\n",
      " 4   SibSp     891 non-null    int64  \n",
      " 5   Parch     891 non-null    int64  \n",
      " 6   Fare      891 non-null    float64\n",
      " 7   Embarked  891 non-null    object \n",
      "dtypes: float64(2), int64(4), object(2)\n",
      "memory usage: 62.6+ KB\n"
     ]
    }
   ],
   "source": [
    "train.info() # total 891 entries"
   ]
  },
  {
   "cell_type": "markdown",
   "id": "parliamentary-flesh",
   "metadata": {
    "papermill": {
     "duration": 0.118048,
     "end_time": "2021-06-26T21:26:52.144363",
     "exception": false,
     "start_time": "2021-06-26T21:26:52.026315",
     "status": "completed"
    },
    "tags": []
   },
   "source": [
    "## Visualizations - Post Preprocessing"
   ]
  },
  {
   "cell_type": "markdown",
   "id": "coated-expression",
   "metadata": {
    "papermill": {
     "duration": 0.167198,
     "end_time": "2021-06-26T21:26:52.429667",
     "exception": false,
     "start_time": "2021-06-26T21:26:52.262469",
     "status": "completed"
    },
    "tags": []
   },
   "source": [
    "### Survival Counts Based on Sex\n",
    "Looks like more males perished compared to females"
   ]
  },
  {
   "cell_type": "code",
   "execution_count": 31,
   "id": "congressional-excellence",
   "metadata": {
    "execution": {
     "iopub.execute_input": "2021-06-26T21:26:52.671345Z",
     "iopub.status.busy": "2021-06-26T21:26:52.670625Z",
     "iopub.status.idle": "2021-06-26T21:26:52.966741Z",
     "shell.execute_reply": "2021-06-26T21:26:52.966218Z",
     "shell.execute_reply.started": "2021-06-26T21:25:25.419420Z"
    },
    "papermill": {
     "duration": 0.417898,
     "end_time": "2021-06-26T21:26:52.966883",
     "exception": false,
     "start_time": "2021-06-26T21:26:52.548985",
     "status": "completed"
    },
    "tags": []
   },
   "outputs": [
    {
     "name": "stderr",
     "output_type": "stream",
     "text": [
      "/opt/conda/lib/python3.7/site-packages/seaborn/categorical.py:3714: UserWarning: The `factorplot` function has been renamed to `catplot`. The original name will be removed in a future release. Please update your code. Note that the default `kind` in `factorplot` (`'point'`) has changed `'strip'` in `catplot`.\n",
      "  warnings.warn(msg)\n"
     ]
    },
    {
     "data": {
      "text/plain": [
       "<seaborn.axisgrid.FacetGrid at 0x7fc51a6bd990>"
      ]
     },
     "execution_count": 31,
     "metadata": {},
     "output_type": "execute_result"
    },
    {
     "data": {
      "image/png": "[encoded data removed]",
      "text/plain": [
       "<Figure size 720x360 with 2 Axes>"
      ]
     },
     "metadata": {
      "needs_background": "light"
     },
     "output_type": "display_data"
    }
   ],
   "source": [
    "sns.factorplot(x='Survived',col='Sex',kind='count',data=train)"
   ]
  },
  {
   "cell_type": "markdown",
   "id": "transsexual-reach",
   "metadata": {
    "papermill": {
     "duration": 0.119266,
     "end_time": "2021-06-26T21:26:53.205543",
     "exception": false,
     "start_time": "2021-06-26T21:26:53.086277",
     "status": "completed"
    },
    "tags": []
   },
   "source": [
    "### Survival Counts Based on Passenger Class\n",
    "Looks like most people in passenger class three did not survive compared to the other two classes."
   ]
  },
  {
   "cell_type": "code",
   "execution_count": 32,
   "id": "advanced-membership",
   "metadata": {
    "execution": {
     "iopub.execute_input": "2021-06-26T21:26:53.452392Z",
     "iopub.status.busy": "2021-06-26T21:26:53.450370Z",
     "iopub.status.idle": "2021-06-26T21:26:53.672942Z",
     "shell.execute_reply": "2021-06-26T21:26:53.672248Z",
     "shell.execute_reply.started": "2021-06-26T21:25:25.732580Z"
    },
    "papermill": {
     "duration": 0.348975,
     "end_time": "2021-06-26T21:26:53.673099",
     "exception": false,
     "start_time": "2021-06-26T21:26:53.324124",
     "status": "completed"
    },
    "tags": []
   },
   "outputs": [
    {
     "data": {
      "text/plain": [
       "<AxesSubplot:xlabel='Survived', ylabel='count'>"
      ]
     },
     "execution_count": 32,
     "metadata": {},
     "output_type": "execute_result"
    },
    {
     "data": {
      "image/png": "[encoded data removed]",
      "text/plain": [
       "<Figure size 432x288 with 1 Axes>"
      ]
     },
     "metadata": {
      "needs_background": "light"
     },
     "output_type": "display_data"
    }
   ],
   "source": [
    "sns.countplot(x='Survived',hue='Pclass',data=train)"
   ]
  },
  {
   "cell_type": "markdown",
   "id": "congressional-doubt",
   "metadata": {
    "papermill": {
     "duration": 0.121222,
     "end_time": "2021-06-26T21:26:53.915512",
     "exception": false,
     "start_time": "2021-06-26T21:26:53.794290",
     "status": "completed"
    },
    "tags": []
   },
   "source": [
    "### Number of Siblings/Spouse and Number of Parents/Grandparents on board\n",
    "\n",
    "Looks like most passengers came on board the titanic alone"
   ]
  },
  {
   "cell_type": "code",
   "execution_count": 33,
   "id": "selective-uganda",
   "metadata": {
    "execution": {
     "iopub.execute_input": "2021-06-26T21:26:54.167738Z",
     "iopub.status.busy": "2021-06-26T21:26:54.167056Z",
     "iopub.status.idle": "2021-06-26T21:26:54.321798Z",
     "shell.execute_reply": "2021-06-26T21:26:54.321252Z",
     "shell.execute_reply.started": "2021-06-26T21:25:25.913024Z"
    },
    "papermill": {
     "duration": 0.284628,
     "end_time": "2021-06-26T21:26:54.321944",
     "exception": false,
     "start_time": "2021-06-26T21:26:54.037316",
     "status": "completed"
    },
    "tags": []
   },
   "outputs": [
    {
     "data": {
      "text/plain": [
       "<AxesSubplot:xlabel='Parch', ylabel='count'>"
      ]
     },
     "execution_count": 33,
     "metadata": {},
     "output_type": "execute_result"
    },
    {
     "data": {
      "image/png": "[encoded data removed]",
      "text/plain": [
       "<Figure size 432x288 with 1 Axes>"
      ]
     },
     "metadata": {
      "needs_background": "light"
     },
     "output_type": "display_data"
    }
   ],
   "source": [
    "sns.countplot(x='Parch',data=train)"
   ]
  },
  {
   "cell_type": "code",
   "execution_count": 34,
   "id": "rapid-fiction",
   "metadata": {
    "execution": {
     "iopub.execute_input": "2021-06-26T21:26:54.570363Z",
     "iopub.status.busy": "2021-06-26T21:26:54.569710Z",
     "iopub.status.idle": "2021-06-26T21:26:54.716600Z",
     "shell.execute_reply": "2021-06-26T21:26:54.716046Z",
     "shell.execute_reply.started": "2021-06-26T21:25:26.084297Z"
    },
    "papermill": {
     "duration": 0.273487,
     "end_time": "2021-06-26T21:26:54.716756",
     "exception": false,
     "start_time": "2021-06-26T21:26:54.443269",
     "status": "completed"
    },
    "tags": []
   },
   "outputs": [
    {
     "data": {
      "text/plain": [
       "<AxesSubplot:xlabel='SibSp', ylabel='count'>"
      ]
     },
     "execution_count": 34,
     "metadata": {},
     "output_type": "execute_result"
    },
    {
     "data": {
      "image/png": "[encoded data removed]",
      "text/plain": [
       "<Figure size 432x288 with 1 Axes>"
      ]
     },
     "metadata": {
      "needs_background": "light"
     },
     "output_type": "display_data"
    }
   ],
   "source": [
    "sns.countplot(x='SibSp',data=train)"
   ]
  },
  {
   "cell_type": "markdown",
   "id": "declared-immigration",
   "metadata": {
    "papermill": {
     "duration": 0.123997,
     "end_time": "2021-06-26T21:26:54.964468",
     "exception": false,
     "start_time": "2021-06-26T21:26:54.840471",
     "status": "completed"
    },
    "tags": []
   },
   "source": [
    "## Compare Relationship Between Passenger Class and Fare and Survival"
   ]
  },
  {
   "cell_type": "code",
   "execution_count": 35,
   "id": "built-copper",
   "metadata": {
    "execution": {
     "iopub.execute_input": "2021-06-26T21:26:55.225642Z",
     "iopub.status.busy": "2021-06-26T21:26:55.224587Z",
     "iopub.status.idle": "2021-06-26T21:26:55.229341Z",
     "shell.execute_reply": "2021-06-26T21:26:55.228656Z",
     "shell.execute_reply.started": "2021-06-26T21:25:26.250135Z"
    },
    "papermill": {
     "duration": 0.138128,
     "end_time": "2021-06-26T21:26:55.229504",
     "exception": false,
     "start_time": "2021-06-26T21:26:55.091376",
     "status": "completed"
    },
    "tags": []
   },
   "outputs": [
    {
     "data": {
      "text/plain": [
       "Pclass\n",
       "1    512.33\n",
       "2     73.50\n",
       "3     69.55\n",
       "Name: Fare, dtype: float64"
      ]
     },
     "execution_count": 35,
     "metadata": {},
     "output_type": "execute_result"
    }
   ],
   "source": [
    "train.groupby(['Pclass'])['Fare'].max().round(2)\n",
    "# Note: On average passengers paid a higher fare if you were on 1st class vs the other two classes\n",
    "# But we will use max values as our threshold to determine fare paid by each passenger based on class"
   ]
  },
  {
   "cell_type": "code",
   "execution_count": 36,
   "id": "electrical-aggregate",
   "metadata": {
    "execution": {
     "iopub.execute_input": "2021-06-26T21:26:55.485333Z",
     "iopub.status.busy": "2021-06-26T21:26:55.484218Z",
     "iopub.status.idle": "2021-06-26T21:26:55.489717Z",
     "shell.execute_reply": "2021-06-26T21:26:55.489185Z",
     "shell.execute_reply.started": "2021-06-26T21:25:26.264243Z"
    },
    "papermill": {
     "duration": 0.13691,
     "end_time": "2021-06-26T21:26:55.489884",
     "exception": false,
     "start_time": "2021-06-26T21:26:55.352974",
     "status": "completed"
    },
    "tags": []
   },
   "outputs": [
    {
     "data": {
      "text/plain": [
       "Pclass\n",
       "1    216\n",
       "2    184\n",
       "3    491\n",
       "Name: Survived, dtype: int64"
      ]
     },
     "execution_count": 36,
     "metadata": {},
     "output_type": "execute_result"
    }
   ],
   "source": [
    "train.groupby(['Pclass'])['Survived'].count()\n",
    "# Looks the people on board 2nd class less likely survived compared to 1st and 3rd class passengers"
   ]
  },
  {
   "cell_type": "code",
   "execution_count": 37,
   "id": "different-desperate",
   "metadata": {
    "execution": {
     "iopub.execute_input": "2021-06-26T21:26:55.743983Z",
     "iopub.status.busy": "2021-06-26T21:26:55.743270Z",
     "iopub.status.idle": "2021-06-26T21:26:55.754139Z",
     "shell.execute_reply": "2021-06-26T21:26:55.754610Z",
     "shell.execute_reply.started": "2021-06-26T21:25:26.275021Z"
    },
    "papermill": {
     "duration": 0.140992,
     "end_time": "2021-06-26T21:26:55.754838",
     "exception": false,
     "start_time": "2021-06-26T21:26:55.613846",
     "status": "completed"
    },
    "tags": []
   },
   "outputs": [
    {
     "data": {
      "text/html": [
       "<div>\n",
       "<style scoped>\n",
       "    .dataframe tbody tr th:only-of-type {\n",
       "        vertical-align: middle;\n",
       "    }\n",
       "\n",
       "    .dataframe tbody tr th {\n",
       "        vertical-align: top;\n",
       "    }\n",
       "\n",
       "    .dataframe thead th {\n",
       "        text-align: right;\n",
       "    }\n",
       "</style>\n",
       "<table border=\"1\" class=\"dataframe\">\n",
       "  <thead>\n",
       "    <tr style=\"text-align: right;\">\n",
       "      <th></th>\n",
       "      <th>Survived</th>\n",
       "      <th>Pclass</th>\n",
       "      <th>Sex</th>\n",
       "      <th>Age</th>\n",
       "      <th>SibSp</th>\n",
       "      <th>Parch</th>\n",
       "      <th>Fare</th>\n",
       "      <th>Embarked</th>\n",
       "    </tr>\n",
       "  </thead>\n",
       "  <tbody>\n",
       "    <tr>\n",
       "      <th>0</th>\n",
       "      <td>0</td>\n",
       "      <td>3</td>\n",
       "      <td>male</td>\n",
       "      <td>22.0</td>\n",
       "      <td>1</td>\n",
       "      <td>0</td>\n",
       "      <td>7.2500</td>\n",
       "      <td>S</td>\n",
       "    </tr>\n",
       "    <tr>\n",
       "      <th>1</th>\n",
       "      <td>1</td>\n",
       "      <td>1</td>\n",
       "      <td>female</td>\n",
       "      <td>38.0</td>\n",
       "      <td>1</td>\n",
       "      <td>0</td>\n",
       "      <td>71.2833</td>\n",
       "      <td>C</td>\n",
       "    </tr>\n",
       "    <tr>\n",
       "      <th>2</th>\n",
       "      <td>1</td>\n",
       "      <td>3</td>\n",
       "      <td>female</td>\n",
       "      <td>26.0</td>\n",
       "      <td>0</td>\n",
       "      <td>0</td>\n",
       "      <td>7.9250</td>\n",
       "      <td>S</td>\n",
       "    </tr>\n",
       "    <tr>\n",
       "      <th>3</th>\n",
       "      <td>1</td>\n",
       "      <td>1</td>\n",
       "      <td>female</td>\n",
       "      <td>35.0</td>\n",
       "      <td>1</td>\n",
       "      <td>0</td>\n",
       "      <td>53.1000</td>\n",
       "      <td>S</td>\n",
       "    </tr>\n",
       "    <tr>\n",
       "      <th>4</th>\n",
       "      <td>0</td>\n",
       "      <td>3</td>\n",
       "      <td>male</td>\n",
       "      <td>35.0</td>\n",
       "      <td>0</td>\n",
       "      <td>0</td>\n",
       "      <td>8.0500</td>\n",
       "      <td>S</td>\n",
       "    </tr>\n",
       "  </tbody>\n",
       "</table>\n",
       "</div>"
      ],
      "text/plain": [
       "   Survived  Pclass     Sex   Age  SibSp  Parch     Fare Embarked\n",
       "0         0       3    male  22.0      1      0   7.2500        S\n",
       "1         1       1  female  38.0      1      0  71.2833        C\n",
       "2         1       3  female  26.0      0      0   7.9250        S\n",
       "3         1       1  female  35.0      1      0  53.1000        S\n",
       "4         0       3    male  35.0      0      0   8.0500        S"
      ]
     },
     "execution_count": 37,
     "metadata": {},
     "output_type": "execute_result"
    }
   ],
   "source": [
    "train.head()"
   ]
  },
  {
   "cell_type": "markdown",
   "id": "automatic-shannon",
   "metadata": {
    "papermill": {
     "duration": 0.12631,
     "end_time": "2021-06-26T21:26:56.007363",
     "exception": false,
     "start_time": "2021-06-26T21:26:55.881053",
     "status": "completed"
    },
    "tags": []
   },
   "source": [
    "## Convert the values in the rest of the columns to int"
   ]
  },
  {
   "cell_type": "code",
   "execution_count": 38,
   "id": "operational-number",
   "metadata": {
    "execution": {
     "iopub.execute_input": "2021-06-26T21:26:56.267429Z",
     "iopub.status.busy": "2021-06-26T21:26:56.266558Z",
     "iopub.status.idle": "2021-06-26T21:26:56.269950Z",
     "shell.execute_reply": "2021-06-26T21:26:56.269373Z",
     "shell.execute_reply.started": "2021-06-26T21:25:26.296918Z"
    },
    "papermill": {
     "duration": 0.133659,
     "end_time": "2021-06-26T21:26:56.270119",
     "exception": false,
     "start_time": "2021-06-26T21:26:56.136460",
     "status": "completed"
    },
    "tags": []
   },
   "outputs": [],
   "source": [
    "#titanic['Survived'] = titanic['Survived'].astype(int)\n",
    "#titanic['SibSp'] = titanic['SibSp'].astype(int)\n",
    "#titanic['Parch'] = titanic['Parch'].astype(int)\n",
    "#titanic['Pclass'] = titanic['Pclass'].astype(int)"
   ]
  },
  {
   "cell_type": "markdown",
   "id": "painted-acoustic",
   "metadata": {
    "papermill": {
     "duration": 0.123446,
     "end_time": "2021-06-26T21:26:56.517214",
     "exception": false,
     "start_time": "2021-06-26T21:26:56.393768",
     "status": "completed"
    },
    "tags": []
   },
   "source": [
    "# Hot-Encode Values in Sex, Embarked, Pclass, SibSp, and Parch Features"
   ]
  },
  {
   "cell_type": "code",
   "execution_count": 39,
   "id": "documented-slovenia",
   "metadata": {
    "execution": {
     "iopub.execute_input": "2021-06-26T21:26:56.769394Z",
     "iopub.status.busy": "2021-06-26T21:26:56.768569Z",
     "iopub.status.idle": "2021-06-26T21:26:56.941614Z",
     "shell.execute_reply": "2021-06-26T21:26:56.941061Z",
     "shell.execute_reply.started": "2021-06-26T21:25:26.310242Z"
    },
    "papermill": {
     "duration": 0.30115,
     "end_time": "2021-06-26T21:26:56.941813",
     "exception": false,
     "start_time": "2021-06-26T21:26:56.640663",
     "status": "completed"
    },
    "tags": []
   },
   "outputs": [],
   "source": [
    "from sklearn.preprocessing import OneHotEncoder"
   ]
  },
  {
   "cell_type": "markdown",
   "id": "pharmaceutical-armor",
   "metadata": {
    "papermill": {
     "duration": 0.12407,
     "end_time": "2021-06-26T21:26:57.192050",
     "exception": false,
     "start_time": "2021-06-26T21:26:57.067980",
     "status": "completed"
    },
    "tags": []
   },
   "source": [
    "## First Map Values for Siblings and Parents Feature"
   ]
  },
  {
   "cell_type": "code",
   "execution_count": 40,
   "id": "increased-alloy",
   "metadata": {
    "execution": {
     "iopub.execute_input": "2021-06-26T21:26:57.451435Z",
     "iopub.status.busy": "2021-06-26T21:26:57.450373Z",
     "iopub.status.idle": "2021-06-26T21:26:57.453877Z",
     "shell.execute_reply": "2021-06-26T21:26:57.454351Z",
     "shell.execute_reply.started": "2021-06-26T21:25:26.323526Z"
    },
    "papermill": {
     "duration": 0.139634,
     "end_time": "2021-06-26T21:26:57.454532",
     "exception": false,
     "start_time": "2021-06-26T21:26:57.314898",
     "status": "completed"
    },
    "tags": []
   },
   "outputs": [
    {
     "data": {
      "text/html": [
       "<div>\n",
       "<style scoped>\n",
       "    .dataframe tbody tr th:only-of-type {\n",
       "        vertical-align: middle;\n",
       "    }\n",
       "\n",
       "    .dataframe tbody tr th {\n",
       "        vertical-align: top;\n",
       "    }\n",
       "\n",
       "    .dataframe thead th {\n",
       "        text-align: right;\n",
       "    }\n",
       "</style>\n",
       "<table border=\"1\" class=\"dataframe\">\n",
       "  <thead>\n",
       "    <tr style=\"text-align: right;\">\n",
       "      <th></th>\n",
       "      <th>Survived</th>\n",
       "      <th>Pclass</th>\n",
       "      <th>Sex</th>\n",
       "      <th>Age</th>\n",
       "      <th>SibSp</th>\n",
       "      <th>Parch</th>\n",
       "      <th>Fare</th>\n",
       "      <th>Embarked</th>\n",
       "    </tr>\n",
       "  </thead>\n",
       "  <tbody>\n",
       "    <tr>\n",
       "      <th>0</th>\n",
       "      <td>0</td>\n",
       "      <td>3</td>\n",
       "      <td>male</td>\n",
       "      <td>22.0</td>\n",
       "      <td>1</td>\n",
       "      <td>0</td>\n",
       "      <td>7.2500</td>\n",
       "      <td>S</td>\n",
       "    </tr>\n",
       "    <tr>\n",
       "      <th>1</th>\n",
       "      <td>1</td>\n",
       "      <td>1</td>\n",
       "      <td>female</td>\n",
       "      <td>38.0</td>\n",
       "      <td>1</td>\n",
       "      <td>0</td>\n",
       "      <td>71.2833</td>\n",
       "      <td>C</td>\n",
       "    </tr>\n",
       "    <tr>\n",
       "      <th>2</th>\n",
       "      <td>1</td>\n",
       "      <td>3</td>\n",
       "      <td>female</td>\n",
       "      <td>26.0</td>\n",
       "      <td>0</td>\n",
       "      <td>0</td>\n",
       "      <td>7.9250</td>\n",
       "      <td>S</td>\n",
       "    </tr>\n",
       "    <tr>\n",
       "      <th>3</th>\n",
       "      <td>1</td>\n",
       "      <td>1</td>\n",
       "      <td>female</td>\n",
       "      <td>35.0</td>\n",
       "      <td>1</td>\n",
       "      <td>0</td>\n",
       "      <td>53.1000</td>\n",
       "      <td>S</td>\n",
       "    </tr>\n",
       "    <tr>\n",
       "      <th>4</th>\n",
       "      <td>0</td>\n",
       "      <td>3</td>\n",
       "      <td>male</td>\n",
       "      <td>35.0</td>\n",
       "      <td>0</td>\n",
       "      <td>0</td>\n",
       "      <td>8.0500</td>\n",
       "      <td>S</td>\n",
       "    </tr>\n",
       "  </tbody>\n",
       "</table>\n",
       "</div>"
      ],
      "text/plain": [
       "   Survived  Pclass     Sex   Age  SibSp  Parch     Fare Embarked\n",
       "0         0       3    male  22.0      1      0   7.2500        S\n",
       "1         1       1  female  38.0      1      0  71.2833        C\n",
       "2         1       3  female  26.0      0      0   7.9250        S\n",
       "3         1       1  female  35.0      1      0  53.1000        S\n",
       "4         0       3    male  35.0      0      0   8.0500        S"
      ]
     },
     "execution_count": 40,
     "metadata": {},
     "output_type": "execute_result"
    }
   ],
   "source": [
    "train.head()"
   ]
  },
  {
   "cell_type": "code",
   "execution_count": 41,
   "id": "incoming-playback",
   "metadata": {
    "execution": {
     "iopub.execute_input": "2021-06-26T21:26:57.705912Z",
     "iopub.status.busy": "2021-06-26T21:26:57.705228Z",
     "iopub.status.idle": "2021-06-26T21:26:57.713474Z",
     "shell.execute_reply": "2021-06-26T21:26:57.714040Z",
     "shell.execute_reply.started": "2021-06-26T21:25:26.351036Z"
    },
    "papermill": {
     "duration": 0.135597,
     "end_time": "2021-06-26T21:26:57.714216",
     "exception": false,
     "start_time": "2021-06-26T21:26:57.578619",
     "status": "completed"
    },
    "tags": []
   },
   "outputs": [],
   "source": [
    "train.loc[((train.SibSp < 1 )) ,'SibSp'] =  0 # no siblings = 0\n",
    "train.loc[((train.Parch < 1 )) ,'Parch'] =  0 # no parents = 0\n",
    "\n",
    "train.loc[((train.SibSp >= 1 )) ,'SibSp'] =  1 # 1 or more siblings = 1\n",
    "train.loc[((train.Parch >= 1 )) ,'Parch'] =  1 # 1 or more parents = 1"
   ]
  },
  {
   "cell_type": "code",
   "execution_count": 42,
   "id": "continued-origin",
   "metadata": {
    "execution": {
     "iopub.execute_input": "2021-06-26T21:26:57.966746Z",
     "iopub.status.busy": "2021-06-26T21:26:57.965759Z",
     "iopub.status.idle": "2021-06-26T21:26:57.969286Z",
     "shell.execute_reply": "2021-06-26T21:26:57.969882Z",
     "shell.execute_reply.started": "2021-06-26T21:25:26.365368Z"
    },
    "papermill": {
     "duration": 0.131428,
     "end_time": "2021-06-26T21:26:57.970066",
     "exception": false,
     "start_time": "2021-06-26T21:26:57.838638",
     "status": "completed"
    },
    "tags": []
   },
   "outputs": [],
   "source": [
    "# we will use 1, 2, 3 insteed of S, Q, C\n",
    "\n",
    "#S = Southampton => 1\n",
    "# Q = Queenstown => 2\n",
    "# C = Cherbourg => 3\n",
    "\n",
    "#titanic['Embarked'] = titanic['Embarked'].map({\"S\": 1, \"Q\": 2, \"C\": 3})"
   ]
  },
  {
   "cell_type": "code",
   "execution_count": 43,
   "id": "surface-bottle",
   "metadata": {
    "execution": {
     "iopub.execute_input": "2021-06-26T21:26:58.223456Z",
     "iopub.status.busy": "2021-06-26T21:26:58.222507Z",
     "iopub.status.idle": "2021-06-26T21:26:58.225932Z",
     "shell.execute_reply": "2021-06-26T21:26:58.226405Z",
     "shell.execute_reply.started": "2021-06-26T21:25:26.378953Z"
    },
    "papermill": {
     "duration": 0.13054,
     "end_time": "2021-06-26T21:26:58.226578",
     "exception": false,
     "start_time": "2021-06-26T21:26:58.096038",
     "status": "completed"
    },
    "tags": []
   },
   "outputs": [],
   "source": [
    "# male = 0\n",
    "# female = 1\n",
    "#titanic['Sex'] = titanic['Sex'].map({'male':0, 'female':1})"
   ]
  },
  {
   "cell_type": "code",
   "execution_count": 44,
   "id": "scenic-start",
   "metadata": {
    "execution": {
     "iopub.execute_input": "2021-06-26T21:26:58.476577Z",
     "iopub.status.busy": "2021-06-26T21:26:58.475662Z",
     "iopub.status.idle": "2021-06-26T21:26:58.490280Z",
     "shell.execute_reply": "2021-06-26T21:26:58.489649Z",
     "shell.execute_reply.started": "2021-06-26T21:25:26.391565Z"
    },
    "papermill": {
     "duration": 0.141075,
     "end_time": "2021-06-26T21:26:58.490418",
     "exception": false,
     "start_time": "2021-06-26T21:26:58.349343",
     "status": "completed"
    },
    "scrolled": true,
    "tags": []
   },
   "outputs": [
    {
     "data": {
      "text/html": [
       "<div>\n",
       "<style scoped>\n",
       "    .dataframe tbody tr th:only-of-type {\n",
       "        vertical-align: middle;\n",
       "    }\n",
       "\n",
       "    .dataframe tbody tr th {\n",
       "        vertical-align: top;\n",
       "    }\n",
       "\n",
       "    .dataframe thead th {\n",
       "        text-align: right;\n",
       "    }\n",
       "</style>\n",
       "<table border=\"1\" class=\"dataframe\">\n",
       "  <thead>\n",
       "    <tr style=\"text-align: right;\">\n",
       "      <th></th>\n",
       "      <th>Survived</th>\n",
       "      <th>Pclass</th>\n",
       "      <th>Sex</th>\n",
       "      <th>Age</th>\n",
       "      <th>SibSp</th>\n",
       "      <th>Parch</th>\n",
       "      <th>Fare</th>\n",
       "      <th>Embarked</th>\n",
       "    </tr>\n",
       "  </thead>\n",
       "  <tbody>\n",
       "    <tr>\n",
       "      <th>0</th>\n",
       "      <td>0</td>\n",
       "      <td>3</td>\n",
       "      <td>male</td>\n",
       "      <td>22.0</td>\n",
       "      <td>1</td>\n",
       "      <td>0</td>\n",
       "      <td>7.2500</td>\n",
       "      <td>S</td>\n",
       "    </tr>\n",
       "    <tr>\n",
       "      <th>1</th>\n",
       "      <td>1</td>\n",
       "      <td>1</td>\n",
       "      <td>female</td>\n",
       "      <td>38.0</td>\n",
       "      <td>1</td>\n",
       "      <td>0</td>\n",
       "      <td>71.2833</td>\n",
       "      <td>C</td>\n",
       "    </tr>\n",
       "    <tr>\n",
       "      <th>2</th>\n",
       "      <td>1</td>\n",
       "      <td>3</td>\n",
       "      <td>female</td>\n",
       "      <td>26.0</td>\n",
       "      <td>0</td>\n",
       "      <td>0</td>\n",
       "      <td>7.9250</td>\n",
       "      <td>S</td>\n",
       "    </tr>\n",
       "    <tr>\n",
       "      <th>3</th>\n",
       "      <td>1</td>\n",
       "      <td>1</td>\n",
       "      <td>female</td>\n",
       "      <td>35.0</td>\n",
       "      <td>1</td>\n",
       "      <td>0</td>\n",
       "      <td>53.1000</td>\n",
       "      <td>S</td>\n",
       "    </tr>\n",
       "    <tr>\n",
       "      <th>4</th>\n",
       "      <td>0</td>\n",
       "      <td>3</td>\n",
       "      <td>male</td>\n",
       "      <td>35.0</td>\n",
       "      <td>0</td>\n",
       "      <td>0</td>\n",
       "      <td>8.0500</td>\n",
       "      <td>S</td>\n",
       "    </tr>\n",
       "  </tbody>\n",
       "</table>\n",
       "</div>"
      ],
      "text/plain": [
       "   Survived  Pclass     Sex   Age  SibSp  Parch     Fare Embarked\n",
       "0         0       3    male  22.0      1      0   7.2500        S\n",
       "1         1       1  female  38.0      1      0  71.2833        C\n",
       "2         1       3  female  26.0      0      0   7.9250        S\n",
       "3         1       1  female  35.0      1      0  53.1000        S\n",
       "4         0       3    male  35.0      0      0   8.0500        S"
      ]
     },
     "execution_count": 44,
     "metadata": {},
     "output_type": "execute_result"
    }
   ],
   "source": [
    "train.head()"
   ]
  },
  {
   "cell_type": "markdown",
   "id": "rural-struggle",
   "metadata": {
    "papermill": {
     "duration": 0.123805,
     "end_time": "2021-06-26T21:26:58.738039",
     "exception": false,
     "start_time": "2021-06-26T21:26:58.614234",
     "status": "completed"
    },
    "tags": []
   },
   "source": [
    "## Compare Relationship Between  Fare and Passenger Class"
   ]
  },
  {
   "cell_type": "code",
   "execution_count": 45,
   "id": "brazilian-reliance",
   "metadata": {
    "execution": {
     "iopub.execute_input": "2021-06-26T21:26:58.992485Z",
     "iopub.status.busy": "2021-06-26T21:26:58.991537Z",
     "iopub.status.idle": "2021-06-26T21:26:59.000386Z",
     "shell.execute_reply": "2021-06-26T21:26:59.000859Z",
     "shell.execute_reply.started": "2021-06-26T21:25:26.420876Z"
    },
    "papermill": {
     "duration": 0.136671,
     "end_time": "2021-06-26T21:26:59.001048",
     "exception": false,
     "start_time": "2021-06-26T21:26:58.864377",
     "status": "completed"
    },
    "tags": []
   },
   "outputs": [
    {
     "data": {
      "text/plain": [
       "Pclass\n",
       "1    512.33\n",
       "2     73.50\n",
       "3     69.55\n",
       "Name: Fare, dtype: float64"
      ]
     },
     "execution_count": 45,
     "metadata": {},
     "output_type": "execute_result"
    }
   ],
   "source": [
    "train.groupby(['Pclass'])['Fare'].max().round(2)\n",
    "# Note: On average passengers paid a higher fare if you were on 1st class vs the other two classes\n",
    "# But we will use max values as our threshold to determine fare paid by each passenger based on class"
   ]
  },
  {
   "cell_type": "markdown",
   "id": "stuffed-military",
   "metadata": {
    "papermill": {
     "duration": 0.127184,
     "end_time": "2021-06-26T21:26:59.255289",
     "exception": false,
     "start_time": "2021-06-26T21:26:59.128105",
     "status": "completed"
    },
    "tags": []
   },
   "source": [
    "## Hot-Encode Embarked, Siblings, Parent , Sex , Pclass Features and Survived"
   ]
  },
  {
   "cell_type": "code",
   "execution_count": 46,
   "id": "spiritual-engine",
   "metadata": {
    "execution": {
     "iopub.execute_input": "2021-06-26T21:26:59.514021Z",
     "iopub.status.busy": "2021-06-26T21:26:59.513256Z",
     "iopub.status.idle": "2021-06-26T21:26:59.515387Z",
     "shell.execute_reply": "2021-06-26T21:26:59.515882Z",
     "shell.execute_reply.started": "2021-06-26T21:25:26.432178Z"
    },
    "papermill": {
     "duration": 0.13319,
     "end_time": "2021-06-26T21:26:59.516078",
     "exception": false,
     "start_time": "2021-06-26T21:26:59.382888",
     "status": "completed"
    },
    "tags": []
   },
   "outputs": [],
   "source": [
    "#titanic.columns"
   ]
  },
  {
   "cell_type": "code",
   "execution_count": 47,
   "id": "large-child",
   "metadata": {
    "execution": {
     "iopub.execute_input": "2021-06-26T21:26:59.769882Z",
     "iopub.status.busy": "2021-06-26T21:26:59.769215Z",
     "iopub.status.idle": "2021-06-26T21:26:59.772358Z",
     "shell.execute_reply": "2021-06-26T21:26:59.772805Z",
     "shell.execute_reply.started": "2021-06-26T21:25:26.443468Z"
    },
    "papermill": {
     "duration": 0.131661,
     "end_time": "2021-06-26T21:26:59.773002",
     "exception": false,
     "start_time": "2021-06-26T21:26:59.641341",
     "status": "completed"
    },
    "tags": []
   },
   "outputs": [],
   "source": [
    "#columns = ['Survived', 'Pclass', 'Sex', 'Age', 'SibSp', 'Parch', 'Fare', 'Embarked']\n",
    "\n",
    "#for col in columns:\n",
    "    #X_train = pd.concat([X_train, pd.get_dummies(data_train[col])], axis =1)\n",
    "    #X_test = pd.concat([X_test, pd.get_dummies(data_test[col])], axis =1)\n",
    "    \n",
    "    #titanic = pd.concat([titanic, pd.get_dummies(titanic[col], drop_first = True)], axis =1)\n",
    "    #X_test_onehot = pd.concat([X_test_onehot, pd.get_dummies(X_test_onehot[col], drop_first = True)], axis =1)"
   ]
  },
  {
   "cell_type": "code",
   "execution_count": 48,
   "id": "informational-price",
   "metadata": {
    "execution": {
     "iopub.execute_input": "2021-06-26T21:27:00.028379Z",
     "iopub.status.busy": "2021-06-26T21:27:00.027631Z",
     "iopub.status.idle": "2021-06-26T21:27:00.030898Z",
     "shell.execute_reply": "2021-06-26T21:27:00.031391Z",
     "shell.execute_reply.started": "2021-06-26T21:25:26.461265Z"
    },
    "papermill": {
     "duration": 0.133111,
     "end_time": "2021-06-26T21:27:00.031586",
     "exception": false,
     "start_time": "2021-06-26T21:26:59.898475",
     "status": "completed"
    },
    "tags": []
   },
   "outputs": [],
   "source": [
    "#titanic = titanic.drop(columns, axis=1)\n",
    "#X_test_onehot = X_test_onehot.drop(columns, axis=1)"
   ]
  },
  {
   "cell_type": "code",
   "execution_count": 49,
   "id": "atlantic-catholic",
   "metadata": {
    "execution": {
     "iopub.execute_input": "2021-06-26T21:27:00.289186Z",
     "iopub.status.busy": "2021-06-26T21:27:00.288351Z",
     "iopub.status.idle": "2021-06-26T21:27:00.293142Z",
     "shell.execute_reply": "2021-06-26T21:27:00.292560Z",
     "shell.execute_reply.started": "2021-06-26T21:25:26.471549Z"
    },
    "papermill": {
     "duration": 0.134312,
     "end_time": "2021-06-26T21:27:00.293305",
     "exception": false,
     "start_time": "2021-06-26T21:27:00.158993",
     "status": "completed"
    },
    "tags": []
   },
   "outputs": [],
   "source": [
    "#titanic.head()"
   ]
  },
  {
   "cell_type": "markdown",
   "id": "continuing-glory",
   "metadata": {
    "papermill": {
     "duration": 0.13014,
     "end_time": "2021-06-26T21:27:00.549662",
     "exception": false,
     "start_time": "2021-06-26T21:27:00.419522",
     "status": "completed"
    },
    "tags": []
   },
   "source": [
    "## Convert the values in the rest of the columns to int"
   ]
  },
  {
   "cell_type": "code",
   "execution_count": 50,
   "id": "entertaining-growth",
   "metadata": {
    "execution": {
     "iopub.execute_input": "2021-06-26T21:27:00.805274Z",
     "iopub.status.busy": "2021-06-26T21:27:00.804387Z",
     "iopub.status.idle": "2021-06-26T21:27:00.806979Z",
     "shell.execute_reply": "2021-06-26T21:27:00.807418Z",
     "shell.execute_reply.started": "2021-06-26T21:25:26.486127Z"
    },
    "papermill": {
     "duration": 0.132972,
     "end_time": "2021-06-26T21:27:00.807616",
     "exception": false,
     "start_time": "2021-06-26T21:27:00.674644",
     "status": "completed"
    },
    "tags": []
   },
   "outputs": [],
   "source": [
    "#titanic['Survived'] = titanic['Survived'].astype(int)\n",
    "#titanic['SibSp'] = titanic['SibSp'].astype(int)\n",
    "#titanic['Parch'] = titanic['Parch'].astype(int)\n",
    "#titanic['Pclass'] = titanic['Pclass'].astype(int)"
   ]
  },
  {
   "cell_type": "markdown",
   "id": "accomplished-scroll",
   "metadata": {
    "papermill": {
     "duration": 0.127805,
     "end_time": "2021-06-26T21:27:01.060730",
     "exception": false,
     "start_time": "2021-06-26T21:27:00.932925",
     "status": "completed"
    },
    "tags": []
   },
   "source": [
    "## Hot- Encode Categorical Values and Scale Continous Values and then Concat\n",
    "\n",
    "https://stackoverflow.com/questions/43798377/one-hot-encode-categorical-variables-and-scale-continuous-ones-simultaneouely"
   ]
  },
  {
   "cell_type": "code",
   "execution_count": 51,
   "id": "copyrighted-presentation",
   "metadata": {
    "execution": {
     "iopub.execute_input": "2021-06-26T21:27:01.316021Z",
     "iopub.status.busy": "2021-06-26T21:27:01.315356Z",
     "iopub.status.idle": "2021-06-26T21:27:01.317905Z",
     "shell.execute_reply": "2021-06-26T21:27:01.318544Z",
     "shell.execute_reply.started": "2021-06-26T21:25:26.498611Z"
    },
    "papermill": {
     "duration": 0.131478,
     "end_time": "2021-06-26T21:27:01.318726",
     "exception": false,
     "start_time": "2021-06-26T21:27:01.187248",
     "status": "completed"
    },
    "tags": []
   },
   "outputs": [],
   "source": [
    "#titanic = pd.get_dummies(titanic, columns=['Survived', 'Pclass', 'Sex','SibSp', 'Parch','Embarked', 'Age', 'Fare'],drop_first=True)\n",
    "#titanic.head(10)\n",
    "\n",
    "# I have encoded Fare and Age (which are continuous, NOT categorical, variables)"
   ]
  },
  {
   "cell_type": "code",
   "execution_count": 52,
   "id": "sticky-tennessee",
   "metadata": {
    "execution": {
     "iopub.execute_input": "2021-06-26T21:27:01.571308Z",
     "iopub.status.busy": "2021-06-26T21:27:01.570625Z",
     "iopub.status.idle": "2021-06-26T21:27:01.585533Z",
     "shell.execute_reply": "2021-06-26T21:27:01.586043Z",
     "shell.execute_reply.started": "2021-06-26T21:25:26.511950Z"
    },
    "papermill": {
     "duration": 0.142775,
     "end_time": "2021-06-26T21:27:01.586233",
     "exception": false,
     "start_time": "2021-06-26T21:27:01.443458",
     "status": "completed"
    },
    "tags": []
   },
   "outputs": [],
   "source": [
    "\n",
    "#['Survived', 'Pclass', 'Sex', 'Age', 'SibSp', 'Parch', 'Fare', 'Embarked']\n",
    "from sklearn.preprocessing import StandardScaler, OneHotEncoder\n",
    "\n",
    "# Define which columns should be encoded vs scaled\n",
    "columns_to_encode = ['Survived', 'Pclass', 'Sex','SibSp', 'Parch','Embarked'] # categorical values are hot-encoded\n",
    "columns_to_scale  = ['Age', 'Fare'] # numerical values scaled\n",
    "\n",
    "# Instantiate encoder/scaler\n",
    "scaler = StandardScaler()\n",
    "ohe = OneHotEncoder(sparse=False)\n",
    "\n",
    "# Scale and Encode Separate Columns\n",
    "scaled_columns  = scaler.fit_transform(train[columns_to_scale]) \n",
    "encoded_columns =  ohe.fit_transform(train[columns_to_encode])\n",
    "\n",
    "#print(scaled_columns[1])\n",
    "#print(encoded_columns[1])\n"
   ]
  },
  {
   "cell_type": "code",
   "execution_count": 53,
   "id": "genetic-seller",
   "metadata": {
    "execution": {
     "iopub.execute_input": "2021-06-26T21:27:01.842387Z",
     "iopub.status.busy": "2021-06-26T21:27:01.841759Z",
     "iopub.status.idle": "2021-06-26T21:27:01.858026Z",
     "shell.execute_reply": "2021-06-26T21:27:01.857400Z",
     "shell.execute_reply.started": "2021-06-26T21:25:26.538826Z"
    },
    "papermill": {
     "duration": 0.146239,
     "end_time": "2021-06-26T21:27:01.858172",
     "exception": false,
     "start_time": "2021-06-26T21:27:01.711933",
     "status": "completed"
    },
    "tags": []
   },
   "outputs": [
    {
     "name": "stdout",
     "output_type": "stream",
     "text": [
      "[-0.53719199 -0.50244517  1.          0.          0.          0.\n",
      "  1.          0.          1.          0.          1.          1.\n",
      "  0.          0.          0.          1.        ]\n"
     ]
    },
    {
     "data": {
      "text/html": [
       "<div>\n",
       "<style scoped>\n",
       "    .dataframe tbody tr th:only-of-type {\n",
       "        vertical-align: middle;\n",
       "    }\n",
       "\n",
       "    .dataframe tbody tr th {\n",
       "        vertical-align: top;\n",
       "    }\n",
       "\n",
       "    .dataframe thead th {\n",
       "        text-align: right;\n",
       "    }\n",
       "</style>\n",
       "<table border=\"1\" class=\"dataframe\">\n",
       "  <thead>\n",
       "    <tr style=\"text-align: right;\">\n",
       "      <th></th>\n",
       "      <th>Survived</th>\n",
       "      <th>Pclass</th>\n",
       "      <th>Sex</th>\n",
       "      <th>Age</th>\n",
       "      <th>SibSp</th>\n",
       "      <th>Parch</th>\n",
       "      <th>Fare</th>\n",
       "      <th>Embarked</th>\n",
       "    </tr>\n",
       "  </thead>\n",
       "  <tbody>\n",
       "    <tr>\n",
       "      <th>0</th>\n",
       "      <td>0</td>\n",
       "      <td>3</td>\n",
       "      <td>male</td>\n",
       "      <td>22.0</td>\n",
       "      <td>1</td>\n",
       "      <td>0</td>\n",
       "      <td>7.2500</td>\n",
       "      <td>S</td>\n",
       "    </tr>\n",
       "    <tr>\n",
       "      <th>1</th>\n",
       "      <td>1</td>\n",
       "      <td>1</td>\n",
       "      <td>female</td>\n",
       "      <td>38.0</td>\n",
       "      <td>1</td>\n",
       "      <td>0</td>\n",
       "      <td>71.2833</td>\n",
       "      <td>C</td>\n",
       "    </tr>\n",
       "    <tr>\n",
       "      <th>2</th>\n",
       "      <td>1</td>\n",
       "      <td>3</td>\n",
       "      <td>female</td>\n",
       "      <td>26.0</td>\n",
       "      <td>0</td>\n",
       "      <td>0</td>\n",
       "      <td>7.9250</td>\n",
       "      <td>S</td>\n",
       "    </tr>\n",
       "    <tr>\n",
       "      <th>3</th>\n",
       "      <td>1</td>\n",
       "      <td>1</td>\n",
       "      <td>female</td>\n",
       "      <td>35.0</td>\n",
       "      <td>1</td>\n",
       "      <td>0</td>\n",
       "      <td>53.1000</td>\n",
       "      <td>S</td>\n",
       "    </tr>\n",
       "    <tr>\n",
       "      <th>4</th>\n",
       "      <td>0</td>\n",
       "      <td>3</td>\n",
       "      <td>male</td>\n",
       "      <td>35.0</td>\n",
       "      <td>0</td>\n",
       "      <td>0</td>\n",
       "      <td>8.0500</td>\n",
       "      <td>S</td>\n",
       "    </tr>\n",
       "  </tbody>\n",
       "</table>\n",
       "</div>"
      ],
      "text/plain": [
       "   Survived  Pclass     Sex   Age  SibSp  Parch     Fare Embarked\n",
       "0         0       3    male  22.0      1      0   7.2500        S\n",
       "1         1       1  female  38.0      1      0  71.2833        C\n",
       "2         1       3  female  26.0      0      0   7.9250        S\n",
       "3         1       1  female  35.0      1      0  53.1000        S\n",
       "4         0       3    male  35.0      0      0   8.0500        S"
      ]
     },
     "execution_count": 53,
     "metadata": {},
     "output_type": "execute_result"
    }
   ],
   "source": [
    "# Concatenate (Column-Bind) Processed Columns Back Together\n",
    "processed_data_train = np.concatenate([scaled_columns, encoded_columns], axis=1)\n",
    "print(processed_data_train[0]) # scaled + encoded \n",
    " \n",
    "# #['Age', 'Fare', Survived', 'Pclass', 'Sex','SibSp', 'Parch','Embarked']\n",
    "\n",
    "train.head()"
   ]
  },
  {
   "cell_type": "code",
   "execution_count": 54,
   "id": "welcome-typing",
   "metadata": {
    "execution": {
     "iopub.execute_input": "2021-06-26T21:27:02.116570Z",
     "iopub.status.busy": "2021-06-26T21:27:02.115613Z",
     "iopub.status.idle": "2021-06-26T21:27:02.119932Z",
     "shell.execute_reply": "2021-06-26T21:27:02.120479Z",
     "shell.execute_reply.started": "2021-06-26T21:25:26.560528Z"
    },
    "papermill": {
     "duration": 0.134856,
     "end_time": "2021-06-26T21:27:02.120654",
     "exception": false,
     "start_time": "2021-06-26T21:27:01.985798",
     "status": "completed"
    },
    "tags": []
   },
   "outputs": [],
   "source": [
    "# Creating pandas dataframe from numpy array\n",
    "#['Survived', 'Pclass', 'Sex','SibSp', 'Parch','Embarked']\n",
    "#titanic_train = pd.DataFrame({'Age': processed_data[:, 0], \n",
    "     #                         'Fare': processed_data[:, 1],\n",
    "      #                        'Survived_No': processed_data[:, 2],\n",
    "       #                       'Survived_Yes': processed_data[:, 3],\n",
    "        #                      'Pclass1': processed_data[:, 4],\n",
    "         #                     'Pclass2': processed_data[:, 5],\n",
    "          #                    'Pclass3': processed_data[:, 6],\n",
    "           #                   'Female': processed_data[:, 7],\n",
    "            #                  'Male': processed_data[:, 8],\n",
    "             #                'Sib_No': processed_data[:, 9],\n",
    "              #               'Sib_Yes': processed_data[:, 10],\n",
    "               #              'Par_No': processed_data[:, 11],\n",
    "                #             'Par_Yes': processed_data[:, 12],\n",
    "                 #            'Embarked_C': processed_data[:, 13],\n",
    "                  #           'Embarked_Q': processed_data[:, 14],\n",
    "                   #          'Embarked_S': processed_data[:, 15]})\n",
    "                             \n",
    "\n",
    "\n",
    "#titanic_train.head()"
   ]
  },
  {
   "cell_type": "code",
   "execution_count": 55,
   "id": "toxic-grace",
   "metadata": {
    "execution": {
     "iopub.execute_input": "2021-06-26T21:27:02.381903Z",
     "iopub.status.busy": "2021-06-26T21:27:02.380903Z",
     "iopub.status.idle": "2021-06-26T21:27:02.405501Z",
     "shell.execute_reply": "2021-06-26T21:27:02.406009Z",
     "shell.execute_reply.started": "2021-06-26T21:25:26.568186Z"
    },
    "papermill": {
     "duration": 0.155845,
     "end_time": "2021-06-26T21:27:02.406216",
     "exception": false,
     "start_time": "2021-06-26T21:27:02.250371",
     "status": "completed"
    },
    "tags": []
   },
   "outputs": [
    {
     "data": {
      "text/html": [
       "<div>\n",
       "<style scoped>\n",
       "    .dataframe tbody tr th:only-of-type {\n",
       "        vertical-align: middle;\n",
       "    }\n",
       "\n",
       "    .dataframe tbody tr th {\n",
       "        vertical-align: top;\n",
       "    }\n",
       "\n",
       "    .dataframe thead th {\n",
       "        text-align: right;\n",
       "    }\n",
       "</style>\n",
       "<table border=\"1\" class=\"dataframe\">\n",
       "  <thead>\n",
       "    <tr style=\"text-align: right;\">\n",
       "      <th></th>\n",
       "      <th>Age</th>\n",
       "      <th>Fare</th>\n",
       "      <th>Survived_Yes</th>\n",
       "      <th>Pclass2</th>\n",
       "      <th>Pclass3</th>\n",
       "      <th>Male</th>\n",
       "      <th>Sib_Yes</th>\n",
       "      <th>Par_Yes</th>\n",
       "      <th>Embarked_Q</th>\n",
       "      <th>Embarked_S</th>\n",
       "    </tr>\n",
       "  </thead>\n",
       "  <tbody>\n",
       "    <tr>\n",
       "      <th>0</th>\n",
       "      <td>-0.537192</td>\n",
       "      <td>-0.502445</td>\n",
       "      <td>0.0</td>\n",
       "      <td>0.0</td>\n",
       "      <td>1.0</td>\n",
       "      <td>1.0</td>\n",
       "      <td>1.0</td>\n",
       "      <td>0.0</td>\n",
       "      <td>0.0</td>\n",
       "      <td>1.0</td>\n",
       "    </tr>\n",
       "    <tr>\n",
       "      <th>1</th>\n",
       "      <td>0.667275</td>\n",
       "      <td>0.786845</td>\n",
       "      <td>1.0</td>\n",
       "      <td>0.0</td>\n",
       "      <td>0.0</td>\n",
       "      <td>0.0</td>\n",
       "      <td>1.0</td>\n",
       "      <td>0.0</td>\n",
       "      <td>0.0</td>\n",
       "      <td>0.0</td>\n",
       "    </tr>\n",
       "    <tr>\n",
       "      <th>2</th>\n",
       "      <td>-0.236075</td>\n",
       "      <td>-0.488854</td>\n",
       "      <td>1.0</td>\n",
       "      <td>0.0</td>\n",
       "      <td>1.0</td>\n",
       "      <td>0.0</td>\n",
       "      <td>0.0</td>\n",
       "      <td>0.0</td>\n",
       "      <td>0.0</td>\n",
       "      <td>1.0</td>\n",
       "    </tr>\n",
       "    <tr>\n",
       "      <th>3</th>\n",
       "      <td>0.441438</td>\n",
       "      <td>0.420730</td>\n",
       "      <td>1.0</td>\n",
       "      <td>0.0</td>\n",
       "      <td>0.0</td>\n",
       "      <td>0.0</td>\n",
       "      <td>1.0</td>\n",
       "      <td>0.0</td>\n",
       "      <td>0.0</td>\n",
       "      <td>1.0</td>\n",
       "    </tr>\n",
       "    <tr>\n",
       "      <th>4</th>\n",
       "      <td>0.441438</td>\n",
       "      <td>-0.486337</td>\n",
       "      <td>0.0</td>\n",
       "      <td>0.0</td>\n",
       "      <td>1.0</td>\n",
       "      <td>1.0</td>\n",
       "      <td>0.0</td>\n",
       "      <td>0.0</td>\n",
       "      <td>0.0</td>\n",
       "      <td>1.0</td>\n",
       "    </tr>\n",
       "  </tbody>\n",
       "</table>\n",
       "</div>"
      ],
      "text/plain": [
       "        Age      Fare  Survived_Yes  Pclass2  Pclass3  Male  Sib_Yes  Par_Yes  \\\n",
       "0 -0.537192 -0.502445           0.0      0.0      1.0   1.0      1.0      0.0   \n",
       "1  0.667275  0.786845           1.0      0.0      0.0   0.0      1.0      0.0   \n",
       "2 -0.236075 -0.488854           1.0      0.0      1.0   0.0      0.0      0.0   \n",
       "3  0.441438  0.420730           1.0      0.0      0.0   0.0      1.0      0.0   \n",
       "4  0.441438 -0.486337           0.0      0.0      1.0   1.0      0.0      0.0   \n",
       "\n",
       "   Embarked_Q  Embarked_S  \n",
       "0         0.0         1.0  \n",
       "1         0.0         0.0  \n",
       "2         0.0         1.0  \n",
       "3         0.0         1.0  \n",
       "4         0.0         1.0  "
      ]
     },
     "execution_count": 55,
     "metadata": {},
     "output_type": "execute_result"
    }
   ],
   "source": [
    "# Creating pandas dataframe from numpy array\n",
    "#['Survived', 'Pclass', 'Sex','SibSp', 'Parch','Embarked']\n",
    "titanic_train = pd.DataFrame({'Age': processed_data_train[:, 0], \n",
    "                              'Fare': processed_data_train[:, 1],\n",
    "                              'Survived_Yes': processed_data_train[:, 3],                             \n",
    "                              'Pclass2': processed_data_train[:, 5],\n",
    "                              'Pclass3': processed_data_train[:, 6],                         \n",
    "                              'Male': processed_data_train[:, 8],                           \n",
    "                             'Sib_Yes': processed_data_train[:, 10],                          \n",
    "                             'Par_Yes': processed_data_train[:, 12],                      \n",
    "                             'Embarked_Q': processed_data_train[:, 14],\n",
    "                             'Embarked_S': processed_data_train[:, 15]})\n",
    "\n",
    "titanic_train.head() # Final Training Dataset for NN"
   ]
  },
  {
   "cell_type": "markdown",
   "id": "ahead-burns",
   "metadata": {
    "papermill": {
     "duration": 0.125427,
     "end_time": "2021-06-26T21:27:02.663211",
     "exception": false,
     "start_time": "2021-06-26T21:27:02.537784",
     "status": "completed"
    },
    "tags": []
   },
   "source": [
    "# Part 1B: Exploratory Analysis of Titanic Dataset On Test Data"
   ]
  },
  {
   "cell_type": "code",
   "execution_count": 56,
   "id": "raising-harmony",
   "metadata": {
    "execution": {
     "iopub.execute_input": "2021-06-26T21:27:02.917386Z",
     "iopub.status.busy": "2021-06-26T21:27:02.916763Z",
     "iopub.status.idle": "2021-06-26T21:27:02.920787Z",
     "shell.execute_reply": "2021-06-26T21:27:02.921303Z",
     "shell.execute_reply.started": "2021-06-26T21:25:26.600585Z"
    },
    "papermill": {
     "duration": 0.133129,
     "end_time": "2021-06-26T21:27:02.921471",
     "exception": false,
     "start_time": "2021-06-26T21:27:02.788342",
     "status": "completed"
    },
    "tags": []
   },
   "outputs": [],
   "source": [
    "import numpy as np\n",
    "import pandas as pd \n",
    "import matplotlib.pyplot as plt\n",
    "import seaborn as sns"
   ]
  },
  {
   "cell_type": "code",
   "execution_count": 57,
   "id": "laden-brush",
   "metadata": {
    "execution": {
     "iopub.execute_input": "2021-06-26T21:27:03.177194Z",
     "iopub.status.busy": "2021-06-26T21:27:03.176534Z",
     "iopub.status.idle": "2021-06-26T21:27:03.201716Z",
     "shell.execute_reply": "2021-06-26T21:27:03.201029Z",
     "shell.execute_reply.started": "2021-06-26T21:25:26.608888Z"
    },
    "papermill": {
     "duration": 0.153732,
     "end_time": "2021-06-26T21:27:03.201881",
     "exception": false,
     "start_time": "2021-06-26T21:27:03.048149",
     "status": "completed"
    },
    "tags": []
   },
   "outputs": [],
   "source": [
    "test = pd.read_csv('../input/titanic/test.csv') # Test Data"
   ]
  },
  {
   "cell_type": "code",
   "execution_count": 58,
   "id": "valued-imperial",
   "metadata": {
    "execution": {
     "iopub.execute_input": "2021-06-26T21:27:03.475186Z",
     "iopub.status.busy": "2021-06-26T21:27:03.474234Z",
     "iopub.status.idle": "2021-06-26T21:27:03.480116Z",
     "shell.execute_reply": "2021-06-26T21:27:03.480595Z",
     "shell.execute_reply.started": "2021-06-26T21:25:26.630408Z"
    },
    "papermill": {
     "duration": 0.151816,
     "end_time": "2021-06-26T21:27:03.480816",
     "exception": false,
     "start_time": "2021-06-26T21:27:03.329000",
     "status": "completed"
    },
    "tags": []
   },
   "outputs": [
    {
     "data": {
      "text/html": [
       "<div>\n",
       "<style scoped>\n",
       "    .dataframe tbody tr th:only-of-type {\n",
       "        vertical-align: middle;\n",
       "    }\n",
       "\n",
       "    .dataframe tbody tr th {\n",
       "        vertical-align: top;\n",
       "    }\n",
       "\n",
       "    .dataframe thead th {\n",
       "        text-align: right;\n",
       "    }\n",
       "</style>\n",
       "<table border=\"1\" class=\"dataframe\">\n",
       "  <thead>\n",
       "    <tr style=\"text-align: right;\">\n",
       "      <th></th>\n",
       "      <th>PassengerId</th>\n",
       "      <th>Pclass</th>\n",
       "      <th>Name</th>\n",
       "      <th>Sex</th>\n",
       "      <th>Age</th>\n",
       "      <th>SibSp</th>\n",
       "      <th>Parch</th>\n",
       "      <th>Ticket</th>\n",
       "      <th>Fare</th>\n",
       "      <th>Cabin</th>\n",
       "      <th>Embarked</th>\n",
       "    </tr>\n",
       "  </thead>\n",
       "  <tbody>\n",
       "    <tr>\n",
       "      <th>0</th>\n",
       "      <td>892</td>\n",
       "      <td>3</td>\n",
       "      <td>Kelly, Mr. James</td>\n",
       "      <td>male</td>\n",
       "      <td>34.5</td>\n",
       "      <td>0</td>\n",
       "      <td>0</td>\n",
       "      <td>330911</td>\n",
       "      <td>7.8292</td>\n",
       "      <td>NaN</td>\n",
       "      <td>Q</td>\n",
       "    </tr>\n",
       "    <tr>\n",
       "      <th>1</th>\n",
       "      <td>893</td>\n",
       "      <td>3</td>\n",
       "      <td>Wilkes, Mrs. James (Ellen Needs)</td>\n",
       "      <td>female</td>\n",
       "      <td>47.0</td>\n",
       "      <td>1</td>\n",
       "      <td>0</td>\n",
       "      <td>363272</td>\n",
       "      <td>7.0000</td>\n",
       "      <td>NaN</td>\n",
       "      <td>S</td>\n",
       "    </tr>\n",
       "    <tr>\n",
       "      <th>2</th>\n",
       "      <td>894</td>\n",
       "      <td>2</td>\n",
       "      <td>Myles, Mr. Thomas Francis</td>\n",
       "      <td>male</td>\n",
       "      <td>62.0</td>\n",
       "      <td>0</td>\n",
       "      <td>0</td>\n",
       "      <td>240276</td>\n",
       "      <td>9.6875</td>\n",
       "      <td>NaN</td>\n",
       "      <td>Q</td>\n",
       "    </tr>\n",
       "    <tr>\n",
       "      <th>3</th>\n",
       "      <td>895</td>\n",
       "      <td>3</td>\n",
       "      <td>Wirz, Mr. Albert</td>\n",
       "      <td>male</td>\n",
       "      <td>27.0</td>\n",
       "      <td>0</td>\n",
       "      <td>0</td>\n",
       "      <td>315154</td>\n",
       "      <td>8.6625</td>\n",
       "      <td>NaN</td>\n",
       "      <td>S</td>\n",
       "    </tr>\n",
       "    <tr>\n",
       "      <th>4</th>\n",
       "      <td>896</td>\n",
       "      <td>3</td>\n",
       "      <td>Hirvonen, Mrs. Alexander (Helga E Lindqvist)</td>\n",
       "      <td>female</td>\n",
       "      <td>22.0</td>\n",
       "      <td>1</td>\n",
       "      <td>1</td>\n",
       "      <td>3101298</td>\n",
       "      <td>12.2875</td>\n",
       "      <td>NaN</td>\n",
       "      <td>S</td>\n",
       "    </tr>\n",
       "  </tbody>\n",
       "</table>\n",
       "</div>"
      ],
      "text/plain": [
       "   PassengerId  Pclass                                          Name     Sex  \\\n",
       "0          892       3                              Kelly, Mr. James    male   \n",
       "1          893       3              Wilkes, Mrs. James (Ellen Needs)  female   \n",
       "2          894       2                     Myles, Mr. Thomas Francis    male   \n",
       "3          895       3                              Wirz, Mr. Albert    male   \n",
       "4          896       3  Hirvonen, Mrs. Alexander (Helga E Lindqvist)  female   \n",
       "\n",
       "    Age  SibSp  Parch   Ticket     Fare Cabin Embarked  \n",
       "0  34.5      0      0   330911   7.8292   NaN        Q  \n",
       "1  47.0      1      0   363272   7.0000   NaN        S  \n",
       "2  62.0      0      0   240276   9.6875   NaN        Q  \n",
       "3  27.0      0      0   315154   8.6625   NaN        S  \n",
       "4  22.0      1      1  3101298  12.2875   NaN        S  "
      ]
     },
     "execution_count": 58,
     "metadata": {},
     "output_type": "execute_result"
    }
   ],
   "source": [
    "test.head()"
   ]
  },
  {
   "cell_type": "code",
   "execution_count": 59,
   "id": "limited-swimming",
   "metadata": {
    "execution": {
     "iopub.execute_input": "2021-06-26T21:27:03.737251Z",
     "iopub.status.busy": "2021-06-26T21:27:03.736595Z",
     "iopub.status.idle": "2021-06-26T21:27:03.752016Z",
     "shell.execute_reply": "2021-06-26T21:27:03.751474Z",
     "shell.execute_reply.started": "2021-06-26T21:25:26.652470Z"
    },
    "papermill": {
     "duration": 0.144672,
     "end_time": "2021-06-26T21:27:03.752160",
     "exception": false,
     "start_time": "2021-06-26T21:27:03.607488",
     "status": "completed"
    },
    "tags": []
   },
   "outputs": [
    {
     "name": "stdout",
     "output_type": "stream",
     "text": [
      "<class 'pandas.core.frame.DataFrame'>\n",
      "RangeIndex: 418 entries, 0 to 417\n",
      "Data columns (total 11 columns):\n",
      " #   Column       Non-Null Count  Dtype  \n",
      "---  ------       --------------  -----  \n",
      " 0   PassengerId  418 non-null    int64  \n",
      " 1   Pclass       418 non-null    int64  \n",
      " 2   Name         418 non-null    object \n",
      " 3   Sex          418 non-null    object \n",
      " 4   Age          332 non-null    float64\n",
      " 5   SibSp        418 non-null    int64  \n",
      " 6   Parch        418 non-null    int64  \n",
      " 7   Ticket       418 non-null    object \n",
      " 8   Fare         417 non-null    float64\n",
      " 9   Cabin        91 non-null     object \n",
      " 10  Embarked     418 non-null    object \n",
      "dtypes: float64(2), int64(4), object(5)\n",
      "memory usage: 36.0+ KB\n"
     ]
    }
   ],
   "source": [
    "test.info()"
   ]
  },
  {
   "cell_type": "code",
   "execution_count": 60,
   "id": "beginning-macintosh",
   "metadata": {
    "execution": {
     "iopub.execute_input": "2021-06-26T21:27:04.011721Z",
     "iopub.status.busy": "2021-06-26T21:27:04.010810Z",
     "iopub.status.idle": "2021-06-26T21:27:04.042963Z",
     "shell.execute_reply": "2021-06-26T21:27:04.043576Z",
     "shell.execute_reply.started": "2021-06-26T21:25:26.674981Z"
    },
    "papermill": {
     "duration": 0.164477,
     "end_time": "2021-06-26T21:27:04.043807",
     "exception": false,
     "start_time": "2021-06-26T21:27:03.879330",
     "status": "completed"
    },
    "tags": []
   },
   "outputs": [
    {
     "data": {
      "text/html": [
       "<div>\n",
       "<style scoped>\n",
       "    .dataframe tbody tr th:only-of-type {\n",
       "        vertical-align: middle;\n",
       "    }\n",
       "\n",
       "    .dataframe tbody tr th {\n",
       "        vertical-align: top;\n",
       "    }\n",
       "\n",
       "    .dataframe thead th {\n",
       "        text-align: right;\n",
       "    }\n",
       "</style>\n",
       "<table border=\"1\" class=\"dataframe\">\n",
       "  <thead>\n",
       "    <tr style=\"text-align: right;\">\n",
       "      <th></th>\n",
       "      <th>PassengerId</th>\n",
       "      <th>Pclass</th>\n",
       "      <th>Age</th>\n",
       "      <th>SibSp</th>\n",
       "      <th>Parch</th>\n",
       "      <th>Fare</th>\n",
       "    </tr>\n",
       "  </thead>\n",
       "  <tbody>\n",
       "    <tr>\n",
       "      <th>count</th>\n",
       "      <td>418.00</td>\n",
       "      <td>418.00</td>\n",
       "      <td>332.00</td>\n",
       "      <td>418.00</td>\n",
       "      <td>418.00</td>\n",
       "      <td>417.00</td>\n",
       "    </tr>\n",
       "    <tr>\n",
       "      <th>mean</th>\n",
       "      <td>1100.50</td>\n",
       "      <td>2.27</td>\n",
       "      <td>30.27</td>\n",
       "      <td>0.45</td>\n",
       "      <td>0.39</td>\n",
       "      <td>35.63</td>\n",
       "    </tr>\n",
       "    <tr>\n",
       "      <th>std</th>\n",
       "      <td>120.81</td>\n",
       "      <td>0.84</td>\n",
       "      <td>14.18</td>\n",
       "      <td>0.90</td>\n",
       "      <td>0.98</td>\n",
       "      <td>55.91</td>\n",
       "    </tr>\n",
       "    <tr>\n",
       "      <th>min</th>\n",
       "      <td>892.00</td>\n",
       "      <td>1.00</td>\n",
       "      <td>0.17</td>\n",
       "      <td>0.00</td>\n",
       "      <td>0.00</td>\n",
       "      <td>0.00</td>\n",
       "    </tr>\n",
       "    <tr>\n",
       "      <th>25%</th>\n",
       "      <td>996.25</td>\n",
       "      <td>1.00</td>\n",
       "      <td>21.00</td>\n",
       "      <td>0.00</td>\n",
       "      <td>0.00</td>\n",
       "      <td>7.90</td>\n",
       "    </tr>\n",
       "    <tr>\n",
       "      <th>50%</th>\n",
       "      <td>1100.50</td>\n",
       "      <td>3.00</td>\n",
       "      <td>27.00</td>\n",
       "      <td>0.00</td>\n",
       "      <td>0.00</td>\n",
       "      <td>14.45</td>\n",
       "    </tr>\n",
       "    <tr>\n",
       "      <th>75%</th>\n",
       "      <td>1204.75</td>\n",
       "      <td>3.00</td>\n",
       "      <td>39.00</td>\n",
       "      <td>1.00</td>\n",
       "      <td>0.00</td>\n",
       "      <td>31.50</td>\n",
       "    </tr>\n",
       "    <tr>\n",
       "      <th>max</th>\n",
       "      <td>1309.00</td>\n",
       "      <td>3.00</td>\n",
       "      <td>76.00</td>\n",
       "      <td>8.00</td>\n",
       "      <td>9.00</td>\n",
       "      <td>512.33</td>\n",
       "    </tr>\n",
       "  </tbody>\n",
       "</table>\n",
       "</div>"
      ],
      "text/plain": [
       "       PassengerId  Pclass     Age   SibSp   Parch    Fare\n",
       "count       418.00  418.00  332.00  418.00  418.00  417.00\n",
       "mean       1100.50    2.27   30.27    0.45    0.39   35.63\n",
       "std         120.81    0.84   14.18    0.90    0.98   55.91\n",
       "min         892.00    1.00    0.17    0.00    0.00    0.00\n",
       "25%         996.25    1.00   21.00    0.00    0.00    7.90\n",
       "50%        1100.50    3.00   27.00    0.00    0.00   14.45\n",
       "75%        1204.75    3.00   39.00    1.00    0.00   31.50\n",
       "max        1309.00    3.00   76.00    8.00    9.00  512.33"
      ]
     },
     "execution_count": 60,
     "metadata": {},
     "output_type": "execute_result"
    }
   ],
   "source": [
    "round(test.describe(),2)"
   ]
  },
  {
   "cell_type": "code",
   "execution_count": 61,
   "id": "charming-valentine",
   "metadata": {
    "execution": {
     "iopub.execute_input": "2021-06-26T21:27:04.310056Z",
     "iopub.status.busy": "2021-06-26T21:27:04.308999Z",
     "iopub.status.idle": "2021-06-26T21:27:04.318650Z",
     "shell.execute_reply": "2021-06-26T21:27:04.317753Z",
     "shell.execute_reply.started": "2021-06-26T21:25:26.718164Z"
    },
    "papermill": {
     "duration": 0.143856,
     "end_time": "2021-06-26T21:27:04.318871",
     "exception": false,
     "start_time": "2021-06-26T21:27:04.175015",
     "status": "completed"
    },
    "tags": []
   },
   "outputs": [
    {
     "name": "stdout",
     "output_type": "stream",
     "text": [
      "There is 0 duplicated values in data frame\n"
     ]
    }
   ],
   "source": [
    "# Any duplicate data in the dataframe?\n",
    "print(\"There is {} duplicated values in data frame\".format(test.duplicated().sum())) # no duplicate values found"
   ]
  },
  {
   "cell_type": "markdown",
   "id": "accurate-lesson",
   "metadata": {
    "papermill": {
     "duration": 0.15816,
     "end_time": "2021-06-26T21:27:04.606078",
     "exception": false,
     "start_time": "2021-06-26T21:27:04.447918",
     "status": "completed"
    },
    "tags": []
   },
   "source": [
    "# Dropping Irrelavent Features and Eliminate Null Values"
   ]
  },
  {
   "cell_type": "code",
   "execution_count": 62,
   "id": "christian-dublin",
   "metadata": {
    "execution": {
     "iopub.execute_input": "2021-06-26T21:27:04.895872Z",
     "iopub.status.busy": "2021-06-26T21:27:04.878372Z",
     "iopub.status.idle": "2021-06-26T21:27:05.446010Z",
     "shell.execute_reply": "2021-06-26T21:27:05.445471Z",
     "shell.execute_reply.started": "2021-06-26T21:25:26.729442Z"
    },
    "papermill": {
     "duration": 0.711428,
     "end_time": "2021-06-26T21:27:05.446162",
     "exception": false,
     "start_time": "2021-06-26T21:27:04.734734",
     "status": "completed"
    },
    "tags": []
   },
   "outputs": [
    {
     "data": {
      "image/png": "[encoded data removed]",
      "text/plain": [
       "<Figure size 720x576 with 1 Axes>"
      ]
     },
     "metadata": {
      "needs_background": "light"
     },
     "output_type": "display_data"
    }
   ],
   "source": [
    "# Create a heatmap to visalize the missing values \n",
    "plt.subplots(figsize=(10,8))\n",
    "\n",
    "sns.heatmap(test.isnull(),cbar = False)\n",
    "\n",
    "plt.title('Heatmap of Missing Values')\n",
    "plt.xlabel('Attributes')\n",
    "plt.ylabel('Index')\n",
    "\n",
    "plt.show()"
   ]
  },
  {
   "cell_type": "code",
   "execution_count": 63,
   "id": "certified-diary",
   "metadata": {
    "execution": {
     "iopub.execute_input": "2021-06-26T21:27:05.712564Z",
     "iopub.status.busy": "2021-06-26T21:27:05.711833Z",
     "iopub.status.idle": "2021-06-26T21:27:05.715573Z",
     "shell.execute_reply": "2021-06-26T21:27:05.715056Z",
     "shell.execute_reply.started": "2021-06-26T21:25:27.284064Z"
    },
    "papermill": {
     "duration": 0.140413,
     "end_time": "2021-06-26T21:27:05.715729",
     "exception": false,
     "start_time": "2021-06-26T21:27:05.575316",
     "status": "completed"
    },
    "tags": []
   },
   "outputs": [
    {
     "data": {
      "text/plain": [
       "PassengerId      0\n",
       "Pclass           0\n",
       "Name             0\n",
       "Sex              0\n",
       "Age             86\n",
       "SibSp            0\n",
       "Parch            0\n",
       "Ticket           0\n",
       "Fare             1\n",
       "Cabin          327\n",
       "Embarked         0\n",
       "dtype: int64"
      ]
     },
     "execution_count": 63,
     "metadata": {},
     "output_type": "execute_result"
    }
   ],
   "source": [
    "# To view a missing values in a tabluar format and the percentage of nulls that make up the whole dataset:\n",
    "test.isnull().sum(axis = 0)\n",
    "# Looks like Age = 179 null values\n",
    "# Cabin = 689\n",
    "# and others have a few nulls"
   ]
  },
  {
   "cell_type": "code",
   "execution_count": 64,
   "id": "monthly-preview",
   "metadata": {
    "execution": {
     "iopub.execute_input": "2021-06-26T21:27:05.993002Z",
     "iopub.status.busy": "2021-06-26T21:27:05.992291Z",
     "iopub.status.idle": "2021-06-26T21:27:05.997070Z",
     "shell.execute_reply": "2021-06-26T21:27:05.996326Z",
     "shell.execute_reply.started": "2021-06-26T21:25:27.296172Z"
    },
    "papermill": {
     "duration": 0.151817,
     "end_time": "2021-06-26T21:27:05.997230",
     "exception": false,
     "start_time": "2021-06-26T21:27:05.845413",
     "status": "completed"
    },
    "tags": []
   },
   "outputs": [
    {
     "data": {
      "text/html": [
       "<div>\n",
       "<style scoped>\n",
       "    .dataframe tbody tr th:only-of-type {\n",
       "        vertical-align: middle;\n",
       "    }\n",
       "\n",
       "    .dataframe tbody tr th {\n",
       "        vertical-align: top;\n",
       "    }\n",
       "\n",
       "    .dataframe thead th {\n",
       "        text-align: right;\n",
       "    }\n",
       "</style>\n",
       "<table border=\"1\" class=\"dataframe\">\n",
       "  <thead>\n",
       "    <tr style=\"text-align: right;\">\n",
       "      <th></th>\n",
       "      <th>PassengerId</th>\n",
       "      <th>Pclass</th>\n",
       "      <th>Name</th>\n",
       "      <th>Sex</th>\n",
       "      <th>Age</th>\n",
       "      <th>SibSp</th>\n",
       "      <th>Parch</th>\n",
       "      <th>Ticket</th>\n",
       "      <th>Fare</th>\n",
       "      <th>Cabin</th>\n",
       "      <th>Embarked</th>\n",
       "    </tr>\n",
       "  </thead>\n",
       "  <tbody>\n",
       "    <tr>\n",
       "      <th>0</th>\n",
       "      <td>892</td>\n",
       "      <td>3</td>\n",
       "      <td>Kelly, Mr. James</td>\n",
       "      <td>male</td>\n",
       "      <td>34.5</td>\n",
       "      <td>0</td>\n",
       "      <td>0</td>\n",
       "      <td>330911</td>\n",
       "      <td>7.8292</td>\n",
       "      <td>NaN</td>\n",
       "      <td>Q</td>\n",
       "    </tr>\n",
       "    <tr>\n",
       "      <th>1</th>\n",
       "      <td>893</td>\n",
       "      <td>3</td>\n",
       "      <td>Wilkes, Mrs. James (Ellen Needs)</td>\n",
       "      <td>female</td>\n",
       "      <td>47.0</td>\n",
       "      <td>1</td>\n",
       "      <td>0</td>\n",
       "      <td>363272</td>\n",
       "      <td>7.0000</td>\n",
       "      <td>NaN</td>\n",
       "      <td>S</td>\n",
       "    </tr>\n",
       "    <tr>\n",
       "      <th>2</th>\n",
       "      <td>894</td>\n",
       "      <td>2</td>\n",
       "      <td>Myles, Mr. Thomas Francis</td>\n",
       "      <td>male</td>\n",
       "      <td>62.0</td>\n",
       "      <td>0</td>\n",
       "      <td>0</td>\n",
       "      <td>240276</td>\n",
       "      <td>9.6875</td>\n",
       "      <td>NaN</td>\n",
       "      <td>Q</td>\n",
       "    </tr>\n",
       "    <tr>\n",
       "      <th>3</th>\n",
       "      <td>895</td>\n",
       "      <td>3</td>\n",
       "      <td>Wirz, Mr. Albert</td>\n",
       "      <td>male</td>\n",
       "      <td>27.0</td>\n",
       "      <td>0</td>\n",
       "      <td>0</td>\n",
       "      <td>315154</td>\n",
       "      <td>8.6625</td>\n",
       "      <td>NaN</td>\n",
       "      <td>S</td>\n",
       "    </tr>\n",
       "    <tr>\n",
       "      <th>4</th>\n",
       "      <td>896</td>\n",
       "      <td>3</td>\n",
       "      <td>Hirvonen, Mrs. Alexander (Helga E Lindqvist)</td>\n",
       "      <td>female</td>\n",
       "      <td>22.0</td>\n",
       "      <td>1</td>\n",
       "      <td>1</td>\n",
       "      <td>3101298</td>\n",
       "      <td>12.2875</td>\n",
       "      <td>NaN</td>\n",
       "      <td>S</td>\n",
       "    </tr>\n",
       "  </tbody>\n",
       "</table>\n",
       "</div>"
      ],
      "text/plain": [
       "   PassengerId  Pclass                                          Name     Sex  \\\n",
       "0          892       3                              Kelly, Mr. James    male   \n",
       "1          893       3              Wilkes, Mrs. James (Ellen Needs)  female   \n",
       "2          894       2                     Myles, Mr. Thomas Francis    male   \n",
       "3          895       3                              Wirz, Mr. Albert    male   \n",
       "4          896       3  Hirvonen, Mrs. Alexander (Helga E Lindqvist)  female   \n",
       "\n",
       "    Age  SibSp  Parch   Ticket     Fare Cabin Embarked  \n",
       "0  34.5      0      0   330911   7.8292   NaN        Q  \n",
       "1  47.0      1      0   363272   7.0000   NaN        S  \n",
       "2  62.0      0      0   240276   9.6875   NaN        Q  \n",
       "3  27.0      0      0   315154   8.6625   NaN        S  \n",
       "4  22.0      1      1  3101298  12.2875   NaN        S  "
      ]
     },
     "execution_count": 64,
     "metadata": {},
     "output_type": "execute_result"
    }
   ],
   "source": [
    "test.head()"
   ]
  },
  {
   "cell_type": "markdown",
   "id": "needed-database",
   "metadata": {
    "papermill": {
     "duration": 0.128857,
     "end_time": "2021-06-26T21:27:06.257868",
     "exception": false,
     "start_time": "2021-06-26T21:27:06.129011",
     "status": "completed"
    },
    "tags": []
   },
   "source": [
    "## Drop Irrelavent Features"
   ]
  },
  {
   "cell_type": "code",
   "execution_count": 65,
   "id": "indonesian-summer",
   "metadata": {
    "execution": {
     "iopub.execute_input": "2021-06-26T21:27:06.522378Z",
     "iopub.status.busy": "2021-06-26T21:27:06.521442Z",
     "iopub.status.idle": "2021-06-26T21:27:06.524759Z",
     "shell.execute_reply": "2021-06-26T21:27:06.524234Z",
     "shell.execute_reply.started": "2021-06-26T21:25:27.324891Z"
    },
    "papermill": {
     "duration": 0.1379,
     "end_time": "2021-06-26T21:27:06.524897",
     "exception": false,
     "start_time": "2021-06-26T21:27:06.386997",
     "status": "completed"
    },
    "tags": []
   },
   "outputs": [],
   "source": [
    "# Drop columns that are not useful for prediction:\n",
    "# keep columns = ['Sex', 'Age','SibSp, Parch, Fare', 'Cabin','Pclass','Embarked','Survived']\n",
    "\n",
    "test.drop(['Name','Ticket','Cabin'], axis = 1, inplace = True)"
   ]
  },
  {
   "cell_type": "code",
   "execution_count": 66,
   "id": "processed-behalf",
   "metadata": {
    "execution": {
     "iopub.execute_input": "2021-06-26T21:27:06.798607Z",
     "iopub.status.busy": "2021-06-26T21:27:06.797417Z",
     "iopub.status.idle": "2021-06-26T21:27:06.802117Z",
     "shell.execute_reply": "2021-06-26T21:27:06.801592Z",
     "shell.execute_reply.started": "2021-06-26T21:25:27.338469Z"
    },
    "papermill": {
     "duration": 0.146904,
     "end_time": "2021-06-26T21:27:06.802257",
     "exception": false,
     "start_time": "2021-06-26T21:27:06.655353",
     "status": "completed"
    },
    "tags": []
   },
   "outputs": [
    {
     "data": {
      "text/html": [
       "<div>\n",
       "<style scoped>\n",
       "    .dataframe tbody tr th:only-of-type {\n",
       "        vertical-align: middle;\n",
       "    }\n",
       "\n",
       "    .dataframe tbody tr th {\n",
       "        vertical-align: top;\n",
       "    }\n",
       "\n",
       "    .dataframe thead th {\n",
       "        text-align: right;\n",
       "    }\n",
       "</style>\n",
       "<table border=\"1\" class=\"dataframe\">\n",
       "  <thead>\n",
       "    <tr style=\"text-align: right;\">\n",
       "      <th></th>\n",
       "      <th>PassengerId</th>\n",
       "      <th>Pclass</th>\n",
       "      <th>Sex</th>\n",
       "      <th>Age</th>\n",
       "      <th>SibSp</th>\n",
       "      <th>Parch</th>\n",
       "      <th>Fare</th>\n",
       "      <th>Embarked</th>\n",
       "    </tr>\n",
       "  </thead>\n",
       "  <tbody>\n",
       "    <tr>\n",
       "      <th>0</th>\n",
       "      <td>892</td>\n",
       "      <td>3</td>\n",
       "      <td>male</td>\n",
       "      <td>34.5</td>\n",
       "      <td>0</td>\n",
       "      <td>0</td>\n",
       "      <td>7.8292</td>\n",
       "      <td>Q</td>\n",
       "    </tr>\n",
       "    <tr>\n",
       "      <th>1</th>\n",
       "      <td>893</td>\n",
       "      <td>3</td>\n",
       "      <td>female</td>\n",
       "      <td>47.0</td>\n",
       "      <td>1</td>\n",
       "      <td>0</td>\n",
       "      <td>7.0000</td>\n",
       "      <td>S</td>\n",
       "    </tr>\n",
       "    <tr>\n",
       "      <th>2</th>\n",
       "      <td>894</td>\n",
       "      <td>2</td>\n",
       "      <td>male</td>\n",
       "      <td>62.0</td>\n",
       "      <td>0</td>\n",
       "      <td>0</td>\n",
       "      <td>9.6875</td>\n",
       "      <td>Q</td>\n",
       "    </tr>\n",
       "    <tr>\n",
       "      <th>3</th>\n",
       "      <td>895</td>\n",
       "      <td>3</td>\n",
       "      <td>male</td>\n",
       "      <td>27.0</td>\n",
       "      <td>0</td>\n",
       "      <td>0</td>\n",
       "      <td>8.6625</td>\n",
       "      <td>S</td>\n",
       "    </tr>\n",
       "    <tr>\n",
       "      <th>4</th>\n",
       "      <td>896</td>\n",
       "      <td>3</td>\n",
       "      <td>female</td>\n",
       "      <td>22.0</td>\n",
       "      <td>1</td>\n",
       "      <td>1</td>\n",
       "      <td>12.2875</td>\n",
       "      <td>S</td>\n",
       "    </tr>\n",
       "  </tbody>\n",
       "</table>\n",
       "</div>"
      ],
      "text/plain": [
       "   PassengerId  Pclass     Sex   Age  SibSp  Parch     Fare Embarked\n",
       "0          892       3    male  34.5      0      0   7.8292        Q\n",
       "1          893       3  female  47.0      1      0   7.0000        S\n",
       "2          894       2    male  62.0      0      0   9.6875        Q\n",
       "3          895       3    male  27.0      0      0   8.6625        S\n",
       "4          896       3  female  22.0      1      1  12.2875        S"
      ]
     },
     "execution_count": 66,
     "metadata": {},
     "output_type": "execute_result"
    }
   ],
   "source": [
    "test.head() #new dataframe"
   ]
  },
  {
   "cell_type": "code",
   "execution_count": 67,
   "id": "peaceful-disclosure",
   "metadata": {
    "execution": {
     "iopub.execute_input": "2021-06-26T21:27:07.119835Z",
     "iopub.status.busy": "2021-06-26T21:27:07.119020Z",
     "iopub.status.idle": "2021-06-26T21:27:07.123985Z",
     "shell.execute_reply": "2021-06-26T21:27:07.124688Z",
     "shell.execute_reply.started": "2021-06-26T21:25:27.367655Z"
    },
    "papermill": {
     "duration": 0.192336,
     "end_time": "2021-06-26T21:27:07.124914",
     "exception": false,
     "start_time": "2021-06-26T21:27:06.932578",
     "status": "completed"
    },
    "tags": []
   },
   "outputs": [
    {
     "name": "stdout",
     "output_type": "stream",
     "text": [
      "<class 'pandas.core.frame.DataFrame'>\n",
      "RangeIndex: 418 entries, 0 to 417\n",
      "Data columns (total 8 columns):\n",
      " #   Column       Non-Null Count  Dtype  \n",
      "---  ------       --------------  -----  \n",
      " 0   PassengerId  418 non-null    int64  \n",
      " 1   Pclass       418 non-null    int64  \n",
      " 2   Sex          418 non-null    object \n",
      " 3   Age          332 non-null    float64\n",
      " 4   SibSp        418 non-null    int64  \n",
      " 5   Parch        418 non-null    int64  \n",
      " 6   Fare         417 non-null    float64\n",
      " 7   Embarked     418 non-null    object \n",
      "dtypes: float64(2), int64(4), object(2)\n",
      "memory usage: 26.2+ KB\n"
     ]
    }
   ],
   "source": [
    "test.info()"
   ]
  },
  {
   "cell_type": "code",
   "execution_count": 68,
   "id": "artificial-praise",
   "metadata": {
    "execution": {
     "iopub.execute_input": "2021-06-26T21:27:07.403460Z",
     "iopub.status.busy": "2021-06-26T21:27:07.399002Z",
     "iopub.status.idle": "2021-06-26T21:27:07.429641Z",
     "shell.execute_reply": "2021-06-26T21:27:07.429084Z",
     "shell.execute_reply.started": "2021-06-26T21:25:27.390859Z"
    },
    "papermill": {
     "duration": 0.174213,
     "end_time": "2021-06-26T21:27:07.429832",
     "exception": false,
     "start_time": "2021-06-26T21:27:07.255619",
     "status": "completed"
    },
    "tags": []
   },
   "outputs": [
    {
     "data": {
      "text/html": [
       "<div>\n",
       "<style scoped>\n",
       "    .dataframe tbody tr th:only-of-type {\n",
       "        vertical-align: middle;\n",
       "    }\n",
       "\n",
       "    .dataframe tbody tr th {\n",
       "        vertical-align: top;\n",
       "    }\n",
       "\n",
       "    .dataframe thead th {\n",
       "        text-align: right;\n",
       "    }\n",
       "</style>\n",
       "<table border=\"1\" class=\"dataframe\">\n",
       "  <thead>\n",
       "    <tr style=\"text-align: right;\">\n",
       "      <th></th>\n",
       "      <th>PassengerId</th>\n",
       "      <th>Pclass</th>\n",
       "      <th>Age</th>\n",
       "      <th>SibSp</th>\n",
       "      <th>Parch</th>\n",
       "      <th>Fare</th>\n",
       "    </tr>\n",
       "  </thead>\n",
       "  <tbody>\n",
       "    <tr>\n",
       "      <th>count</th>\n",
       "      <td>418.00</td>\n",
       "      <td>418.00</td>\n",
       "      <td>332.00</td>\n",
       "      <td>418.00</td>\n",
       "      <td>418.00</td>\n",
       "      <td>417.00</td>\n",
       "    </tr>\n",
       "    <tr>\n",
       "      <th>mean</th>\n",
       "      <td>1100.50</td>\n",
       "      <td>2.27</td>\n",
       "      <td>30.27</td>\n",
       "      <td>0.45</td>\n",
       "      <td>0.39</td>\n",
       "      <td>35.63</td>\n",
       "    </tr>\n",
       "    <tr>\n",
       "      <th>std</th>\n",
       "      <td>120.81</td>\n",
       "      <td>0.84</td>\n",
       "      <td>14.18</td>\n",
       "      <td>0.90</td>\n",
       "      <td>0.98</td>\n",
       "      <td>55.91</td>\n",
       "    </tr>\n",
       "    <tr>\n",
       "      <th>min</th>\n",
       "      <td>892.00</td>\n",
       "      <td>1.00</td>\n",
       "      <td>0.17</td>\n",
       "      <td>0.00</td>\n",
       "      <td>0.00</td>\n",
       "      <td>0.00</td>\n",
       "    </tr>\n",
       "    <tr>\n",
       "      <th>25%</th>\n",
       "      <td>996.25</td>\n",
       "      <td>1.00</td>\n",
       "      <td>21.00</td>\n",
       "      <td>0.00</td>\n",
       "      <td>0.00</td>\n",
       "      <td>7.90</td>\n",
       "    </tr>\n",
       "    <tr>\n",
       "      <th>50%</th>\n",
       "      <td>1100.50</td>\n",
       "      <td>3.00</td>\n",
       "      <td>27.00</td>\n",
       "      <td>0.00</td>\n",
       "      <td>0.00</td>\n",
       "      <td>14.45</td>\n",
       "    </tr>\n",
       "    <tr>\n",
       "      <th>75%</th>\n",
       "      <td>1204.75</td>\n",
       "      <td>3.00</td>\n",
       "      <td>39.00</td>\n",
       "      <td>1.00</td>\n",
       "      <td>0.00</td>\n",
       "      <td>31.50</td>\n",
       "    </tr>\n",
       "    <tr>\n",
       "      <th>max</th>\n",
       "      <td>1309.00</td>\n",
       "      <td>3.00</td>\n",
       "      <td>76.00</td>\n",
       "      <td>8.00</td>\n",
       "      <td>9.00</td>\n",
       "      <td>512.33</td>\n",
       "    </tr>\n",
       "  </tbody>\n",
       "</table>\n",
       "</div>"
      ],
      "text/plain": [
       "       PassengerId  Pclass     Age   SibSp   Parch    Fare\n",
       "count       418.00  418.00  332.00  418.00  418.00  417.00\n",
       "mean       1100.50    2.27   30.27    0.45    0.39   35.63\n",
       "std         120.81    0.84   14.18    0.90    0.98   55.91\n",
       "min         892.00    1.00    0.17    0.00    0.00    0.00\n",
       "25%         996.25    1.00   21.00    0.00    0.00    7.90\n",
       "50%        1100.50    3.00   27.00    0.00    0.00   14.45\n",
       "75%        1204.75    3.00   39.00    1.00    0.00   31.50\n",
       "max        1309.00    3.00   76.00    8.00    9.00  512.33"
      ]
     },
     "execution_count": 68,
     "metadata": {},
     "output_type": "execute_result"
    }
   ],
   "source": [
    "round(test.describe(),2)"
   ]
  },
  {
   "cell_type": "markdown",
   "id": "competent-angle",
   "metadata": {
    "papermill": {
     "duration": 0.131913,
     "end_time": "2021-06-26T21:27:07.694340",
     "exception": false,
     "start_time": "2021-06-26T21:27:07.562427",
     "status": "completed"
    },
    "tags": []
   },
   "source": [
    "## Impute Missing Values for Age Feature"
   ]
  },
  {
   "cell_type": "code",
   "execution_count": 69,
   "id": "developed-proposal",
   "metadata": {
    "execution": {
     "iopub.execute_input": "2021-06-26T21:27:07.962536Z",
     "iopub.status.busy": "2021-06-26T21:27:07.961846Z",
     "iopub.status.idle": "2021-06-26T21:27:07.969913Z",
     "shell.execute_reply": "2021-06-26T21:27:07.969357Z",
     "shell.execute_reply.started": "2021-06-26T21:25:27.437943Z"
    },
    "papermill": {
     "duration": 0.143764,
     "end_time": "2021-06-26T21:27:07.970075",
     "exception": false,
     "start_time": "2021-06-26T21:27:07.826311",
     "status": "completed"
    },
    "tags": []
   },
   "outputs": [
    {
     "data": {
      "text/plain": [
       "PassengerId     0\n",
       "Pclass          0\n",
       "Sex             0\n",
       "Age            86\n",
       "SibSp           0\n",
       "Parch           0\n",
       "Fare            1\n",
       "Embarked        0\n",
       "dtype: int64"
      ]
     },
     "execution_count": 69,
     "metadata": {},
     "output_type": "execute_result"
    }
   ],
   "source": [
    "# To view a missing values in a tabluar format and the percentage of nulls that make up the whole dataset:\n",
    "test.isnull().sum(axis = 0)\n",
    "# Looks like Age = 179 null values\n",
    "# Cabin = 689\n",
    "# and others have a few nulls"
   ]
  },
  {
   "cell_type": "code",
   "execution_count": 70,
   "id": "israeli-walter",
   "metadata": {
    "execution": {
     "iopub.execute_input": "2021-06-26T21:27:08.249664Z",
     "iopub.status.busy": "2021-06-26T21:27:08.248641Z",
     "iopub.status.idle": "2021-06-26T21:27:08.252715Z",
     "shell.execute_reply": "2021-06-26T21:27:08.253173Z",
     "shell.execute_reply.started": "2021-06-26T21:25:27.449183Z"
    },
    "papermill": {
     "duration": 0.147259,
     "end_time": "2021-06-26T21:27:08.253369",
     "exception": false,
     "start_time": "2021-06-26T21:27:08.106110",
     "status": "completed"
    },
    "tags": []
   },
   "outputs": [
    {
     "data": {
      "text/plain": [
       "Pclass  Sex   \n",
       "1       female    41.0\n",
       "        male      42.0\n",
       "2       female    24.0\n",
       "        male      28.0\n",
       "3       female    22.0\n",
       "        male      24.0\n",
       "Name: Age, dtype: float64"
      ]
     },
     "execution_count": 70,
     "metadata": {},
     "output_type": "execute_result"
    }
   ],
   "source": [
    "# Replace nulls with for age with median to fill missed data on 'Age'\n",
    "test.groupby(['Pclass', 'Sex'])['Age'].median()"
   ]
  },
  {
   "cell_type": "code",
   "execution_count": 71,
   "id": "controversial-infection",
   "metadata": {
    "execution": {
     "iopub.execute_input": "2021-06-26T21:27:08.529245Z",
     "iopub.status.busy": "2021-06-26T21:27:08.528164Z",
     "iopub.status.idle": "2021-06-26T21:27:08.530697Z",
     "shell.execute_reply": "2021-06-26T21:27:08.531168Z",
     "shell.execute_reply.started": "2021-06-26T21:25:27.471729Z"
    },
    "papermill": {
     "duration": 0.144034,
     "end_time": "2021-06-26T21:27:08.531370",
     "exception": false,
     "start_time": "2021-06-26T21:27:08.387336",
     "status": "completed"
    },
    "tags": []
   },
   "outputs": [],
   "source": [
    "def set_null_age(cols):\n",
    "    Age,Pclass,Sex = cols\n",
    "    if pd.isnull(Age):\n",
    "        if Pclass == 1: \n",
    "            if Sex == 'female':\n",
    "                return 35\n",
    "            else:\n",
    "                return 40\n",
    "        elif Pclass == 2: \n",
    "            if Sex == 'female':\n",
    "                return 28\n",
    "            else:\n",
    "                return 30         \n",
    "        elif Pclass == 3: \n",
    "            if Sex == 'female':\n",
    "                return 22\n",
    "            else:\n",
    "                return 25  \n",
    "    else:\n",
    "        return Age"
   ]
  },
  {
   "cell_type": "code",
   "execution_count": 72,
   "id": "ignored-summer",
   "metadata": {
    "execution": {
     "iopub.execute_input": "2021-06-26T21:27:08.803325Z",
     "iopub.status.busy": "2021-06-26T21:27:08.802363Z",
     "iopub.status.idle": "2021-06-26T21:27:08.814872Z",
     "shell.execute_reply": "2021-06-26T21:27:08.815383Z",
     "shell.execute_reply.started": "2021-06-26T21:25:27.481839Z"
    },
    "papermill": {
     "duration": 0.15006,
     "end_time": "2021-06-26T21:27:08.815607",
     "exception": false,
     "start_time": "2021-06-26T21:27:08.665547",
     "status": "completed"
    },
    "tags": []
   },
   "outputs": [],
   "source": [
    "test['Age']= test[['Age', 'Pclass', 'Sex']].apply(set_null_age, axis = 1)"
   ]
  },
  {
   "cell_type": "code",
   "execution_count": 73,
   "id": "infrared-replacement",
   "metadata": {
    "execution": {
     "iopub.execute_input": "2021-06-26T21:27:09.089721Z",
     "iopub.status.busy": "2021-06-26T21:27:09.088627Z",
     "iopub.status.idle": "2021-06-26T21:27:09.097764Z",
     "shell.execute_reply": "2021-06-26T21:27:09.098309Z",
     "shell.execute_reply.started": "2021-06-26T21:25:27.504262Z"
    },
    "papermill": {
     "duration": 0.147905,
     "end_time": "2021-06-26T21:27:09.098536",
     "exception": false,
     "start_time": "2021-06-26T21:27:08.950631",
     "status": "completed"
    },
    "tags": []
   },
   "outputs": [
    {
     "data": {
      "text/plain": [
       "PassengerId    0\n",
       "Pclass         0\n",
       "Sex            0\n",
       "Age            0\n",
       "SibSp          0\n",
       "Parch          0\n",
       "Fare           1\n",
       "Embarked       0\n",
       "dtype: int64"
      ]
     },
     "execution_count": 73,
     "metadata": {},
     "output_type": "execute_result"
    }
   ],
   "source": [
    "# To view a missing values in a tabluar format and the percentage of nulls that make up the whole dataset:\n",
    "test.isnull().sum(axis = 0)"
   ]
  },
  {
   "cell_type": "markdown",
   "id": "ambient-colonial",
   "metadata": {
    "papermill": {
     "duration": 0.132842,
     "end_time": "2021-06-26T21:27:09.364758",
     "exception": false,
     "start_time": "2021-06-26T21:27:09.231916",
     "status": "completed"
    },
    "tags": []
   },
   "source": [
    "## Compare Relationship Between Passenger Class and Fare"
   ]
  },
  {
   "cell_type": "code",
   "execution_count": 74,
   "id": "rental-nickname",
   "metadata": {
    "execution": {
     "iopub.execute_input": "2021-06-26T21:27:09.632885Z",
     "iopub.status.busy": "2021-06-26T21:27:09.631918Z",
     "iopub.status.idle": "2021-06-26T21:27:09.640445Z",
     "shell.execute_reply": "2021-06-26T21:27:09.640898Z",
     "shell.execute_reply.started": "2021-06-26T21:25:27.523922Z"
    },
    "papermill": {
     "duration": 0.144108,
     "end_time": "2021-06-26T21:27:09.641088",
     "exception": false,
     "start_time": "2021-06-26T21:27:09.496980",
     "status": "completed"
    },
    "tags": []
   },
   "outputs": [
    {
     "data": {
      "text/plain": [
       "Pclass\n",
       "1    94.28\n",
       "2    22.20\n",
       "3    12.46\n",
       "Name: Fare, dtype: float64"
      ]
     },
     "execution_count": 74,
     "metadata": {},
     "output_type": "execute_result"
    }
   ],
   "source": [
    "test.groupby(['Pclass'])['Fare'].mean().round(2)\n",
    "# Note: On average passengers paid a higher fare if you were on 1st class vs the other two classes\n",
    "# But we will use max values as our threshold to determine fare paid by each passenger based on class"
   ]
  },
  {
   "cell_type": "code",
   "execution_count": 75,
   "id": "rubber-crowd",
   "metadata": {
    "execution": {
     "iopub.execute_input": "2021-06-26T21:27:09.909583Z",
     "iopub.status.busy": "2021-06-26T21:27:09.908541Z",
     "iopub.status.idle": "2021-06-26T21:27:09.922040Z",
     "shell.execute_reply": "2021-06-26T21:27:09.922473Z",
     "shell.execute_reply.started": "2021-06-26T21:25:27.544179Z"
    },
    "papermill": {
     "duration": 0.14969,
     "end_time": "2021-06-26T21:27:09.922655",
     "exception": false,
     "start_time": "2021-06-26T21:27:09.772965",
     "status": "completed"
    },
    "tags": []
   },
   "outputs": [
    {
     "data": {
      "text/html": [
       "<div>\n",
       "<style scoped>\n",
       "    .dataframe tbody tr th:only-of-type {\n",
       "        vertical-align: middle;\n",
       "    }\n",
       "\n",
       "    .dataframe tbody tr th {\n",
       "        vertical-align: top;\n",
       "    }\n",
       "\n",
       "    .dataframe thead th {\n",
       "        text-align: right;\n",
       "    }\n",
       "</style>\n",
       "<table border=\"1\" class=\"dataframe\">\n",
       "  <thead>\n",
       "    <tr style=\"text-align: right;\">\n",
       "      <th></th>\n",
       "      <th>PassengerId</th>\n",
       "      <th>Pclass</th>\n",
       "      <th>Sex</th>\n",
       "      <th>Age</th>\n",
       "      <th>SibSp</th>\n",
       "      <th>Parch</th>\n",
       "      <th>Fare</th>\n",
       "      <th>Embarked</th>\n",
       "    </tr>\n",
       "  </thead>\n",
       "  <tbody>\n",
       "    <tr>\n",
       "      <th>0</th>\n",
       "      <td>892</td>\n",
       "      <td>3</td>\n",
       "      <td>male</td>\n",
       "      <td>34.5</td>\n",
       "      <td>0</td>\n",
       "      <td>0</td>\n",
       "      <td>7.8292</td>\n",
       "      <td>Q</td>\n",
       "    </tr>\n",
       "    <tr>\n",
       "      <th>1</th>\n",
       "      <td>893</td>\n",
       "      <td>3</td>\n",
       "      <td>female</td>\n",
       "      <td>47.0</td>\n",
       "      <td>1</td>\n",
       "      <td>0</td>\n",
       "      <td>7.0000</td>\n",
       "      <td>S</td>\n",
       "    </tr>\n",
       "    <tr>\n",
       "      <th>2</th>\n",
       "      <td>894</td>\n",
       "      <td>2</td>\n",
       "      <td>male</td>\n",
       "      <td>62.0</td>\n",
       "      <td>0</td>\n",
       "      <td>0</td>\n",
       "      <td>9.6875</td>\n",
       "      <td>Q</td>\n",
       "    </tr>\n",
       "    <tr>\n",
       "      <th>3</th>\n",
       "      <td>895</td>\n",
       "      <td>3</td>\n",
       "      <td>male</td>\n",
       "      <td>27.0</td>\n",
       "      <td>0</td>\n",
       "      <td>0</td>\n",
       "      <td>8.6625</td>\n",
       "      <td>S</td>\n",
       "    </tr>\n",
       "    <tr>\n",
       "      <th>4</th>\n",
       "      <td>896</td>\n",
       "      <td>3</td>\n",
       "      <td>female</td>\n",
       "      <td>22.0</td>\n",
       "      <td>1</td>\n",
       "      <td>1</td>\n",
       "      <td>12.2875</td>\n",
       "      <td>S</td>\n",
       "    </tr>\n",
       "  </tbody>\n",
       "</table>\n",
       "</div>"
      ],
      "text/plain": [
       "   PassengerId  Pclass     Sex   Age  SibSp  Parch     Fare Embarked\n",
       "0          892       3    male  34.5      0      0   7.8292        Q\n",
       "1          893       3  female  47.0      1      0   7.0000        S\n",
       "2          894       2    male  62.0      0      0   9.6875        Q\n",
       "3          895       3    male  27.0      0      0   8.6625        S\n",
       "4          896       3  female  22.0      1      1  12.2875        S"
      ]
     },
     "execution_count": 75,
     "metadata": {},
     "output_type": "execute_result"
    }
   ],
   "source": [
    "test.head()"
   ]
  },
  {
   "cell_type": "markdown",
   "id": "bound-candy",
   "metadata": {
    "papermill": {
     "duration": 0.134376,
     "end_time": "2021-06-26T21:27:10.189467",
     "exception": false,
     "start_time": "2021-06-26T21:27:10.055091",
     "status": "completed"
    },
    "tags": []
   },
   "source": [
    "## Impute Missing Values for Fare Feature "
   ]
  },
  {
   "cell_type": "code",
   "execution_count": 76,
   "id": "requested-tactics",
   "metadata": {
    "execution": {
     "iopub.execute_input": "2021-06-26T21:27:10.459108Z",
     "iopub.status.busy": "2021-06-26T21:27:10.458133Z",
     "iopub.status.idle": "2021-06-26T21:27:10.470545Z",
     "shell.execute_reply": "2021-06-26T21:27:10.471014Z",
     "shell.execute_reply.started": "2021-06-26T21:25:27.569908Z"
    },
    "papermill": {
     "duration": 0.148564,
     "end_time": "2021-06-26T21:27:10.471188",
     "exception": false,
     "start_time": "2021-06-26T21:27:10.322624",
     "status": "completed"
    },
    "scrolled": true,
    "tags": []
   },
   "outputs": [
    {
     "data": {
      "text/html": [
       "<div>\n",
       "<style scoped>\n",
       "    .dataframe tbody tr th:only-of-type {\n",
       "        vertical-align: middle;\n",
       "    }\n",
       "\n",
       "    .dataframe tbody tr th {\n",
       "        vertical-align: top;\n",
       "    }\n",
       "\n",
       "    .dataframe thead th {\n",
       "        text-align: right;\n",
       "    }\n",
       "</style>\n",
       "<table border=\"1\" class=\"dataframe\">\n",
       "  <thead>\n",
       "    <tr style=\"text-align: right;\">\n",
       "      <th></th>\n",
       "      <th>PassengerId</th>\n",
       "      <th>Pclass</th>\n",
       "      <th>Sex</th>\n",
       "      <th>Age</th>\n",
       "      <th>SibSp</th>\n",
       "      <th>Parch</th>\n",
       "      <th>Fare</th>\n",
       "      <th>Embarked</th>\n",
       "    </tr>\n",
       "  </thead>\n",
       "  <tbody>\n",
       "    <tr>\n",
       "      <th>152</th>\n",
       "      <td>1044</td>\n",
       "      <td>3</td>\n",
       "      <td>male</td>\n",
       "      <td>60.5</td>\n",
       "      <td>0</td>\n",
       "      <td>0</td>\n",
       "      <td>NaN</td>\n",
       "      <td>S</td>\n",
       "    </tr>\n",
       "  </tbody>\n",
       "</table>\n",
       "</div>"
      ],
      "text/plain": [
       "     PassengerId  Pclass   Sex   Age  SibSp  Parch  Fare Embarked\n",
       "152         1044       3  male  60.5      0      0   NaN        S"
      ]
     },
     "execution_count": 76,
     "metadata": {},
     "output_type": "execute_result"
    }
   ],
   "source": [
    "test[pd.isnull(test.Fare)] # records where embarked is null"
   ]
  },
  {
   "cell_type": "code",
   "execution_count": 77,
   "id": "expanded-powell",
   "metadata": {
    "execution": {
     "iopub.execute_input": "2021-06-26T21:27:10.743314Z",
     "iopub.status.busy": "2021-06-26T21:27:10.742383Z",
     "iopub.status.idle": "2021-06-26T21:27:10.747756Z",
     "shell.execute_reply": "2021-06-26T21:27:10.748243Z",
     "shell.execute_reply.started": "2021-06-26T21:25:27.585745Z"
    },
    "papermill": {
     "duration": 0.141338,
     "end_time": "2021-06-26T21:27:10.748414",
     "exception": false,
     "start_time": "2021-06-26T21:27:10.607076",
     "status": "completed"
    },
    "tags": []
   },
   "outputs": [],
   "source": [
    "test.loc[(152), 'Fare'] = '12.46' #replace with average fare for Pclass 3"
   ]
  },
  {
   "cell_type": "markdown",
   "id": "coordinate-longer",
   "metadata": {
    "papermill": {
     "duration": 0.134031,
     "end_time": "2021-06-26T21:27:11.016462",
     "exception": false,
     "start_time": "2021-06-26T21:27:10.882431",
     "status": "completed"
    },
    "tags": []
   },
   "source": [
    "## Eliminate Remaining Missing Values By Dropping "
   ]
  },
  {
   "cell_type": "code",
   "execution_count": 78,
   "id": "everyday-healing",
   "metadata": {
    "execution": {
     "iopub.execute_input": "2021-06-26T21:27:11.294026Z",
     "iopub.status.busy": "2021-06-26T21:27:11.293071Z",
     "iopub.status.idle": "2021-06-26T21:27:11.300933Z",
     "shell.execute_reply": "2021-06-26T21:27:11.301412Z",
     "shell.execute_reply.started": "2021-06-26T21:25:27.598481Z"
    },
    "papermill": {
     "duration": 0.145093,
     "end_time": "2021-06-26T21:27:11.301591",
     "exception": false,
     "start_time": "2021-06-26T21:27:11.156498",
     "status": "completed"
    },
    "tags": []
   },
   "outputs": [
    {
     "data": {
      "text/plain": [
       "PassengerId    0\n",
       "Pclass         0\n",
       "Sex            0\n",
       "Age            0\n",
       "SibSp          0\n",
       "Parch          0\n",
       "Fare           0\n",
       "Embarked       0\n",
       "dtype: int64"
      ]
     },
     "execution_count": 78,
     "metadata": {},
     "output_type": "execute_result"
    }
   ],
   "source": [
    "# To view a missing values in a tabluar format and the percentage of nulls that make up the whole dataset:\n",
    "test.isnull().sum()"
   ]
  },
  {
   "cell_type": "code",
   "execution_count": 79,
   "id": "attractive-slope",
   "metadata": {
    "execution": {
     "iopub.execute_input": "2021-06-26T21:27:11.577816Z",
     "iopub.status.busy": "2021-06-26T21:27:11.576803Z",
     "iopub.status.idle": "2021-06-26T21:27:12.108613Z",
     "shell.execute_reply": "2021-06-26T21:27:12.108044Z",
     "shell.execute_reply.started": "2021-06-26T21:25:27.617956Z"
    },
    "papermill": {
     "duration": 0.671332,
     "end_time": "2021-06-26T21:27:12.108796",
     "exception": false,
     "start_time": "2021-06-26T21:27:11.437464",
     "status": "completed"
    },
    "tags": []
   },
   "outputs": [
    {
     "data": {
      "image/png": "[encoded data removed]",
      "text/plain": [
       "<Figure size 720x576 with 1 Axes>"
      ]
     },
     "metadata": {
      "needs_background": "light"
     },
     "output_type": "display_data"
    }
   ],
   "source": [
    "# Create a heatmap to visalize the missing values \n",
    "plt.subplots(figsize=(10,8))\n",
    "\n",
    "sns.heatmap(test.isnull(),cbar = False)\n",
    "\n",
    "plt.title('Heatmap of Missing Values')\n",
    "plt.xlabel('Attributes')\n",
    "plt.ylabel('Index')\n",
    "\n",
    "plt.show() # all null values eliminated "
   ]
  },
  {
   "cell_type": "code",
   "execution_count": 80,
   "id": "addressed-worship",
   "metadata": {
    "execution": {
     "iopub.execute_input": "2021-06-26T21:27:12.389518Z",
     "iopub.status.busy": "2021-06-26T21:27:12.388823Z",
     "iopub.status.idle": "2021-06-26T21:27:12.401803Z",
     "shell.execute_reply": "2021-06-26T21:27:12.400667Z",
     "shell.execute_reply.started": "2021-06-26T21:25:28.111824Z"
    },
    "papermill": {
     "duration": 0.155345,
     "end_time": "2021-06-26T21:27:12.402085",
     "exception": false,
     "start_time": "2021-06-26T21:27:12.246740",
     "status": "completed"
    },
    "tags": []
   },
   "outputs": [
    {
     "name": "stdout",
     "output_type": "stream",
     "text": [
      "<class 'pandas.core.frame.DataFrame'>\n",
      "RangeIndex: 418 entries, 0 to 417\n",
      "Data columns (total 8 columns):\n",
      " #   Column       Non-Null Count  Dtype  \n",
      "---  ------       --------------  -----  \n",
      " 0   PassengerId  418 non-null    int64  \n",
      " 1   Pclass       418 non-null    int64  \n",
      " 2   Sex          418 non-null    object \n",
      " 3   Age          418 non-null    float64\n",
      " 4   SibSp        418 non-null    int64  \n",
      " 5   Parch        418 non-null    int64  \n",
      " 6   Fare         418 non-null    object \n",
      " 7   Embarked     418 non-null    object \n",
      "dtypes: float64(1), int64(4), object(3)\n",
      "memory usage: 26.2+ KB\n"
     ]
    }
   ],
   "source": [
    "test.info() # total 891 entries"
   ]
  },
  {
   "cell_type": "markdown",
   "id": "cultural-obligation",
   "metadata": {
    "papermill": {
     "duration": 0.135415,
     "end_time": "2021-06-26T21:27:12.675632",
     "exception": false,
     "start_time": "2021-06-26T21:27:12.540217",
     "status": "completed"
    },
    "tags": []
   },
   "source": [
    "# Hot-Encode Values in Sex, Embarked, Pclass, SibSp, and Parch Features"
   ]
  },
  {
   "cell_type": "code",
   "execution_count": 81,
   "id": "exceptional-floor",
   "metadata": {
    "execution": {
     "iopub.execute_input": "2021-06-26T21:27:12.948660Z",
     "iopub.status.busy": "2021-06-26T21:27:12.948029Z",
     "iopub.status.idle": "2021-06-26T21:27:12.951515Z",
     "shell.execute_reply": "2021-06-26T21:27:12.952049Z",
     "shell.execute_reply.started": "2021-06-26T21:25:28.130937Z"
    },
    "papermill": {
     "duration": 0.14191,
     "end_time": "2021-06-26T21:27:12.952245",
     "exception": false,
     "start_time": "2021-06-26T21:27:12.810335",
     "status": "completed"
    },
    "tags": []
   },
   "outputs": [],
   "source": [
    "from sklearn.preprocessing import OneHotEncoder"
   ]
  },
  {
   "cell_type": "markdown",
   "id": "stable-plant",
   "metadata": {
    "papermill": {
     "duration": 0.135226,
     "end_time": "2021-06-26T21:27:13.222998",
     "exception": false,
     "start_time": "2021-06-26T21:27:13.087772",
     "status": "completed"
    },
    "tags": []
   },
   "source": [
    "## First Map Values for Siblings and Parents Feature"
   ]
  },
  {
   "cell_type": "code",
   "execution_count": 82,
   "id": "alleged-reliance",
   "metadata": {
    "execution": {
     "iopub.execute_input": "2021-06-26T21:27:13.496533Z",
     "iopub.status.busy": "2021-06-26T21:27:13.495932Z",
     "iopub.status.idle": "2021-06-26T21:27:13.510596Z",
     "shell.execute_reply": "2021-06-26T21:27:13.510079Z",
     "shell.execute_reply.started": "2021-06-26T21:25:28.147440Z"
    },
    "papermill": {
     "duration": 0.152905,
     "end_time": "2021-06-26T21:27:13.510759",
     "exception": false,
     "start_time": "2021-06-26T21:27:13.357854",
     "status": "completed"
    },
    "tags": []
   },
   "outputs": [
    {
     "data": {
      "text/html": [
       "<div>\n",
       "<style scoped>\n",
       "    .dataframe tbody tr th:only-of-type {\n",
       "        vertical-align: middle;\n",
       "    }\n",
       "\n",
       "    .dataframe tbody tr th {\n",
       "        vertical-align: top;\n",
       "    }\n",
       "\n",
       "    .dataframe thead th {\n",
       "        text-align: right;\n",
       "    }\n",
       "</style>\n",
       "<table border=\"1\" class=\"dataframe\">\n",
       "  <thead>\n",
       "    <tr style=\"text-align: right;\">\n",
       "      <th></th>\n",
       "      <th>PassengerId</th>\n",
       "      <th>Pclass</th>\n",
       "      <th>Sex</th>\n",
       "      <th>Age</th>\n",
       "      <th>SibSp</th>\n",
       "      <th>Parch</th>\n",
       "      <th>Fare</th>\n",
       "      <th>Embarked</th>\n",
       "    </tr>\n",
       "  </thead>\n",
       "  <tbody>\n",
       "    <tr>\n",
       "      <th>0</th>\n",
       "      <td>892</td>\n",
       "      <td>3</td>\n",
       "      <td>male</td>\n",
       "      <td>34.5</td>\n",
       "      <td>0</td>\n",
       "      <td>0</td>\n",
       "      <td>7.8292</td>\n",
       "      <td>Q</td>\n",
       "    </tr>\n",
       "    <tr>\n",
       "      <th>1</th>\n",
       "      <td>893</td>\n",
       "      <td>3</td>\n",
       "      <td>female</td>\n",
       "      <td>47.0</td>\n",
       "      <td>1</td>\n",
       "      <td>0</td>\n",
       "      <td>7.0</td>\n",
       "      <td>S</td>\n",
       "    </tr>\n",
       "    <tr>\n",
       "      <th>2</th>\n",
       "      <td>894</td>\n",
       "      <td>2</td>\n",
       "      <td>male</td>\n",
       "      <td>62.0</td>\n",
       "      <td>0</td>\n",
       "      <td>0</td>\n",
       "      <td>9.6875</td>\n",
       "      <td>Q</td>\n",
       "    </tr>\n",
       "    <tr>\n",
       "      <th>3</th>\n",
       "      <td>895</td>\n",
       "      <td>3</td>\n",
       "      <td>male</td>\n",
       "      <td>27.0</td>\n",
       "      <td>0</td>\n",
       "      <td>0</td>\n",
       "      <td>8.6625</td>\n",
       "      <td>S</td>\n",
       "    </tr>\n",
       "    <tr>\n",
       "      <th>4</th>\n",
       "      <td>896</td>\n",
       "      <td>3</td>\n",
       "      <td>female</td>\n",
       "      <td>22.0</td>\n",
       "      <td>1</td>\n",
       "      <td>1</td>\n",
       "      <td>12.2875</td>\n",
       "      <td>S</td>\n",
       "    </tr>\n",
       "  </tbody>\n",
       "</table>\n",
       "</div>"
      ],
      "text/plain": [
       "   PassengerId  Pclass     Sex   Age  SibSp  Parch     Fare Embarked\n",
       "0          892       3    male  34.5      0      0   7.8292        Q\n",
       "1          893       3  female  47.0      1      0      7.0        S\n",
       "2          894       2    male  62.0      0      0   9.6875        Q\n",
       "3          895       3    male  27.0      0      0   8.6625        S\n",
       "4          896       3  female  22.0      1      1  12.2875        S"
      ]
     },
     "execution_count": 82,
     "metadata": {},
     "output_type": "execute_result"
    }
   ],
   "source": [
    "test.head()"
   ]
  },
  {
   "cell_type": "code",
   "execution_count": 83,
   "id": "reasonable-cartoon",
   "metadata": {
    "execution": {
     "iopub.execute_input": "2021-06-26T21:27:13.791028Z",
     "iopub.status.busy": "2021-06-26T21:27:13.790172Z",
     "iopub.status.idle": "2021-06-26T21:27:13.793735Z",
     "shell.execute_reply": "2021-06-26T21:27:13.793089Z",
     "shell.execute_reply.started": "2021-06-26T21:25:28.172328Z"
    },
    "papermill": {
     "duration": 0.147716,
     "end_time": "2021-06-26T21:27:13.793873",
     "exception": false,
     "start_time": "2021-06-26T21:27:13.646157",
     "status": "completed"
    },
    "tags": []
   },
   "outputs": [],
   "source": [
    "test.loc[((test.SibSp < 1 )) ,'SibSp'] =  0 # no siblings = 0\n",
    "test.loc[((test.Parch < 1 )) ,'Parch'] =  0 # no parents = 0\n",
    "\n",
    "test.loc[((test.SibSp >= 1 )) ,'SibSp'] =  1 # 1 or more siblings = 1\n",
    "test.loc[((test.Parch >= 1 )) ,'Parch'] =  1 # 1 or more parents = 1"
   ]
  },
  {
   "cell_type": "code",
   "execution_count": 84,
   "id": "flush-nomination",
   "metadata": {
    "execution": {
     "iopub.execute_input": "2021-06-26T21:27:14.067909Z",
     "iopub.status.busy": "2021-06-26T21:27:14.067251Z",
     "iopub.status.idle": "2021-06-26T21:27:14.069150Z",
     "shell.execute_reply": "2021-06-26T21:27:14.069595Z",
     "shell.execute_reply.started": "2021-06-26T21:25:28.190465Z"
    },
    "papermill": {
     "duration": 0.141548,
     "end_time": "2021-06-26T21:27:14.069782",
     "exception": false,
     "start_time": "2021-06-26T21:27:13.928234",
     "status": "completed"
    },
    "tags": []
   },
   "outputs": [],
   "source": [
    "# we will use 1, 2, 3 insteed of S, Q, C\n",
    "\n",
    "#S = Southampton => 1\n",
    "# Q = Queenstown => 2\n",
    "# C = Cherbourg => 3\n",
    "\n",
    "#titanic['Embarked'] = titanic['Embarked'].map({\"S\": 1, \"Q\": 2, \"C\": 3})"
   ]
  },
  {
   "cell_type": "code",
   "execution_count": 85,
   "id": "lyric-knight",
   "metadata": {
    "execution": {
     "iopub.execute_input": "2021-06-26T21:27:14.346063Z",
     "iopub.status.busy": "2021-06-26T21:27:14.345367Z",
     "iopub.status.idle": "2021-06-26T21:27:14.348219Z",
     "shell.execute_reply": "2021-06-26T21:27:14.348700Z",
     "shell.execute_reply.started": "2021-06-26T21:25:28.207375Z"
    },
    "papermill": {
     "duration": 0.142072,
     "end_time": "2021-06-26T21:27:14.348876",
     "exception": false,
     "start_time": "2021-06-26T21:27:14.206804",
     "status": "completed"
    },
    "tags": []
   },
   "outputs": [],
   "source": [
    "# male = 0\n",
    "# female = 1\n",
    "#titanic['Sex'] = titanic['Sex'].map({'male':0, 'female':1})"
   ]
  },
  {
   "cell_type": "code",
   "execution_count": 86,
   "id": "every-melbourne",
   "metadata": {
    "execution": {
     "iopub.execute_input": "2021-06-26T21:27:14.623660Z",
     "iopub.status.busy": "2021-06-26T21:27:14.623024Z",
     "iopub.status.idle": "2021-06-26T21:27:14.636273Z",
     "shell.execute_reply": "2021-06-26T21:27:14.635641Z",
     "shell.execute_reply.started": "2021-06-26T21:25:28.216429Z"
    },
    "papermill": {
     "duration": 0.150834,
     "end_time": "2021-06-26T21:27:14.636409",
     "exception": false,
     "start_time": "2021-06-26T21:27:14.485575",
     "status": "completed"
    },
    "scrolled": true,
    "tags": []
   },
   "outputs": [
    {
     "data": {
      "text/html": [
       "<div>\n",
       "<style scoped>\n",
       "    .dataframe tbody tr th:only-of-type {\n",
       "        vertical-align: middle;\n",
       "    }\n",
       "\n",
       "    .dataframe tbody tr th {\n",
       "        vertical-align: top;\n",
       "    }\n",
       "\n",
       "    .dataframe thead th {\n",
       "        text-align: right;\n",
       "    }\n",
       "</style>\n",
       "<table border=\"1\" class=\"dataframe\">\n",
       "  <thead>\n",
       "    <tr style=\"text-align: right;\">\n",
       "      <th></th>\n",
       "      <th>PassengerId</th>\n",
       "      <th>Pclass</th>\n",
       "      <th>Sex</th>\n",
       "      <th>Age</th>\n",
       "      <th>SibSp</th>\n",
       "      <th>Parch</th>\n",
       "      <th>Fare</th>\n",
       "      <th>Embarked</th>\n",
       "    </tr>\n",
       "  </thead>\n",
       "  <tbody>\n",
       "    <tr>\n",
       "      <th>0</th>\n",
       "      <td>892</td>\n",
       "      <td>3</td>\n",
       "      <td>male</td>\n",
       "      <td>34.5</td>\n",
       "      <td>0</td>\n",
       "      <td>0</td>\n",
       "      <td>7.8292</td>\n",
       "      <td>Q</td>\n",
       "    </tr>\n",
       "    <tr>\n",
       "      <th>1</th>\n",
       "      <td>893</td>\n",
       "      <td>3</td>\n",
       "      <td>female</td>\n",
       "      <td>47.0</td>\n",
       "      <td>1</td>\n",
       "      <td>0</td>\n",
       "      <td>7.0</td>\n",
       "      <td>S</td>\n",
       "    </tr>\n",
       "    <tr>\n",
       "      <th>2</th>\n",
       "      <td>894</td>\n",
       "      <td>2</td>\n",
       "      <td>male</td>\n",
       "      <td>62.0</td>\n",
       "      <td>0</td>\n",
       "      <td>0</td>\n",
       "      <td>9.6875</td>\n",
       "      <td>Q</td>\n",
       "    </tr>\n",
       "    <tr>\n",
       "      <th>3</th>\n",
       "      <td>895</td>\n",
       "      <td>3</td>\n",
       "      <td>male</td>\n",
       "      <td>27.0</td>\n",
       "      <td>0</td>\n",
       "      <td>0</td>\n",
       "      <td>8.6625</td>\n",
       "      <td>S</td>\n",
       "    </tr>\n",
       "    <tr>\n",
       "      <th>4</th>\n",
       "      <td>896</td>\n",
       "      <td>3</td>\n",
       "      <td>female</td>\n",
       "      <td>22.0</td>\n",
       "      <td>1</td>\n",
       "      <td>1</td>\n",
       "      <td>12.2875</td>\n",
       "      <td>S</td>\n",
       "    </tr>\n",
       "  </tbody>\n",
       "</table>\n",
       "</div>"
      ],
      "text/plain": [
       "   PassengerId  Pclass     Sex   Age  SibSp  Parch     Fare Embarked\n",
       "0          892       3    male  34.5      0      0   7.8292        Q\n",
       "1          893       3  female  47.0      1      0      7.0        S\n",
       "2          894       2    male  62.0      0      0   9.6875        Q\n",
       "3          895       3    male  27.0      0      0   8.6625        S\n",
       "4          896       3  female  22.0      1      1  12.2875        S"
      ]
     },
     "execution_count": 86,
     "metadata": {},
     "output_type": "execute_result"
    }
   ],
   "source": [
    "test.head()"
   ]
  },
  {
   "cell_type": "markdown",
   "id": "naughty-directory",
   "metadata": {
    "papermill": {
     "duration": 0.135594,
     "end_time": "2021-06-26T21:27:14.909850",
     "exception": false,
     "start_time": "2021-06-26T21:27:14.774256",
     "status": "completed"
    },
    "tags": []
   },
   "source": [
    "## Hot-Encode Embarked, Siblings, Parent , Sex , Pclass Features and Survived"
   ]
  },
  {
   "cell_type": "code",
   "execution_count": 87,
   "id": "little-jersey",
   "metadata": {
    "execution": {
     "iopub.execute_input": "2021-06-26T21:27:15.189990Z",
     "iopub.status.busy": "2021-06-26T21:27:15.189300Z",
     "iopub.status.idle": "2021-06-26T21:27:15.191832Z",
     "shell.execute_reply": "2021-06-26T21:27:15.192286Z",
     "shell.execute_reply.started": "2021-06-26T21:25:28.239616Z"
    },
    "papermill": {
     "duration": 0.146133,
     "end_time": "2021-06-26T21:27:15.192456",
     "exception": false,
     "start_time": "2021-06-26T21:27:15.046323",
     "status": "completed"
    },
    "tags": []
   },
   "outputs": [],
   "source": [
    "#titanic.columns"
   ]
  },
  {
   "cell_type": "code",
   "execution_count": 88,
   "id": "sorted-architect",
   "metadata": {
    "execution": {
     "iopub.execute_input": "2021-06-26T21:27:15.468500Z",
     "iopub.status.busy": "2021-06-26T21:27:15.467755Z",
     "iopub.status.idle": "2021-06-26T21:27:15.470913Z",
     "shell.execute_reply": "2021-06-26T21:27:15.470313Z",
     "shell.execute_reply.started": "2021-06-26T21:25:28.254052Z"
    },
    "papermill": {
     "duration": 0.142912,
     "end_time": "2021-06-26T21:27:15.471054",
     "exception": false,
     "start_time": "2021-06-26T21:27:15.328142",
     "status": "completed"
    },
    "tags": []
   },
   "outputs": [],
   "source": [
    "#columns = ['Survived', 'Pclass', 'Sex', 'Age', 'SibSp', 'Parch', 'Fare', 'Embarked']\n",
    "\n",
    "#for col in columns:\n",
    "    #X_train = pd.concat([X_train, pd.get_dummies(data_train[col])], axis =1)\n",
    "    #X_test = pd.concat([X_test, pd.get_dummies(data_test[col])], axis =1)\n",
    "    \n",
    "    #titanic = pd.concat([titanic, pd.get_dummies(titanic[col], drop_first = True)], axis =1)\n",
    "    #X_test_onehot = pd.concat([X_test_onehot, pd.get_dummies(X_test_onehot[col], drop_first = True)], axis =1)"
   ]
  },
  {
   "cell_type": "code",
   "execution_count": 89,
   "id": "appropriate-tracy",
   "metadata": {
    "execution": {
     "iopub.execute_input": "2021-06-26T21:27:15.790538Z",
     "iopub.status.busy": "2021-06-26T21:27:15.789568Z",
     "iopub.status.idle": "2021-06-26T21:27:15.792400Z",
     "shell.execute_reply": "2021-06-26T21:27:15.793290Z",
     "shell.execute_reply.started": "2021-06-26T21:25:28.267430Z"
    },
    "papermill": {
     "duration": 0.154483,
     "end_time": "2021-06-26T21:27:15.793532",
     "exception": false,
     "start_time": "2021-06-26T21:27:15.639049",
     "status": "completed"
    },
    "tags": []
   },
   "outputs": [],
   "source": [
    "#titanic = titanic.drop(columns, axis=1)\n",
    "#X_test_onehot = X_test_onehot.drop(columns, axis=1)"
   ]
  },
  {
   "cell_type": "code",
   "execution_count": 90,
   "id": "powerful-parking",
   "metadata": {
    "execution": {
     "iopub.execute_input": "2021-06-26T21:27:16.100867Z",
     "iopub.status.busy": "2021-06-26T21:27:16.100102Z",
     "iopub.status.idle": "2021-06-26T21:27:16.104104Z",
     "shell.execute_reply": "2021-06-26T21:27:16.104636Z",
     "shell.execute_reply.started": "2021-06-26T21:25:28.281874Z"
    },
    "papermill": {
     "duration": 0.160752,
     "end_time": "2021-06-26T21:27:16.104853",
     "exception": false,
     "start_time": "2021-06-26T21:27:15.944101",
     "status": "completed"
    },
    "tags": []
   },
   "outputs": [],
   "source": [
    "#titanic.head()"
   ]
  },
  {
   "cell_type": "markdown",
   "id": "regional-optimization",
   "metadata": {
    "papermill": {
     "duration": 0.138583,
     "end_time": "2021-06-26T21:27:16.387356",
     "exception": false,
     "start_time": "2021-06-26T21:27:16.248773",
     "status": "completed"
    },
    "tags": []
   },
   "source": [
    "## Convert the values in the rest of the columns to int"
   ]
  },
  {
   "cell_type": "code",
   "execution_count": 91,
   "id": "cardiovascular-textbook",
   "metadata": {
    "execution": {
     "iopub.execute_input": "2021-06-26T21:27:16.665009Z",
     "iopub.status.busy": "2021-06-26T21:27:16.664349Z",
     "iopub.status.idle": "2021-06-26T21:27:16.667762Z",
     "shell.execute_reply": "2021-06-26T21:27:16.668273Z",
     "shell.execute_reply.started": "2021-06-26T21:25:28.296247Z"
    },
    "papermill": {
     "duration": 0.142002,
     "end_time": "2021-06-26T21:27:16.668442",
     "exception": false,
     "start_time": "2021-06-26T21:27:16.526440",
     "status": "completed"
    },
    "tags": []
   },
   "outputs": [],
   "source": [
    "#titanic['Survived'] = titanic['Survived'].astype(int)\n",
    "#titanic['SibSp'] = titanic['SibSp'].astype(int)\n",
    "#titanic['Parch'] = titanic['Parch'].astype(int)\n",
    "#titanic['Pclass'] = titanic['Pclass'].astype(int)"
   ]
  },
  {
   "cell_type": "markdown",
   "id": "collect-webcam",
   "metadata": {
    "papermill": {
     "duration": 0.135036,
     "end_time": "2021-06-26T21:27:16.939744",
     "exception": false,
     "start_time": "2021-06-26T21:27:16.804708",
     "status": "completed"
    },
    "tags": []
   },
   "source": [
    "## Hot- Encode Categorical Values and Scale Continous Values and then Concat\n",
    "\n",
    "https://stackoverflow.com/questions/43798377/one-hot-encode-categorical-variables-and-scale-continuous-ones-simultaneouely"
   ]
  },
  {
   "cell_type": "code",
   "execution_count": 92,
   "id": "narrow-video",
   "metadata": {
    "execution": {
     "iopub.execute_input": "2021-06-26T21:27:17.216446Z",
     "iopub.status.busy": "2021-06-26T21:27:17.215840Z",
     "iopub.status.idle": "2021-06-26T21:27:17.219863Z",
     "shell.execute_reply": "2021-06-26T21:27:17.219357Z",
     "shell.execute_reply.started": "2021-06-26T21:25:28.309896Z"
    },
    "papermill": {
     "duration": 0.143583,
     "end_time": "2021-06-26T21:27:17.220000",
     "exception": false,
     "start_time": "2021-06-26T21:27:17.076417",
     "status": "completed"
    },
    "tags": []
   },
   "outputs": [],
   "source": [
    "#titanic = pd.get_dummies(titanic, columns=['Survived', 'Pclass', 'Sex','SibSp', 'Parch','Embarked', 'Age', 'Fare'],drop_first=True)\n",
    "#titanic.head(10)\n",
    "\n",
    "# I have encoded Fare and Age (which are continuous, NOT categorical, variables)"
   ]
  },
  {
   "cell_type": "code",
   "execution_count": 93,
   "id": "advanced-rabbit",
   "metadata": {
    "execution": {
     "iopub.execute_input": "2021-06-26T21:27:17.505527Z",
     "iopub.status.busy": "2021-06-26T21:27:17.504876Z",
     "iopub.status.idle": "2021-06-26T21:27:17.507801Z",
     "shell.execute_reply": "2021-06-26T21:27:17.508356Z",
     "shell.execute_reply.started": "2021-06-26T21:25:28.324928Z"
    },
    "papermill": {
     "duration": 0.153068,
     "end_time": "2021-06-26T21:27:17.508519",
     "exception": false,
     "start_time": "2021-06-26T21:27:17.355451",
     "status": "completed"
    },
    "tags": []
   },
   "outputs": [
    {
     "data": {
      "text/html": [
       "<div>\n",
       "<style scoped>\n",
       "    .dataframe tbody tr th:only-of-type {\n",
       "        vertical-align: middle;\n",
       "    }\n",
       "\n",
       "    .dataframe tbody tr th {\n",
       "        vertical-align: top;\n",
       "    }\n",
       "\n",
       "    .dataframe thead th {\n",
       "        text-align: right;\n",
       "    }\n",
       "</style>\n",
       "<table border=\"1\" class=\"dataframe\">\n",
       "  <thead>\n",
       "    <tr style=\"text-align: right;\">\n",
       "      <th></th>\n",
       "      <th>PassengerId</th>\n",
       "      <th>Pclass</th>\n",
       "      <th>Sex</th>\n",
       "      <th>Age</th>\n",
       "      <th>SibSp</th>\n",
       "      <th>Parch</th>\n",
       "      <th>Fare</th>\n",
       "      <th>Embarked</th>\n",
       "    </tr>\n",
       "  </thead>\n",
       "  <tbody>\n",
       "    <tr>\n",
       "      <th>0</th>\n",
       "      <td>892</td>\n",
       "      <td>3</td>\n",
       "      <td>male</td>\n",
       "      <td>34.5</td>\n",
       "      <td>0</td>\n",
       "      <td>0</td>\n",
       "      <td>7.8292</td>\n",
       "      <td>Q</td>\n",
       "    </tr>\n",
       "    <tr>\n",
       "      <th>1</th>\n",
       "      <td>893</td>\n",
       "      <td>3</td>\n",
       "      <td>female</td>\n",
       "      <td>47.0</td>\n",
       "      <td>1</td>\n",
       "      <td>0</td>\n",
       "      <td>7.0</td>\n",
       "      <td>S</td>\n",
       "    </tr>\n",
       "    <tr>\n",
       "      <th>2</th>\n",
       "      <td>894</td>\n",
       "      <td>2</td>\n",
       "      <td>male</td>\n",
       "      <td>62.0</td>\n",
       "      <td>0</td>\n",
       "      <td>0</td>\n",
       "      <td>9.6875</td>\n",
       "      <td>Q</td>\n",
       "    </tr>\n",
       "    <tr>\n",
       "      <th>3</th>\n",
       "      <td>895</td>\n",
       "      <td>3</td>\n",
       "      <td>male</td>\n",
       "      <td>27.0</td>\n",
       "      <td>0</td>\n",
       "      <td>0</td>\n",
       "      <td>8.6625</td>\n",
       "      <td>S</td>\n",
       "    </tr>\n",
       "    <tr>\n",
       "      <th>4</th>\n",
       "      <td>896</td>\n",
       "      <td>3</td>\n",
       "      <td>female</td>\n",
       "      <td>22.0</td>\n",
       "      <td>1</td>\n",
       "      <td>1</td>\n",
       "      <td>12.2875</td>\n",
       "      <td>S</td>\n",
       "    </tr>\n",
       "    <tr>\n",
       "      <th>5</th>\n",
       "      <td>897</td>\n",
       "      <td>3</td>\n",
       "      <td>male</td>\n",
       "      <td>14.0</td>\n",
       "      <td>0</td>\n",
       "      <td>0</td>\n",
       "      <td>9.225</td>\n",
       "      <td>S</td>\n",
       "    </tr>\n",
       "    <tr>\n",
       "      <th>6</th>\n",
       "      <td>898</td>\n",
       "      <td>3</td>\n",
       "      <td>female</td>\n",
       "      <td>30.0</td>\n",
       "      <td>0</td>\n",
       "      <td>0</td>\n",
       "      <td>7.6292</td>\n",
       "      <td>Q</td>\n",
       "    </tr>\n",
       "    <tr>\n",
       "      <th>7</th>\n",
       "      <td>899</td>\n",
       "      <td>2</td>\n",
       "      <td>male</td>\n",
       "      <td>26.0</td>\n",
       "      <td>1</td>\n",
       "      <td>1</td>\n",
       "      <td>29.0</td>\n",
       "      <td>S</td>\n",
       "    </tr>\n",
       "    <tr>\n",
       "      <th>8</th>\n",
       "      <td>900</td>\n",
       "      <td>3</td>\n",
       "      <td>female</td>\n",
       "      <td>18.0</td>\n",
       "      <td>0</td>\n",
       "      <td>0</td>\n",
       "      <td>7.2292</td>\n",
       "      <td>C</td>\n",
       "    </tr>\n",
       "    <tr>\n",
       "      <th>9</th>\n",
       "      <td>901</td>\n",
       "      <td>3</td>\n",
       "      <td>male</td>\n",
       "      <td>21.0</td>\n",
       "      <td>1</td>\n",
       "      <td>0</td>\n",
       "      <td>24.15</td>\n",
       "      <td>S</td>\n",
       "    </tr>\n",
       "  </tbody>\n",
       "</table>\n",
       "</div>"
      ],
      "text/plain": [
       "   PassengerId  Pclass     Sex   Age  SibSp  Parch     Fare Embarked\n",
       "0          892       3    male  34.5      0      0   7.8292        Q\n",
       "1          893       3  female  47.0      1      0      7.0        S\n",
       "2          894       2    male  62.0      0      0   9.6875        Q\n",
       "3          895       3    male  27.0      0      0   8.6625        S\n",
       "4          896       3  female  22.0      1      1  12.2875        S\n",
       "5          897       3    male  14.0      0      0    9.225        S\n",
       "6          898       3  female  30.0      0      0   7.6292        Q\n",
       "7          899       2    male  26.0      1      1     29.0        S\n",
       "8          900       3  female  18.0      0      0   7.2292        C\n",
       "9          901       3    male  21.0      1      0    24.15        S"
      ]
     },
     "execution_count": 93,
     "metadata": {},
     "output_type": "execute_result"
    }
   ],
   "source": [
    "test.head(10)"
   ]
  },
  {
   "cell_type": "code",
   "execution_count": 94,
   "id": "seasonal-pledge",
   "metadata": {
    "execution": {
     "iopub.execute_input": "2021-06-26T21:27:17.785581Z",
     "iopub.status.busy": "2021-06-26T21:27:17.784883Z",
     "iopub.status.idle": "2021-06-26T21:27:17.787957Z",
     "shell.execute_reply": "2021-06-26T21:27:17.788496Z",
     "shell.execute_reply.started": "2021-06-26T21:25:28.350716Z"
    },
    "papermill": {
     "duration": 0.143015,
     "end_time": "2021-06-26T21:27:17.788660",
     "exception": false,
     "start_time": "2021-06-26T21:27:17.645645",
     "status": "completed"
    },
    "tags": []
   },
   "outputs": [],
   "source": [
    "#test['PassengerId']"
   ]
  },
  {
   "cell_type": "code",
   "execution_count": 95,
   "id": "impressed-agenda",
   "metadata": {
    "execution": {
     "iopub.execute_input": "2021-06-26T21:27:18.065925Z",
     "iopub.status.busy": "2021-06-26T21:27:18.065286Z",
     "iopub.status.idle": "2021-06-26T21:27:18.079917Z",
     "shell.execute_reply": "2021-06-26T21:27:18.080435Z",
     "shell.execute_reply.started": "2021-06-26T21:25:28.362575Z"
    },
    "papermill": {
     "duration": 0.154971,
     "end_time": "2021-06-26T21:27:18.080623",
     "exception": false,
     "start_time": "2021-06-26T21:27:17.925652",
     "status": "completed"
    },
    "tags": []
   },
   "outputs": [],
   "source": [
    "#['Pclass', 'Sex', 'Age', 'SibSp', 'Parch', 'Fare', 'Embarked']\n",
    "from sklearn.preprocessing import StandardScaler, OneHotEncoder\n",
    "\n",
    "# Define which columns should be encoded vs scaled\n",
    "columns_to_encode = ['Pclass', 'Sex','SibSp', 'Parch','Embarked'] # categorical values are hot-encoded\n",
    "columns_to_scale  = ['Age', 'Fare'] # numerical values scaled\n",
    "\n",
    "# Instantiate encoder/scaler\n",
    "scaler = StandardScaler()\n",
    "ohe = OneHotEncoder(sparse=False)\n",
    "\n",
    "# Scale and Encode Separate Columns\n",
    "scaled_columns  = scaler.fit_transform(test[columns_to_scale]) \n",
    "encoded_columns =  ohe.fit_transform(test[columns_to_encode])\n",
    "\n",
    "#print(scaled_columns[1])\n",
    "#print(encoded_columns[1])"
   ]
  },
  {
   "cell_type": "code",
   "execution_count": 96,
   "id": "cheap-pricing",
   "metadata": {
    "execution": {
     "iopub.execute_input": "2021-06-26T21:27:18.360236Z",
     "iopub.status.busy": "2021-06-26T21:27:18.359577Z",
     "iopub.status.idle": "2021-06-26T21:27:18.497285Z",
     "shell.execute_reply": "2021-06-26T21:27:18.497785Z",
     "shell.execute_reply.started": "2021-06-26T21:25:28.384407Z"
    },
    "papermill": {
     "duration": 0.278046,
     "end_time": "2021-06-26T21:27:18.497952",
     "exception": false,
     "start_time": "2021-06-26T21:27:18.219906",
     "status": "completed"
    },
    "tags": []
   },
   "outputs": [
    {
     "name": "stdout",
     "output_type": "stream",
     "text": [
      "[ 0.39578146 -0.49731094  0.          0.          1.          0.\n",
      "  1.          1.          0.          1.          0.          0.\n",
      "  1.          0.        ]\n"
     ]
    },
    {
     "data": {
      "text/html": [
       "<div>\n",
       "<style scoped>\n",
       "    .dataframe tbody tr th:only-of-type {\n",
       "        vertical-align: middle;\n",
       "    }\n",
       "\n",
       "    .dataframe tbody tr th {\n",
       "        vertical-align: top;\n",
       "    }\n",
       "\n",
       "    .dataframe thead th {\n",
       "        text-align: right;\n",
       "    }\n",
       "</style>\n",
       "<table border=\"1\" class=\"dataframe\">\n",
       "  <thead>\n",
       "    <tr style=\"text-align: right;\">\n",
       "      <th></th>\n",
       "      <th>PassengerId</th>\n",
       "      <th>Pclass</th>\n",
       "      <th>Sex</th>\n",
       "      <th>Age</th>\n",
       "      <th>SibSp</th>\n",
       "      <th>Parch</th>\n",
       "      <th>Fare</th>\n",
       "      <th>Embarked</th>\n",
       "    </tr>\n",
       "  </thead>\n",
       "  <tbody>\n",
       "    <tr>\n",
       "      <th>0</th>\n",
       "      <td>892</td>\n",
       "      <td>3</td>\n",
       "      <td>male</td>\n",
       "      <td>34.5</td>\n",
       "      <td>0</td>\n",
       "      <td>0</td>\n",
       "      <td>7.8292</td>\n",
       "      <td>Q</td>\n",
       "    </tr>\n",
       "    <tr>\n",
       "      <th>1</th>\n",
       "      <td>893</td>\n",
       "      <td>3</td>\n",
       "      <td>female</td>\n",
       "      <td>47.0</td>\n",
       "      <td>1</td>\n",
       "      <td>0</td>\n",
       "      <td>7.0</td>\n",
       "      <td>S</td>\n",
       "    </tr>\n",
       "    <tr>\n",
       "      <th>2</th>\n",
       "      <td>894</td>\n",
       "      <td>2</td>\n",
       "      <td>male</td>\n",
       "      <td>62.0</td>\n",
       "      <td>0</td>\n",
       "      <td>0</td>\n",
       "      <td>9.6875</td>\n",
       "      <td>Q</td>\n",
       "    </tr>\n",
       "    <tr>\n",
       "      <th>3</th>\n",
       "      <td>895</td>\n",
       "      <td>3</td>\n",
       "      <td>male</td>\n",
       "      <td>27.0</td>\n",
       "      <td>0</td>\n",
       "      <td>0</td>\n",
       "      <td>8.6625</td>\n",
       "      <td>S</td>\n",
       "    </tr>\n",
       "    <tr>\n",
       "      <th>4</th>\n",
       "      <td>896</td>\n",
       "      <td>3</td>\n",
       "      <td>female</td>\n",
       "      <td>22.0</td>\n",
       "      <td>1</td>\n",
       "      <td>1</td>\n",
       "      <td>12.2875</td>\n",
       "      <td>S</td>\n",
       "    </tr>\n",
       "  </tbody>\n",
       "</table>\n",
       "</div>"
      ],
      "text/plain": [
       "   PassengerId  Pclass     Sex   Age  SibSp  Parch     Fare Embarked\n",
       "0          892       3    male  34.5      0      0   7.8292        Q\n",
       "1          893       3  female  47.0      1      0      7.0        S\n",
       "2          894       2    male  62.0      0      0   9.6875        Q\n",
       "3          895       3    male  27.0      0      0   8.6625        S\n",
       "4          896       3  female  22.0      1      1  12.2875        S"
      ]
     },
     "execution_count": 96,
     "metadata": {},
     "output_type": "execute_result"
    }
   ],
   "source": [
    "# Concatenate (Column-Bind) Processed Columns Back Together\n",
    "processed_data_test = np.concatenate([scaled_columns, encoded_columns], axis=1)\n",
    "print(processed_data_test[0]) # scaled + encoded \n",
    " \n",
    "# #['Age', 'Fare', 'Pclass', 'Sex','SibSp', 'Parch','Embarked']\n",
    "\n",
    "test.head()"
   ]
  },
  {
   "cell_type": "code",
   "execution_count": 97,
   "id": "loved-commons",
   "metadata": {
    "execution": {
     "iopub.execute_input": "2021-06-26T21:27:18.773804Z",
     "iopub.status.busy": "2021-06-26T21:27:18.773111Z",
     "iopub.status.idle": "2021-06-26T21:27:18.778096Z",
     "shell.execute_reply": "2021-06-26T21:27:18.777531Z",
     "shell.execute_reply.started": "2021-06-26T21:25:28.408570Z"
    },
    "papermill": {
     "duration": 0.143767,
     "end_time": "2021-06-26T21:27:18.778245",
     "exception": false,
     "start_time": "2021-06-26T21:27:18.634478",
     "status": "completed"
    },
    "tags": []
   },
   "outputs": [],
   "source": [
    "# Creating pandas dataframe from numpy array\n",
    "#['Survived', 'Pclass', 'Sex','SibSp', 'Parch','Embarked']\n",
    "#titanic_train = pd.DataFrame({'Age': processed_data[:, 0], \n",
    "     #                         'Fare': processed_data[:, 1],\n",
    "        #                      'Pclass1': processed_data[:, 2],\n",
    "         #                     'Pclass2': processed_data[:, 3],\n",
    "          #                    'Pclass3': processed_data[:, 4],\n",
    "           #                   'Female': processed_data[:, 5],\n",
    "            #                  'Male': processed_data[:, 6],\n",
    "             #                'Sib_No': processed_data[:, 7],\n",
    "              #               'Sib_Yes': processed_data[:, 8],\n",
    "               #              'Par_No': processed_data[:, 9],\n",
    "                #             'Par_Yes': processed_data[:, 10],\n",
    "                 #            'Embarked_C': processed_data[:, 11],\n",
    "                  #           'Embarked_Q': processed_data[:, 12],\n",
    "                   #          'Embarked_S': processed_data[:, 13]})\n",
    "                             \n",
    "\n",
    "\n",
    "#titanic_train.head()"
   ]
  },
  {
   "cell_type": "code",
   "execution_count": 98,
   "id": "experienced-laptop",
   "metadata": {
    "execution": {
     "iopub.execute_input": "2021-06-26T21:27:19.074620Z",
     "iopub.status.busy": "2021-06-26T21:27:19.073656Z",
     "iopub.status.idle": "2021-06-26T21:27:19.077909Z",
     "shell.execute_reply": "2021-06-26T21:27:19.078385Z",
     "shell.execute_reply.started": "2021-06-26T21:25:28.419157Z"
    },
    "papermill": {
     "duration": 0.162631,
     "end_time": "2021-06-26T21:27:19.078569",
     "exception": false,
     "start_time": "2021-06-26T21:27:18.915938",
     "status": "completed"
    },
    "tags": []
   },
   "outputs": [
    {
     "data": {
      "text/html": [
       "<div>\n",
       "<style scoped>\n",
       "    .dataframe tbody tr th:only-of-type {\n",
       "        vertical-align: middle;\n",
       "    }\n",
       "\n",
       "    .dataframe tbody tr th {\n",
       "        vertical-align: top;\n",
       "    }\n",
       "\n",
       "    .dataframe thead th {\n",
       "        text-align: right;\n",
       "    }\n",
       "</style>\n",
       "<table border=\"1\" class=\"dataframe\">\n",
       "  <thead>\n",
       "    <tr style=\"text-align: right;\">\n",
       "      <th></th>\n",
       "      <th>Age</th>\n",
       "      <th>Fare</th>\n",
       "      <th>Pclass2</th>\n",
       "      <th>Pclass3</th>\n",
       "      <th>Male</th>\n",
       "      <th>Sib_Yes</th>\n",
       "      <th>Par_Yes</th>\n",
       "      <th>Embarked_Q</th>\n",
       "      <th>Embarked_S</th>\n",
       "    </tr>\n",
       "  </thead>\n",
       "  <tbody>\n",
       "    <tr>\n",
       "      <th>0</th>\n",
       "      <td>0.395781</td>\n",
       "      <td>-0.497311</td>\n",
       "      <td>0.0</td>\n",
       "      <td>1.0</td>\n",
       "      <td>1.0</td>\n",
       "      <td>0.0</td>\n",
       "      <td>0.0</td>\n",
       "      <td>1.0</td>\n",
       "      <td>0.0</td>\n",
       "    </tr>\n",
       "    <tr>\n",
       "      <th>1</th>\n",
       "      <td>1.362795</td>\n",
       "      <td>-0.512175</td>\n",
       "      <td>0.0</td>\n",
       "      <td>1.0</td>\n",
       "      <td>0.0</td>\n",
       "      <td>1.0</td>\n",
       "      <td>0.0</td>\n",
       "      <td>0.0</td>\n",
       "      <td>1.0</td>\n",
       "    </tr>\n",
       "    <tr>\n",
       "      <th>2</th>\n",
       "      <td>2.523211</td>\n",
       "      <td>-0.463999</td>\n",
       "      <td>1.0</td>\n",
       "      <td>0.0</td>\n",
       "      <td>1.0</td>\n",
       "      <td>0.0</td>\n",
       "      <td>0.0</td>\n",
       "      <td>1.0</td>\n",
       "      <td>0.0</td>\n",
       "    </tr>\n",
       "    <tr>\n",
       "      <th>3</th>\n",
       "      <td>-0.184427</td>\n",
       "      <td>-0.482373</td>\n",
       "      <td>0.0</td>\n",
       "      <td>1.0</td>\n",
       "      <td>1.0</td>\n",
       "      <td>0.0</td>\n",
       "      <td>0.0</td>\n",
       "      <td>0.0</td>\n",
       "      <td>1.0</td>\n",
       "    </tr>\n",
       "    <tr>\n",
       "      <th>4</th>\n",
       "      <td>-0.571232</td>\n",
       "      <td>-0.417392</td>\n",
       "      <td>0.0</td>\n",
       "      <td>1.0</td>\n",
       "      <td>0.0</td>\n",
       "      <td>1.0</td>\n",
       "      <td>1.0</td>\n",
       "      <td>0.0</td>\n",
       "      <td>1.0</td>\n",
       "    </tr>\n",
       "  </tbody>\n",
       "</table>\n",
       "</div>"
      ],
      "text/plain": [
       "        Age      Fare  Pclass2  Pclass3  Male  Sib_Yes  Par_Yes  Embarked_Q  \\\n",
       "0  0.395781 -0.497311      0.0      1.0   1.0      0.0      0.0         1.0   \n",
       "1  1.362795 -0.512175      0.0      1.0   0.0      1.0      0.0         0.0   \n",
       "2  2.523211 -0.463999      1.0      0.0   1.0      0.0      0.0         1.0   \n",
       "3 -0.184427 -0.482373      0.0      1.0   1.0      0.0      0.0         0.0   \n",
       "4 -0.571232 -0.417392      0.0      1.0   0.0      1.0      1.0         0.0   \n",
       "\n",
       "   Embarked_S  \n",
       "0         0.0  \n",
       "1         1.0  \n",
       "2         0.0  \n",
       "3         1.0  \n",
       "4         1.0  "
      ]
     },
     "execution_count": 98,
     "metadata": {},
     "output_type": "execute_result"
    }
   ],
   "source": [
    "# Creating pandas dataframe from numpy array\n",
    "#['Pclass', 'Sex','SibSp', 'Parch','Embarked']\n",
    "titanic_test = pd.DataFrame({'Age': processed_data_test[:, 0], \n",
    "                              'Fare': processed_data_test[:, 1],                            \n",
    "                              'Pclass2': processed_data_test[:, 3],\n",
    "                              'Pclass3': processed_data_test[:, 4],                         \n",
    "                              'Male': processed_data_test[:, 6],                           \n",
    "                             'Sib_Yes': processed_data_test[:, 8],                          \n",
    "                             'Par_Yes': processed_data_test[:, 10],                      \n",
    "                             'Embarked_Q': processed_data_test[:, 12],\n",
    "                             'Embarked_S': processed_data_test[:, 13]})\n",
    "\n",
    "titanic_test.head() # final test data for NN"
   ]
  },
  {
   "cell_type": "markdown",
   "id": "patient-congress",
   "metadata": {
    "papermill": {
     "duration": 0.137304,
     "end_time": "2021-06-26T21:27:19.354440",
     "exception": false,
     "start_time": "2021-06-26T21:27:19.217136",
     "status": "completed"
    },
    "tags": []
   },
   "source": [
    "# Part 2: Neural Network "
   ]
  },
  {
   "cell_type": "code",
   "execution_count": 99,
   "id": "concerned-rouge",
   "metadata": {
    "execution": {
     "iopub.execute_input": "2021-06-26T21:27:19.633264Z",
     "iopub.status.busy": "2021-06-26T21:27:19.632284Z",
     "iopub.status.idle": "2021-06-26T21:27:25.626233Z",
     "shell.execute_reply": "2021-06-26T21:27:25.625099Z",
     "shell.execute_reply.started": "2021-06-26T21:25:28.449393Z"
    },
    "papermill": {
     "duration": 6.134389,
     "end_time": "2021-06-26T21:27:25.626419",
     "exception": false,
     "start_time": "2021-06-26T21:27:19.492030",
     "status": "completed"
    },
    "tags": []
   },
   "outputs": [],
   "source": [
    "import tensorflow as tf\n",
    "from keras.datasets import mnist\n",
    "from keras import models\n",
    "from keras import layers\n",
    "from keras.models import Sequential"
   ]
  },
  {
   "cell_type": "code",
   "execution_count": 100,
   "id": "official-westminster",
   "metadata": {
    "execution": {
     "iopub.execute_input": "2021-06-26T21:27:25.930064Z",
     "iopub.status.busy": "2021-06-26T21:27:25.928859Z",
     "iopub.status.idle": "2021-06-26T21:27:25.934962Z",
     "shell.execute_reply": "2021-06-26T21:27:25.934281Z",
     "shell.execute_reply.started": "2021-06-26T21:25:28.456986Z"
    },
    "papermill": {
     "duration": 0.167238,
     "end_time": "2021-06-26T21:27:25.935119",
     "exception": false,
     "start_time": "2021-06-26T21:27:25.767881",
     "status": "completed"
    },
    "tags": []
   },
   "outputs": [
    {
     "data": {
      "text/html": [
       "<div>\n",
       "<style scoped>\n",
       "    .dataframe tbody tr th:only-of-type {\n",
       "        vertical-align: middle;\n",
       "    }\n",
       "\n",
       "    .dataframe tbody tr th {\n",
       "        vertical-align: top;\n",
       "    }\n",
       "\n",
       "    .dataframe thead th {\n",
       "        text-align: right;\n",
       "    }\n",
       "</style>\n",
       "<table border=\"1\" class=\"dataframe\">\n",
       "  <thead>\n",
       "    <tr style=\"text-align: right;\">\n",
       "      <th></th>\n",
       "      <th>Age</th>\n",
       "      <th>Fare</th>\n",
       "      <th>Survived_Yes</th>\n",
       "      <th>Pclass2</th>\n",
       "      <th>Pclass3</th>\n",
       "      <th>Male</th>\n",
       "      <th>Sib_Yes</th>\n",
       "      <th>Par_Yes</th>\n",
       "      <th>Embarked_Q</th>\n",
       "      <th>Embarked_S</th>\n",
       "    </tr>\n",
       "  </thead>\n",
       "  <tbody>\n",
       "    <tr>\n",
       "      <th>0</th>\n",
       "      <td>-0.537192</td>\n",
       "      <td>-0.502445</td>\n",
       "      <td>0.0</td>\n",
       "      <td>0.0</td>\n",
       "      <td>1.0</td>\n",
       "      <td>1.0</td>\n",
       "      <td>1.0</td>\n",
       "      <td>0.0</td>\n",
       "      <td>0.0</td>\n",
       "      <td>1.0</td>\n",
       "    </tr>\n",
       "    <tr>\n",
       "      <th>1</th>\n",
       "      <td>0.667275</td>\n",
       "      <td>0.786845</td>\n",
       "      <td>1.0</td>\n",
       "      <td>0.0</td>\n",
       "      <td>0.0</td>\n",
       "      <td>0.0</td>\n",
       "      <td>1.0</td>\n",
       "      <td>0.0</td>\n",
       "      <td>0.0</td>\n",
       "      <td>0.0</td>\n",
       "    </tr>\n",
       "    <tr>\n",
       "      <th>2</th>\n",
       "      <td>-0.236075</td>\n",
       "      <td>-0.488854</td>\n",
       "      <td>1.0</td>\n",
       "      <td>0.0</td>\n",
       "      <td>1.0</td>\n",
       "      <td>0.0</td>\n",
       "      <td>0.0</td>\n",
       "      <td>0.0</td>\n",
       "      <td>0.0</td>\n",
       "      <td>1.0</td>\n",
       "    </tr>\n",
       "    <tr>\n",
       "      <th>3</th>\n",
       "      <td>0.441438</td>\n",
       "      <td>0.420730</td>\n",
       "      <td>1.0</td>\n",
       "      <td>0.0</td>\n",
       "      <td>0.0</td>\n",
       "      <td>0.0</td>\n",
       "      <td>1.0</td>\n",
       "      <td>0.0</td>\n",
       "      <td>0.0</td>\n",
       "      <td>1.0</td>\n",
       "    </tr>\n",
       "    <tr>\n",
       "      <th>4</th>\n",
       "      <td>0.441438</td>\n",
       "      <td>-0.486337</td>\n",
       "      <td>0.0</td>\n",
       "      <td>0.0</td>\n",
       "      <td>1.0</td>\n",
       "      <td>1.0</td>\n",
       "      <td>0.0</td>\n",
       "      <td>0.0</td>\n",
       "      <td>0.0</td>\n",
       "      <td>1.0</td>\n",
       "    </tr>\n",
       "  </tbody>\n",
       "</table>\n",
       "</div>"
      ],
      "text/plain": [
       "        Age      Fare  Survived_Yes  Pclass2  Pclass3  Male  Sib_Yes  Par_Yes  \\\n",
       "0 -0.537192 -0.502445           0.0      0.0      1.0   1.0      1.0      0.0   \n",
       "1  0.667275  0.786845           1.0      0.0      0.0   0.0      1.0      0.0   \n",
       "2 -0.236075 -0.488854           1.0      0.0      1.0   0.0      0.0      0.0   \n",
       "3  0.441438  0.420730           1.0      0.0      0.0   0.0      1.0      0.0   \n",
       "4  0.441438 -0.486337           0.0      0.0      1.0   1.0      0.0      0.0   \n",
       "\n",
       "   Embarked_Q  Embarked_S  \n",
       "0         0.0         1.0  \n",
       "1         0.0         0.0  \n",
       "2         0.0         1.0  \n",
       "3         0.0         1.0  \n",
       "4         0.0         1.0  "
      ]
     },
     "execution_count": 100,
     "metadata": {},
     "output_type": "execute_result"
    }
   ],
   "source": [
    "titanic_train.head()"
   ]
  },
  {
   "cell_type": "code",
   "execution_count": 101,
   "id": "clear-figure",
   "metadata": {
    "execution": {
     "iopub.execute_input": "2021-06-26T21:27:26.237975Z",
     "iopub.status.busy": "2021-06-26T21:27:26.237072Z",
     "iopub.status.idle": "2021-06-26T21:27:26.242936Z",
     "shell.execute_reply": "2021-06-26T21:27:26.242295Z",
     "shell.execute_reply.started": "2021-06-26T21:25:28.483704Z"
    },
    "papermill": {
     "duration": 0.166748,
     "end_time": "2021-06-26T21:27:26.243091",
     "exception": false,
     "start_time": "2021-06-26T21:27:26.076343",
     "status": "completed"
    },
    "tags": []
   },
   "outputs": [
    {
     "data": {
      "text/html": [
       "<div>\n",
       "<style scoped>\n",
       "    .dataframe tbody tr th:only-of-type {\n",
       "        vertical-align: middle;\n",
       "    }\n",
       "\n",
       "    .dataframe tbody tr th {\n",
       "        vertical-align: top;\n",
       "    }\n",
       "\n",
       "    .dataframe thead th {\n",
       "        text-align: right;\n",
       "    }\n",
       "</style>\n",
       "<table border=\"1\" class=\"dataframe\">\n",
       "  <thead>\n",
       "    <tr style=\"text-align: right;\">\n",
       "      <th></th>\n",
       "      <th>Age</th>\n",
       "      <th>Fare</th>\n",
       "      <th>Pclass2</th>\n",
       "      <th>Pclass3</th>\n",
       "      <th>Male</th>\n",
       "      <th>Sib_Yes</th>\n",
       "      <th>Par_Yes</th>\n",
       "      <th>Embarked_Q</th>\n",
       "      <th>Embarked_S</th>\n",
       "    </tr>\n",
       "  </thead>\n",
       "  <tbody>\n",
       "    <tr>\n",
       "      <th>0</th>\n",
       "      <td>0.395781</td>\n",
       "      <td>-0.497311</td>\n",
       "      <td>0.0</td>\n",
       "      <td>1.0</td>\n",
       "      <td>1.0</td>\n",
       "      <td>0.0</td>\n",
       "      <td>0.0</td>\n",
       "      <td>1.0</td>\n",
       "      <td>0.0</td>\n",
       "    </tr>\n",
       "    <tr>\n",
       "      <th>1</th>\n",
       "      <td>1.362795</td>\n",
       "      <td>-0.512175</td>\n",
       "      <td>0.0</td>\n",
       "      <td>1.0</td>\n",
       "      <td>0.0</td>\n",
       "      <td>1.0</td>\n",
       "      <td>0.0</td>\n",
       "      <td>0.0</td>\n",
       "      <td>1.0</td>\n",
       "    </tr>\n",
       "    <tr>\n",
       "      <th>2</th>\n",
       "      <td>2.523211</td>\n",
       "      <td>-0.463999</td>\n",
       "      <td>1.0</td>\n",
       "      <td>0.0</td>\n",
       "      <td>1.0</td>\n",
       "      <td>0.0</td>\n",
       "      <td>0.0</td>\n",
       "      <td>1.0</td>\n",
       "      <td>0.0</td>\n",
       "    </tr>\n",
       "    <tr>\n",
       "      <th>3</th>\n",
       "      <td>-0.184427</td>\n",
       "      <td>-0.482373</td>\n",
       "      <td>0.0</td>\n",
       "      <td>1.0</td>\n",
       "      <td>1.0</td>\n",
       "      <td>0.0</td>\n",
       "      <td>0.0</td>\n",
       "      <td>0.0</td>\n",
       "      <td>1.0</td>\n",
       "    </tr>\n",
       "    <tr>\n",
       "      <th>4</th>\n",
       "      <td>-0.571232</td>\n",
       "      <td>-0.417392</td>\n",
       "      <td>0.0</td>\n",
       "      <td>1.0</td>\n",
       "      <td>0.0</td>\n",
       "      <td>1.0</td>\n",
       "      <td>1.0</td>\n",
       "      <td>0.0</td>\n",
       "      <td>1.0</td>\n",
       "    </tr>\n",
       "  </tbody>\n",
       "</table>\n",
       "</div>"
      ],
      "text/plain": [
       "        Age      Fare  Pclass2  Pclass3  Male  Sib_Yes  Par_Yes  Embarked_Q  \\\n",
       "0  0.395781 -0.497311      0.0      1.0   1.0      0.0      0.0         1.0   \n",
       "1  1.362795 -0.512175      0.0      1.0   0.0      1.0      0.0         0.0   \n",
       "2  2.523211 -0.463999      1.0      0.0   1.0      0.0      0.0         1.0   \n",
       "3 -0.184427 -0.482373      0.0      1.0   1.0      0.0      0.0         0.0   \n",
       "4 -0.571232 -0.417392      0.0      1.0   0.0      1.0      1.0         0.0   \n",
       "\n",
       "   Embarked_S  \n",
       "0         0.0  \n",
       "1         1.0  \n",
       "2         0.0  \n",
       "3         1.0  \n",
       "4         1.0  "
      ]
     },
     "execution_count": 101,
     "metadata": {},
     "output_type": "execute_result"
    }
   ],
   "source": [
    "titanic_test.head()"
   ]
  },
  {
   "cell_type": "code",
   "execution_count": 102,
   "id": "blind-hollywood",
   "metadata": {
    "execution": {
     "iopub.execute_input": "2021-06-26T21:27:26.549596Z",
     "iopub.status.busy": "2021-06-26T21:27:26.548523Z",
     "iopub.status.idle": "2021-06-26T21:27:26.552736Z",
     "shell.execute_reply": "2021-06-26T21:27:26.551747Z",
     "shell.execute_reply.started": "2021-06-26T21:25:28.508250Z"
    },
    "papermill": {
     "duration": 0.169229,
     "end_time": "2021-06-26T21:27:26.552966",
     "exception": false,
     "start_time": "2021-06-26T21:27:26.383737",
     "status": "completed"
    },
    "tags": []
   },
   "outputs": [],
   "source": [
    "#Note that because the dataset does not provide labels for their testing-set, \n",
    "#we need to use the predictions on the training set to compare the algorithms with each other.\n",
    "#Later on, we will use cross validation.\n",
    "\n",
    "X_train = titanic_train.drop(['Survived_Yes'], axis=1)\n",
    "Y_train = titanic_train[['Survived_Yes']]\n",
    "X_test  = titanic_test\n",
    "\n",
    "# We will predict y-test labels using X_test data after training our NN model"
   ]
  },
  {
   "cell_type": "code",
   "execution_count": 103,
   "id": "exposed-rover",
   "metadata": {
    "execution": {
     "iopub.execute_input": "2021-06-26T21:27:26.852881Z",
     "iopub.status.busy": "2021-06-26T21:27:26.852199Z",
     "iopub.status.idle": "2021-06-26T21:27:26.857199Z",
     "shell.execute_reply": "2021-06-26T21:27:26.856647Z",
     "shell.execute_reply.started": "2021-06-26T21:25:28.522646Z"
    },
    "papermill": {
     "duration": 0.153606,
     "end_time": "2021-06-26T21:27:26.857371",
     "exception": false,
     "start_time": "2021-06-26T21:27:26.703765",
     "status": "completed"
    },
    "tags": []
   },
   "outputs": [
    {
     "name": "stdout",
     "output_type": "stream",
     "text": [
      "Shape of X_train is (891, 9)\n",
      "Shape of Y_train is (891, 1)\n",
      "Shape of X_test is (418, 9)\n"
     ]
    }
   ],
   "source": [
    "print(\"Shape of X_train is\", X_train.shape)\n",
    "print(\"Shape of Y_train is\", Y_train.shape)\n",
    "print(\"Shape of X_test is\", X_test.shape)"
   ]
  },
  {
   "cell_type": "code",
   "execution_count": 104,
   "id": "national-acrobat",
   "metadata": {
    "execution": {
     "iopub.execute_input": "2021-06-26T21:27:27.147651Z",
     "iopub.status.busy": "2021-06-26T21:27:27.146985Z",
     "iopub.status.idle": "2021-06-26T21:27:27.149881Z",
     "shell.execute_reply": "2021-06-26T21:27:27.150483Z",
     "shell.execute_reply.started": "2021-06-26T21:25:28.540910Z"
    },
    "papermill": {
     "duration": 0.151977,
     "end_time": "2021-06-26T21:27:27.150700",
     "exception": false,
     "start_time": "2021-06-26T21:27:26.998723",
     "status": "completed"
    },
    "scrolled": true,
    "tags": []
   },
   "outputs": [
    {
     "name": "stdout",
     "output_type": "stream",
     "text": [
      "Shape of X_train is (9,)\n",
      "Shape of X_test is (9,)\n"
     ]
    }
   ],
   "source": [
    "print(\"Shape of X_train is\", X_train.shape[1:])\n",
    "print(\"Shape of X_test is\", X_test.shape[1:])"
   ]
  },
  {
   "cell_type": "markdown",
   "id": "integral-ukraine",
   "metadata": {
    "papermill": {
     "duration": 0.141191,
     "end_time": "2021-06-26T21:27:27.433737",
     "exception": false,
     "start_time": "2021-06-26T21:27:27.292546",
     "status": "completed"
    },
    "tags": []
   },
   "source": [
    "### Prediction using DNN "
   ]
  },
  {
   "cell_type": "code",
   "execution_count": 105,
   "id": "intermediate-duncan",
   "metadata": {
    "execution": {
     "iopub.execute_input": "2021-06-26T21:27:27.721503Z",
     "iopub.status.busy": "2021-06-26T21:27:27.720573Z",
     "iopub.status.idle": "2021-06-26T21:27:27.836286Z",
     "shell.execute_reply": "2021-06-26T21:27:27.835540Z",
     "shell.execute_reply.started": "2021-06-26T21:25:28.554846Z"
    },
    "papermill": {
     "duration": 0.262021,
     "end_time": "2021-06-26T21:27:27.836448",
     "exception": false,
     "start_time": "2021-06-26T21:27:27.574427",
     "status": "completed"
    },
    "tags": []
   },
   "outputs": [],
   "source": [
    "# Create a DNN model\n",
    "model = Sequential([\n",
    "    layers.Dense(32,activation = \"relu\",input_shape= X_train.shape[1:]),\n",
    "    layers.Dropout(0.2),\n",
    "    layers.Dense(32,activation = \"relu\"),\n",
    "    layers.Dropout(0.2),\n",
    "    layers.Dense(10,activation = \"relu\"),\n",
    "    layers.Dropout(0.2),\n",
    "    layers.Dense(1,activation = \"sigmoid\")]) #binary classification"
   ]
  },
  {
   "cell_type": "code",
   "execution_count": 106,
   "id": "powerful-delta",
   "metadata": {
    "execution": {
     "iopub.execute_input": "2021-06-26T21:27:28.129014Z",
     "iopub.status.busy": "2021-06-26T21:27:28.128268Z",
     "iopub.status.idle": "2021-06-26T21:27:28.134309Z",
     "shell.execute_reply": "2021-06-26T21:27:28.134810Z",
     "shell.execute_reply.started": "2021-06-26T21:25:28.616658Z"
    },
    "papermill": {
     "duration": 0.156045,
     "end_time": "2021-06-26T21:27:28.135022",
     "exception": false,
     "start_time": "2021-06-26T21:27:27.978977",
     "status": "completed"
    },
    "tags": []
   },
   "outputs": [
    {
     "name": "stdout",
     "output_type": "stream",
     "text": [
      "Model: \"sequential\"\n",
      "_________________________________________________________________\n",
      "Layer (type)                 Output Shape              Param #   \n",
      "=================================================================\n",
      "dense (Dense)                (None, 32)                320       \n",
      "_________________________________________________________________\n",
      "dropout (Dropout)            (None, 32)                0         \n",
      "_________________________________________________________________\n",
      "dense_1 (Dense)              (None, 32)                1056      \n",
      "_________________________________________________________________\n",
      "dropout_1 (Dropout)          (None, 32)                0         \n",
      "_________________________________________________________________\n",
      "dense_2 (Dense)              (None, 10)                330       \n",
      "_________________________________________________________________\n",
      "dropout_2 (Dropout)          (None, 10)                0         \n",
      "_________________________________________________________________\n",
      "dense_3 (Dense)              (None, 1)                 11        \n",
      "=================================================================\n",
      "Total params: 1,717\n",
      "Trainable params: 1,717\n",
      "Non-trainable params: 0\n",
      "_________________________________________________________________\n"
     ]
    }
   ],
   "source": [
    "model.summary()"
   ]
  },
  {
   "cell_type": "code",
   "execution_count": 107,
   "id": "romance-radar",
   "metadata": {
    "execution": {
     "iopub.execute_input": "2021-06-26T21:27:28.434123Z",
     "iopub.status.busy": "2021-06-26T21:27:28.425725Z",
     "iopub.status.idle": "2021-06-26T21:27:28.441570Z",
     "shell.execute_reply": "2021-06-26T21:27:28.440860Z",
     "shell.execute_reply.started": "2021-06-26T21:25:28.630694Z"
    },
    "papermill": {
     "duration": 0.163368,
     "end_time": "2021-06-26T21:27:28.441764",
     "exception": false,
     "start_time": "2021-06-26T21:27:28.278396",
     "status": "completed"
    },
    "tags": []
   },
   "outputs": [],
   "source": [
    "from numpy.random import seed\n",
    "seed(1)\n",
    "\n",
    "# Set Optimizer and learning rate\n",
    "from keras.optimizers import Adam\n",
    "from keras.optimizers import SGD\n",
    "opt = Adam(lr=0.1)\n",
    "\n",
    "# Compile model\n",
    "model.compile(\n",
    "    loss='binary_crossentropy',\n",
    "    optimizer=opt,\n",
    "    metrics=['accuracy'])"
   ]
  },
  {
   "cell_type": "code",
   "execution_count": 108,
   "id": "composite-pasta",
   "metadata": {
    "execution": {
     "iopub.execute_input": "2021-06-26T21:27:28.734252Z",
     "iopub.status.busy": "2021-06-26T21:27:28.733448Z",
     "iopub.status.idle": "2021-06-26T21:27:30.839944Z",
     "shell.execute_reply": "2021-06-26T21:27:30.840439Z",
     "shell.execute_reply.started": "2021-06-26T21:25:28.653573Z"
    },
    "papermill": {
     "duration": 2.256433,
     "end_time": "2021-06-26T21:27:30.840636",
     "exception": false,
     "start_time": "2021-06-26T21:27:28.584203",
     "status": "completed"
    },
    "tags": []
   },
   "outputs": [
    {
     "name": "stdout",
     "output_type": "stream",
     "text": [
      "Epoch 1/10\n",
      "6/6 [==============================] - 1s 124ms/step - loss: 0.6875 - accuracy: 0.5714 - val_loss: 0.5122 - val_accuracy: 0.7151\n",
      "Epoch 2/10\n",
      "6/6 [==============================] - 0s 13ms/step - loss: 0.5523 - accuracy: 0.7617 - val_loss: 0.4710 - val_accuracy: 0.8268\n",
      "Epoch 3/10\n",
      "6/6 [==============================] - 0s 12ms/step - loss: 0.5418 - accuracy: 0.7598 - val_loss: 0.4031 - val_accuracy: 0.8380\n",
      "Epoch 4/10\n",
      "6/6 [==============================] - 0s 13ms/step - loss: 0.5062 - accuracy: 0.7805 - val_loss: 0.4015 - val_accuracy: 0.8603\n",
      "Epoch 5/10\n",
      "6/6 [==============================] - 0s 14ms/step - loss: 0.5241 - accuracy: 0.7953 - val_loss: 0.3994 - val_accuracy: 0.8547\n",
      "Epoch 6/10\n",
      "6/6 [==============================] - 0s 13ms/step - loss: 0.4854 - accuracy: 0.8072 - val_loss: 0.4208 - val_accuracy: 0.8380\n",
      "Epoch 7/10\n",
      "6/6 [==============================] - 0s 13ms/step - loss: 0.4680 - accuracy: 0.8037 - val_loss: 0.3919 - val_accuracy: 0.8603\n",
      "Epoch 8/10\n",
      "6/6 [==============================] - 0s 12ms/step - loss: 0.4557 - accuracy: 0.8298 - val_loss: 0.4149 - val_accuracy: 0.8492\n",
      "Epoch 9/10\n",
      "6/6 [==============================] - 0s 12ms/step - loss: 0.4684 - accuracy: 0.8022 - val_loss: 0.3819 - val_accuracy: 0.8603\n",
      "Epoch 10/10\n",
      "6/6 [==============================] - 0s 12ms/step - loss: 0.4620 - accuracy: 0.8063 - val_loss: 0.4088 - val_accuracy: 0.8492\n"
     ]
    }
   ],
   "source": [
    "### TRAIN DATA with MODEL \n",
    "\n",
    "history = model.fit(X_train, Y_train, batch_size =128, epochs=10,\n",
    "                    validation_split = 0.20) \n",
    "# batch size defaults to 32, but has been changed to 128"
   ]
  },
  {
   "cell_type": "code",
   "execution_count": 109,
   "id": "liberal-flour",
   "metadata": {
    "execution": {
     "iopub.execute_input": "2021-06-26T21:27:31.143636Z",
     "iopub.status.busy": "2021-06-26T21:27:31.142789Z",
     "iopub.status.idle": "2021-06-26T21:27:31.146010Z",
     "shell.execute_reply": "2021-06-26T21:27:31.146498Z",
     "shell.execute_reply.started": "2021-06-26T21:25:30.226203Z"
    },
    "papermill": {
     "duration": 0.157696,
     "end_time": "2021-06-26T21:27:31.146662",
     "exception": false,
     "start_time": "2021-06-26T21:27:30.988966",
     "status": "completed"
    },
    "tags": []
   },
   "outputs": [
    {
     "name": "stdout",
     "output_type": "stream",
     "text": [
      "dict_keys(['loss', 'accuracy', 'val_loss', 'val_accuracy'])\n"
     ]
    }
   ],
   "source": [
    "print (history.history.keys())"
   ]
  },
  {
   "cell_type": "code",
   "execution_count": 110,
   "id": "committed-jewelry",
   "metadata": {
    "execution": {
     "iopub.execute_input": "2021-06-26T21:27:31.448715Z",
     "iopub.status.busy": "2021-06-26T21:27:31.448058Z",
     "iopub.status.idle": "2021-06-26T21:27:31.450558Z",
     "shell.execute_reply": "2021-06-26T21:27:31.451084Z",
     "shell.execute_reply.started": "2021-06-26T21:25:30.233982Z"
    },
    "papermill": {
     "duration": 0.155742,
     "end_time": "2021-06-26T21:27:31.451255",
     "exception": false,
     "start_time": "2021-06-26T21:27:31.295513",
     "status": "completed"
    },
    "tags": []
   },
   "outputs": [
    {
     "name": "stdout",
     "output_type": "stream",
     "text": [
      "\n",
      "val_accuracy: 83.52%\n"
     ]
    }
   ],
   "source": [
    "val_accuracy = np.mean(history.history['val_accuracy'])\n",
    "print(\"\\n%s: %.2f%%\" % ('val_accuracy', val_accuracy*100)) # validation accuracy using training data"
   ]
  },
  {
   "cell_type": "code",
   "execution_count": 111,
   "id": "blessed-pittsburgh",
   "metadata": {
    "execution": {
     "iopub.execute_input": "2021-06-26T21:27:31.751240Z",
     "iopub.status.busy": "2021-06-26T21:27:31.750551Z",
     "iopub.status.idle": "2021-06-26T21:27:31.758193Z",
     "shell.execute_reply": "2021-06-26T21:27:31.757373Z",
     "shell.execute_reply.started": "2021-06-26T21:25:30.249906Z"
    },
    "papermill": {
     "duration": 0.159234,
     "end_time": "2021-06-26T21:27:31.758375",
     "exception": false,
     "start_time": "2021-06-26T21:27:31.599141",
     "status": "completed"
    },
    "tags": []
   },
   "outputs": [
    {
     "name": "stdout",
     "output_type": "stream",
     "text": [
      "val_loss: 0.42054479420185087\n"
     ]
    }
   ],
   "source": [
    "val_loss = np.mean(history.history['val_loss'])\n",
    "print('val_loss:', val_loss)# validation loss using training data"
   ]
  },
  {
   "cell_type": "markdown",
   "id": "going-constant",
   "metadata": {
    "papermill": {
     "duration": 0.150025,
     "end_time": "2021-06-26T21:27:32.061627",
     "exception": false,
     "start_time": "2021-06-26T21:27:31.911602",
     "status": "completed"
    },
    "tags": []
   },
   "source": [
    "### Predict y-test labels using trained DNN model with test data"
   ]
  },
  {
   "cell_type": "code",
   "execution_count": 112,
   "id": "shared-share",
   "metadata": {
    "execution": {
     "iopub.execute_input": "2021-06-26T21:27:32.362276Z",
     "iopub.status.busy": "2021-06-26T21:27:32.361633Z",
     "iopub.status.idle": "2021-06-26T21:27:32.504013Z",
     "shell.execute_reply": "2021-06-26T21:27:32.503388Z",
     "shell.execute_reply.started": "2021-06-26T21:25:30.260418Z"
    },
    "papermill": {
     "duration": 0.293035,
     "end_time": "2021-06-26T21:27:32.504164",
     "exception": false,
     "start_time": "2021-06-26T21:27:32.211129",
     "status": "completed"
    },
    "tags": []
   },
   "outputs": [],
   "source": [
    "# calculate predictions\n",
    "test['Survived'] = model.predict(X_test)\n",
    "test['Survived'] = test['Survived'].apply(lambda x: round(x,0)).astype('int')\n",
    "solutions_my_y_preds = test[['PassengerId', 'Survived']]"
   ]
  },
  {
   "cell_type": "code",
   "execution_count": 113,
   "id": "legitimate-merit",
   "metadata": {
    "execution": {
     "iopub.execute_input": "2021-06-26T21:27:32.810129Z",
     "iopub.status.busy": "2021-06-26T21:27:32.809390Z",
     "iopub.status.idle": "2021-06-26T21:27:32.812200Z",
     "shell.execute_reply": "2021-06-26T21:27:32.812637Z",
     "shell.execute_reply.started": "2021-06-26T21:25:30.372917Z"
    },
    "papermill": {
     "duration": 0.159603,
     "end_time": "2021-06-26T21:27:32.812828",
     "exception": false,
     "start_time": "2021-06-26T21:27:32.653225",
     "status": "completed"
    },
    "tags": []
   },
   "outputs": [
    {
     "data": {
      "text/html": [
       "<div>\n",
       "<style scoped>\n",
       "    .dataframe tbody tr th:only-of-type {\n",
       "        vertical-align: middle;\n",
       "    }\n",
       "\n",
       "    .dataframe tbody tr th {\n",
       "        vertical-align: top;\n",
       "    }\n",
       "\n",
       "    .dataframe thead th {\n",
       "        text-align: right;\n",
       "    }\n",
       "</style>\n",
       "<table border=\"1\" class=\"dataframe\">\n",
       "  <thead>\n",
       "    <tr style=\"text-align: right;\">\n",
       "      <th></th>\n",
       "      <th>PassengerId</th>\n",
       "      <th>Survived</th>\n",
       "    </tr>\n",
       "  </thead>\n",
       "  <tbody>\n",
       "    <tr>\n",
       "      <th>0</th>\n",
       "      <td>892</td>\n",
       "      <td>0</td>\n",
       "    </tr>\n",
       "    <tr>\n",
       "      <th>1</th>\n",
       "      <td>893</td>\n",
       "      <td>0</td>\n",
       "    </tr>\n",
       "    <tr>\n",
       "      <th>2</th>\n",
       "      <td>894</td>\n",
       "      <td>0</td>\n",
       "    </tr>\n",
       "    <tr>\n",
       "      <th>3</th>\n",
       "      <td>895</td>\n",
       "      <td>0</td>\n",
       "    </tr>\n",
       "    <tr>\n",
       "      <th>4</th>\n",
       "      <td>896</td>\n",
       "      <td>0</td>\n",
       "    </tr>\n",
       "    <tr>\n",
       "      <th>5</th>\n",
       "      <td>897</td>\n",
       "      <td>0</td>\n",
       "    </tr>\n",
       "    <tr>\n",
       "      <th>6</th>\n",
       "      <td>898</td>\n",
       "      <td>0</td>\n",
       "    </tr>\n",
       "    <tr>\n",
       "      <th>7</th>\n",
       "      <td>899</td>\n",
       "      <td>0</td>\n",
       "    </tr>\n",
       "    <tr>\n",
       "      <th>8</th>\n",
       "      <td>900</td>\n",
       "      <td>0</td>\n",
       "    </tr>\n",
       "    <tr>\n",
       "      <th>9</th>\n",
       "      <td>901</td>\n",
       "      <td>0</td>\n",
       "    </tr>\n",
       "  </tbody>\n",
       "</table>\n",
       "</div>"
      ],
      "text/plain": [
       "   PassengerId  Survived\n",
       "0          892         0\n",
       "1          893         0\n",
       "2          894         0\n",
       "3          895         0\n",
       "4          896         0\n",
       "5          897         0\n",
       "6          898         0\n",
       "7          899         0\n",
       "8          900         0\n",
       "9          901         0"
      ]
     },
     "execution_count": 113,
     "metadata": {},
     "output_type": "execute_result"
    }
   ],
   "source": [
    "solutions_my_y_preds.head(10)"
   ]
  },
  {
   "cell_type": "code",
   "execution_count": 114,
   "id": "miniature-basket",
   "metadata": {
    "execution": {
     "iopub.execute_input": "2021-06-26T21:27:33.114172Z",
     "iopub.status.busy": "2021-06-26T21:27:33.113468Z",
     "iopub.status.idle": "2021-06-26T21:27:33.119634Z",
     "shell.execute_reply": "2021-06-26T21:27:33.118978Z",
     "shell.execute_reply.started": "2021-06-26T21:25:30.386027Z"
    },
    "papermill": {
     "duration": 0.158577,
     "end_time": "2021-06-26T21:27:33.119792",
     "exception": false,
     "start_time": "2021-06-26T21:27:32.961215",
     "status": "completed"
    },
    "tags": []
   },
   "outputs": [
    {
     "data": {
      "text/plain": [
       "418"
      ]
     },
     "execution_count": 114,
     "metadata": {},
     "output_type": "execute_result"
    }
   ],
   "source": [
    "len(solutions_my_y_preds)"
   ]
  },
  {
   "cell_type": "code",
   "execution_count": 115,
   "id": "otherwise-florence",
   "metadata": {
    "execution": {
     "iopub.execute_input": "2021-06-26T21:27:33.426138Z",
     "iopub.status.busy": "2021-06-26T21:27:33.425422Z",
     "iopub.status.idle": "2021-06-26T21:27:33.428794Z",
     "shell.execute_reply": "2021-06-26T21:27:33.428232Z",
     "shell.execute_reply.started": "2021-06-26T21:25:30.401099Z"
    },
    "papermill": {
     "duration": 0.158144,
     "end_time": "2021-06-26T21:27:33.428959",
     "exception": false,
     "start_time": "2021-06-26T21:27:33.270815",
     "status": "completed"
    },
    "tags": []
   },
   "outputs": [],
   "source": [
    "# saving the dataframe \n",
    "#solutions_my_y_preds.to_csv(r'.../Desktop/DATA 255-DeepLearning/Kaggle_Competition/Titanic_Solution.csv', index=False) "
   ]
  },
  {
   "cell_type": "markdown",
   "id": "dominican-reset",
   "metadata": {
    "papermill": {
     "duration": 0.15068,
     "end_time": "2021-06-26T21:27:33.730952",
     "exception": false,
     "start_time": "2021-06-26T21:27:33.580272",
     "status": "completed"
    },
    "tags": []
   },
   "source": [
    "### Additional prediction using Perceptron Model"
   ]
  },
  {
   "cell_type": "code",
   "execution_count": 116,
   "id": "surprised-brave",
   "metadata": {
    "execution": {
     "iopub.execute_input": "2021-06-26T21:27:34.038322Z",
     "iopub.status.busy": "2021-06-26T21:27:34.037521Z",
     "iopub.status.idle": "2021-06-26T21:27:34.231208Z",
     "shell.execute_reply": "2021-06-26T21:27:34.230600Z",
     "shell.execute_reply.started": "2021-06-26T21:25:30.412309Z"
    },
    "papermill": {
     "duration": 0.351288,
     "end_time": "2021-06-26T21:27:34.231371",
     "exception": false,
     "start_time": "2021-06-26T21:27:33.880083",
     "status": "completed"
    },
    "tags": []
   },
   "outputs": [
    {
     "name": "stderr",
     "output_type": "stream",
     "text": [
      "/opt/conda/lib/python3.7/site-packages/sklearn/utils/validation.py:63: DataConversionWarning: A column-vector y was passed when a 1d array was expected. Please change the shape of y to (n_samples, ), for example using ravel().\n",
      "  return f(*args, **kwargs)\n",
      "/opt/conda/lib/python3.7/site-packages/sklearn/linear_model/_stochastic_gradient.py:577: ConvergenceWarning: Maximum number of iteration reached before convergence. Consider increasing max_iter to improve the fit.\n",
      "  ConvergenceWarning)\n"
     ]
    }
   ],
   "source": [
    "from sklearn.linear_model import Perceptron # Perceptron Model\n",
    "perceptron = Perceptron(max_iter=5)\n",
    "perceptron.fit(X_train, Y_train)\n",
    "Y_pred = perceptron.predict(X_test)\n",
    "acc_perceptron = round(perceptron.score(X_train, Y_train) * 100, 2)"
   ]
  },
  {
   "cell_type": "code",
   "execution_count": 117,
   "id": "seasonal-saint",
   "metadata": {
    "execution": {
     "iopub.execute_input": "2021-06-26T21:27:34.542513Z",
     "iopub.status.busy": "2021-06-26T21:27:34.541847Z",
     "iopub.status.idle": "2021-06-26T21:27:34.544541Z",
     "shell.execute_reply": "2021-06-26T21:27:34.545379Z",
     "shell.execute_reply.started": "2021-06-26T21:25:30.435466Z"
    },
    "papermill": {
     "duration": 0.16135,
     "end_time": "2021-06-26T21:27:34.545629",
     "exception": false,
     "start_time": "2021-06-26T21:27:34.384279",
     "status": "completed"
    },
    "tags": []
   },
   "outputs": [
    {
     "name": "stdout",
     "output_type": "stream",
     "text": [
      "76.54\n"
     ]
    }
   ],
   "source": [
    "print(acc_perceptron) # Training Accuracy Score using Perceptron model"
   ]
  },
  {
   "cell_type": "code",
   "execution_count": 118,
   "id": "preliminary-proposal",
   "metadata": {
    "execution": {
     "iopub.execute_input": "2021-06-26T21:27:34.857647Z",
     "iopub.status.busy": "2021-06-26T21:27:34.857018Z",
     "iopub.status.idle": "2021-06-26T21:27:34.866416Z",
     "shell.execute_reply": "2021-06-26T21:27:34.866967Z",
     "shell.execute_reply.started": "2021-06-26T21:25:30.441318Z"
    },
    "papermill": {
     "duration": 0.165306,
     "end_time": "2021-06-26T21:27:34.867165",
     "exception": false,
     "start_time": "2021-06-26T21:27:34.701859",
     "status": "completed"
    },
    "tags": []
   },
   "outputs": [
    {
     "data": {
      "text/plain": [
       "array([0., 0., 0., 0., 0., 0., 0., 0., 1., 0., 0., 0., 1., 0., 0., 1., 0.,\n",
       "       0., 0., 0., 0., 0., 1., 1., 1., 0., 1., 0., 0., 0., 0., 0., 0., 0.,\n",
       "       1., 0., 0., 0., 0., 0., 0., 0., 0., 1., 0., 0., 0., 0., 0., 0., 1.,\n",
       "       1., 1., 1., 0., 1., 0., 0., 0., 1., 0., 0., 0., 1., 1., 1., 1., 0.,\n",
       "       1., 1., 0., 0., 0., 1., 1., 1., 0., 0., 0., 0., 1., 0., 0., 0., 0.,\n",
       "       0., 0., 0., 1., 1., 0., 0., 1., 0., 1., 0., 0., 0., 0., 0., 1., 0.,\n",
       "       0., 0., 1., 0., 0., 0., 0., 0., 0., 1., 1., 1., 0., 0., 0., 1., 1.,\n",
       "       1., 1., 0., 1., 0., 0., 0., 0., 1., 0., 0., 0., 0., 0., 0., 0., 0.,\n",
       "       0., 0., 0., 0., 1., 1., 0., 0., 0., 0., 0., 0., 0., 0., 1., 0., 0.,\n",
       "       0., 0., 0., 1., 0., 0., 0., 1., 1., 1., 0., 0., 0., 0., 0., 1., 0.,\n",
       "       0., 0., 0., 0., 0., 1., 1., 0., 0., 0., 0., 1., 1., 0., 1., 0., 1.,\n",
       "       0., 1., 0., 0., 0., 0., 0., 1., 0., 1., 0., 0., 0., 1., 0., 1., 1.,\n",
       "       0., 0., 0., 0., 1., 0., 0., 0., 1., 0., 0., 0., 1., 0., 1., 0., 1.,\n",
       "       0., 1., 0., 0., 1., 0., 1., 0., 0., 1., 1., 0., 0., 1., 0., 0., 0.,\n",
       "       1., 1., 0., 0., 1., 0., 0., 0., 1., 0., 1., 1., 1., 0., 1., 0., 0.,\n",
       "       0., 0., 0., 1., 0., 0., 0., 1., 1., 0., 0., 0., 0., 0., 0., 0., 0.,\n",
       "       1., 1., 0., 1., 0., 0., 0., 0., 0., 0., 1., 1., 1., 0., 0., 1., 0.,\n",
       "       0., 0., 0., 0., 0., 0., 0., 1., 0., 0., 0., 0., 0., 0., 0., 1., 0.,\n",
       "       1., 0., 0., 0., 0., 0., 0., 0., 1., 1., 0., 0., 0., 0., 0., 0., 0.,\n",
       "       0., 1., 0., 1., 0., 0., 0., 0., 0., 0., 1., 0., 0., 0., 0., 0., 0.,\n",
       "       0., 0., 0., 1., 0., 0., 0., 0., 0., 1., 1., 0., 1., 0., 1., 0., 0.,\n",
       "       0., 0., 0., 0., 1., 1., 0., 1., 1., 0., 0., 1., 0., 0., 1., 0., 0.,\n",
       "       0., 1., 0., 0., 0., 0., 0., 0., 0., 0., 0., 1., 0., 0., 0., 0., 1.,\n",
       "       0., 0., 0., 0., 1., 0., 1., 0., 0., 1., 0., 1., 1., 0., 1., 0., 1.,\n",
       "       1., 1., 1., 1., 0., 0., 1., 0., 0., 0.])"
      ]
     },
     "execution_count": 118,
     "metadata": {},
     "output_type": "execute_result"
    }
   ],
   "source": [
    "Y_pred_rounded = Y_pred.round()\n",
    "Y_pred_rounded"
   ]
  },
  {
   "cell_type": "code",
   "execution_count": null,
   "id": "industrial-arrival",
   "metadata": {
    "papermill": {
     "duration": 0.153365,
     "end_time": "2021-06-26T21:27:35.173915",
     "exception": false,
     "start_time": "2021-06-26T21:27:35.020550",
     "status": "completed"
    },
    "tags": []
   },
   "outputs": [],
   "source": []
  }
 ],
 "metadata": {
  "kernelspec": {
   "display_name": "Python 3",
   "language": "python",
   "name": "python3"
  },
  "language_info": {
   "codemirror_mode": {
    "name": "ipython",
    "version": 3
   },
   "file_extension": ".py",
   "mimetype": "text/x-python",
   "name": "python",
   "nbconvert_exporter": "python",
   "pygments_lexer": "ipython3",
   "version": "3.7.9"
  },
  "papermill": {
   "default_parameters": {},
   "duration": 62.807129,
   "end_time": "2021-06-26T21:27:36.743777",
   "environment_variables": {},
   "exception": null,
   "input_path": "__notebook__.ipynb",
   "output_path": "__notebook__.ipynb",
   "parameters": {},
   "start_time": "2021-06-26T21:26:33.936648",
   "version": "2.3.2"
  }
 },
 "nbformat": 4,
 "nbformat_minor": 5
}
