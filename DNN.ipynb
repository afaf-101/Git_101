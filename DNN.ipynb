{
 "cells": [
  {
   "cell_type": "markdown",
   "metadata": {},
   "source": [
    "### Coding Assignment: Train deep MLP to perform regression task to predict price basedon California housing dataset\n",
    "#### Problem #4"
   ]
  },
  {
   "cell_type": "markdown",
   "metadata": {},
   "source": [
    "Try tuning parameters, layers, neurons, activation functions, learning rate, etc. Find your best tuned model and plot learning curves, as we show at our coding demo during class."
   ]
  },
  {
   "cell_type": "markdown",
   "metadata": {},
   "source": [
    "### Import necessary packages and california housing dataset"
   ]
  },
  {
   "cell_type": "code",
   "execution_count": 51,
   "metadata": {},
   "outputs": [],
   "source": [
    "import pandas as pd\n",
    "import numpy as np\n",
    "import seaborn as sns\n",
    "import matplotlib.pyplot as plt\n",
    "#from sklearn.datasets.california_housing import fetch_california_housing\n",
    "from sklearn.datasets import fetch_california_housing\n",
    "from sklearn.model_selection import train_test_split\n",
    "from sklearn.preprocessing import StandardScaler\n",
    "from scipy.stats import norm\n",
    "from scipy import stats\n",
    "%matplotlib inline"
   ]
  },
  {
   "cell_type": "code",
   "execution_count": 52,
   "metadata": {},
   "outputs": [],
   "source": [
    "import numpy as np\n",
    "import os\n",
    "import tarfile\n",
    "from sklearn.externals import joblib\n",
    "from sklearn.datasets.base import _pkl_filepath, get_data_home\n",
    "\n",
    "archive_path = \"cal_housing.tgz\" # change the path if it's not in the current directory\n",
    "data_home = get_data_home(data_home=None) # change data_home if you are not using ~/scikit_learn_data\n",
    "if not os.path.exists(data_home):\n",
    "    os.makedirs(data_home)\n",
    "filepath = _pkl_filepath(data_home, 'cal_housing.pkz')\n",
    "\n",
    "with tarfile.open(mode=\"r:gz\", name=archive_path) as f:\n",
    "    cal_housing = np.loadtxt(\n",
    "        f.extractfile('CaliforniaHousing/cal_housing.data'),\n",
    "        delimiter=',')\n",
    "    # Columns are not in the same order compared to the previous\n",
    "    # URL resource on lib.stat.cmu.edu\n",
    "    columns_index = [8, 7, 2, 3, 4, 5, 6, 1, 0]\n",
    "    cal_housing = cal_housing[:, columns_index]\n",
    "\n",
    "    joblib.dump(cal_housing, filepath, compress=6)"
   ]
  },
  {
   "cell_type": "markdown",
   "metadata": {},
   "source": [
    "### View and Process Data "
   ]
  },
  {
   "cell_type": "code",
   "execution_count": 53,
   "metadata": {},
   "outputs": [],
   "source": [
    "housing = fetch_california_housing()"
   ]
  },
  {
   "cell_type": "code",
   "execution_count": 54,
   "metadata": {},
   "outputs": [
    {
     "data": {
      "text/html": [
       "<div>\n",
       "<style scoped>\n",
       "    .dataframe tbody tr th:only-of-type {\n",
       "        vertical-align: middle;\n",
       "    }\n",
       "\n",
       "    .dataframe tbody tr th {\n",
       "        vertical-align: top;\n",
       "    }\n",
       "\n",
       "    .dataframe thead th {\n",
       "        text-align: right;\n",
       "    }\n",
       "</style>\n",
       "<table border=\"1\" class=\"dataframe\">\n",
       "  <thead>\n",
       "    <tr style=\"text-align: right;\">\n",
       "      <th></th>\n",
       "      <th>MedInc</th>\n",
       "      <th>HouseAge</th>\n",
       "      <th>AveRooms</th>\n",
       "      <th>AveBedrms</th>\n",
       "      <th>Population</th>\n",
       "      <th>AveOccup</th>\n",
       "      <th>Latitude</th>\n",
       "      <th>Longitude</th>\n",
       "    </tr>\n",
       "  </thead>\n",
       "  <tbody>\n",
       "    <tr>\n",
       "      <th>0</th>\n",
       "      <td>8.3252</td>\n",
       "      <td>41.0</td>\n",
       "      <td>6.984127</td>\n",
       "      <td>1.023810</td>\n",
       "      <td>322.0</td>\n",
       "      <td>2.555556</td>\n",
       "      <td>37.88</td>\n",
       "      <td>-122.23</td>\n",
       "    </tr>\n",
       "    <tr>\n",
       "      <th>1</th>\n",
       "      <td>8.3014</td>\n",
       "      <td>21.0</td>\n",
       "      <td>6.238137</td>\n",
       "      <td>0.971880</td>\n",
       "      <td>2401.0</td>\n",
       "      <td>2.109842</td>\n",
       "      <td>37.86</td>\n",
       "      <td>-122.22</td>\n",
       "    </tr>\n",
       "    <tr>\n",
       "      <th>2</th>\n",
       "      <td>7.2574</td>\n",
       "      <td>52.0</td>\n",
       "      <td>8.288136</td>\n",
       "      <td>1.073446</td>\n",
       "      <td>496.0</td>\n",
       "      <td>2.802260</td>\n",
       "      <td>37.85</td>\n",
       "      <td>-122.24</td>\n",
       "    </tr>\n",
       "    <tr>\n",
       "      <th>3</th>\n",
       "      <td>5.6431</td>\n",
       "      <td>52.0</td>\n",
       "      <td>5.817352</td>\n",
       "      <td>1.073059</td>\n",
       "      <td>558.0</td>\n",
       "      <td>2.547945</td>\n",
       "      <td>37.85</td>\n",
       "      <td>-122.25</td>\n",
       "    </tr>\n",
       "    <tr>\n",
       "      <th>4</th>\n",
       "      <td>3.8462</td>\n",
       "      <td>52.0</td>\n",
       "      <td>6.281853</td>\n",
       "      <td>1.081081</td>\n",
       "      <td>565.0</td>\n",
       "      <td>2.181467</td>\n",
       "      <td>37.85</td>\n",
       "      <td>-122.25</td>\n",
       "    </tr>\n",
       "  </tbody>\n",
       "</table>\n",
       "</div>"
      ],
      "text/plain": [
       "   MedInc  HouseAge  AveRooms  AveBedrms  Population  AveOccup  Latitude  \\\n",
       "0  8.3252      41.0  6.984127   1.023810       322.0  2.555556     37.88   \n",
       "1  8.3014      21.0  6.238137   0.971880      2401.0  2.109842     37.86   \n",
       "2  7.2574      52.0  8.288136   1.073446       496.0  2.802260     37.85   \n",
       "3  5.6431      52.0  5.817352   1.073059       558.0  2.547945     37.85   \n",
       "4  3.8462      52.0  6.281853   1.081081       565.0  2.181467     37.85   \n",
       "\n",
       "   Longitude  \n",
       "0    -122.23  \n",
       "1    -122.22  \n",
       "2    -122.24  \n",
       "3    -122.25  \n",
       "4    -122.25  "
      ]
     },
     "execution_count": 54,
     "metadata": {},
     "output_type": "execute_result"
    }
   ],
   "source": [
    "calf_hous_df = pd.DataFrame(data= housing.data, columns=housing.feature_names)    \n",
    "calf_hous_df.head(5)"
   ]
  },
  {
   "cell_type": "code",
   "execution_count": 55,
   "metadata": {},
   "outputs": [
    {
     "data": {
      "text/html": [
       "<div>\n",
       "<style scoped>\n",
       "    .dataframe tbody tr th:only-of-type {\n",
       "        vertical-align: middle;\n",
       "    }\n",
       "\n",
       "    .dataframe tbody tr th {\n",
       "        vertical-align: top;\n",
       "    }\n",
       "\n",
       "    .dataframe thead th {\n",
       "        text-align: right;\n",
       "    }\n",
       "</style>\n",
       "<table border=\"1\" class=\"dataframe\">\n",
       "  <thead>\n",
       "    <tr style=\"text-align: right;\">\n",
       "      <th></th>\n",
       "      <th>MedInc</th>\n",
       "      <th>HouseAge</th>\n",
       "      <th>AveRooms</th>\n",
       "      <th>AveBedrms</th>\n",
       "      <th>Population</th>\n",
       "      <th>AveOccup</th>\n",
       "      <th>Latitude</th>\n",
       "      <th>Longitude</th>\n",
       "    </tr>\n",
       "  </thead>\n",
       "  <tbody>\n",
       "    <tr>\n",
       "      <th>count</th>\n",
       "      <td>20640.000</td>\n",
       "      <td>20640.000</td>\n",
       "      <td>20640.000</td>\n",
       "      <td>20640.000</td>\n",
       "      <td>20640.000</td>\n",
       "      <td>20640.000</td>\n",
       "      <td>20640.000</td>\n",
       "      <td>20640.000</td>\n",
       "    </tr>\n",
       "    <tr>\n",
       "      <th>mean</th>\n",
       "      <td>3.871</td>\n",
       "      <td>28.639</td>\n",
       "      <td>5.429</td>\n",
       "      <td>1.097</td>\n",
       "      <td>1425.477</td>\n",
       "      <td>3.071</td>\n",
       "      <td>35.632</td>\n",
       "      <td>-119.570</td>\n",
       "    </tr>\n",
       "    <tr>\n",
       "      <th>std</th>\n",
       "      <td>1.900</td>\n",
       "      <td>12.586</td>\n",
       "      <td>2.474</td>\n",
       "      <td>0.474</td>\n",
       "      <td>1132.462</td>\n",
       "      <td>10.386</td>\n",
       "      <td>2.136</td>\n",
       "      <td>2.004</td>\n",
       "    </tr>\n",
       "    <tr>\n",
       "      <th>min</th>\n",
       "      <td>0.500</td>\n",
       "      <td>1.000</td>\n",
       "      <td>0.846</td>\n",
       "      <td>0.333</td>\n",
       "      <td>3.000</td>\n",
       "      <td>0.692</td>\n",
       "      <td>32.540</td>\n",
       "      <td>-124.350</td>\n",
       "    </tr>\n",
       "    <tr>\n",
       "      <th>25%</th>\n",
       "      <td>2.563</td>\n",
       "      <td>18.000</td>\n",
       "      <td>4.441</td>\n",
       "      <td>1.006</td>\n",
       "      <td>787.000</td>\n",
       "      <td>2.430</td>\n",
       "      <td>33.930</td>\n",
       "      <td>-121.800</td>\n",
       "    </tr>\n",
       "    <tr>\n",
       "      <th>50%</th>\n",
       "      <td>3.535</td>\n",
       "      <td>29.000</td>\n",
       "      <td>5.229</td>\n",
       "      <td>1.049</td>\n",
       "      <td>1166.000</td>\n",
       "      <td>2.818</td>\n",
       "      <td>34.260</td>\n",
       "      <td>-118.490</td>\n",
       "    </tr>\n",
       "    <tr>\n",
       "      <th>75%</th>\n",
       "      <td>4.743</td>\n",
       "      <td>37.000</td>\n",
       "      <td>6.052</td>\n",
       "      <td>1.100</td>\n",
       "      <td>1725.000</td>\n",
       "      <td>3.282</td>\n",
       "      <td>37.710</td>\n",
       "      <td>-118.010</td>\n",
       "    </tr>\n",
       "    <tr>\n",
       "      <th>max</th>\n",
       "      <td>15.000</td>\n",
       "      <td>52.000</td>\n",
       "      <td>141.909</td>\n",
       "      <td>34.067</td>\n",
       "      <td>35682.000</td>\n",
       "      <td>1243.333</td>\n",
       "      <td>41.950</td>\n",
       "      <td>-114.310</td>\n",
       "    </tr>\n",
       "  </tbody>\n",
       "</table>\n",
       "</div>"
      ],
      "text/plain": [
       "          MedInc   HouseAge   AveRooms  AveBedrms  Population   AveOccup  \\\n",
       "count  20640.000  20640.000  20640.000  20640.000   20640.000  20640.000   \n",
       "mean       3.871     28.639      5.429      1.097    1425.477      3.071   \n",
       "std        1.900     12.586      2.474      0.474    1132.462     10.386   \n",
       "min        0.500      1.000      0.846      0.333       3.000      0.692   \n",
       "25%        2.563     18.000      4.441      1.006     787.000      2.430   \n",
       "50%        3.535     29.000      5.229      1.049    1166.000      2.818   \n",
       "75%        4.743     37.000      6.052      1.100    1725.000      3.282   \n",
       "max       15.000     52.000    141.909     34.067   35682.000   1243.333   \n",
       "\n",
       "        Latitude  Longitude  \n",
       "count  20640.000  20640.000  \n",
       "mean      35.632   -119.570  \n",
       "std        2.136      2.004  \n",
       "min       32.540   -124.350  \n",
       "25%       33.930   -121.800  \n",
       "50%       34.260   -118.490  \n",
       "75%       37.710   -118.010  \n",
       "max       41.950   -114.310  "
      ]
     },
     "execution_count": 55,
     "metadata": {},
     "output_type": "execute_result"
    }
   ],
   "source": [
    "round(calf_hous_df.describe(),3)"
   ]
  },
  {
   "cell_type": "code",
   "execution_count": 56,
   "metadata": {},
   "outputs": [
    {
     "name": "stdout",
     "output_type": "stream",
     "text": [
      "<class 'pandas.core.frame.DataFrame'>\n",
      "RangeIndex: 20640 entries, 0 to 20639\n",
      "Data columns (total 8 columns):\n",
      "MedInc        20640 non-null float64\n",
      "HouseAge      20640 non-null float64\n",
      "AveRooms      20640 non-null float64\n",
      "AveBedrms     20640 non-null float64\n",
      "Population    20640 non-null float64\n",
      "AveOccup      20640 non-null float64\n",
      "Latitude      20640 non-null float64\n",
      "Longitude     20640 non-null float64\n",
      "dtypes: float64(8)\n",
      "memory usage: 1.3 MB\n"
     ]
    }
   ],
   "source": [
    "calf_hous_df.info()"
   ]
  },
  {
   "cell_type": "code",
   "execution_count": 57,
   "metadata": {},
   "outputs": [
    {
     "data": {
      "text/plain": [
       "(20640, 8)"
      ]
     },
     "execution_count": 57,
     "metadata": {},
     "output_type": "execute_result"
    }
   ],
   "source": [
    "calf_hous_df.shape"
   ]
  },
  {
   "cell_type": "code",
   "execution_count": 58,
   "metadata": {},
   "outputs": [
    {
     "data": {
      "text/plain": [
       "MedInc        0\n",
       "HouseAge      0\n",
       "AveRooms      0\n",
       "AveBedrms     0\n",
       "Population    0\n",
       "AveOccup      0\n",
       "Latitude      0\n",
       "Longitude     0\n",
       "dtype: int64"
      ]
     },
     "execution_count": 58,
     "metadata": {},
     "output_type": "execute_result"
    }
   ],
   "source": [
    "calf_hous_df.isna().sum() # no nulls"
   ]
  },
  {
   "cell_type": "code",
   "execution_count": 59,
   "metadata": {},
   "outputs": [],
   "source": [
    "X_train_full, X_test, y_train_full, y_test = train_test_split(housing.data, housing.target) \n",
    "# split into training and test set"
   ]
  },
  {
   "cell_type": "code",
   "execution_count": 60,
   "metadata": {},
   "outputs": [
    {
     "data": {
      "text/plain": [
       "(15480, 8)"
      ]
     },
     "execution_count": 60,
     "metadata": {},
     "output_type": "execute_result"
    }
   ],
   "source": [
    "X_train_full.shape"
   ]
  },
  {
   "cell_type": "code",
   "execution_count": 61,
   "metadata": {},
   "outputs": [
    {
     "data": {
      "text/plain": [
       "(5160, 8)"
      ]
     },
     "execution_count": 61,
     "metadata": {},
     "output_type": "execute_result"
    }
   ],
   "source": [
    "X_test.shape"
   ]
  },
  {
   "cell_type": "code",
   "execution_count": 62,
   "metadata": {},
   "outputs": [],
   "source": [
    "# split full training set into training and validation set\n",
    "X_train, X_valid, y_train, y_valid = train_test_split(X_train_full,y_train_full) "
   ]
  },
  {
   "cell_type": "code",
   "execution_count": 63,
   "metadata": {},
   "outputs": [],
   "source": [
    "# Standardize datasets\n",
    "scaler = StandardScaler()\n",
    "X_train = scaler.fit_transform(X_train)\n",
    "X_valid = scaler.fit_transform(X_valid)\n",
    "X_test = scaler.fit_transform(X_test)"
   ]
  },
  {
   "cell_type": "code",
   "execution_count": 64,
   "metadata": {},
   "outputs": [],
   "source": [
    "import tensorflow as tf\n",
    "from keras.datasets import mnist\n",
    "from keras import models\n",
    "from keras import layers\n",
    "from keras.models import Sequential"
   ]
  },
  {
   "cell_type": "markdown",
   "metadata": {},
   "source": [
    "###  Create and Train a Model"
   ]
  },
  {
   "cell_type": "code",
   "execution_count": 65,
   "metadata": {},
   "outputs": [],
   "source": [
    "# Create a model\n",
    "model = Sequential([\n",
    "    layers.Dense(32,activation = \"relu\",input_shape= X_train.shape[1:]),\n",
    "    layers.Dense(32,activation = \"relu\"),\n",
    "    layers.Dense(32,activation = \"relu\"),\n",
    "    layers.Dense(10,activation = \"relu\"),\n",
    "    layers.Dense(1)])\n",
    "\n",
    " # regression uses no activation function; predicting only single value "
   ]
  },
  {
   "cell_type": "code",
   "execution_count": 66,
   "metadata": {},
   "outputs": [],
   "source": [
    "# Compile a model\n",
    "model.compile(loss=\"mse\",optimizer=\"sgd\",metrics = ['mae'])"
   ]
  },
  {
   "cell_type": "code",
   "execution_count": 67,
   "metadata": {},
   "outputs": [
    {
     "name": "stdout",
     "output_type": "stream",
     "text": [
      "_________________________________________________________________\n",
      "Layer (type)                 Output Shape              Param #   \n",
      "=================================================================\n",
      "dense_11 (Dense)             (None, 32)                288       \n",
      "_________________________________________________________________\n",
      "dense_12 (Dense)             (None, 32)                1056      \n",
      "_________________________________________________________________\n",
      "dense_13 (Dense)             (None, 32)                1056      \n",
      "_________________________________________________________________\n",
      "dense_14 (Dense)             (None, 10)                330       \n",
      "_________________________________________________________________\n",
      "dense_15 (Dense)             (None, 1)                 11        \n",
      "=================================================================\n",
      "Total params: 2,741\n",
      "Trainable params: 2,741\n",
      "Non-trainable params: 0\n",
      "_________________________________________________________________\n"
     ]
    }
   ],
   "source": [
    "model.summary()"
   ]
  },
  {
   "cell_type": "code",
   "execution_count": 68,
   "metadata": {},
   "outputs": [
    {
     "name": "stdout",
     "output_type": "stream",
     "text": [
      "Train on 11610 samples, validate on 3870 samples\n",
      "Epoch 1/20\n",
      "11610/11610 [==============================] - 1s 88us/step - loss: 0.8165 - mean_absolute_error: 0.6414 - val_loss: 0.4737 - val_mean_absolute_error: 0.5011\n",
      "Epoch 2/20\n",
      "11610/11610 [==============================] - 1s 58us/step - loss: 0.4474 - mean_absolute_error: 0.4784 - val_loss: 0.5023 - val_mean_absolute_error: 0.5080\n",
      "Epoch 3/20\n",
      "11610/11610 [==============================] - 1s 59us/step - loss: 0.4366 - mean_absolute_error: 0.4739 - val_loss: 0.4285 - val_mean_absolute_error: 0.4601\n",
      "Epoch 4/20\n",
      "11610/11610 [==============================] - 1s 60us/step - loss: 0.3990 - mean_absolute_error: 0.4528 - val_loss: 0.4174 - val_mean_absolute_error: 0.4572\n",
      "Epoch 5/20\n",
      "11610/11610 [==============================] - 1s 61us/step - loss: 0.3819 - mean_absolute_error: 0.4402 - val_loss: 0.4007 - val_mean_absolute_error: 0.4459\n",
      "Epoch 6/20\n",
      "11610/11610 [==============================] - 1s 60us/step - loss: 0.3600 - mean_absolute_error: 0.4293 - val_loss: 0.4029 - val_mean_absolute_error: 0.4391\n",
      "Epoch 7/20\n",
      "11610/11610 [==============================] - 1s 56us/step - loss: 0.3519 - mean_absolute_error: 0.4234 - val_loss: 0.3827 - val_mean_absolute_error: 0.4452\n",
      "Epoch 8/20\n",
      "11610/11610 [==============================] - 1s 56us/step - loss: 0.3447 - mean_absolute_error: 0.4178 - val_loss: 0.3801 - val_mean_absolute_error: 0.4408\n",
      "Epoch 9/20\n",
      "11610/11610 [==============================] - 1s 55us/step - loss: 0.3374 - mean_absolute_error: 0.4134 - val_loss: 0.3989 - val_mean_absolute_error: 0.4348\n",
      "Epoch 10/20\n",
      "11610/11610 [==============================] - 1s 56us/step - loss: 0.3306 - mean_absolute_error: 0.4078 - val_loss: 0.3685 - val_mean_absolute_error: 0.4249\n",
      "Epoch 11/20\n",
      "11610/11610 [==============================] - 1s 58us/step - loss: 0.3278 - mean_absolute_error: 0.4042 - val_loss: 0.3641 - val_mean_absolute_error: 0.4310\n",
      "Epoch 12/20\n",
      "11610/11610 [==============================] - 1s 56us/step - loss: 0.3232 - mean_absolute_error: 0.4017 - val_loss: 0.3582 - val_mean_absolute_error: 0.4221\n",
      "Epoch 13/20\n",
      "11610/11610 [==============================] - 1s 56us/step - loss: 0.3196 - mean_absolute_error: 0.3982 - val_loss: 0.3568 - val_mean_absolute_error: 0.4254\n",
      "Epoch 14/20\n",
      "11610/11610 [==============================] - 1s 57us/step - loss: 0.3147 - mean_absolute_error: 0.3949 - val_loss: 0.3645 - val_mean_absolute_error: 0.4146\n",
      "Epoch 15/20\n",
      "11610/11610 [==============================] - 1s 60us/step - loss: 0.3090 - mean_absolute_error: 0.3896 - val_loss: 0.3595 - val_mean_absolute_error: 0.4302\n",
      "Epoch 16/20\n",
      "11610/11610 [==============================] - 1s 59us/step - loss: 0.3075 - mean_absolute_error: 0.3900 - val_loss: 0.3706 - val_mean_absolute_error: 0.4147\n",
      "Epoch 17/20\n",
      "11610/11610 [==============================] - 1s 55us/step - loss: 0.3045 - mean_absolute_error: 0.3870 - val_loss: 0.3489 - val_mean_absolute_error: 0.4167\n",
      "Epoch 18/20\n",
      "11610/11610 [==============================] - 1s 54us/step - loss: 0.3003 - mean_absolute_error: 0.3838 - val_loss: 0.4197 - val_mean_absolute_error: 0.4250\n",
      "Epoch 19/20\n",
      "11610/11610 [==============================] - 1s 55us/step - loss: 0.2972 - mean_absolute_error: 0.3804 - val_loss: 0.3875 - val_mean_absolute_error: 0.4147\n",
      "Epoch 20/20\n",
      "11610/11610 [==============================] - 1s 54us/step - loss: 0.2978 - mean_absolute_error: 0.3799 - val_loss: 0.3576 - val_mean_absolute_error: 0.4031\n"
     ]
    }
   ],
   "source": [
    "history = model.fit(X_train, y_train, epochs= 20, batch_size = 32, validation_data = (X_valid,y_valid))"
   ]
  },
  {
   "cell_type": "markdown",
   "metadata": {},
   "source": [
    "### Test Model and Predictions"
   ]
  },
  {
   "cell_type": "code",
   "execution_count": 69,
   "metadata": {},
   "outputs": [
    {
     "name": "stdout",
     "output_type": "stream",
     "text": [
      "5160/5160 [==============================] - 0s 23us/step\n",
      "test_mae: 0.39407791994338814\n",
      "test_loss: 0.33058933412381847\n"
     ]
    }
   ],
   "source": [
    "test_loss, test_mae = model.evaluate(X_test, y_test) # metrics\n",
    "print('test_mae:', test_mae)\n",
    "print('test_loss:', test_loss)"
   ]
  },
  {
   "cell_type": "code",
   "execution_count": 70,
   "metadata": {},
   "outputs": [],
   "source": [
    "y_pred = model.predict(X_test) # print predicted labels for X_test"
   ]
  },
  {
   "cell_type": "markdown",
   "metadata": {},
   "source": [
    "### Evaluate Model Using Regression metrics such as: MSE, RMSE, & MAE"
   ]
  },
  {
   "cell_type": "code",
   "execution_count": 71,
   "metadata": {},
   "outputs": [],
   "source": [
    "from sklearn.metrics import mean_squared_error,roc_auc_score\n",
    "from sklearn.metrics import accuracy_score,confusion_matrix, mean_absolute_error  # compare predicted labels and true labels"
   ]
  },
  {
   "cell_type": "markdown",
   "metadata": {},
   "source": [
    "#### Mean Squared Error (MSE)"
   ]
  },
  {
   "cell_type": "code",
   "execution_count": 72,
   "metadata": {},
   "outputs": [
    {
     "name": "stdout",
     "output_type": "stream",
     "text": [
      "Mean Square Error: 0.331\n"
     ]
    }
   ],
   "source": [
    "#Mean square error is always positive and a value closer \n",
    "#to 0 or a lower value is better. Let’s see how this this is calculated;\n",
    "#The measure gives an idea of the magnitude of the error, \n",
    "#but no idea of the direction (e.g. over or under predicting).\n",
    "\n",
    "print('Mean Square Error:',round(mean_squared_error(y_pred,y_test),3))"
   ]
  },
  {
   "cell_type": "markdown",
   "metadata": {},
   "source": [
    "#### Root Mean Squared Error (RMSE)"
   ]
  },
  {
   "cell_type": "code",
   "execution_count": 73,
   "metadata": {},
   "outputs": [
    {
     "name": "stdout",
     "output_type": "stream",
     "text": [
      "Root Mean Square error: 0.575\n"
     ]
    }
   ],
   "source": [
    "#RMSE is the standard deviation of error (residual error). It indicates the spread of the residual errors. \n",
    "#It is always positive, and a lower value indicates better performance. \n",
    "#Ideal value would be 0 but it is never achieved.\n",
    "\n",
    "print('Root Mean Square error:',round(np.sqrt(mean_squared_error(y_test, y_pred)),3))"
   ]
  },
  {
   "cell_type": "markdown",
   "metadata": {},
   "source": [
    "#### Mean Absolute Error (MAE)"
   ]
  },
  {
   "cell_type": "code",
   "execution_count": 74,
   "metadata": {},
   "outputs": [
    {
     "name": "stdout",
     "output_type": "stream",
     "text": [
      "Mean Absolute error: 0.394\n"
     ]
    }
   ],
   "source": [
    "# MAE is the sum of absolute differences between actual \n",
    "# and predicted values. It only considers the magnitude of the error, \n",
    "# it doesn’t consider the direction, that is, positive or negative\n",
    "\n",
    "print('Mean Absolute error:',round(mean_absolute_error(y_test, y_pred),3))"
   ]
  },
  {
   "cell_type": "markdown",
   "metadata": {},
   "source": [
    "### Plot Learning Curves"
   ]
  },
  {
   "cell_type": "code",
   "execution_count": 75,
   "metadata": {},
   "outputs": [
    {
     "data": {
      "image/png": "[encoded data removed]",
      "text/plain": [
       "<Figure size 576x360 with 1 Axes>"
      ]
     },
     "metadata": {
      "needs_background": "light"
     },
     "output_type": "display_data"
    }
   ],
   "source": [
    "# Learning Curve Plot\n",
    "pd.DataFrame(history.history).plot(figsize=(8,5))\n",
    "plt.grid(True)\n",
    "plt.gca().set_ylim(0,1) # set vertical range to [0,-1]\n",
    "plt.show() "
   ]
  },
  {
   "cell_type": "markdown",
   "metadata": {},
   "source": [
    "For the best tuned model, I included more hidden layers with less amount of neurons. I then trained the network using a higher number of epochs and small batch size. The optimizer i used was sgd, it worked the best. The metrics I used were mean absolute error (MAE) and loss funcion mse (mean standard error) as this is a regression problem. No activiation function was used in the output layer because regression problems do not require it because no transformation of numerical value is necessary (linear activation). My error had significantly reduced after applying tuning my model in this manner."
   ]
  }
 ],
 "metadata": {
  "kernelspec": {
   "display_name": "Python 3.7 (tensorflow)",
   "language": "python",
   "name": "tensorflow"
  },
  "language_info": {
   "codemirror_mode": {
    "name": "ipython",
    "version": 3
   },
   "file_extension": ".py",
   "mimetype": "text/x-python",
   "name": "python",
   "nbconvert_exporter": "python",
   "pygments_lexer": "ipython3",
   "version": "3.5.6"
  }
 },
 "nbformat": 4,
 "nbformat_minor": 4
}
