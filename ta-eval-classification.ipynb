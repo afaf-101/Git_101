{
 "cells": [
  {
   "cell_type": "markdown",
   "id": "planned-partnership",
   "metadata": {
    "papermill": {
     "duration": 0.033032,
     "end_time": "2021-06-26T20:34:11.896595",
     "exception": false,
     "start_time": "2021-06-26T20:34:11.863563",
     "status": "completed"
    },
    "tags": []
   },
   "source": [
    "# Teaching Assistant Evaluations"
   ]
  },
  {
   "cell_type": "markdown",
   "id": "banned-collect",
   "metadata": {
    "papermill": {
     "duration": 0.031499,
     "end_time": "2021-06-26T20:34:11.963240",
     "exception": false,
     "start_time": "2021-06-26T20:34:11.931741",
     "status": "completed"
    },
    "tags": []
   },
   "source": [
    "Title: Teaching Assistant Evaluation\n",
    "\n",
    "1. Sources:\n",
    "   (a) Collector: Wei-Yin Loh (Department of Statistics, UW-Madison)\n",
    "   (b) Donor:     Tjen-Sien Lim (limt@stat.wisc.edu)\n",
    "   (b) Date:      June 7, 1997\n",
    "\n",
    "2. Past Usage:\n",
    "   1. Loh, W.-Y. & Shih, Y.-S. (1997). Split Selection Methods for \n",
    "      Classification Trees, Statistica Sinica 7: 815-840.\n",
    "   2. Lim, T.-S., Loh, W.-Y. & Shih, Y.-S. (1999). A Comparison of\n",
    "      Prediction Accuracy, Complexity, and Training Time of\n",
    "      Thirty-three Old and New Classification Algorithms. Machine\n",
    "      Learning. Forthcoming.\n",
    "      (ftp://ftp.stat.wisc.edu/pub/loh/treeprogs/quest1.7/mach1317.pdf or\n",
    "      (http://www.stat.wisc.edu/~limt/mach1317.pdf)\n",
    "\n",
    "3. Relevant Information:\n",
    "   The data consist of evaluations of teaching performance over three\n",
    "   regular semesters and two summer semesters of 151 teaching assistant\n",
    "   (TA) assignments at the Statistics Department of the University of\n",
    "   Wisconsin-Madison. The scores were divided into 3 roughly equal-sized\n",
    "   categories (\"low\", \"medium\", and \"high\") to form the class variable.\n",
    "\n",
    "4. Number of Instances: 151\n",
    "\n",
    "5. Number of Attributes: 6 (including the class attribute)\n",
    "\n",
    "6. Attribute Information:\n",
    "  \n",
    "   1. Whether of not the TA is a native English speaker (binary)\n",
    "      1=English speaker, 2=non-English speaker\n",
    "   2. Course instructor (categorical, 25 categories)\n",
    "   3. Course (categorical, 26 categories)\n",
    "   4. Summer or regular semester (binary) 1=Summer, 2=Regular\n",
    "   5. Class size (numerical)\n",
    "   6. Class attribute (categorical) 1=Low, 2=Medium, 3=High\n",
    "\n",
    "7. Missing Attribute Values: None\n"
   ]
  },
  {
   "cell_type": "markdown",
   "id": "complicated-roller",
   "metadata": {
    "papermill": {
     "duration": 0.030439,
     "end_time": "2021-06-26T20:34:12.024653",
     "exception": false,
     "start_time": "2021-06-26T20:34:11.994214",
     "status": "completed"
    },
    "tags": []
   },
   "source": [
    "## Introduction"
   ]
  },
  {
   "cell_type": "markdown",
   "id": "rural-organizer",
   "metadata": {
    "papermill": {
     "duration": 0.03046,
     "end_time": "2021-06-26T20:34:12.087036",
     "exception": false,
     "start_time": "2021-06-26T20:34:12.056576",
     "status": "completed"
    },
    "tags": []
   },
   "source": [
    "We'd like to evaluate--predict the score a teaching assistant(TA) receives--based on attributes such as whether the TA is a native English Speaker or not, the instructor the TA works with, the course the TA teaches, the semester in which the TA teaches, and the class size in which the TA is a part of. So, given these attributes, how well can our model evaluate a TA?"
   ]
  },
  {
   "cell_type": "markdown",
   "id": "native-merchant",
   "metadata": {
    "papermill": {
     "duration": 0.03034,
     "end_time": "2021-06-26T20:34:12.148454",
     "exception": false,
     "start_time": "2021-06-26T20:34:12.118114",
     "status": "completed"
    },
    "tags": []
   },
   "source": [
    "## Import Data"
   ]
  },
  {
   "cell_type": "code",
   "execution_count": 1,
   "id": "focal-karma",
   "metadata": {
    "execution": {
     "iopub.execute_input": "2021-06-26T20:34:12.214479Z",
     "iopub.status.busy": "2021-06-26T20:34:12.213293Z",
     "iopub.status.idle": "2021-06-26T20:34:12.218650Z",
     "shell.execute_reply": "2021-06-26T20:34:12.217944Z",
     "shell.execute_reply.started": "2021-06-26T20:29:53.187354Z"
    },
    "papermill": {
     "duration": 0.039697,
     "end_time": "2021-06-26T20:34:12.218826",
     "exception": false,
     "start_time": "2021-06-26T20:34:12.179129",
     "status": "completed"
    },
    "tags": []
   },
   "outputs": [],
   "source": [
    "import pandas as pd #import pandas"
   ]
  },
  {
   "cell_type": "code",
   "execution_count": 2,
   "id": "professional-princess",
   "metadata": {
    "execution": {
     "iopub.execute_input": "2021-06-26T20:34:12.287716Z",
     "iopub.status.busy": "2021-06-26T20:34:12.286933Z",
     "iopub.status.idle": "2021-06-26T20:34:12.304929Z",
     "shell.execute_reply": "2021-06-26T20:34:12.304212Z",
     "shell.execute_reply.started": "2021-06-26T20:29:53.194449Z"
    },
    "papermill": {
     "duration": 0.054123,
     "end_time": "2021-06-26T20:34:12.305117",
     "exception": false,
     "start_time": "2021-06-26T20:34:12.250994",
     "status": "completed"
    },
    "tags": []
   },
   "outputs": [],
   "source": [
    "ta = pd.read_csv('../input/ta-eval/TA_evaluation.data') #Read csv file"
   ]
  },
  {
   "cell_type": "code",
   "execution_count": 3,
   "id": "hawaiian-schema",
   "metadata": {
    "execution": {
     "iopub.execute_input": "2021-06-26T20:34:12.379979Z",
     "iopub.status.busy": "2021-06-26T20:34:12.379312Z",
     "iopub.status.idle": "2021-06-26T20:34:12.400047Z",
     "shell.execute_reply": "2021-06-26T20:34:12.399404Z",
     "shell.execute_reply.started": "2021-06-26T20:29:53.219347Z"
    },
    "papermill": {
     "duration": 0.064486,
     "end_time": "2021-06-26T20:34:12.400207",
     "exception": false,
     "start_time": "2021-06-26T20:34:12.335721",
     "status": "completed"
    },
    "tags": []
   },
   "outputs": [
    {
     "data": {
      "text/html": [
       "<div>\n",
       "<style scoped>\n",
       "    .dataframe tbody tr th:only-of-type {\n",
       "        vertical-align: middle;\n",
       "    }\n",
       "\n",
       "    .dataframe tbody tr th {\n",
       "        vertical-align: top;\n",
       "    }\n",
       "\n",
       "    .dataframe thead th {\n",
       "        text-align: right;\n",
       "    }\n",
       "</style>\n",
       "<table border=\"1\" class=\"dataframe\">\n",
       "  <thead>\n",
       "    <tr style=\"text-align: right;\">\n",
       "      <th></th>\n",
       "      <th>1</th>\n",
       "      <th>23</th>\n",
       "      <th>3</th>\n",
       "      <th>1.1</th>\n",
       "      <th>19</th>\n",
       "      <th>3.1</th>\n",
       "    </tr>\n",
       "  </thead>\n",
       "  <tbody>\n",
       "    <tr>\n",
       "      <th>0</th>\n",
       "      <td>2</td>\n",
       "      <td>15</td>\n",
       "      <td>3</td>\n",
       "      <td>1</td>\n",
       "      <td>17</td>\n",
       "      <td>3</td>\n",
       "    </tr>\n",
       "    <tr>\n",
       "      <th>1</th>\n",
       "      <td>1</td>\n",
       "      <td>23</td>\n",
       "      <td>3</td>\n",
       "      <td>2</td>\n",
       "      <td>49</td>\n",
       "      <td>3</td>\n",
       "    </tr>\n",
       "    <tr>\n",
       "      <th>2</th>\n",
       "      <td>1</td>\n",
       "      <td>5</td>\n",
       "      <td>2</td>\n",
       "      <td>2</td>\n",
       "      <td>33</td>\n",
       "      <td>3</td>\n",
       "    </tr>\n",
       "    <tr>\n",
       "      <th>3</th>\n",
       "      <td>2</td>\n",
       "      <td>7</td>\n",
       "      <td>11</td>\n",
       "      <td>2</td>\n",
       "      <td>55</td>\n",
       "      <td>3</td>\n",
       "    </tr>\n",
       "    <tr>\n",
       "      <th>4</th>\n",
       "      <td>2</td>\n",
       "      <td>23</td>\n",
       "      <td>3</td>\n",
       "      <td>1</td>\n",
       "      <td>20</td>\n",
       "      <td>3</td>\n",
       "    </tr>\n",
       "  </tbody>\n",
       "</table>\n",
       "</div>"
      ],
      "text/plain": [
       "   1  23   3  1.1  19  3.1\n",
       "0  2  15   3    1  17    3\n",
       "1  1  23   3    2  49    3\n",
       "2  1   5   2    2  33    3\n",
       "3  2   7  11    2  55    3\n",
       "4  2  23   3    1  20    3"
      ]
     },
     "execution_count": 3,
     "metadata": {},
     "output_type": "execute_result"
    }
   ],
   "source": [
    "ta.head()"
   ]
  },
  {
   "cell_type": "markdown",
   "id": "convenient-violation",
   "metadata": {
    "papermill": {
     "duration": 0.031134,
     "end_time": "2021-06-26T20:34:12.462777",
     "exception": false,
     "start_time": "2021-06-26T20:34:12.431643",
     "status": "completed"
    },
    "tags": []
   },
   "source": [
    "## Clean Data"
   ]
  },
  {
   "cell_type": "code",
   "execution_count": 4,
   "id": "sacred-compact",
   "metadata": {
    "execution": {
     "iopub.execute_input": "2021-06-26T20:34:12.532557Z",
     "iopub.status.busy": "2021-06-26T20:34:12.531683Z",
     "iopub.status.idle": "2021-06-26T20:34:12.537391Z",
     "shell.execute_reply": "2021-06-26T20:34:12.536728Z",
     "shell.execute_reply.started": "2021-06-26T20:29:53.244646Z"
    },
    "papermill": {
     "duration": 0.043129,
     "end_time": "2021-06-26T20:34:12.537534",
     "exception": false,
     "start_time": "2021-06-26T20:34:12.494405",
     "status": "completed"
    },
    "tags": []
   },
   "outputs": [
    {
     "data": {
      "text/plain": [
       "Index(['1', '23', '3', '1.1', '19', '3.1'], dtype='object')"
      ]
     },
     "execution_count": 4,
     "metadata": {},
     "output_type": "execute_result"
    }
   ],
   "source": [
    "ta.columns"
   ]
  },
  {
   "cell_type": "code",
   "execution_count": 5,
   "id": "respiratory-consensus",
   "metadata": {
    "execution": {
     "iopub.execute_input": "2021-06-26T20:34:12.606312Z",
     "iopub.status.busy": "2021-06-26T20:34:12.605554Z",
     "iopub.status.idle": "2021-06-26T20:34:12.609580Z",
     "shell.execute_reply": "2021-06-26T20:34:12.608828Z",
     "shell.execute_reply.started": "2021-06-26T20:29:53.254703Z"
    },
    "papermill": {
     "duration": 0.041211,
     "end_time": "2021-06-26T20:34:12.609756",
     "exception": false,
     "start_time": "2021-06-26T20:34:12.568545",
     "status": "completed"
    },
    "tags": []
   },
   "outputs": [],
   "source": [
    "ta.columns = ['English Speaker', 'Instructor', 'Course','Semester','Class Size','Scores']\n",
    "# Cleaned the data by changing column names"
   ]
  },
  {
   "cell_type": "code",
   "execution_count": 6,
   "id": "complete-cookbook",
   "metadata": {
    "execution": {
     "iopub.execute_input": "2021-06-26T20:34:12.684070Z",
     "iopub.status.busy": "2021-06-26T20:34:12.683303Z",
     "iopub.status.idle": "2021-06-26T20:34:12.687959Z",
     "shell.execute_reply": "2021-06-26T20:34:12.687409Z",
     "shell.execute_reply.started": "2021-06-26T20:29:53.263074Z"
    },
    "papermill": {
     "duration": 0.046287,
     "end_time": "2021-06-26T20:34:12.688125",
     "exception": false,
     "start_time": "2021-06-26T20:34:12.641838",
     "status": "completed"
    },
    "tags": []
   },
   "outputs": [
    {
     "data": {
      "text/html": [
       "<div>\n",
       "<style scoped>\n",
       "    .dataframe tbody tr th:only-of-type {\n",
       "        vertical-align: middle;\n",
       "    }\n",
       "\n",
       "    .dataframe tbody tr th {\n",
       "        vertical-align: top;\n",
       "    }\n",
       "\n",
       "    .dataframe thead th {\n",
       "        text-align: right;\n",
       "    }\n",
       "</style>\n",
       "<table border=\"1\" class=\"dataframe\">\n",
       "  <thead>\n",
       "    <tr style=\"text-align: right;\">\n",
       "      <th></th>\n",
       "      <th>English Speaker</th>\n",
       "      <th>Instructor</th>\n",
       "      <th>Course</th>\n",
       "      <th>Semester</th>\n",
       "      <th>Class Size</th>\n",
       "      <th>Scores</th>\n",
       "    </tr>\n",
       "  </thead>\n",
       "  <tbody>\n",
       "    <tr>\n",
       "      <th>0</th>\n",
       "      <td>2</td>\n",
       "      <td>15</td>\n",
       "      <td>3</td>\n",
       "      <td>1</td>\n",
       "      <td>17</td>\n",
       "      <td>3</td>\n",
       "    </tr>\n",
       "    <tr>\n",
       "      <th>1</th>\n",
       "      <td>1</td>\n",
       "      <td>23</td>\n",
       "      <td>3</td>\n",
       "      <td>2</td>\n",
       "      <td>49</td>\n",
       "      <td>3</td>\n",
       "    </tr>\n",
       "    <tr>\n",
       "      <th>2</th>\n",
       "      <td>1</td>\n",
       "      <td>5</td>\n",
       "      <td>2</td>\n",
       "      <td>2</td>\n",
       "      <td>33</td>\n",
       "      <td>3</td>\n",
       "    </tr>\n",
       "    <tr>\n",
       "      <th>3</th>\n",
       "      <td>2</td>\n",
       "      <td>7</td>\n",
       "      <td>11</td>\n",
       "      <td>2</td>\n",
       "      <td>55</td>\n",
       "      <td>3</td>\n",
       "    </tr>\n",
       "    <tr>\n",
       "      <th>4</th>\n",
       "      <td>2</td>\n",
       "      <td>23</td>\n",
       "      <td>3</td>\n",
       "      <td>1</td>\n",
       "      <td>20</td>\n",
       "      <td>3</td>\n",
       "    </tr>\n",
       "  </tbody>\n",
       "</table>\n",
       "</div>"
      ],
      "text/plain": [
       "   English Speaker  Instructor  Course  Semester  Class Size  Scores\n",
       "0                2          15       3         1          17       3\n",
       "1                1          23       3         2          49       3\n",
       "2                1           5       2         2          33       3\n",
       "3                2           7      11         2          55       3\n",
       "4                2          23       3         1          20       3"
      ]
     },
     "execution_count": 6,
     "metadata": {},
     "output_type": "execute_result"
    }
   ],
   "source": [
    "ta.head()"
   ]
  },
  {
   "cell_type": "code",
   "execution_count": 7,
   "id": "current-generic",
   "metadata": {
    "execution": {
     "iopub.execute_input": "2021-06-26T20:34:12.762364Z",
     "iopub.status.busy": "2021-06-26T20:34:12.761490Z",
     "iopub.status.idle": "2021-06-26T20:34:12.765803Z",
     "shell.execute_reply": "2021-06-26T20:34:12.765238Z",
     "shell.execute_reply.started": "2021-06-26T20:29:53.277853Z"
    },
    "papermill": {
     "duration": 0.045812,
     "end_time": "2021-06-26T20:34:12.765969",
     "exception": false,
     "start_time": "2021-06-26T20:34:12.720157",
     "status": "completed"
    },
    "tags": []
   },
   "outputs": [
    {
     "data": {
      "text/html": [
       "<div>\n",
       "<style scoped>\n",
       "    .dataframe tbody tr th:only-of-type {\n",
       "        vertical-align: middle;\n",
       "    }\n",
       "\n",
       "    .dataframe tbody tr th {\n",
       "        vertical-align: top;\n",
       "    }\n",
       "\n",
       "    .dataframe thead th {\n",
       "        text-align: right;\n",
       "    }\n",
       "</style>\n",
       "<table border=\"1\" class=\"dataframe\">\n",
       "  <thead>\n",
       "    <tr style=\"text-align: right;\">\n",
       "      <th></th>\n",
       "      <th>English Speaker</th>\n",
       "      <th>Instructor</th>\n",
       "      <th>Course</th>\n",
       "      <th>Semester</th>\n",
       "      <th>Class Size</th>\n",
       "      <th>Scores</th>\n",
       "    </tr>\n",
       "  </thead>\n",
       "  <tbody>\n",
       "    <tr>\n",
       "      <th>145</th>\n",
       "      <td>2</td>\n",
       "      <td>3</td>\n",
       "      <td>2</td>\n",
       "      <td>2</td>\n",
       "      <td>26</td>\n",
       "      <td>1</td>\n",
       "    </tr>\n",
       "    <tr>\n",
       "      <th>146</th>\n",
       "      <td>2</td>\n",
       "      <td>10</td>\n",
       "      <td>3</td>\n",
       "      <td>2</td>\n",
       "      <td>12</td>\n",
       "      <td>1</td>\n",
       "    </tr>\n",
       "    <tr>\n",
       "      <th>147</th>\n",
       "      <td>1</td>\n",
       "      <td>18</td>\n",
       "      <td>7</td>\n",
       "      <td>2</td>\n",
       "      <td>48</td>\n",
       "      <td>1</td>\n",
       "    </tr>\n",
       "    <tr>\n",
       "      <th>148</th>\n",
       "      <td>2</td>\n",
       "      <td>22</td>\n",
       "      <td>1</td>\n",
       "      <td>2</td>\n",
       "      <td>51</td>\n",
       "      <td>1</td>\n",
       "    </tr>\n",
       "    <tr>\n",
       "      <th>149</th>\n",
       "      <td>2</td>\n",
       "      <td>2</td>\n",
       "      <td>10</td>\n",
       "      <td>2</td>\n",
       "      <td>27</td>\n",
       "      <td>1</td>\n",
       "    </tr>\n",
       "  </tbody>\n",
       "</table>\n",
       "</div>"
      ],
      "text/plain": [
       "     English Speaker  Instructor  Course  Semester  Class Size  Scores\n",
       "145                2           3       2         2          26       1\n",
       "146                2          10       3         2          12       1\n",
       "147                1          18       7         2          48       1\n",
       "148                2          22       1         2          51       1\n",
       "149                2           2      10         2          27       1"
      ]
     },
     "execution_count": 7,
     "metadata": {},
     "output_type": "execute_result"
    }
   ],
   "source": [
    "ta.tail()"
   ]
  },
  {
   "cell_type": "markdown",
   "id": "irish-school",
   "metadata": {
    "papermill": {
     "duration": 0.040732,
     "end_time": "2021-06-26T20:34:12.841348",
     "exception": false,
     "start_time": "2021-06-26T20:34:12.800616",
     "status": "completed"
    },
    "tags": []
   },
   "source": [
    "## Explore"
   ]
  },
  {
   "cell_type": "code",
   "execution_count": 8,
   "id": "specialized-anthony",
   "metadata": {
    "execution": {
     "iopub.execute_input": "2021-06-26T20:34:12.928752Z",
     "iopub.status.busy": "2021-06-26T20:34:12.928021Z",
     "iopub.status.idle": "2021-06-26T20:34:12.960226Z",
     "shell.execute_reply": "2021-06-26T20:34:12.959425Z",
     "shell.execute_reply.started": "2021-06-26T20:29:53.293314Z"
    },
    "papermill": {
     "duration": 0.07739,
     "end_time": "2021-06-26T20:34:12.960385",
     "exception": false,
     "start_time": "2021-06-26T20:34:12.882995",
     "status": "completed"
    },
    "tags": []
   },
   "outputs": [
    {
     "data": {
      "text/html": [
       "<div>\n",
       "<style scoped>\n",
       "    .dataframe tbody tr th:only-of-type {\n",
       "        vertical-align: middle;\n",
       "    }\n",
       "\n",
       "    .dataframe tbody tr th {\n",
       "        vertical-align: top;\n",
       "    }\n",
       "\n",
       "    .dataframe thead th {\n",
       "        text-align: right;\n",
       "    }\n",
       "</style>\n",
       "<table border=\"1\" class=\"dataframe\">\n",
       "  <thead>\n",
       "    <tr style=\"text-align: right;\">\n",
       "      <th></th>\n",
       "      <th>English Speaker</th>\n",
       "      <th>Instructor</th>\n",
       "      <th>Course</th>\n",
       "      <th>Semester</th>\n",
       "      <th>Class Size</th>\n",
       "      <th>Scores</th>\n",
       "    </tr>\n",
       "  </thead>\n",
       "  <tbody>\n",
       "    <tr>\n",
       "      <th>count</th>\n",
       "      <td>150.00</td>\n",
       "      <td>150.00</td>\n",
       "      <td>150.00</td>\n",
       "      <td>150.00</td>\n",
       "      <td>150.00</td>\n",
       "      <td>150.00</td>\n",
       "    </tr>\n",
       "    <tr>\n",
       "      <th>mean</th>\n",
       "      <td>1.81</td>\n",
       "      <td>13.58</td>\n",
       "      <td>8.14</td>\n",
       "      <td>1.85</td>\n",
       "      <td>27.93</td>\n",
       "      <td>2.01</td>\n",
       "    </tr>\n",
       "    <tr>\n",
       "      <th>std</th>\n",
       "      <td>0.39</td>\n",
       "      <td>6.81</td>\n",
       "      <td>7.03</td>\n",
       "      <td>0.35</td>\n",
       "      <td>12.92</td>\n",
       "      <td>0.82</td>\n",
       "    </tr>\n",
       "    <tr>\n",
       "      <th>min</th>\n",
       "      <td>1.00</td>\n",
       "      <td>1.00</td>\n",
       "      <td>1.00</td>\n",
       "      <td>1.00</td>\n",
       "      <td>3.00</td>\n",
       "      <td>1.00</td>\n",
       "    </tr>\n",
       "    <tr>\n",
       "      <th>25%</th>\n",
       "      <td>2.00</td>\n",
       "      <td>8.00</td>\n",
       "      <td>3.00</td>\n",
       "      <td>2.00</td>\n",
       "      <td>19.00</td>\n",
       "      <td>1.00</td>\n",
       "    </tr>\n",
       "    <tr>\n",
       "      <th>50%</th>\n",
       "      <td>2.00</td>\n",
       "      <td>13.00</td>\n",
       "      <td>4.50</td>\n",
       "      <td>2.00</td>\n",
       "      <td>27.00</td>\n",
       "      <td>2.00</td>\n",
       "    </tr>\n",
       "    <tr>\n",
       "      <th>75%</th>\n",
       "      <td>2.00</td>\n",
       "      <td>20.00</td>\n",
       "      <td>15.00</td>\n",
       "      <td>2.00</td>\n",
       "      <td>37.00</td>\n",
       "      <td>3.00</td>\n",
       "    </tr>\n",
       "    <tr>\n",
       "      <th>max</th>\n",
       "      <td>2.00</td>\n",
       "      <td>25.00</td>\n",
       "      <td>26.00</td>\n",
       "      <td>2.00</td>\n",
       "      <td>66.00</td>\n",
       "      <td>3.00</td>\n",
       "    </tr>\n",
       "  </tbody>\n",
       "</table>\n",
       "</div>"
      ],
      "text/plain": [
       "       English Speaker  Instructor  Course  Semester  Class Size  Scores\n",
       "count           150.00      150.00  150.00    150.00      150.00  150.00\n",
       "mean              1.81       13.58    8.14      1.85       27.93    2.01\n",
       "std               0.39        6.81    7.03      0.35       12.92    0.82\n",
       "min               1.00        1.00    1.00      1.00        3.00    1.00\n",
       "25%               2.00        8.00    3.00      2.00       19.00    1.00\n",
       "50%               2.00       13.00    4.50      2.00       27.00    2.00\n",
       "75%               2.00       20.00   15.00      2.00       37.00    3.00\n",
       "max               2.00       25.00   26.00      2.00       66.00    3.00"
      ]
     },
     "execution_count": 8,
     "metadata": {},
     "output_type": "execute_result"
    }
   ],
   "source": [
    "round(ta.describe(),2) # provides stats on each numerical column values."
   ]
  },
  {
   "cell_type": "code",
   "execution_count": 9,
   "id": "intensive-marble",
   "metadata": {
    "execution": {
     "iopub.execute_input": "2021-06-26T20:34:13.033173Z",
     "iopub.status.busy": "2021-06-26T20:34:13.032429Z",
     "iopub.status.idle": "2021-06-26T20:34:13.036602Z",
     "shell.execute_reply": "2021-06-26T20:34:13.035909Z",
     "shell.execute_reply.started": "2021-06-26T20:29:53.327749Z"
    },
    "papermill": {
     "duration": 0.042872,
     "end_time": "2021-06-26T20:34:13.036750",
     "exception": false,
     "start_time": "2021-06-26T20:34:12.993878",
     "status": "completed"
    },
    "tags": []
   },
   "outputs": [
    {
     "data": {
      "text/plain": [
       "Index(['English Speaker', 'Instructor', 'Course', 'Semester', 'Class Size',\n",
       "       'Scores'],\n",
       "      dtype='object')"
      ]
     },
     "execution_count": 9,
     "metadata": {},
     "output_type": "execute_result"
    }
   ],
   "source": [
    "ta.columns # newly renamed column names"
   ]
  },
  {
   "cell_type": "code",
   "execution_count": 10,
   "id": "unexpected-planner",
   "metadata": {
    "execution": {
     "iopub.execute_input": "2021-06-26T20:34:13.107995Z",
     "iopub.status.busy": "2021-06-26T20:34:13.107342Z",
     "iopub.status.idle": "2021-06-26T20:34:13.110928Z",
     "shell.execute_reply": "2021-06-26T20:34:13.110325Z",
     "shell.execute_reply.started": "2021-06-26T20:29:53.333769Z"
    },
    "papermill": {
     "duration": 0.040798,
     "end_time": "2021-06-26T20:34:13.111065",
     "exception": false,
     "start_time": "2021-06-26T20:34:13.070267",
     "status": "completed"
    },
    "tags": []
   },
   "outputs": [
    {
     "name": "stdout",
     "output_type": "stream",
     "text": [
      "Data shape = (150, 6)\n"
     ]
    }
   ],
   "source": [
    "print(f'Data shape = {ta.shape}') # 150 records and 6 columns/attributes."
   ]
  },
  {
   "cell_type": "code",
   "execution_count": 11,
   "id": "ordinary-transsexual",
   "metadata": {
    "execution": {
     "iopub.execute_input": "2021-06-26T20:34:13.183606Z",
     "iopub.status.busy": "2021-06-26T20:34:13.182809Z",
     "iopub.status.idle": "2021-06-26T20:34:13.186669Z",
     "shell.execute_reply": "2021-06-26T20:34:13.185949Z",
     "shell.execute_reply.started": "2021-06-26T20:29:53.343443Z"
    },
    "papermill": {
     "duration": 0.042314,
     "end_time": "2021-06-26T20:34:13.186865",
     "exception": false,
     "start_time": "2021-06-26T20:34:13.144551",
     "status": "completed"
    },
    "tags": []
   },
   "outputs": [
    {
     "name": "stdout",
     "output_type": "stream",
     "text": [
      "Data shape = (150,)\n"
     ]
    }
   ],
   "source": [
    "print(f'Data shape = {ta.Scores.shape}') # Target variable shape"
   ]
  },
  {
   "cell_type": "code",
   "execution_count": 12,
   "id": "similar-ebony",
   "metadata": {
    "execution": {
     "iopub.execute_input": "2021-06-26T20:34:13.264378Z",
     "iopub.status.busy": "2021-06-26T20:34:13.263312Z",
     "iopub.status.idle": "2021-06-26T20:34:13.268391Z",
     "shell.execute_reply": "2021-06-26T20:34:13.268937Z",
     "shell.execute_reply.started": "2021-06-26T20:29:53.351761Z"
    },
    "papermill": {
     "duration": 0.046887,
     "end_time": "2021-06-26T20:34:13.269152",
     "exception": false,
     "start_time": "2021-06-26T20:34:13.222265",
     "status": "completed"
    },
    "scrolled": true,
    "tags": []
   },
   "outputs": [
    {
     "name": "stdout",
     "output_type": "stream",
     "text": [
      "\n",
      "One-dimensional array representation for Scikit-Learn:\n",
      "ta.columns= \n",
      "Index(['English Speaker', 'Instructor', 'Course', 'Semester', 'Class Size',\n",
      "       'Scores'],\n",
      "      dtype='object')\n",
      "\n",
      "Some target values:\n",
      "ta.Scores[::35] =\n"
     ]
    },
    {
     "data": {
      "text/plain": [
       "0      3\n",
       "35     1\n",
       "70     1\n",
       "105    2\n",
       "140    1\n",
       "Name: Scores, dtype: int64"
      ]
     },
     "execution_count": 12,
     "metadata": {},
     "output_type": "execute_result"
    }
   ],
   "source": [
    "print()\n",
    "print('One-dimensional array representation for Scikit-Learn:')\n",
    "print(f'ta.columns= ')\n",
    "print(ta.columns)\n",
    "\n",
    "print()\n",
    "print('Some target values:')\n",
    "print(f'ta.Scores[::35] =') \n",
    "ta.Scores[::35]"
   ]
  },
  {
   "cell_type": "markdown",
   "id": "beginning-vertex",
   "metadata": {
    "papermill": {
     "duration": 0.034011,
     "end_time": "2021-06-26T20:34:13.337916",
     "exception": false,
     "start_time": "2021-06-26T20:34:13.303905",
     "status": "completed"
    },
    "tags": []
   },
   "source": [
    "## Visualize the data"
   ]
  },
  {
   "cell_type": "markdown",
   "id": "colonial-prevention",
   "metadata": {
    "papermill": {
     "duration": 0.035235,
     "end_time": "2021-06-26T20:34:13.408364",
     "exception": false,
     "start_time": "2021-06-26T20:34:13.373129",
     "status": "completed"
    },
    "tags": []
   },
   "source": [
    "### Scores Based on Whether TA was a Native English Speaker or Not"
   ]
  },
  {
   "cell_type": "code",
   "execution_count": 13,
   "id": "adapted-coverage",
   "metadata": {
    "execution": {
     "iopub.execute_input": "2021-06-26T20:34:13.486724Z",
     "iopub.status.busy": "2021-06-26T20:34:13.486013Z",
     "iopub.status.idle": "2021-06-26T20:34:14.867276Z",
     "shell.execute_reply": "2021-06-26T20:34:14.866504Z",
     "shell.execute_reply.started": "2021-06-26T20:29:53.364082Z"
    },
    "papermill": {
     "duration": 1.424484,
     "end_time": "2021-06-26T20:34:14.867438",
     "exception": false,
     "start_time": "2021-06-26T20:34:13.442954",
     "status": "completed"
    },
    "tags": []
   },
   "outputs": [
    {
     "data": {
      "text/plain": [
       "<AxesSubplot:xlabel='English Speaker', ylabel='Scores'>"
      ]
     },
     "execution_count": 13,
     "metadata": {},
     "output_type": "execute_result"
    },
    {
     "data": {
      "image/png": "[encoded data removed]",
      "text/plain": [
       "<Figure size 432x288 with 1 Axes>"
      ]
     },
     "metadata": {},
     "output_type": "display_data"
    }
   ],
   "source": [
    "%matplotlib inline\n",
    "import matplotlib.pyplot as plt \n",
    "\n",
    "import seaborn as sns\n",
    "\n",
    "\n",
    "sns.set(font_scale=1)\n",
    "sns.set_style('whitegrid')\n",
    "sns.barplot(data=ta,x='English Speaker',y='Scores')"
   ]
  },
  {
   "cell_type": "markdown",
   "id": "handy-barrel",
   "metadata": {
    "papermill": {
     "duration": 0.035261,
     "end_time": "2021-06-26T20:34:14.938969",
     "exception": false,
     "start_time": "2021-06-26T20:34:14.903708",
     "status": "completed"
    },
    "tags": []
   },
   "source": [
    "### Scores given to each TA based on the Instructor of the course "
   ]
  },
  {
   "cell_type": "code",
   "execution_count": 14,
   "id": "basic-messaging",
   "metadata": {
    "execution": {
     "iopub.execute_input": "2021-06-26T20:34:15.015361Z",
     "iopub.status.busy": "2021-06-26T20:34:15.014014Z",
     "iopub.status.idle": "2021-06-26T20:34:16.186561Z",
     "shell.execute_reply": "2021-06-26T20:34:16.187027Z",
     "shell.execute_reply.started": "2021-06-26T20:29:54.365383Z"
    },
    "papermill": {
     "duration": 1.212718,
     "end_time": "2021-06-26T20:34:16.187268",
     "exception": false,
     "start_time": "2021-06-26T20:34:14.974550",
     "status": "completed"
    },
    "tags": []
   },
   "outputs": [
    {
     "data": {
      "text/plain": [
       "<AxesSubplot:xlabel='Instructor', ylabel='Scores'>"
      ]
     },
     "execution_count": 14,
     "metadata": {},
     "output_type": "execute_result"
    },
    {
     "data": {
      "image/png": "[encoded data removed]",
      "text/plain": [
       "<Figure size 1080x648 with 1 Axes>"
      ]
     },
     "metadata": {},
     "output_type": "display_data"
    }
   ],
   "source": [
    "#We set the font, style, and then display the barchart \n",
    "sns.set(font_scale=1)\n",
    "sns.set_style('whitegrid')\n",
    "plt.figure(figsize=(15, 9))\n",
    "sns.barplot(data=ta,x='Instructor',y='Scores')"
   ]
  },
  {
   "cell_type": "markdown",
   "id": "invalid-valentine",
   "metadata": {
    "papermill": {
     "duration": 0.036564,
     "end_time": "2021-06-26T20:34:16.261382",
     "exception": false,
     "start_time": "2021-06-26T20:34:16.224818",
     "status": "completed"
    },
    "tags": []
   },
   "source": [
    "### Scores given for each Course"
   ]
  },
  {
   "cell_type": "code",
   "execution_count": 15,
   "id": "posted-president",
   "metadata": {
    "execution": {
     "iopub.execute_input": "2021-06-26T20:34:16.339653Z",
     "iopub.status.busy": "2021-06-26T20:34:16.338650Z",
     "iopub.status.idle": "2021-06-26T20:34:17.334651Z",
     "shell.execute_reply": "2021-06-26T20:34:17.335218Z",
     "shell.execute_reply.started": "2021-06-26T20:29:55.472418Z"
    },
    "papermill": {
     "duration": 1.037018,
     "end_time": "2021-06-26T20:34:17.335422",
     "exception": false,
     "start_time": "2021-06-26T20:34:16.298404",
     "status": "completed"
    },
    "tags": []
   },
   "outputs": [
    {
     "data": {
      "text/plain": [
       "<AxesSubplot:xlabel='Course', ylabel='Scores'>"
      ]
     },
     "execution_count": 15,
     "metadata": {},
     "output_type": "execute_result"
    },
    {
     "data": {
      "image/png": "[encoded data removed]",
      "text/plain": [
       "<Figure size 1080x648 with 1 Axes>"
      ]
     },
     "metadata": {},
     "output_type": "display_data"
    }
   ],
   "source": [
    "#We set the font, style, and display the bar chart\n",
    "\n",
    "sns.set(font_scale=1)\n",
    "sns.set_style('whitegrid')\n",
    "plt.figure(figsize=(15, 9))\n",
    "sns.barplot(data=ta,x='Course',y='Scores')"
   ]
  },
  {
   "cell_type": "markdown",
   "id": "nasty-alberta",
   "metadata": {
    "papermill": {
     "duration": 0.038528,
     "end_time": "2021-06-26T20:34:17.412771",
     "exception": false,
     "start_time": "2021-06-26T20:34:17.374243",
     "status": "completed"
    },
    "tags": []
   },
   "source": [
    "### Scores based on Semester"
   ]
  },
  {
   "cell_type": "code",
   "execution_count": 16,
   "id": "urban-discussion",
   "metadata": {
    "execution": {
     "iopub.execute_input": "2021-06-26T20:34:17.493826Z",
     "iopub.status.busy": "2021-06-26T20:34:17.492803Z",
     "iopub.status.idle": "2021-06-26T20:34:17.691154Z",
     "shell.execute_reply": "2021-06-26T20:34:17.691666Z",
     "shell.execute_reply.started": "2021-06-26T20:29:56.373084Z"
    },
    "papermill": {
     "duration": 0.240623,
     "end_time": "2021-06-26T20:34:17.691888",
     "exception": false,
     "start_time": "2021-06-26T20:34:17.451265",
     "status": "completed"
    },
    "tags": []
   },
   "outputs": [
    {
     "data": {
      "text/plain": [
       "<AxesSubplot:xlabel='Semester', ylabel='Scores'>"
      ]
     },
     "execution_count": 16,
     "metadata": {},
     "output_type": "execute_result"
    },
    {
     "data": {
      "image/png": "[encoded data removed]",
      "text/plain": [
       "<Figure size 432x288 with 1 Axes>"
      ]
     },
     "metadata": {},
     "output_type": "display_data"
    }
   ],
   "source": [
    "#Semester 1 shows that there are better scores than semester 2. \n",
    "\n",
    "sns.set(font_scale=1)\n",
    "sns.set_style('whitegrid')\n",
    "sns.barplot(data=ta,x='Semester',y='Scores')"
   ]
  },
  {
   "cell_type": "markdown",
   "id": "interstate-environment",
   "metadata": {
    "papermill": {
     "duration": 0.038794,
     "end_time": "2021-06-26T20:34:17.769854",
     "exception": false,
     "start_time": "2021-06-26T20:34:17.731060",
     "status": "completed"
    },
    "tags": []
   },
   "source": [
    "### Scores based on Class Size"
   ]
  },
  {
   "cell_type": "code",
   "execution_count": 17,
   "id": "adjustable-traveler",
   "metadata": {
    "execution": {
     "iopub.execute_input": "2021-06-26T20:34:17.856339Z",
     "iopub.status.busy": "2021-06-26T20:34:17.855329Z",
     "iopub.status.idle": "2021-06-26T20:34:19.752609Z",
     "shell.execute_reply": "2021-06-26T20:34:19.752018Z",
     "shell.execute_reply.started": "2021-06-26T20:29:56.547515Z"
    },
    "papermill": {
     "duration": 1.940969,
     "end_time": "2021-06-26T20:34:19.752785",
     "exception": false,
     "start_time": "2021-06-26T20:34:17.811816",
     "status": "completed"
    },
    "tags": []
   },
   "outputs": [
    {
     "data": {
      "text/plain": [
       "<AxesSubplot:xlabel='Class Size', ylabel='Scores'>"
      ]
     },
     "execution_count": 17,
     "metadata": {},
     "output_type": "execute_result"
    },
    {
     "data": {
      "image/png": "[encoded data removed]",
      "text/plain": [
       "<Figure size 1080x648 with 1 Axes>"
      ]
     },
     "metadata": {},
     "output_type": "display_data"
    }
   ],
   "source": [
    "sns.set(font_scale=1)\n",
    "plt.figure(figsize=(15, 9))\n",
    "sns.set_style('whitegrid')\n",
    "sns.barplot(data=ta,x='Class Size',y='Scores')"
   ]
  },
  {
   "cell_type": "markdown",
   "id": "composed-sociology",
   "metadata": {
    "papermill": {
     "duration": 0.040366,
     "end_time": "2021-06-26T20:34:19.834280",
     "exception": false,
     "start_time": "2021-06-26T20:34:19.793914",
     "status": "completed"
    },
    "tags": []
   },
   "source": [
    "### Split the data for training and testing"
   ]
  },
  {
   "cell_type": "code",
   "execution_count": 18,
   "id": "hindu-consequence",
   "metadata": {
    "execution": {
     "iopub.execute_input": "2021-06-26T20:34:19.924814Z",
     "iopub.status.busy": "2021-06-26T20:34:19.924070Z",
     "iopub.status.idle": "2021-06-26T20:34:20.186601Z",
     "shell.execute_reply": "2021-06-26T20:34:20.187127Z",
     "shell.execute_reply.started": "2021-06-26T20:29:58.274399Z"
    },
    "papermill": {
     "duration": 0.308042,
     "end_time": "2021-06-26T20:34:20.187349",
     "exception": false,
     "start_time": "2021-06-26T20:34:19.879307",
     "status": "completed"
    },
    "tags": []
   },
   "outputs": [
    {
     "name": "stdout",
     "output_type": "stream",
     "text": [
      "X_train.shape = (127, 5)\n",
      "X_test.shape  = (23, 5)\n",
      "\n",
      "y_train.shape = (127,)\n",
      "y_test.shape  = (23,)\n"
     ]
    }
   ],
   "source": [
    "from sklearn.model_selection import train_test_split \n",
    "\n",
    "arr_indp = ['English Speaker','Instructor','Course','Semester','Class Size']\n",
    "\n",
    "X_train, X_test, y_train, y_test = train_test_split(ta[arr_indp], ta['Scores'], random_state=20, test_size= 0.15,\n",
    "                                                   train_size= 0.85)\n",
    "\n",
    "print(f'X_train.shape = {X_train.shape}')\n",
    "print(f'X_test.shape  = {X_test.shape}')\n",
    "\n",
    "print()\n",
    "print(f'y_train.shape = {y_train.shape}')\n",
    "print(f'y_test.shape  = {y_test.shape}')"
   ]
  },
  {
   "cell_type": "markdown",
   "id": "polar-traffic",
   "metadata": {
    "papermill": {
     "duration": 0.040649,
     "end_time": "2021-06-26T20:34:20.270497",
     "exception": false,
     "start_time": "2021-06-26T20:34:20.229848",
     "status": "completed"
    },
    "tags": []
   },
   "source": [
    "### Create and train the k-nearest neighbors model"
   ]
  },
  {
   "cell_type": "code",
   "execution_count": 19,
   "id": "constitutional-thomas",
   "metadata": {
    "execution": {
     "iopub.execute_input": "2021-06-26T20:34:20.358004Z",
     "iopub.status.busy": "2021-06-26T20:34:20.357321Z",
     "iopub.status.idle": "2021-06-26T20:34:20.677306Z",
     "shell.execute_reply": "2021-06-26T20:34:20.677787Z",
     "shell.execute_reply.started": "2021-06-26T20:29:58.477450Z"
    },
    "papermill": {
     "duration": 0.366429,
     "end_time": "2021-06-26T20:34:20.677995",
     "exception": false,
     "start_time": "2021-06-26T20:34:20.311566",
     "status": "completed"
    },
    "tags": []
   },
   "outputs": [
    {
     "data": {
      "text/plain": [
       "KNeighborsClassifier(n_neighbors=11)"
      ]
     },
     "execution_count": 19,
     "metadata": {},
     "output_type": "execute_result"
    }
   ],
   "source": [
    "from sklearn.neighbors import KNeighborsClassifier\n",
    "# selected k by square-rooting the sample size of our training data set/made sure k was an odd number too.\n",
    "knn = KNeighborsClassifier(n_neighbors=11)\n",
    "knn.fit(X=X_train, y=y_train)"
   ]
  },
  {
   "cell_type": "markdown",
   "id": "israeli-negotiation",
   "metadata": {
    "papermill": {
     "duration": 0.040802,
     "end_time": "2021-06-26T20:34:20.760369",
     "exception": false,
     "start_time": "2021-06-26T20:34:20.719567",
     "status": "completed"
    },
    "tags": []
   },
   "source": [
    "### Test the model by predicting Scores"
   ]
  },
  {
   "cell_type": "code",
   "execution_count": 20,
   "id": "about-dallas",
   "metadata": {
    "execution": {
     "iopub.execute_input": "2021-06-26T20:34:20.850647Z",
     "iopub.status.busy": "2021-06-26T20:34:20.849980Z",
     "iopub.status.idle": "2021-06-26T20:34:20.863563Z",
     "shell.execute_reply": "2021-06-26T20:34:20.862581Z",
     "shell.execute_reply.started": "2021-06-26T20:29:58.722722Z"
    },
    "papermill": {
     "duration": 0.058643,
     "end_time": "2021-06-26T20:34:20.863774",
     "exception": false,
     "start_time": "2021-06-26T20:34:20.805131",
     "status": "completed"
    },
    "tags": []
   },
   "outputs": [
    {
     "name": "stdout",
     "output_type": "stream",
     "text": [
      "First twenty predictions:\n",
      "predicted[:20] = [1 1 2 2 2 3 1 1 3 2 1 2 2 2 2 3 2 2 3 2]\n",
      "expected[:20] =\n",
      "47     3\n",
      "73     1\n",
      "74     1\n",
      "129    2\n",
      "67     1\n",
      "89     3\n",
      "143    1\n",
      "21     2\n",
      "108    1\n",
      "12     3\n",
      "147    1\n",
      "76     1\n",
      "119    1\n",
      "35     1\n",
      "28     1\n",
      "122    3\n",
      "13     2\n",
      "58     2\n",
      "114    1\n",
      "57     2\n",
      "Name: Scores, dtype: int64\n"
     ]
    }
   ],
   "source": [
    "predicted = knn.predict(X=X_test)\n",
    "expected = y_test\n",
    "\n",
    "print('First twenty predictions:')\n",
    "print(f'predicted[:20] = {predicted[:20]}')\n",
    "print(f'expected[:20] =') \n",
    "print(expected[:20])"
   ]
  },
  {
   "cell_type": "code",
   "execution_count": 21,
   "id": "clear-parking",
   "metadata": {
    "execution": {
     "iopub.execute_input": "2021-06-26T20:34:20.952347Z",
     "iopub.status.busy": "2021-06-26T20:34:20.951556Z",
     "iopub.status.idle": "2021-06-26T20:34:20.958611Z",
     "shell.execute_reply": "2021-06-26T20:34:20.957704Z",
     "shell.execute_reply.started": "2021-06-26T20:29:58.737214Z"
    },
    "papermill": {
     "duration": 0.051409,
     "end_time": "2021-06-26T20:34:20.958807",
     "exception": false,
     "start_time": "2021-06-26T20:34:20.907398",
     "status": "completed"
    },
    "tags": []
   },
   "outputs": [
    {
     "name": "stdout",
     "output_type": "stream",
     "text": [
      "Wrong predictions:\n",
      "[(1, 3), (2, 1), (2, 1), (1, 2), (3, 1), (2, 3), (2, 1), (2, 1), (2, 1), (2, 1), (3, 1)]\n"
     ]
    }
   ],
   "source": [
    "wrong = [ (pred, exp) \n",
    "          for (pred, exp) in zip(predicted, expected) \n",
    "          if pred != exp\n",
    "        ]\n",
    "\n",
    "print('Wrong predictions:')\n",
    "print(wrong)"
   ]
  },
  {
   "cell_type": "markdown",
   "id": "systematic-emerald",
   "metadata": {
    "papermill": {
     "duration": 0.041012,
     "end_time": "2021-06-26T20:34:21.041796",
     "exception": false,
     "start_time": "2021-06-26T20:34:21.000784",
     "status": "completed"
    },
    "tags": []
   },
   "source": [
    "### Model prediction accuracy"
   ]
  },
  {
   "cell_type": "code",
   "execution_count": 22,
   "id": "worse-nicholas",
   "metadata": {
    "execution": {
     "iopub.execute_input": "2021-06-26T20:34:21.136814Z",
     "iopub.status.busy": "2021-06-26T20:34:21.135791Z",
     "iopub.status.idle": "2021-06-26T20:34:21.141935Z",
     "shell.execute_reply": "2021-06-26T20:34:21.141240Z",
     "shell.execute_reply.started": "2021-06-26T20:29:58.744225Z"
    },
    "papermill": {
     "duration": 0.056556,
     "end_time": "2021-06-26T20:34:21.142156",
     "exception": false,
     "start_time": "2021-06-26T20:34:21.085600",
     "status": "completed"
    },
    "tags": []
   },
   "outputs": [
    {
     "name": "stdout",
     "output_type": "stream",
     "text": [
      "Prediction accuracy score = 52.17%\n"
     ]
    }
   ],
   "source": [
    "print(f'Prediction accuracy score = {knn.score(X_test, y_test):.2%}') # Prints our prediction accuracy score"
   ]
  },
  {
   "cell_type": "markdown",
   "id": "industrial-cedar",
   "metadata": {
    "papermill": {
     "duration": 0.041384,
     "end_time": "2021-06-26T20:34:21.226271",
     "exception": false,
     "start_time": "2021-06-26T20:34:21.184887",
     "status": "completed"
    },
    "tags": []
   },
   "source": [
    "### Confusion matrix"
   ]
  },
  {
   "cell_type": "code",
   "execution_count": 23,
   "id": "worse-helmet",
   "metadata": {
    "execution": {
     "iopub.execute_input": "2021-06-26T20:34:21.317758Z",
     "iopub.status.busy": "2021-06-26T20:34:21.316952Z",
     "iopub.status.idle": "2021-06-26T20:34:21.322141Z",
     "shell.execute_reply": "2021-06-26T20:34:21.321605Z",
     "shell.execute_reply.started": "2021-06-26T20:29:58.758539Z"
    },
    "papermill": {
     "duration": 0.054476,
     "end_time": "2021-06-26T20:34:21.322283",
     "exception": false,
     "start_time": "2021-06-26T20:34:21.267807",
     "status": "completed"
    },
    "tags": []
   },
   "outputs": [
    {
     "name": "stdout",
     "output_type": "stream",
     "text": [
      "Confusion matrix:\n",
      "[[5 6 2]\n",
      " [1 4 0]\n",
      " [1 1 3]]\n"
     ]
    }
   ],
   "source": [
    "from sklearn.metrics import confusion_matrix\n",
    "\n",
    "confusion = confusion_matrix(y_true=expected, y_pred=predicted) #prints our confusion matrix\n",
    "\n",
    "print('Confusion matrix:')\n",
    "print(confusion)"
   ]
  },
  {
   "cell_type": "code",
   "execution_count": 24,
   "id": "oriental-parcel",
   "metadata": {
    "execution": {
     "iopub.execute_input": "2021-06-26T20:34:21.438816Z",
     "iopub.status.busy": "2021-06-26T20:34:21.437778Z",
     "iopub.status.idle": "2021-06-26T20:34:21.634442Z",
     "shell.execute_reply": "2021-06-26T20:34:21.634901Z",
     "shell.execute_reply.started": "2021-06-26T20:29:58.768152Z"
    },
    "papermill": {
     "duration": 0.270454,
     "end_time": "2021-06-26T20:34:21.635111",
     "exception": false,
     "start_time": "2021-06-26T20:34:21.364657",
     "status": "completed"
    },
    "tags": []
   },
   "outputs": [
    {
     "data": {
      "image/png": "[encoded data removed]",
      "text/plain": [
       "<Figure size 432x288 with 2 Axes>"
      ]
     },
     "metadata": {},
     "output_type": "display_data"
    }
   ],
   "source": [
    "import pandas as pd\n",
    "import seaborn as sns\n",
    "\n",
    "confusion_df = pd.DataFrame(confusion, index=range(3), columns=range(3))\n",
    "axes = sns.heatmap(confusion_df, annot=True, cmap='nipy_spectral_r')"
   ]
  },
  {
   "cell_type": "markdown",
   "id": "major-fountain",
   "metadata": {
    "papermill": {
     "duration": 0.04324,
     "end_time": "2021-06-26T20:34:21.721609",
     "exception": false,
     "start_time": "2021-06-26T20:34:21.678369",
     "status": "completed"
    },
    "tags": []
   },
   "source": [
    "### Classification report"
   ]
  },
  {
   "cell_type": "code",
   "execution_count": 25,
   "id": "worthy-declaration",
   "metadata": {
    "execution": {
     "iopub.execute_input": "2021-06-26T20:34:21.811934Z",
     "iopub.status.busy": "2021-06-26T20:34:21.810942Z",
     "iopub.status.idle": "2021-06-26T20:34:21.822764Z",
     "shell.execute_reply": "2021-06-26T20:34:21.822239Z",
     "shell.execute_reply.started": "2021-06-26T20:29:59.020840Z"
    },
    "papermill": {
     "duration": 0.058409,
     "end_time": "2021-06-26T20:34:21.822914",
     "exception": false,
     "start_time": "2021-06-26T20:34:21.764505",
     "status": "completed"
    },
    "tags": []
   },
   "outputs": [
    {
     "name": "stdout",
     "output_type": "stream",
     "text": [
      "              precision    recall  f1-score   support\n",
      "\n",
      "    Score= 1       0.71      0.38      0.50        13\n",
      "    Score= 2       0.36      0.80      0.50         5\n",
      "    Score= 3       0.60      0.60      0.60         5\n",
      "\n",
      "    accuracy                           0.52        23\n",
      "   macro avg       0.56      0.59      0.53        23\n",
      "weighted avg       0.61      0.52      0.52        23\n",
      "\n"
     ]
    }
   ],
   "source": [
    "from sklearn.metrics import classification_report\n",
    "\n",
    "target_names = ['Score= 1','Score= 2', 'Score= 3']\n",
    "\n",
    "names = [str(x) for x in target_names]\n",
    "print(classification_report(expected, predicted, target_names=names))"
   ]
  },
  {
   "cell_type": "markdown",
   "id": "fatal-buying",
   "metadata": {
    "papermill": {
     "duration": 0.044356,
     "end_time": "2021-06-26T20:34:21.913528",
     "exception": false,
     "start_time": "2021-06-26T20:34:21.869172",
     "status": "completed"
    },
    "tags": []
   },
   "source": [
    "## Conclusion"
   ]
  },
  {
   "cell_type": "markdown",
   "id": "other-mobile",
   "metadata": {
    "papermill": {
     "duration": 0.043403,
     "end_time": "2021-06-26T20:34:22.003243",
     "exception": false,
     "start_time": "2021-06-26T20:34:21.959840",
     "status": "completed"
    },
    "tags": []
   },
   "source": [
    "We split our data 85% for training the model and the remaining 15% for testing -- resulted in our model predicting accuracy of 52.17%. \n",
    "\n",
    "So, how can we improve our model to accruately classify the scores of a TA (1=low, 2=medium, 3=high)?\n",
    "\n",
    "We played around with various values of k and train/test proportions and decided that the current k value and  train/test proportions we have were most ideal when it came to the accuracy of our model. Also, the accuracy of the KNN model, generally speaking, is already very low to begin with compared to other classification models, with an average accuracy rate of 71.28% (Syaliman 2018). There's no general rule about the best k, it all depends on the nature of the data. We had 150 observations total to work with and used a k vaue of 11, which is pretty big; therefore, we can say that such a large k suggest that more irrelevant features, such as 'Semester', 'English Speaker', or even 'Course,' are involved when predicting the Scores of a TA.\n",
    "\n",
    "\n",
    "REFERENCES:\n",
    "\n",
    "https://iopscience.iop.org/article/10.1088/1742-6596/978/1/012047/pdf\n",
    "\n",
    "https://bradleyboehmke.github.io/HOML/knn.html"
   ]
  },
  {
   "cell_type": "code",
   "execution_count": null,
   "id": "patient-statistics",
   "metadata": {
    "papermill": {
     "duration": 0.044494,
     "end_time": "2021-06-26T20:34:22.091595",
     "exception": false,
     "start_time": "2021-06-26T20:34:22.047101",
     "status": "completed"
    },
    "tags": []
   },
   "outputs": [],
   "source": []
  }
 ],
 "metadata": {
  "kernelspec": {
   "display_name": "Python 3",
   "language": "python",
   "name": "python3"
  },
  "language_info": {
   "codemirror_mode": {
    "name": "ipython",
    "version": 3
   },
   "file_extension": ".py",
   "mimetype": "text/x-python",
   "name": "python",
   "nbconvert_exporter": "python",
   "pygments_lexer": "ipython3",
   "version": "3.7.9"
  },
  "papermill": {
   "default_parameters": {},
   "duration": 18.403,
   "end_time": "2021-06-26T20:34:23.046511",
   "environment_variables": {},
   "exception": null,
   "input_path": "__notebook__.ipynb",
   "output_path": "__notebook__.ipynb",
   "parameters": {},
   "start_time": "2021-06-26T20:34:04.643511",
   "version": "2.3.2"
  }
 },
 "nbformat": 4,
 "nbformat_minor": 5
}
