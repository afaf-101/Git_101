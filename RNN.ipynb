{
 "cells": [
  {
   "cell_type": "markdown",
   "metadata": {
    "id": "LawenJGayUdm"
   },
   "source": [
    "#### 4. As we demo the bidirectional effect in IMDB dataset (see code: https://github.com/fchollet/deep-learning-with-python-notebooks/blob/master/6.3-advanced-usage-of-recurrent-neural-networks.ipynb)"
   ]
  },
  {
   "cell_type": "markdown",
   "metadata": {
    "id": "FWc7Mkeqyjhy"
   },
   "source": [
    "Below is a code implementation of Bidirectional RNN on IMBD sentiment analysis task.\n"
   ]
  },
  {
   "cell_type": "markdown",
   "metadata": {
    "id": "02yrhl3biUBQ"
   },
   "source": [
    "### Step 1: Import Necessary Packages, Load Dataset, and Process Data"
   ]
  },
  {
   "cell_type": "code",
   "execution_count": 54,
   "metadata": {
    "colab": {
     "base_uri": "https://localhost:8080/"
    },
    "id": "nFULwa84bTIk",
    "outputId": "b3f36262-6965-43c9-fba7-415661f9acef"
   },
   "outputs": [
    {
     "name": "stdout",
     "output_type": "stream",
     "text": [
      "Training data shape: (25000, 500)\n",
      "Training label shape: (25000,)\n",
      " \n",
      "Test data shape: (25000, 500)\n",
      "Test label shape: (25000,)\n"
     ]
    }
   ],
   "source": [
    "# Import necessary packages\n",
    "from keras.datasets import imdb\n",
    "from keras.preprocessing import sequence\n",
    "from keras import layers\n",
    "from keras.models import Sequential\n",
    "\n",
    "# Number of words to consider as features\n",
    "max_features = 10000\n",
    "# Cut texts after this number of words (among top max_features most common words)\n",
    "maxlen = 500\n",
    "\n",
    "# Load data\n",
    "(x_train, y_train), (x_test, y_test) = imdb.load_data(num_words=max_features)\n",
    "\n",
    "# Reverse sequences\n",
    "x_train = [x[::-1] for x in x_train]\n",
    "x_test = [x[::-1] for x in x_test]\n",
    "\n",
    "# Pad sequences\n",
    "x_train = sequence.pad_sequences(x_train, maxlen=maxlen)\n",
    "x_test = sequence.pad_sequences(x_test, maxlen=maxlen)\n",
    "\n",
    "print(\"Training data shape:\", x_train.shape)\n",
    "print(\"Training label shape:\", y_train.shape)\n",
    "print(\" \")\n",
    "print(\"Test data shape:\",x_test.shape)\n",
    "print(\"Test label shape:\",y_test.shape)"
   ]
  },
  {
   "cell_type": "markdown",
   "metadata": {
    "id": "l_QEWvQkkiwA"
   },
   "source": [
    "Note: Bidirectional LSTM performs slightly better than regular LSTM. By performing some regularization technique to reduce chance of overfitting, as because bidirectional layer has twice more parameters than a chronological LSTM, bidirectional approach would likely be a stronger performer on this task.\n",
    "\n",
    "I had tuned the Bidirection Model to slightly improve performance of the model by:\n",
    "- Stacking two bidirectional layers (32 neurons each) and using LSTM instead of GRU cells.\n",
    "    - Less neurons more layers better (go deep not fat).\n",
    "- Lowered the number of epochs = 5\n",
    "- Batch_size kept constant =  128\n",
    "- Changed optimizer to Adam and learning rate to 1e-4"
   ]
  },
  {
   "cell_type": "markdown",
   "metadata": {
    "id": "D9mr7_8BkXzN"
   },
   "source": [
    "### Step 1: Import Necessary Packages "
   ]
  },
  {
   "cell_type": "code",
   "execution_count": 55,
   "metadata": {
    "id": "OEY88DwlHTut"
   },
   "outputs": [],
   "source": [
    "from keras.datasets import imdb\n",
    "from keras.preprocessing import sequence\n",
    "from keras import layers\n",
    "from keras.models import Sequential\n",
    "from keras.layers import SpatialDropout1D\n",
    "from sklearn.metrics import roc_auc_score, roc_curve # new! import pandas as pd\n",
    "import matplotlib.pyplot as plt # new!\n",
    "%matplotlib inline"
   ]
  },
  {
   "cell_type": "markdown",
   "metadata": {
    "id": "yfC2agOAkvbd"
   },
   "source": [
    "### Step 2: Create, Compile, Fit, and Train Model"
   ]
  },
  {
   "cell_type": "code",
   "execution_count": 56,
   "metadata": {
    "colab": {
     "base_uri": "https://localhost:8080/"
    },
    "id": "ey3ZHz7VydJW",
    "outputId": "3d147756-6cb1-4c04-ae2c-496ae6182f06"
   },
   "outputs": [
    {
     "name": "stdout",
     "output_type": "stream",
     "text": [
      "Epoch 1/5\n",
      "196/196 [==============================] - 23s 117ms/step - loss: 0.6903 - accuracy: 0.5412 - val_loss: 0.6463 - val_accuracy: 0.6581\n",
      "Epoch 2/5\n",
      "196/196 [==============================] - 22s 111ms/step - loss: 0.4428 - accuracy: 0.8051 - val_loss: 0.3679 - val_accuracy: 0.8482\n",
      "Epoch 3/5\n",
      "196/196 [==============================] - 22s 110ms/step - loss: 0.3047 - accuracy: 0.8857 - val_loss: 0.3258 - val_accuracy: 0.8680\n",
      "Epoch 4/5\n",
      "196/196 [==============================] - 21s 110ms/step - loss: 0.2440 - accuracy: 0.9140 - val_loss: 0.3092 - val_accuracy: 0.8748\n",
      "Epoch 5/5\n",
      "196/196 [==============================] - 22s 110ms/step - loss: 0.2064 - accuracy: 0.9321 - val_loss: 0.3310 - val_accuracy: 0.8772\n"
     ]
    }
   ],
   "source": [
    "from keras.layers import LSTM\n",
    "from keras.layers.wrappers import Bidirectional\n",
    "# LSTM layer architecture\n",
    "model = Sequential()\n",
    "model.add(layers.Embedding(max_features, 32))\n",
    "#model.add(layers.SpatialDropout1D(drop_embed))\n",
    "model.add(layers.Bidirectional(LSTM(32, return_sequences=True))) \n",
    "model.add(layers.Bidirectional(LSTM(32)))\n",
    "model.add(layers.Dense(1, activation='sigmoid'))\n",
    "\n",
    "# Training:\n",
    "from tensorflow import keras\n",
    "epochs = 5\n",
    "batch_size = 128\n",
    "opt = keras.optimizers.Adam(1e-4) # \n",
    "\n",
    "model.compile(loss='binary_crossentropy', optimizer= opt ,metrics=['accuracy'])\n",
    "history = model.fit(x_train, y_train,\n",
    "          batch_size=batch_size, epochs=epochs, verbose=1,\n",
    "          validation_data=(x_test, y_test))"
   ]
  },
  {
   "cell_type": "markdown",
   "metadata": {
    "id": "tyk56QgNk77I"
   },
   "source": [
    "### Step 3: Evaluate Model Performance"
   ]
  },
  {
   "cell_type": "code",
   "execution_count": 59,
   "metadata": {
    "colab": {
     "base_uri": "https://localhost:8080/"
    },
    "id": "_h1ZN4dJajNL",
    "outputId": "1a5664bf-c3bd-4960-8aaa-a635c5b68901"
   },
   "outputs": [
    {
     "name": "stdout",
     "output_type": "stream",
     "text": [
      "Training: accuracy = 0.948560  ;  loss = 0.172415\n",
      "---------------------------------------------------------------------------------\n",
      "Validation: accuracy = 0.877200  ;  loss = 0.331035\n",
      "---------------------------------------------------------------------------------\n",
      "ROC AUC Score 94.55\n",
      "---------------------------------------------------------------------------------\n",
      "196/196 [==============================] - 7s 36ms/step - loss: 0.3310 - accuracy: 0.8772\n",
      "Test Loss: 0.33103492856025696\n",
      "Test Accuracy: 0.8772000074386597\n"
     ]
    }
   ],
   "source": [
    "loss, accuracy = model.evaluate(x_train, y_train, verbose=0)\n",
    "print(\"Training: accuracy = %f  ;  loss = %f\" % (accuracy, loss))\n",
    "print(\"---------------------------------------------------------------------------------\")\n",
    "loss, accuracy = model.evaluate(x_test, y_test, verbose=0)\n",
    "print(\"Validation: accuracy = %f  ;  loss = %f\" % (accuracy, loss))\n",
    "print(\"---------------------------------------------------------------------------------\")\n",
    "y_hat = model.predict(x_test)\n",
    "pct_auc = roc_auc_score(y_test, y_hat)*100.0\n",
    "print(\"ROC AUC Score {:0.2f}\".format(pct_auc))\n",
    "print(\"---------------------------------------------------------------------------------\")\n",
    "test_loss, test_acc = model.evaluate(x_test,y_test,batch_size=batch_size) \n",
    "# since validation and test data are same in this case\n",
    "print('Test Loss: {}'.format(test_loss))\n",
    "print('Test Accuracy: {}'.format(test_acc))"
   ]
  },
  {
   "cell_type": "markdown",
   "metadata": {
    "id": "TkFirUqZlZjk"
   },
   "source": [
    "### Step 4: Plot Learning Curves"
   ]
  },
  {
   "cell_type": "code",
   "execution_count": 60,
   "metadata": {
    "colab": {
     "base_uri": "https://localhost:8080/",
     "height": 324
    },
    "id": "CsAUiww7lWHY",
    "outputId": "6fdd9d88-4fea-47b0-bad8-e54f09489077"
   },
   "outputs": [
    {
     "data": {
      "image/png": "[encoded data removed]",
      "text/plain": [
       "<Figure size 576x360 with 1 Axes>"
      ]
     },
     "metadata": {
      "needs_background": "light",
      "tags": []
     },
     "output_type": "display_data"
    }
   ],
   "source": [
    "import pandas as pd\n",
    "pd.DataFrame(history.history).plot(figsize=(8,5))\n",
    "plt.grid(True)\n",
    "plt.gca().set_ylim(0,1) # set vertical range to [0,-1]\n",
    "plt.show() "
   ]
  },
  {
   "cell_type": "markdown",
   "metadata": {},
   "source": [
    "In conclusion, it looks like just using an bidirectional LSTM is too simple of a model to be able to achieve anything higher than 88% accuracy. For instance, using pretrained model, such as BERT implementation in keras, has been able to able to get ~99% acc on IMBD classification (https://stackoverflow.com/questions/57422321/how-to-get-90-test-accuracy-on-imdb-data)."
   ]
  }
 ],
 "metadata": {
  "accelerator": "GPU",
  "colab": {
   "collapsed_sections": [],
   "name": "HM4_RNN_Afra_Bijli_008340631.ipynb",
   "provenance": []
  },
  "kernelspec": {
   "display_name": "Python 3",
   "language": "python",
   "name": "python3"
  },
  "language_info": {
   "codemirror_mode": {
    "name": "ipython",
    "version": 3
   },
   "file_extension": ".py",
   "mimetype": "text/x-python",
   "name": "python",
   "nbconvert_exporter": "python",
   "pygments_lexer": "ipython3",
   "version": "3.6.8"
  }
 },
 "nbformat": 4,
 "nbformat_minor": 1
}
